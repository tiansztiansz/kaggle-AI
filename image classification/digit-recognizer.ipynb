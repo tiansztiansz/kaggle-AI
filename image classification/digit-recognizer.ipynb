{
 "cells": [
  {
   "cell_type": "markdown",
   "id": "c9439e34",
   "metadata": {},
   "source": [
    "比赛链接：https://www.kaggle.com/code/tiansztianszs/digit-recognizer\n",
    "\n",
    "notebook 链接：https://www.kaggle.com/code/tiansztianszs/digit-recognizer"
   ]
  },
  {
   "cell_type": "markdown",
   "id": "21b8fadf",
   "metadata": {
    "papermill": {
     "duration": 0.006448,
     "end_time": "2022-10-31T03:59:34.900686",
     "exception": false,
     "start_time": "2022-10-31T03:59:34.894238",
     "status": "completed"
    },
    "tags": []
   },
   "source": [
    "# 导入数据"
   ]
  },
  {
   "cell_type": "code",
   "execution_count": 1,
   "id": "53d7ad54",
   "metadata": {
    "execution": {
     "iopub.execute_input": "2022-10-31T03:59:34.915209Z",
     "iopub.status.busy": "2022-10-31T03:59:34.914369Z",
     "iopub.status.idle": "2022-10-31T03:59:39.978927Z",
     "shell.execute_reply": "2022-10-31T03:59:39.977910Z"
    },
    "papermill": {
     "duration": 5.074706,
     "end_time": "2022-10-31T03:59:39.981647",
     "exception": false,
     "start_time": "2022-10-31T03:59:34.906941",
     "status": "completed"
    },
    "tags": []
   },
   "outputs": [],
   "source": [
    "import pandas as pd\n",
    "train_data = pd.read_csv('../input/digit-recognizer/train.csv')\n",
    "test_data = pd.read_csv('../input/digit-recognizer/test.csv')"
   ]
  },
  {
   "cell_type": "code",
   "execution_count": 2,
   "id": "6ac647b3",
   "metadata": {
    "execution": {
     "iopub.execute_input": "2022-10-31T03:59:39.997373Z",
     "iopub.status.busy": "2022-10-31T03:59:39.997066Z",
     "iopub.status.idle": "2022-10-31T03:59:40.018432Z",
     "shell.execute_reply": "2022-10-31T03:59:40.017440Z"
    },
    "papermill": {
     "duration": 0.032072,
     "end_time": "2022-10-31T03:59:40.021341",
     "exception": false,
     "start_time": "2022-10-31T03:59:39.989269",
     "status": "completed"
    },
    "tags": []
   },
   "outputs": [
    {
     "data": {
      "text/html": [
       "<div>\n",
       "<style scoped>\n",
       "    .dataframe tbody tr th:only-of-type {\n",
       "        vertical-align: middle;\n",
       "    }\n",
       "\n",
       "    .dataframe tbody tr th {\n",
       "        vertical-align: top;\n",
       "    }\n",
       "\n",
       "    .dataframe thead th {\n",
       "        text-align: right;\n",
       "    }\n",
       "</style>\n",
       "<table border=\"1\" class=\"dataframe\">\n",
       "  <thead>\n",
       "    <tr style=\"text-align: right;\">\n",
       "      <th></th>\n",
       "      <th>label</th>\n",
       "      <th>pixel0</th>\n",
       "      <th>pixel1</th>\n",
       "      <th>pixel2</th>\n",
       "      <th>pixel3</th>\n",
       "      <th>pixel4</th>\n",
       "      <th>pixel5</th>\n",
       "      <th>pixel6</th>\n",
       "      <th>pixel7</th>\n",
       "      <th>pixel8</th>\n",
       "      <th>...</th>\n",
       "      <th>pixel774</th>\n",
       "      <th>pixel775</th>\n",
       "      <th>pixel776</th>\n",
       "      <th>pixel777</th>\n",
       "      <th>pixel778</th>\n",
       "      <th>pixel779</th>\n",
       "      <th>pixel780</th>\n",
       "      <th>pixel781</th>\n",
       "      <th>pixel782</th>\n",
       "      <th>pixel783</th>\n",
       "    </tr>\n",
       "  </thead>\n",
       "  <tbody>\n",
       "    <tr>\n",
       "      <th>0</th>\n",
       "      <td>1</td>\n",
       "      <td>0</td>\n",
       "      <td>0</td>\n",
       "      <td>0</td>\n",
       "      <td>0</td>\n",
       "      <td>0</td>\n",
       "      <td>0</td>\n",
       "      <td>0</td>\n",
       "      <td>0</td>\n",
       "      <td>0</td>\n",
       "      <td>...</td>\n",
       "      <td>0</td>\n",
       "      <td>0</td>\n",
       "      <td>0</td>\n",
       "      <td>0</td>\n",
       "      <td>0</td>\n",
       "      <td>0</td>\n",
       "      <td>0</td>\n",
       "      <td>0</td>\n",
       "      <td>0</td>\n",
       "      <td>0</td>\n",
       "    </tr>\n",
       "    <tr>\n",
       "      <th>1</th>\n",
       "      <td>0</td>\n",
       "      <td>0</td>\n",
       "      <td>0</td>\n",
       "      <td>0</td>\n",
       "      <td>0</td>\n",
       "      <td>0</td>\n",
       "      <td>0</td>\n",
       "      <td>0</td>\n",
       "      <td>0</td>\n",
       "      <td>0</td>\n",
       "      <td>...</td>\n",
       "      <td>0</td>\n",
       "      <td>0</td>\n",
       "      <td>0</td>\n",
       "      <td>0</td>\n",
       "      <td>0</td>\n",
       "      <td>0</td>\n",
       "      <td>0</td>\n",
       "      <td>0</td>\n",
       "      <td>0</td>\n",
       "      <td>0</td>\n",
       "    </tr>\n",
       "    <tr>\n",
       "      <th>2</th>\n",
       "      <td>1</td>\n",
       "      <td>0</td>\n",
       "      <td>0</td>\n",
       "      <td>0</td>\n",
       "      <td>0</td>\n",
       "      <td>0</td>\n",
       "      <td>0</td>\n",
       "      <td>0</td>\n",
       "      <td>0</td>\n",
       "      <td>0</td>\n",
       "      <td>...</td>\n",
       "      <td>0</td>\n",
       "      <td>0</td>\n",
       "      <td>0</td>\n",
       "      <td>0</td>\n",
       "      <td>0</td>\n",
       "      <td>0</td>\n",
       "      <td>0</td>\n",
       "      <td>0</td>\n",
       "      <td>0</td>\n",
       "      <td>0</td>\n",
       "    </tr>\n",
       "    <tr>\n",
       "      <th>3</th>\n",
       "      <td>4</td>\n",
       "      <td>0</td>\n",
       "      <td>0</td>\n",
       "      <td>0</td>\n",
       "      <td>0</td>\n",
       "      <td>0</td>\n",
       "      <td>0</td>\n",
       "      <td>0</td>\n",
       "      <td>0</td>\n",
       "      <td>0</td>\n",
       "      <td>...</td>\n",
       "      <td>0</td>\n",
       "      <td>0</td>\n",
       "      <td>0</td>\n",
       "      <td>0</td>\n",
       "      <td>0</td>\n",
       "      <td>0</td>\n",
       "      <td>0</td>\n",
       "      <td>0</td>\n",
       "      <td>0</td>\n",
       "      <td>0</td>\n",
       "    </tr>\n",
       "    <tr>\n",
       "      <th>4</th>\n",
       "      <td>0</td>\n",
       "      <td>0</td>\n",
       "      <td>0</td>\n",
       "      <td>0</td>\n",
       "      <td>0</td>\n",
       "      <td>0</td>\n",
       "      <td>0</td>\n",
       "      <td>0</td>\n",
       "      <td>0</td>\n",
       "      <td>0</td>\n",
       "      <td>...</td>\n",
       "      <td>0</td>\n",
       "      <td>0</td>\n",
       "      <td>0</td>\n",
       "      <td>0</td>\n",
       "      <td>0</td>\n",
       "      <td>0</td>\n",
       "      <td>0</td>\n",
       "      <td>0</td>\n",
       "      <td>0</td>\n",
       "      <td>0</td>\n",
       "    </tr>\n",
       "  </tbody>\n",
       "</table>\n",
       "<p>5 rows × 785 columns</p>\n",
       "</div>"
      ],
      "text/plain": [
       "   label  pixel0  pixel1  pixel2  pixel3  pixel4  pixel5  pixel6  pixel7  \\\n",
       "0      1       0       0       0       0       0       0       0       0   \n",
       "1      0       0       0       0       0       0       0       0       0   \n",
       "2      1       0       0       0       0       0       0       0       0   \n",
       "3      4       0       0       0       0       0       0       0       0   \n",
       "4      0       0       0       0       0       0       0       0       0   \n",
       "\n",
       "   pixel8  ...  pixel774  pixel775  pixel776  pixel777  pixel778  pixel779  \\\n",
       "0       0  ...         0         0         0         0         0         0   \n",
       "1       0  ...         0         0         0         0         0         0   \n",
       "2       0  ...         0         0         0         0         0         0   \n",
       "3       0  ...         0         0         0         0         0         0   \n",
       "4       0  ...         0         0         0         0         0         0   \n",
       "\n",
       "   pixel780  pixel781  pixel782  pixel783  \n",
       "0         0         0         0         0  \n",
       "1         0         0         0         0  \n",
       "2         0         0         0         0  \n",
       "3         0         0         0         0  \n",
       "4         0         0         0         0  \n",
       "\n",
       "[5 rows x 785 columns]"
      ]
     },
     "execution_count": 2,
     "metadata": {},
     "output_type": "execute_result"
    }
   ],
   "source": [
    "train_data.head()"
   ]
  },
  {
   "cell_type": "code",
   "execution_count": 3,
   "id": "2f79c2c2",
   "metadata": {
    "execution": {
     "iopub.execute_input": "2022-10-31T03:59:40.034075Z",
     "iopub.status.busy": "2022-10-31T03:59:40.033276Z",
     "iopub.status.idle": "2022-10-31T03:59:40.047964Z",
     "shell.execute_reply": "2022-10-31T03:59:40.046558Z"
    },
    "papermill": {
     "duration": 0.023024,
     "end_time": "2022-10-31T03:59:40.049900",
     "exception": false,
     "start_time": "2022-10-31T03:59:40.026876",
     "status": "completed"
    },
    "tags": []
   },
   "outputs": [
    {
     "data": {
      "text/html": [
       "<div>\n",
       "<style scoped>\n",
       "    .dataframe tbody tr th:only-of-type {\n",
       "        vertical-align: middle;\n",
       "    }\n",
       "\n",
       "    .dataframe tbody tr th {\n",
       "        vertical-align: top;\n",
       "    }\n",
       "\n",
       "    .dataframe thead th {\n",
       "        text-align: right;\n",
       "    }\n",
       "</style>\n",
       "<table border=\"1\" class=\"dataframe\">\n",
       "  <thead>\n",
       "    <tr style=\"text-align: right;\">\n",
       "      <th></th>\n",
       "      <th>pixel0</th>\n",
       "      <th>pixel1</th>\n",
       "      <th>pixel2</th>\n",
       "      <th>pixel3</th>\n",
       "      <th>pixel4</th>\n",
       "      <th>pixel5</th>\n",
       "      <th>pixel6</th>\n",
       "      <th>pixel7</th>\n",
       "      <th>pixel8</th>\n",
       "      <th>pixel9</th>\n",
       "      <th>...</th>\n",
       "      <th>pixel774</th>\n",
       "      <th>pixel775</th>\n",
       "      <th>pixel776</th>\n",
       "      <th>pixel777</th>\n",
       "      <th>pixel778</th>\n",
       "      <th>pixel779</th>\n",
       "      <th>pixel780</th>\n",
       "      <th>pixel781</th>\n",
       "      <th>pixel782</th>\n",
       "      <th>pixel783</th>\n",
       "    </tr>\n",
       "  </thead>\n",
       "  <tbody>\n",
       "    <tr>\n",
       "      <th>0</th>\n",
       "      <td>0</td>\n",
       "      <td>0</td>\n",
       "      <td>0</td>\n",
       "      <td>0</td>\n",
       "      <td>0</td>\n",
       "      <td>0</td>\n",
       "      <td>0</td>\n",
       "      <td>0</td>\n",
       "      <td>0</td>\n",
       "      <td>0</td>\n",
       "      <td>...</td>\n",
       "      <td>0</td>\n",
       "      <td>0</td>\n",
       "      <td>0</td>\n",
       "      <td>0</td>\n",
       "      <td>0</td>\n",
       "      <td>0</td>\n",
       "      <td>0</td>\n",
       "      <td>0</td>\n",
       "      <td>0</td>\n",
       "      <td>0</td>\n",
       "    </tr>\n",
       "    <tr>\n",
       "      <th>1</th>\n",
       "      <td>0</td>\n",
       "      <td>0</td>\n",
       "      <td>0</td>\n",
       "      <td>0</td>\n",
       "      <td>0</td>\n",
       "      <td>0</td>\n",
       "      <td>0</td>\n",
       "      <td>0</td>\n",
       "      <td>0</td>\n",
       "      <td>0</td>\n",
       "      <td>...</td>\n",
       "      <td>0</td>\n",
       "      <td>0</td>\n",
       "      <td>0</td>\n",
       "      <td>0</td>\n",
       "      <td>0</td>\n",
       "      <td>0</td>\n",
       "      <td>0</td>\n",
       "      <td>0</td>\n",
       "      <td>0</td>\n",
       "      <td>0</td>\n",
       "    </tr>\n",
       "    <tr>\n",
       "      <th>2</th>\n",
       "      <td>0</td>\n",
       "      <td>0</td>\n",
       "      <td>0</td>\n",
       "      <td>0</td>\n",
       "      <td>0</td>\n",
       "      <td>0</td>\n",
       "      <td>0</td>\n",
       "      <td>0</td>\n",
       "      <td>0</td>\n",
       "      <td>0</td>\n",
       "      <td>...</td>\n",
       "      <td>0</td>\n",
       "      <td>0</td>\n",
       "      <td>0</td>\n",
       "      <td>0</td>\n",
       "      <td>0</td>\n",
       "      <td>0</td>\n",
       "      <td>0</td>\n",
       "      <td>0</td>\n",
       "      <td>0</td>\n",
       "      <td>0</td>\n",
       "    </tr>\n",
       "    <tr>\n",
       "      <th>3</th>\n",
       "      <td>0</td>\n",
       "      <td>0</td>\n",
       "      <td>0</td>\n",
       "      <td>0</td>\n",
       "      <td>0</td>\n",
       "      <td>0</td>\n",
       "      <td>0</td>\n",
       "      <td>0</td>\n",
       "      <td>0</td>\n",
       "      <td>0</td>\n",
       "      <td>...</td>\n",
       "      <td>0</td>\n",
       "      <td>0</td>\n",
       "      <td>0</td>\n",
       "      <td>0</td>\n",
       "      <td>0</td>\n",
       "      <td>0</td>\n",
       "      <td>0</td>\n",
       "      <td>0</td>\n",
       "      <td>0</td>\n",
       "      <td>0</td>\n",
       "    </tr>\n",
       "    <tr>\n",
       "      <th>4</th>\n",
       "      <td>0</td>\n",
       "      <td>0</td>\n",
       "      <td>0</td>\n",
       "      <td>0</td>\n",
       "      <td>0</td>\n",
       "      <td>0</td>\n",
       "      <td>0</td>\n",
       "      <td>0</td>\n",
       "      <td>0</td>\n",
       "      <td>0</td>\n",
       "      <td>...</td>\n",
       "      <td>0</td>\n",
       "      <td>0</td>\n",
       "      <td>0</td>\n",
       "      <td>0</td>\n",
       "      <td>0</td>\n",
       "      <td>0</td>\n",
       "      <td>0</td>\n",
       "      <td>0</td>\n",
       "      <td>0</td>\n",
       "      <td>0</td>\n",
       "    </tr>\n",
       "  </tbody>\n",
       "</table>\n",
       "<p>5 rows × 784 columns</p>\n",
       "</div>"
      ],
      "text/plain": [
       "   pixel0  pixel1  pixel2  pixel3  pixel4  pixel5  pixel6  pixel7  pixel8  \\\n",
       "0       0       0       0       0       0       0       0       0       0   \n",
       "1       0       0       0       0       0       0       0       0       0   \n",
       "2       0       0       0       0       0       0       0       0       0   \n",
       "3       0       0       0       0       0       0       0       0       0   \n",
       "4       0       0       0       0       0       0       0       0       0   \n",
       "\n",
       "   pixel9  ...  pixel774  pixel775  pixel776  pixel777  pixel778  pixel779  \\\n",
       "0       0  ...         0         0         0         0         0         0   \n",
       "1       0  ...         0         0         0         0         0         0   \n",
       "2       0  ...         0         0         0         0         0         0   \n",
       "3       0  ...         0         0         0         0         0         0   \n",
       "4       0  ...         0         0         0         0         0         0   \n",
       "\n",
       "   pixel780  pixel781  pixel782  pixel783  \n",
       "0         0         0         0         0  \n",
       "1         0         0         0         0  \n",
       "2         0         0         0         0  \n",
       "3         0         0         0         0  \n",
       "4         0         0         0         0  \n",
       "\n",
       "[5 rows x 784 columns]"
      ]
     },
     "execution_count": 3,
     "metadata": {},
     "output_type": "execute_result"
    }
   ],
   "source": [
    "test_data.head()"
   ]
  },
  {
   "cell_type": "markdown",
   "id": "16166451",
   "metadata": {
    "papermill": {
     "duration": 0.005613,
     "end_time": "2022-10-31T03:59:40.061324",
     "exception": false,
     "start_time": "2022-10-31T03:59:40.055711",
     "status": "completed"
    },
    "tags": []
   },
   "source": [
    "# 拆分训练集"
   ]
  },
  {
   "cell_type": "code",
   "execution_count": 4,
   "id": "2333b91a",
   "metadata": {
    "execution": {
     "iopub.execute_input": "2022-10-31T03:59:40.075163Z",
     "iopub.status.busy": "2022-10-31T03:59:40.074902Z",
     "iopub.status.idle": "2022-10-31T03:59:40.158388Z",
     "shell.execute_reply": "2022-10-31T03:59:40.157489Z"
    },
    "papermill": {
     "duration": 0.093574,
     "end_time": "2022-10-31T03:59:40.160624",
     "exception": false,
     "start_time": "2022-10-31T03:59:40.067050",
     "status": "completed"
    },
    "tags": []
   },
   "outputs": [],
   "source": [
    "y_train = train_data[['label']]\n",
    "x_train = train_data.drop(['label'], axis=1)"
   ]
  },
  {
   "cell_type": "code",
   "execution_count": 5,
   "id": "d4e1323b",
   "metadata": {
    "execution": {
     "iopub.execute_input": "2022-10-31T03:59:40.173689Z",
     "iopub.status.busy": "2022-10-31T03:59:40.173380Z",
     "iopub.status.idle": "2022-10-31T03:59:40.190736Z",
     "shell.execute_reply": "2022-10-31T03:59:40.189943Z"
    },
    "papermill": {
     "duration": 0.025984,
     "end_time": "2022-10-31T03:59:40.192671",
     "exception": false,
     "start_time": "2022-10-31T03:59:40.166687",
     "status": "completed"
    },
    "tags": []
   },
   "outputs": [
    {
     "data": {
      "text/html": [
       "<div>\n",
       "<style scoped>\n",
       "    .dataframe tbody tr th:only-of-type {\n",
       "        vertical-align: middle;\n",
       "    }\n",
       "\n",
       "    .dataframe tbody tr th {\n",
       "        vertical-align: top;\n",
       "    }\n",
       "\n",
       "    .dataframe thead th {\n",
       "        text-align: right;\n",
       "    }\n",
       "</style>\n",
       "<table border=\"1\" class=\"dataframe\">\n",
       "  <thead>\n",
       "    <tr style=\"text-align: right;\">\n",
       "      <th></th>\n",
       "      <th>pixel0</th>\n",
       "      <th>pixel1</th>\n",
       "      <th>pixel2</th>\n",
       "      <th>pixel3</th>\n",
       "      <th>pixel4</th>\n",
       "      <th>pixel5</th>\n",
       "      <th>pixel6</th>\n",
       "      <th>pixel7</th>\n",
       "      <th>pixel8</th>\n",
       "      <th>pixel9</th>\n",
       "      <th>...</th>\n",
       "      <th>pixel774</th>\n",
       "      <th>pixel775</th>\n",
       "      <th>pixel776</th>\n",
       "      <th>pixel777</th>\n",
       "      <th>pixel778</th>\n",
       "      <th>pixel779</th>\n",
       "      <th>pixel780</th>\n",
       "      <th>pixel781</th>\n",
       "      <th>pixel782</th>\n",
       "      <th>pixel783</th>\n",
       "    </tr>\n",
       "  </thead>\n",
       "  <tbody>\n",
       "    <tr>\n",
       "      <th>0</th>\n",
       "      <td>0</td>\n",
       "      <td>0</td>\n",
       "      <td>0</td>\n",
       "      <td>0</td>\n",
       "      <td>0</td>\n",
       "      <td>0</td>\n",
       "      <td>0</td>\n",
       "      <td>0</td>\n",
       "      <td>0</td>\n",
       "      <td>0</td>\n",
       "      <td>...</td>\n",
       "      <td>0</td>\n",
       "      <td>0</td>\n",
       "      <td>0</td>\n",
       "      <td>0</td>\n",
       "      <td>0</td>\n",
       "      <td>0</td>\n",
       "      <td>0</td>\n",
       "      <td>0</td>\n",
       "      <td>0</td>\n",
       "      <td>0</td>\n",
       "    </tr>\n",
       "    <tr>\n",
       "      <th>1</th>\n",
       "      <td>0</td>\n",
       "      <td>0</td>\n",
       "      <td>0</td>\n",
       "      <td>0</td>\n",
       "      <td>0</td>\n",
       "      <td>0</td>\n",
       "      <td>0</td>\n",
       "      <td>0</td>\n",
       "      <td>0</td>\n",
       "      <td>0</td>\n",
       "      <td>...</td>\n",
       "      <td>0</td>\n",
       "      <td>0</td>\n",
       "      <td>0</td>\n",
       "      <td>0</td>\n",
       "      <td>0</td>\n",
       "      <td>0</td>\n",
       "      <td>0</td>\n",
       "      <td>0</td>\n",
       "      <td>0</td>\n",
       "      <td>0</td>\n",
       "    </tr>\n",
       "    <tr>\n",
       "      <th>2</th>\n",
       "      <td>0</td>\n",
       "      <td>0</td>\n",
       "      <td>0</td>\n",
       "      <td>0</td>\n",
       "      <td>0</td>\n",
       "      <td>0</td>\n",
       "      <td>0</td>\n",
       "      <td>0</td>\n",
       "      <td>0</td>\n",
       "      <td>0</td>\n",
       "      <td>...</td>\n",
       "      <td>0</td>\n",
       "      <td>0</td>\n",
       "      <td>0</td>\n",
       "      <td>0</td>\n",
       "      <td>0</td>\n",
       "      <td>0</td>\n",
       "      <td>0</td>\n",
       "      <td>0</td>\n",
       "      <td>0</td>\n",
       "      <td>0</td>\n",
       "    </tr>\n",
       "    <tr>\n",
       "      <th>3</th>\n",
       "      <td>0</td>\n",
       "      <td>0</td>\n",
       "      <td>0</td>\n",
       "      <td>0</td>\n",
       "      <td>0</td>\n",
       "      <td>0</td>\n",
       "      <td>0</td>\n",
       "      <td>0</td>\n",
       "      <td>0</td>\n",
       "      <td>0</td>\n",
       "      <td>...</td>\n",
       "      <td>0</td>\n",
       "      <td>0</td>\n",
       "      <td>0</td>\n",
       "      <td>0</td>\n",
       "      <td>0</td>\n",
       "      <td>0</td>\n",
       "      <td>0</td>\n",
       "      <td>0</td>\n",
       "      <td>0</td>\n",
       "      <td>0</td>\n",
       "    </tr>\n",
       "    <tr>\n",
       "      <th>4</th>\n",
       "      <td>0</td>\n",
       "      <td>0</td>\n",
       "      <td>0</td>\n",
       "      <td>0</td>\n",
       "      <td>0</td>\n",
       "      <td>0</td>\n",
       "      <td>0</td>\n",
       "      <td>0</td>\n",
       "      <td>0</td>\n",
       "      <td>0</td>\n",
       "      <td>...</td>\n",
       "      <td>0</td>\n",
       "      <td>0</td>\n",
       "      <td>0</td>\n",
       "      <td>0</td>\n",
       "      <td>0</td>\n",
       "      <td>0</td>\n",
       "      <td>0</td>\n",
       "      <td>0</td>\n",
       "      <td>0</td>\n",
       "      <td>0</td>\n",
       "    </tr>\n",
       "  </tbody>\n",
       "</table>\n",
       "<p>5 rows × 784 columns</p>\n",
       "</div>"
      ],
      "text/plain": [
       "   pixel0  pixel1  pixel2  pixel3  pixel4  pixel5  pixel6  pixel7  pixel8  \\\n",
       "0       0       0       0       0       0       0       0       0       0   \n",
       "1       0       0       0       0       0       0       0       0       0   \n",
       "2       0       0       0       0       0       0       0       0       0   \n",
       "3       0       0       0       0       0       0       0       0       0   \n",
       "4       0       0       0       0       0       0       0       0       0   \n",
       "\n",
       "   pixel9  ...  pixel774  pixel775  pixel776  pixel777  pixel778  pixel779  \\\n",
       "0       0  ...         0         0         0         0         0         0   \n",
       "1       0  ...         0         0         0         0         0         0   \n",
       "2       0  ...         0         0         0         0         0         0   \n",
       "3       0  ...         0         0         0         0         0         0   \n",
       "4       0  ...         0         0         0         0         0         0   \n",
       "\n",
       "   pixel780  pixel781  pixel782  pixel783  \n",
       "0         0         0         0         0  \n",
       "1         0         0         0         0  \n",
       "2         0         0         0         0  \n",
       "3         0         0         0         0  \n",
       "4         0         0         0         0  \n",
       "\n",
       "[5 rows x 784 columns]"
      ]
     },
     "execution_count": 5,
     "metadata": {},
     "output_type": "execute_result"
    }
   ],
   "source": [
    "x_train.head()"
   ]
  },
  {
   "cell_type": "code",
   "execution_count": 6,
   "id": "296a74b2",
   "metadata": {
    "execution": {
     "iopub.execute_input": "2022-10-31T03:59:40.205791Z",
     "iopub.status.busy": "2022-10-31T03:59:40.205508Z",
     "iopub.status.idle": "2022-10-31T03:59:40.213561Z",
     "shell.execute_reply": "2022-10-31T03:59:40.212597Z"
    },
    "papermill": {
     "duration": 0.017018,
     "end_time": "2022-10-31T03:59:40.215695",
     "exception": false,
     "start_time": "2022-10-31T03:59:40.198677",
     "status": "completed"
    },
    "tags": []
   },
   "outputs": [
    {
     "data": {
      "text/html": [
       "<div>\n",
       "<style scoped>\n",
       "    .dataframe tbody tr th:only-of-type {\n",
       "        vertical-align: middle;\n",
       "    }\n",
       "\n",
       "    .dataframe tbody tr th {\n",
       "        vertical-align: top;\n",
       "    }\n",
       "\n",
       "    .dataframe thead th {\n",
       "        text-align: right;\n",
       "    }\n",
       "</style>\n",
       "<table border=\"1\" class=\"dataframe\">\n",
       "  <thead>\n",
       "    <tr style=\"text-align: right;\">\n",
       "      <th></th>\n",
       "      <th>label</th>\n",
       "    </tr>\n",
       "  </thead>\n",
       "  <tbody>\n",
       "    <tr>\n",
       "      <th>0</th>\n",
       "      <td>1</td>\n",
       "    </tr>\n",
       "    <tr>\n",
       "      <th>1</th>\n",
       "      <td>0</td>\n",
       "    </tr>\n",
       "    <tr>\n",
       "      <th>2</th>\n",
       "      <td>1</td>\n",
       "    </tr>\n",
       "    <tr>\n",
       "      <th>3</th>\n",
       "      <td>4</td>\n",
       "    </tr>\n",
       "    <tr>\n",
       "      <th>4</th>\n",
       "      <td>0</td>\n",
       "    </tr>\n",
       "  </tbody>\n",
       "</table>\n",
       "</div>"
      ],
      "text/plain": [
       "   label\n",
       "0      1\n",
       "1      0\n",
       "2      1\n",
       "3      4\n",
       "4      0"
      ]
     },
     "execution_count": 6,
     "metadata": {},
     "output_type": "execute_result"
    }
   ],
   "source": [
    "y_train.head()"
   ]
  },
  {
   "cell_type": "markdown",
   "id": "44255035",
   "metadata": {
    "papermill": {
     "duration": 0.005877,
     "end_time": "2022-10-31T03:59:40.227665",
     "exception": false,
     "start_time": "2022-10-31T03:59:40.221788",
     "status": "completed"
    },
    "tags": []
   },
   "source": [
    "# 将 1 维图像转换为 2 维图像"
   ]
  },
  {
   "cell_type": "code",
   "execution_count": 7,
   "id": "d085610e",
   "metadata": {
    "execution": {
     "iopub.execute_input": "2022-10-31T03:59:40.241069Z",
     "iopub.status.busy": "2022-10-31T03:59:40.240821Z",
     "iopub.status.idle": "2022-10-31T03:59:40.246226Z",
     "shell.execute_reply": "2022-10-31T03:59:40.245370Z"
    },
    "papermill": {
     "duration": 0.014378,
     "end_time": "2022-10-31T03:59:40.248070",
     "exception": false,
     "start_time": "2022-10-31T03:59:40.233692",
     "status": "completed"
    },
    "tags": []
   },
   "outputs": [
    {
     "data": {
      "text/plain": [
       "((42000, 784), (28000, 784))"
      ]
     },
     "execution_count": 7,
     "metadata": {},
     "output_type": "execute_result"
    }
   ],
   "source": [
    "x_train.shape, test_data.shape"
   ]
  },
  {
   "cell_type": "code",
   "execution_count": 8,
   "id": "2a1b63bf",
   "metadata": {
    "execution": {
     "iopub.execute_input": "2022-10-31T03:59:40.262770Z",
     "iopub.status.busy": "2022-10-31T03:59:40.261416Z",
     "iopub.status.idle": "2022-10-31T03:59:40.266578Z",
     "shell.execute_reply": "2022-10-31T03:59:40.265700Z"
    },
    "papermill": {
     "duration": 0.014155,
     "end_time": "2022-10-31T03:59:40.268448",
     "exception": false,
     "start_time": "2022-10-31T03:59:40.254293",
     "status": "completed"
    },
    "tags": []
   },
   "outputs": [],
   "source": [
    "# 将数据转换为 28 × 28 像素的图像\n",
    "x_train = x_train.values.reshape(x_train.shape[0], 28, 28)\n",
    "x_test = test_data.values.reshape(test_data.shape[0], 28, 28)"
   ]
  },
  {
   "cell_type": "markdown",
   "id": "a816194c",
   "metadata": {
    "papermill": {
     "duration": 0.00656,
     "end_time": "2022-10-31T03:59:40.281188",
     "exception": false,
     "start_time": "2022-10-31T03:59:40.274628",
     "status": "completed"
    },
    "tags": []
   },
   "source": [
    "# 添加色彩通道维度"
   ]
  },
  {
   "cell_type": "code",
   "execution_count": 9,
   "id": "ba070c5a",
   "metadata": {
    "execution": {
     "iopub.execute_input": "2022-10-31T03:59:40.295004Z",
     "iopub.status.busy": "2022-10-31T03:59:40.294749Z",
     "iopub.status.idle": "2022-10-31T03:59:40.301667Z",
     "shell.execute_reply": "2022-10-31T03:59:40.300219Z"
    },
    "papermill": {
     "duration": 0.016586,
     "end_time": "2022-10-31T03:59:40.304371",
     "exception": false,
     "start_time": "2022-10-31T03:59:40.287785",
     "status": "completed"
    },
    "tags": []
   },
   "outputs": [
    {
     "name": "stdout",
     "output_type": "stream",
     "text": [
      "Train Data shape      : (42000, 28, 28, 1)\n",
      "Test Data shape       : (28000, 28, 28, 1)\n"
     ]
    }
   ],
   "source": [
    "x_train = x_train.reshape(-1, 28, 28, 1)\n",
    "x_test  = x_test.reshape(-1, 28, 28, 1)\n",
    "\n",
    "print('Train Data shape      :', x_train.shape)\n",
    "print('Test Data shape       :', x_test.shape) "
   ]
  },
  {
   "cell_type": "markdown",
   "id": "28e69e10",
   "metadata": {
    "papermill": {
     "duration": 0.00612,
     "end_time": "2022-10-31T03:59:40.317305",
     "exception": false,
     "start_time": "2022-10-31T03:59:40.311185",
     "status": "completed"
    },
    "tags": []
   },
   "source": [
    "# 归一化"
   ]
  },
  {
   "cell_type": "code",
   "execution_count": 10,
   "id": "ac5f465d",
   "metadata": {
    "execution": {
     "iopub.execute_input": "2022-10-31T03:59:40.330968Z",
     "iopub.status.busy": "2022-10-31T03:59:40.330720Z",
     "iopub.status.idle": "2022-10-31T03:59:40.501371Z",
     "shell.execute_reply": "2022-10-31T03:59:40.500269Z"
    },
    "papermill": {
     "duration": 0.181055,
     "end_time": "2022-10-31T03:59:40.504584",
     "exception": false,
     "start_time": "2022-10-31T03:59:40.323529",
     "status": "completed"
    },
    "tags": []
   },
   "outputs": [],
   "source": [
    "x_train, x_test = x_train / 255, x_test / 255"
   ]
  },
  {
   "cell_type": "markdown",
   "id": "dab692d1",
   "metadata": {
    "papermill": {
     "duration": 0.006324,
     "end_time": "2022-10-31T03:59:40.518290",
     "exception": false,
     "start_time": "2022-10-31T03:59:40.511966",
     "status": "completed"
    },
    "tags": []
   },
   "source": [
    "# 对标签进行独热编码"
   ]
  },
  {
   "cell_type": "code",
   "execution_count": 11,
   "id": "d873e26d",
   "metadata": {
    "execution": {
     "iopub.execute_input": "2022-10-31T03:59:40.532514Z",
     "iopub.status.busy": "2022-10-31T03:59:40.532205Z",
     "iopub.status.idle": "2022-10-31T03:59:44.931903Z",
     "shell.execute_reply": "2022-10-31T03:59:44.930854Z"
    },
    "papermill": {
     "duration": 4.409654,
     "end_time": "2022-10-31T03:59:44.934337",
     "exception": false,
     "start_time": "2022-10-31T03:59:40.524683",
     "status": "completed"
    },
    "tags": []
   },
   "outputs": [],
   "source": [
    "import tensorflow as tf\n",
    "y_train = tf.keras.utils.to_categorical(y_train)"
   ]
  },
  {
   "cell_type": "code",
   "execution_count": 12,
   "id": "7946975f",
   "metadata": {
    "execution": {
     "iopub.execute_input": "2022-10-31T03:59:44.948916Z",
     "iopub.status.busy": "2022-10-31T03:59:44.948383Z",
     "iopub.status.idle": "2022-10-31T03:59:44.956893Z",
     "shell.execute_reply": "2022-10-31T03:59:44.956068Z"
    },
    "papermill": {
     "duration": 0.017906,
     "end_time": "2022-10-31T03:59:44.958928",
     "exception": false,
     "start_time": "2022-10-31T03:59:44.941022",
     "status": "completed"
    },
    "tags": []
   },
   "outputs": [
    {
     "data": {
      "text/plain": [
       "(42000, 10)"
      ]
     },
     "execution_count": 12,
     "metadata": {},
     "output_type": "execute_result"
    }
   ],
   "source": [
    "y_train.shape"
   ]
  },
  {
   "cell_type": "markdown",
   "id": "3745461b",
   "metadata": {
    "papermill": {
     "duration": 0.006182,
     "end_time": "2022-10-31T03:59:44.971463",
     "exception": false,
     "start_time": "2022-10-31T03:59:44.965281",
     "status": "completed"
    },
    "tags": []
   },
   "source": [
    "# 模型定义"
   ]
  },
  {
   "cell_type": "code",
   "execution_count": 13,
   "id": "e5acafc0",
   "metadata": {
    "execution": {
     "iopub.execute_input": "2022-10-31T03:59:44.985710Z",
     "iopub.status.busy": "2022-10-31T03:59:44.984925Z",
     "iopub.status.idle": "2022-10-31T03:59:44.990167Z",
     "shell.execute_reply": "2022-10-31T03:59:44.989311Z"
    },
    "papermill": {
     "duration": 0.014249,
     "end_time": "2022-10-31T03:59:44.992052",
     "exception": false,
     "start_time": "2022-10-31T03:59:44.977803",
     "status": "completed"
    },
    "tags": []
   },
   "outputs": [],
   "source": [
    "# 超参数设定 \n",
    "batch = 70   # 将训练集分成 70 份\n",
    "epochs = 30  # 将小批次的训练集训练 30 次\n",
    "steps_per_epoch = x_train.shape[0] // batch   # 模型每次训练数量\n",
    "seed = 4       # 随机种子数\n",
    "tf.random.set_seed(4)\n",
    "lr_rate = 0.0001  # 学习率"
   ]
  },
  {
   "cell_type": "code",
   "execution_count": 14,
   "id": "58352531",
   "metadata": {
    "execution": {
     "iopub.execute_input": "2022-10-31T03:59:45.015159Z",
     "iopub.status.busy": "2022-10-31T03:59:45.014889Z",
     "iopub.status.idle": "2022-10-31T03:59:45.073046Z",
     "shell.execute_reply": "2022-10-31T03:59:45.072025Z"
    },
    "papermill": {
     "duration": 0.069094,
     "end_time": "2022-10-31T03:59:45.075498",
     "exception": false,
     "start_time": "2022-10-31T03:59:45.006404",
     "status": "completed"
    },
    "tags": []
   },
   "outputs": [],
   "source": [
    "# 数据增强\n",
    "datagen = tf.keras.preprocessing.image.ImageDataGenerator(rotation_range=10,\n",
    "                             zoom_range=0.15\n",
    "                            )\n",
    "\n",
    "image_generator = datagen.flow(x_train, y_train, \n",
    "                               batch_size=batch, \n",
    "                               seed=seed,\n",
    "                              )"
   ]
  },
  {
   "cell_type": "code",
   "execution_count": 15,
   "id": "37727dc6",
   "metadata": {
    "_kg_hide-output": true,
    "execution": {
     "iopub.execute_input": "2022-10-31T03:59:45.090243Z",
     "iopub.status.busy": "2022-10-31T03:59:45.089922Z",
     "iopub.status.idle": "2022-10-31T03:59:47.736831Z",
     "shell.execute_reply": "2022-10-31T03:59:47.735923Z"
    },
    "papermill": {
     "duration": 2.656953,
     "end_time": "2022-10-31T03:59:47.739099",
     "exception": false,
     "start_time": "2022-10-31T03:59:45.082146",
     "status": "completed"
    },
    "tags": []
   },
   "outputs": [
    {
     "name": "stderr",
     "output_type": "stream",
     "text": [
      "2022-10-31 03:59:45.185610: I tensorflow/stream_executor/cuda/cuda_gpu_executor.cc:937] successful NUMA node read from SysFS had negative value (-1), but there must be at least one NUMA node, so returning NUMA node zero\n",
      "2022-10-31 03:59:45.268327: I tensorflow/stream_executor/cuda/cuda_gpu_executor.cc:937] successful NUMA node read from SysFS had negative value (-1), but there must be at least one NUMA node, so returning NUMA node zero\n",
      "2022-10-31 03:59:45.269229: I tensorflow/stream_executor/cuda/cuda_gpu_executor.cc:937] successful NUMA node read from SysFS had negative value (-1), but there must be at least one NUMA node, so returning NUMA node zero\n",
      "2022-10-31 03:59:45.271352: I tensorflow/core/platform/cpu_feature_guard.cc:142] This TensorFlow binary is optimized with oneAPI Deep Neural Network Library (oneDNN) to use the following CPU instructions in performance-critical operations:  AVX2 AVX512F FMA\n",
      "To enable them in other operations, rebuild TensorFlow with the appropriate compiler flags.\n",
      "2022-10-31 03:59:45.271710: I tensorflow/stream_executor/cuda/cuda_gpu_executor.cc:937] successful NUMA node read from SysFS had negative value (-1), but there must be at least one NUMA node, so returning NUMA node zero\n",
      "2022-10-31 03:59:45.272644: I tensorflow/stream_executor/cuda/cuda_gpu_executor.cc:937] successful NUMA node read from SysFS had negative value (-1), but there must be at least one NUMA node, so returning NUMA node zero\n",
      "2022-10-31 03:59:45.273500: I tensorflow/stream_executor/cuda/cuda_gpu_executor.cc:937] successful NUMA node read from SysFS had negative value (-1), but there must be at least one NUMA node, so returning NUMA node zero\n",
      "2022-10-31 03:59:47.126071: I tensorflow/stream_executor/cuda/cuda_gpu_executor.cc:937] successful NUMA node read from SysFS had negative value (-1), but there must be at least one NUMA node, so returning NUMA node zero\n",
      "2022-10-31 03:59:47.126914: I tensorflow/stream_executor/cuda/cuda_gpu_executor.cc:937] successful NUMA node read from SysFS had negative value (-1), but there must be at least one NUMA node, so returning NUMA node zero\n",
      "2022-10-31 03:59:47.127570: I tensorflow/stream_executor/cuda/cuda_gpu_executor.cc:937] successful NUMA node read from SysFS had negative value (-1), but there must be at least one NUMA node, so returning NUMA node zero\n",
      "2022-10-31 03:59:47.128153: I tensorflow/core/common_runtime/gpu/gpu_device.cc:1510] Created device /job:localhost/replica:0/task:0/device:GPU:0 with 15401 MB memory:  -> device: 0, name: Tesla P100-PCIE-16GB, pci bus id: 0000:00:04.0, compute capability: 6.0\n"
     ]
    }
   ],
   "source": [
    "# 定义模型\n",
    "from tensorflow.keras import layers, models\n",
    "model = models.Sequential([\n",
    "    layers.Conv2D(filters=32, kernel_size=(2, 2), activation='relu', input_shape = (28,28,1)),         # 卷积层\n",
    "    layers.Conv2D(32, (4, 4), activation = 'relu'),\n",
    "    layers.BatchNormalization(),\n",
    "    layers.MaxPooling2D(2, 2),\n",
    "    \n",
    "    layers.Conv2D(filters=64, kernel_size=(2, 2), activation='relu'),         # 卷积层\n",
    "    layers.Conv2D(64, (4, 4), activation = 'relu'),\n",
    "    layers.BatchNormalization(),\n",
    "    layers.MaxPooling2D(2, 2),                                             # 最大池化\n",
    "    \n",
    "    layers.Conv2D(128, (3, 3), activation = 'relu'),\n",
    "    layers.BatchNormalization(),\n",
    "    \n",
    "    layers.Flatten(),                        \n",
    "    layers.Dense(150, activation = tf.nn.relu),     # 隐藏层\n",
    "    layers.Dense(150, activation = tf.nn.relu),      # 隐藏层\n",
    "    \n",
    "    # 分类为 0 - 9 的数字标签，所以输出有 10 种可能，并且使用 softmax 激活函数表示概率的大小\n",
    "    layers.Dense(10, activation = tf.nn.softmax)     \n",
    "])\n",
    "\n",
    "# 当模型的 accuracy 不再提升时停止训练\n",
    "early_stopping = tf.keras.callbacks.EarlyStopping(monitor = 'val_accuracy',\n",
    "                                                  patience = 3,\n",
    "                                                  min_delta = 1e-4,\n",
    "                                                  restore_best_weights = True)\n",
    "\n",
    "# 保存模型\n",
    "checkpoint_callback = tf.keras.callbacks.ModelCheckpoint(filepath = 'saved_model/best_model_todate', \n",
    "                                                 save_best_only = True, \n",
    "                                                 save_weights_only = True,\n",
    "                                                 monitor='val_accuracy',\n",
    "                                                 mode='max')\n",
    "\n",
    "# 遇到 NaN 丢失时终止训练\n",
    "tn = tf.keras.callbacks.TerminateOnNaN()\n",
    "\n",
    "# 模型学习率、学习次数等设置\n",
    "scheduler = tf.keras.optimizers.schedules.ExponentialDecay(initial_learning_rate = lr_rate,\n",
    "                                                           decay_steps = steps_per_epoch // 4,\n",
    "                                                           decay_rate= 0.80,\n",
    "                                                           staircase=True)\n",
    "lr_scheduler = tf.keras.callbacks.LearningRateScheduler(scheduler)\n",
    "\n",
    "# 当指标停止改进时降低学习率\n",
    "lr_plateau = tf.keras.callbacks.ReduceLROnPlateau(monitor = 'val_loss',\n",
    "                                                  factor = 0.1,\n",
    "                                                  patience = 4, \n",
    "                                                  verbose = 3)\n",
    "\n",
    "# 设置损失函数\n",
    "loss_object = tf.keras.losses.CategoricalCrossentropy()\n",
    "\n",
    "# 设置优化器\n",
    "optimizer = tf.keras.optimizers.Adam(learning_rate=lr_rate) "
   ]
  },
  {
   "cell_type": "markdown",
   "id": "de2184f1",
   "metadata": {
    "papermill": {
     "duration": 0.00635,
     "end_time": "2022-10-31T03:59:47.752248",
     "exception": false,
     "start_time": "2022-10-31T03:59:47.745898",
     "status": "completed"
    },
    "tags": []
   },
   "source": [
    "# 模型预测"
   ]
  },
  {
   "cell_type": "code",
   "execution_count": 16,
   "id": "7d20110c",
   "metadata": {
    "execution": {
     "iopub.execute_input": "2022-10-31T03:59:47.766798Z",
     "iopub.status.busy": "2022-10-31T03:59:47.765909Z",
     "iopub.status.idle": "2022-10-31T03:59:47.777185Z",
     "shell.execute_reply": "2022-10-31T03:59:47.776356Z"
    },
    "papermill": {
     "duration": 0.020508,
     "end_time": "2022-10-31T03:59:47.779162",
     "exception": false,
     "start_time": "2022-10-31T03:59:47.758654",
     "status": "completed"
    },
    "tags": []
   },
   "outputs": [],
   "source": [
    "# 编译模型\n",
    "model.compile(optimizer=optimizer,loss=loss_object, metrics=['accuracy'])"
   ]
  },
  {
   "cell_type": "code",
   "execution_count": 17,
   "id": "ae95a694",
   "metadata": {
    "_kg_hide-output": true,
    "execution": {
     "iopub.execute_input": "2022-10-31T03:59:47.794100Z",
     "iopub.status.busy": "2022-10-31T03:59:47.793299Z",
     "iopub.status.idle": "2022-10-31T04:03:36.229472Z",
     "shell.execute_reply": "2022-10-31T04:03:36.228571Z"
    },
    "papermill": {
     "duration": 228.44607,
     "end_time": "2022-10-31T04:03:36.231698",
     "exception": false,
     "start_time": "2022-10-31T03:59:47.785628",
     "status": "completed"
    },
    "tags": []
   },
   "outputs": [
    {
     "name": "stderr",
     "output_type": "stream",
     "text": [
      "2022-10-31 03:59:47.874182: I tensorflow/compiler/mlir/mlir_graph_optimization_pass.cc:185] None of the MLIR Optimization Passes are enabled (registered 2)\n"
     ]
    },
    {
     "name": "stdout",
     "output_type": "stream",
     "text": [
      "Epoch 1/30\n"
     ]
    },
    {
     "name": "stderr",
     "output_type": "stream",
     "text": [
      "2022-10-31 03:59:49.301336: I tensorflow/stream_executor/cuda/cuda_dnn.cc:369] Loaded cuDNN version 8005\n"
     ]
    },
    {
     "name": "stdout",
     "output_type": "stream",
     "text": [
      "600/600 [==============================] - 20s 21ms/step - loss: 0.3000 - accuracy: 0.9163 - val_loss: 0.1072 - val_accuracy: 0.9720\n",
      "Epoch 2/30\n",
      "600/600 [==============================] - 14s 24ms/step - loss: 0.0693 - accuracy: 0.9795 - val_loss: 0.0508 - val_accuracy: 0.9839\n",
      "Epoch 3/30\n",
      "600/600 [==============================] - 14s 24ms/step - loss: 0.0462 - accuracy: 0.9865 - val_loss: 0.0430 - val_accuracy: 0.9861\n",
      "Epoch 4/30\n",
      "600/600 [==============================] - 13s 22ms/step - loss: 0.0391 - accuracy: 0.9874 - val_loss: 0.0240 - val_accuracy: 0.9926\n",
      "Epoch 5/30\n",
      "600/600 [==============================] - 12s 21ms/step - loss: 0.0301 - accuracy: 0.9907 - val_loss: 0.0180 - val_accuracy: 0.9946\n",
      "Epoch 6/30\n",
      "600/600 [==============================] - 15s 25ms/step - loss: 0.0265 - accuracy: 0.9914 - val_loss: 0.0216 - val_accuracy: 0.9936\n",
      "Epoch 7/30\n",
      "600/600 [==============================] - 12s 20ms/step - loss: 0.0233 - accuracy: 0.9925 - val_loss: 0.0113 - val_accuracy: 0.9964\n",
      "Epoch 8/30\n",
      "600/600 [==============================] - 13s 22ms/step - loss: 0.0232 - accuracy: 0.9928 - val_loss: 0.0122 - val_accuracy: 0.9962\n",
      "Epoch 9/30\n",
      "600/600 [==============================] - 15s 24ms/step - loss: 0.0177 - accuracy: 0.9946 - val_loss: 0.0121 - val_accuracy: 0.9960\n",
      "Epoch 10/30\n",
      "600/600 [==============================] - 14s 24ms/step - loss: 0.0185 - accuracy: 0.9941 - val_loss: 0.0096 - val_accuracy: 0.9971\n",
      "Epoch 11/30\n",
      "600/600 [==============================] - 13s 21ms/step - loss: 0.0160 - accuracy: 0.9946 - val_loss: 0.0089 - val_accuracy: 0.9975\n",
      "Epoch 12/30\n",
      "600/600 [==============================] - 13s 21ms/step - loss: 0.0148 - accuracy: 0.9953 - val_loss: 0.0159 - val_accuracy: 0.9946\n",
      "Epoch 13/30\n",
      "600/600 [==============================] - 13s 22ms/step - loss: 0.0138 - accuracy: 0.9955 - val_loss: 0.0055 - val_accuracy: 0.9984\n",
      "Epoch 14/30\n",
      "600/600 [==============================] - 13s 21ms/step - loss: 0.0117 - accuracy: 0.9960 - val_loss: 0.0055 - val_accuracy: 0.9985\n",
      "Epoch 15/30\n",
      "600/600 [==============================] - 12s 21ms/step - loss: 0.0106 - accuracy: 0.9966 - val_loss: 0.0053 - val_accuracy: 0.9983\n",
      "Epoch 16/30\n",
      "600/600 [==============================] - 15s 25ms/step - loss: 0.0113 - accuracy: 0.9960 - val_loss: 0.0057 - val_accuracy: 0.9981\n"
     ]
    },
    {
     "data": {
      "text/plain": [
       "<keras.callbacks.History at 0x7f2497fcc290>"
      ]
     },
     "execution_count": 17,
     "metadata": {},
     "output_type": "execute_result"
    }
   ],
   "source": [
    "# 模型训练\n",
    "model.fit(image_generator, \n",
    "          epochs=epochs, \n",
    "          validation_data=(x_train, y_train), \n",
    "          steps_per_epoch=steps_per_epoch,\n",
    "          callbacks = [lr_scheduler, lr_plateau, checkpoint_callback, early_stopping, tn]\n",
    "          )"
   ]
  },
  {
   "cell_type": "code",
   "execution_count": 18,
   "id": "e8a0fa34",
   "metadata": {
    "execution": {
     "iopub.execute_input": "2022-10-31T04:03:36.512263Z",
     "iopub.status.busy": "2022-10-31T04:03:36.511578Z",
     "iopub.status.idle": "2022-10-31T04:03:39.469135Z",
     "shell.execute_reply": "2022-10-31T04:03:39.468138Z"
    },
    "papermill": {
     "duration": 3.10113,
     "end_time": "2022-10-31T04:03:39.471750",
     "exception": false,
     "start_time": "2022-10-31T04:03:36.370620",
     "status": "completed"
    },
    "tags": []
   },
   "outputs": [],
   "source": [
    "# 模型预测\n",
    "import numpy as np\n",
    "predict = model.predict(x_test)\n",
    "labels = [np.argmax(i) for i in predict]  # 返回概率最大值的索引值"
   ]
  },
  {
   "cell_type": "markdown",
   "id": "2d6d9a61",
   "metadata": {
    "papermill": {
     "duration": 0.135876,
     "end_time": "2022-10-31T04:03:39.744156",
     "exception": false,
     "start_time": "2022-10-31T04:03:39.608280",
     "status": "completed"
    },
    "tags": []
   },
   "source": [
    "# 提交结果"
   ]
  },
  {
   "cell_type": "code",
   "execution_count": 19,
   "id": "d545df4c",
   "metadata": {
    "execution": {
     "iopub.execute_input": "2022-10-31T04:03:40.069157Z",
     "iopub.status.busy": "2022-10-31T04:03:40.068794Z",
     "iopub.status.idle": "2022-10-31T04:03:40.101517Z",
     "shell.execute_reply": "2022-10-31T04:03:40.100468Z"
    },
    "papermill": {
     "duration": 0.223508,
     "end_time": "2022-10-31T04:03:40.103616",
     "exception": false,
     "start_time": "2022-10-31T04:03:39.880108",
     "status": "completed"
    },
    "tags": []
   },
   "outputs": [
    {
     "data": {
      "text/html": [
       "<div>\n",
       "<style scoped>\n",
       "    .dataframe tbody tr th:only-of-type {\n",
       "        vertical-align: middle;\n",
       "    }\n",
       "\n",
       "    .dataframe tbody tr th {\n",
       "        vertical-align: top;\n",
       "    }\n",
       "\n",
       "    .dataframe thead th {\n",
       "        text-align: right;\n",
       "    }\n",
       "</style>\n",
       "<table border=\"1\" class=\"dataframe\">\n",
       "  <thead>\n",
       "    <tr style=\"text-align: right;\">\n",
       "      <th></th>\n",
       "      <th>ImageId</th>\n",
       "      <th>Label</th>\n",
       "    </tr>\n",
       "  </thead>\n",
       "  <tbody>\n",
       "    <tr>\n",
       "      <th>0</th>\n",
       "      <td>1</td>\n",
       "      <td>2</td>\n",
       "    </tr>\n",
       "    <tr>\n",
       "      <th>1</th>\n",
       "      <td>2</td>\n",
       "      <td>0</td>\n",
       "    </tr>\n",
       "    <tr>\n",
       "      <th>2</th>\n",
       "      <td>3</td>\n",
       "      <td>9</td>\n",
       "    </tr>\n",
       "    <tr>\n",
       "      <th>3</th>\n",
       "      <td>4</td>\n",
       "      <td>9</td>\n",
       "    </tr>\n",
       "    <tr>\n",
       "      <th>4</th>\n",
       "      <td>5</td>\n",
       "      <td>3</td>\n",
       "    </tr>\n",
       "  </tbody>\n",
       "</table>\n",
       "</div>"
      ],
      "text/plain": [
       "   ImageId  Label\n",
       "0        1      2\n",
       "1        2      0\n",
       "2        3      9\n",
       "3        4      9\n",
       "4        5      3"
      ]
     },
     "execution_count": 19,
     "metadata": {},
     "output_type": "execute_result"
    }
   ],
   "source": [
    "submission = pd.read_csv('../input/digit-recognizer/sample_submission.csv')\n",
    "submission['Label'] = labels\n",
    "submission.head()"
   ]
  },
  {
   "cell_type": "code",
   "execution_count": 20,
   "id": "bc741374",
   "metadata": {
    "execution": {
     "iopub.execute_input": "2022-10-31T04:03:40.377959Z",
     "iopub.status.busy": "2022-10-31T04:03:40.377024Z",
     "iopub.status.idle": "2022-10-31T04:03:40.407167Z",
     "shell.execute_reply": "2022-10-31T04:03:40.406292Z"
    },
    "papermill": {
     "duration": 0.168948,
     "end_time": "2022-10-31T04:03:40.409285",
     "exception": false,
     "start_time": "2022-10-31T04:03:40.240337",
     "status": "completed"
    },
    "tags": []
   },
   "outputs": [],
   "source": [
    "submission.to_csv('submission.csv', index = False)"
   ]
  }
 ],
 "metadata": {
  "kernelspec": {
   "display_name": "Python 3.10.6 64-bit",
   "language": "python",
   "name": "python3"
  },
  "language_info": {
   "codemirror_mode": {
    "name": "ipython",
    "version": 3
   },
   "file_extension": ".py",
   "mimetype": "text/x-python",
   "name": "python",
   "nbconvert_exporter": "python",
   "pygments_lexer": "ipython3",
   "version": "3.10.6"
  },
  "papermill": {
   "default_parameters": {},
   "duration": 256.534606,
   "end_time": "2022-10-31T04:03:43.832402",
   "environment_variables": {},
   "exception": null,
   "input_path": "__notebook__.ipynb",
   "output_path": "__notebook__.ipynb",
   "parameters": {},
   "start_time": "2022-10-31T03:59:27.297796",
   "version": "2.3.4"
  },
  "vscode": {
   "interpreter": {
    "hash": "916dbcbb3f70747c44a77c7bcd40155683ae19c65e1c03b4aa3499c5328201f1"
   }
  }
 },
 "nbformat": 4,
 "nbformat_minor": 5
}
