{
 "cells": [
  {
   "cell_type": "code",
   "execution_count": 1,
   "id": "e8241dc9",
   "metadata": {
    "execution": {
     "iopub.execute_input": "2022-10-16T05:51:19.081197Z",
     "iopub.status.busy": "2022-10-16T05:51:19.080354Z",
     "iopub.status.idle": "2022-10-16T05:51:19.099892Z",
     "shell.execute_reply": "2022-10-16T05:51:19.099007Z"
    },
    "papermill": {
     "duration": 0.05257,
     "end_time": "2022-10-16T05:51:19.102599",
     "exception": false,
     "start_time": "2022-10-16T05:51:19.050029",
     "status": "completed"
    },
    "tags": []
   },
   "outputs": [],
   "source": [
    "# 开启代码提示\n",
    "%config Completer.use_jedi = False\n",
    "# 忽略警告\n",
    "import warnings\n",
    "warnings.filterwarnings(\"ignore\")"
   ]
  },
  {
   "cell_type": "code",
   "execution_count": 2,
   "id": "24e9703b",
   "metadata": {
    "execution": {
     "iopub.execute_input": "2022-10-16T05:51:19.145890Z",
     "iopub.status.busy": "2022-10-16T05:51:19.145443Z",
     "iopub.status.idle": "2022-10-16T05:51:19.151537Z",
     "shell.execute_reply": "2022-10-16T05:51:19.150292Z"
    },
    "papermill": {
     "duration": 0.030657,
     "end_time": "2022-10-16T05:51:19.154205",
     "exception": false,
     "start_time": "2022-10-16T05:51:19.123548",
     "status": "completed"
    },
    "tags": []
   },
   "outputs": [],
   "source": [
    "# 不折叠数据框\n",
    "import pandas as pd\n",
    "pd.set_option('display.max_columns', None) # 显示完整的列\n",
    "pd.set_option('display.max_rows', None) # 显示完整的行\n",
    "pd.set_option('display.expand_frame_repr', False) # 设置不折叠数据\n",
    "pd.set_option('display.max_colwidth', 100)"
   ]
  },
  {
   "cell_type": "markdown",
   "id": "d7056bab",
   "metadata": {
    "papermill": {
     "duration": 0.020375,
     "end_time": "2022-10-16T05:51:19.195336",
     "exception": false,
     "start_time": "2022-10-16T05:51:19.174961",
     "status": "completed"
    },
    "tags": []
   },
   "source": [
    "# 探索训练集"
   ]
  },
  {
   "cell_type": "code",
   "execution_count": 3,
   "id": "0aa1ef2c",
   "metadata": {
    "execution": {
     "iopub.execute_input": "2022-10-16T05:51:19.237881Z",
     "iopub.status.busy": "2022-10-16T05:51:19.237451Z",
     "iopub.status.idle": "2022-10-16T05:51:19.324782Z",
     "shell.execute_reply": "2022-10-16T05:51:19.323567Z"
    },
    "papermill": {
     "duration": 0.112123,
     "end_time": "2022-10-16T05:51:19.327730",
     "exception": false,
     "start_time": "2022-10-16T05:51:19.215607",
     "status": "completed"
    },
    "tags": []
   },
   "outputs": [
    {
     "data": {
      "text/html": [
       "<div>\n",
       "<style scoped>\n",
       "    .dataframe tbody tr th:only-of-type {\n",
       "        vertical-align: middle;\n",
       "    }\n",
       "\n",
       "    .dataframe tbody tr th {\n",
       "        vertical-align: top;\n",
       "    }\n",
       "\n",
       "    .dataframe thead th {\n",
       "        text-align: right;\n",
       "    }\n",
       "</style>\n",
       "<table border=\"1\" class=\"dataframe\">\n",
       "  <thead>\n",
       "    <tr style=\"text-align: right;\">\n",
       "      <th></th>\n",
       "      <th>PassengerId</th>\n",
       "      <th>HomePlanet</th>\n",
       "      <th>CryoSleep</th>\n",
       "      <th>Cabin</th>\n",
       "      <th>Destination</th>\n",
       "      <th>Age</th>\n",
       "      <th>VIP</th>\n",
       "      <th>RoomService</th>\n",
       "      <th>FoodCourt</th>\n",
       "      <th>ShoppingMall</th>\n",
       "      <th>Spa</th>\n",
       "      <th>VRDeck</th>\n",
       "      <th>Name</th>\n",
       "      <th>Transported</th>\n",
       "    </tr>\n",
       "  </thead>\n",
       "  <tbody>\n",
       "    <tr>\n",
       "      <th>0</th>\n",
       "      <td>0001_01</td>\n",
       "      <td>Europa</td>\n",
       "      <td>False</td>\n",
       "      <td>B/0/P</td>\n",
       "      <td>TRAPPIST-1e</td>\n",
       "      <td>39.0</td>\n",
       "      <td>False</td>\n",
       "      <td>0.0</td>\n",
       "      <td>0.0</td>\n",
       "      <td>0.0</td>\n",
       "      <td>0.0</td>\n",
       "      <td>0.0</td>\n",
       "      <td>Maham Ofracculy</td>\n",
       "      <td>False</td>\n",
       "    </tr>\n",
       "    <tr>\n",
       "      <th>1</th>\n",
       "      <td>0002_01</td>\n",
       "      <td>Earth</td>\n",
       "      <td>False</td>\n",
       "      <td>F/0/S</td>\n",
       "      <td>TRAPPIST-1e</td>\n",
       "      <td>24.0</td>\n",
       "      <td>False</td>\n",
       "      <td>109.0</td>\n",
       "      <td>9.0</td>\n",
       "      <td>25.0</td>\n",
       "      <td>549.0</td>\n",
       "      <td>44.0</td>\n",
       "      <td>Juanna Vines</td>\n",
       "      <td>True</td>\n",
       "    </tr>\n",
       "    <tr>\n",
       "      <th>2</th>\n",
       "      <td>0003_01</td>\n",
       "      <td>Europa</td>\n",
       "      <td>False</td>\n",
       "      <td>A/0/S</td>\n",
       "      <td>TRAPPIST-1e</td>\n",
       "      <td>58.0</td>\n",
       "      <td>True</td>\n",
       "      <td>43.0</td>\n",
       "      <td>3576.0</td>\n",
       "      <td>0.0</td>\n",
       "      <td>6715.0</td>\n",
       "      <td>49.0</td>\n",
       "      <td>Altark Susent</td>\n",
       "      <td>False</td>\n",
       "    </tr>\n",
       "    <tr>\n",
       "      <th>3</th>\n",
       "      <td>0003_02</td>\n",
       "      <td>Europa</td>\n",
       "      <td>False</td>\n",
       "      <td>A/0/S</td>\n",
       "      <td>TRAPPIST-1e</td>\n",
       "      <td>33.0</td>\n",
       "      <td>False</td>\n",
       "      <td>0.0</td>\n",
       "      <td>1283.0</td>\n",
       "      <td>371.0</td>\n",
       "      <td>3329.0</td>\n",
       "      <td>193.0</td>\n",
       "      <td>Solam Susent</td>\n",
       "      <td>False</td>\n",
       "    </tr>\n",
       "    <tr>\n",
       "      <th>4</th>\n",
       "      <td>0004_01</td>\n",
       "      <td>Earth</td>\n",
       "      <td>False</td>\n",
       "      <td>F/1/S</td>\n",
       "      <td>TRAPPIST-1e</td>\n",
       "      <td>16.0</td>\n",
       "      <td>False</td>\n",
       "      <td>303.0</td>\n",
       "      <td>70.0</td>\n",
       "      <td>151.0</td>\n",
       "      <td>565.0</td>\n",
       "      <td>2.0</td>\n",
       "      <td>Willy Santantines</td>\n",
       "      <td>True</td>\n",
       "    </tr>\n",
       "  </tbody>\n",
       "</table>\n",
       "</div>"
      ],
      "text/plain": [
       "  PassengerId HomePlanet CryoSleep  Cabin  Destination   Age    VIP  RoomService  FoodCourt  ShoppingMall     Spa  VRDeck               Name  Transported\n",
       "0     0001_01     Europa     False  B/0/P  TRAPPIST-1e  39.0  False          0.0        0.0           0.0     0.0     0.0    Maham Ofracculy        False\n",
       "1     0002_01      Earth     False  F/0/S  TRAPPIST-1e  24.0  False        109.0        9.0          25.0   549.0    44.0       Juanna Vines         True\n",
       "2     0003_01     Europa     False  A/0/S  TRAPPIST-1e  58.0   True         43.0     3576.0           0.0  6715.0    49.0      Altark Susent        False\n",
       "3     0003_02     Europa     False  A/0/S  TRAPPIST-1e  33.0  False          0.0     1283.0         371.0  3329.0   193.0       Solam Susent        False\n",
       "4     0004_01      Earth     False  F/1/S  TRAPPIST-1e  16.0  False        303.0       70.0         151.0   565.0     2.0  Willy Santantines         True"
      ]
     },
     "execution_count": 3,
     "metadata": {},
     "output_type": "execute_result"
    }
   ],
   "source": [
    "# 导入训练集\n",
    "train_data = pd.read_csv(\"../input/spaceship-titanic/train.csv\")\n",
    "train_data.head()"
   ]
  },
  {
   "cell_type": "markdown",
   "id": "d2226ef0",
   "metadata": {
    "papermill": {
     "duration": 0.021782,
     "end_time": "2022-10-16T05:51:19.370681",
     "exception": false,
     "start_time": "2022-10-16T05:51:19.348899",
     "status": "completed"
    },
    "tags": []
   },
   "source": [
    "PassengerId -- 每位乘客的唯一 ID。每个 Id 采用gggg_pp形式，其中 gggg 表示乘客随行的团体，pp 表示他们在团体中的号码。群体中的人通常是家庭成员，但并非总是如此。（该特征丢弃）\n",
    "<br>\n",
    "\n",
    "HomePlanet -- 乘客离开的行星，通常是他们的永久居住行星。（可能有关联，该特征保留。后续要转换为分类数据）\n",
    "<br>\n",
    "\n",
    "GryoSleep -- 指示乘客是否在航行期间被选择进入暂停动画状态。处于冷冻睡眠状态的乘客被限制在他们的机舱内。（可能有关联，该特征保留。后续要转换为分类数据）\n",
    "<br>\n",
    "\n",
    "Cabin -- 乘客居住的机舱号。采用甲板/数字/侧面的形式，其中侧面可以是 P 表示左舷，也可以是 S 表示右舷。（可能有关联，该特征保留。后续要转换为分类数据）\n",
    "<br>\n",
    "\n",
    "Destination -- 乘客将要下船的星球。（可能有关联，该特征保留。后续要转换为分类数据）\n",
    "<br>\n",
    "\n",
    "Age -- 乘客的年龄。（可能有关联，该特征保留。后续要转换为分类数据）\n",
    "<br>\n",
    "\n",
    "VIP -- 旅客在航行期间是否支付了特殊VIP服务费用。（可能有关联，该特征保留。后续要转换为分类数据）\n",
    "<br>\n",
    "\n",
    "RoomService -- 乘客在泰坦尼克号宇宙飞船的许多豪华设施中收取的费用。（可能有关联，该特征保留。后续要转换为分类数据）\n",
    "<br>\n",
    "\n",
    "FoodCourt  -- 乘客在泰坦尼克号宇宙飞船的许多豪华设施中收取的费用。（可能有关联，该特征保留。后续要转换为分类数据）\n",
    "<br>\n",
    "\n",
    "ShoppingMall -- 乘客在泰坦尼克号宇宙飞船的许多豪华设施中收取的费用。（可能有关联，该特征保留。后续要转换为分类数据）\n",
    "<br>\n",
    "\n",
    "Spa -- 乘客在泰坦尼克号宇宙飞船的许多豪华设施中收取的费用。（可能有关联，该特征保留。后续要转换为分类数据）\n",
    "<br>\n",
    "\n",
    "VRDeck -- 乘客在泰坦尼克号宇宙飞船的许多豪华设施中收取的费用。（可能有关联，该特征保留。后续要转换为分类数据）\n",
    "<br>\n",
    "\n",
    "Name -- 乘客的名字和姓氏。（该特征丢弃）\n",
    "<br>\n",
    "\n",
    "Transported  -- 乘客是否被运送到另一个维度。这是目标，您尝试预测的列。"
   ]
  },
  {
   "cell_type": "code",
   "execution_count": 4,
   "id": "d6d57e47",
   "metadata": {
    "execution": {
     "iopub.execute_input": "2022-10-16T05:51:19.415822Z",
     "iopub.status.busy": "2022-10-16T05:51:19.415027Z",
     "iopub.status.idle": "2022-10-16T05:51:19.446327Z",
     "shell.execute_reply": "2022-10-16T05:51:19.444870Z"
    },
    "papermill": {
     "duration": 0.056378,
     "end_time": "2022-10-16T05:51:19.448737",
     "exception": false,
     "start_time": "2022-10-16T05:51:19.392359",
     "status": "completed"
    },
    "tags": []
   },
   "outputs": [
    {
     "data": {
      "text/html": [
       "<div>\n",
       "<style scoped>\n",
       "    .dataframe tbody tr th:only-of-type {\n",
       "        vertical-align: middle;\n",
       "    }\n",
       "\n",
       "    .dataframe tbody tr th {\n",
       "        vertical-align: top;\n",
       "    }\n",
       "\n",
       "    .dataframe thead th {\n",
       "        text-align: right;\n",
       "    }\n",
       "</style>\n",
       "<table border=\"1\" class=\"dataframe\">\n",
       "  <thead>\n",
       "    <tr style=\"text-align: right;\">\n",
       "      <th></th>\n",
       "      <th>HomePlanet</th>\n",
       "      <th>CryoSleep</th>\n",
       "      <th>Cabin</th>\n",
       "      <th>Destination</th>\n",
       "      <th>Age</th>\n",
       "      <th>VIP</th>\n",
       "      <th>RoomService</th>\n",
       "      <th>FoodCourt</th>\n",
       "      <th>ShoppingMall</th>\n",
       "      <th>Spa</th>\n",
       "      <th>VRDeck</th>\n",
       "      <th>Transported</th>\n",
       "    </tr>\n",
       "  </thead>\n",
       "  <tbody>\n",
       "    <tr>\n",
       "      <th>0</th>\n",
       "      <td>Europa</td>\n",
       "      <td>False</td>\n",
       "      <td>B/0/P</td>\n",
       "      <td>TRAPPIST-1e</td>\n",
       "      <td>39.0</td>\n",
       "      <td>False</td>\n",
       "      <td>0.0</td>\n",
       "      <td>0.0</td>\n",
       "      <td>0.0</td>\n",
       "      <td>0.0</td>\n",
       "      <td>0.0</td>\n",
       "      <td>False</td>\n",
       "    </tr>\n",
       "    <tr>\n",
       "      <th>1</th>\n",
       "      <td>Earth</td>\n",
       "      <td>False</td>\n",
       "      <td>F/0/S</td>\n",
       "      <td>TRAPPIST-1e</td>\n",
       "      <td>24.0</td>\n",
       "      <td>False</td>\n",
       "      <td>109.0</td>\n",
       "      <td>9.0</td>\n",
       "      <td>25.0</td>\n",
       "      <td>549.0</td>\n",
       "      <td>44.0</td>\n",
       "      <td>True</td>\n",
       "    </tr>\n",
       "    <tr>\n",
       "      <th>2</th>\n",
       "      <td>Europa</td>\n",
       "      <td>False</td>\n",
       "      <td>A/0/S</td>\n",
       "      <td>TRAPPIST-1e</td>\n",
       "      <td>58.0</td>\n",
       "      <td>True</td>\n",
       "      <td>43.0</td>\n",
       "      <td>3576.0</td>\n",
       "      <td>0.0</td>\n",
       "      <td>6715.0</td>\n",
       "      <td>49.0</td>\n",
       "      <td>False</td>\n",
       "    </tr>\n",
       "    <tr>\n",
       "      <th>3</th>\n",
       "      <td>Europa</td>\n",
       "      <td>False</td>\n",
       "      <td>A/0/S</td>\n",
       "      <td>TRAPPIST-1e</td>\n",
       "      <td>33.0</td>\n",
       "      <td>False</td>\n",
       "      <td>0.0</td>\n",
       "      <td>1283.0</td>\n",
       "      <td>371.0</td>\n",
       "      <td>3329.0</td>\n",
       "      <td>193.0</td>\n",
       "      <td>False</td>\n",
       "    </tr>\n",
       "    <tr>\n",
       "      <th>4</th>\n",
       "      <td>Earth</td>\n",
       "      <td>False</td>\n",
       "      <td>F/1/S</td>\n",
       "      <td>TRAPPIST-1e</td>\n",
       "      <td>16.0</td>\n",
       "      <td>False</td>\n",
       "      <td>303.0</td>\n",
       "      <td>70.0</td>\n",
       "      <td>151.0</td>\n",
       "      <td>565.0</td>\n",
       "      <td>2.0</td>\n",
       "      <td>True</td>\n",
       "    </tr>\n",
       "  </tbody>\n",
       "</table>\n",
       "</div>"
      ],
      "text/plain": [
       "  HomePlanet CryoSleep  Cabin  Destination   Age    VIP  RoomService  FoodCourt  ShoppingMall     Spa  VRDeck  Transported\n",
       "0     Europa     False  B/0/P  TRAPPIST-1e  39.0  False          0.0        0.0           0.0     0.0     0.0        False\n",
       "1      Earth     False  F/0/S  TRAPPIST-1e  24.0  False        109.0        9.0          25.0   549.0    44.0         True\n",
       "2     Europa     False  A/0/S  TRAPPIST-1e  58.0   True         43.0     3576.0           0.0  6715.0    49.0        False\n",
       "3     Europa     False  A/0/S  TRAPPIST-1e  33.0  False          0.0     1283.0         371.0  3329.0   193.0        False\n",
       "4      Earth     False  F/1/S  TRAPPIST-1e  16.0  False        303.0       70.0         151.0   565.0     2.0         True"
      ]
     },
     "execution_count": 4,
     "metadata": {},
     "output_type": "execute_result"
    }
   ],
   "source": [
    "# 删除无用特征\n",
    "train_data.drop(['PassengerId', 'Name'], axis=1, inplace=True)\n",
    "train_data.head()"
   ]
  },
  {
   "cell_type": "code",
   "execution_count": 5,
   "id": "c69dbc96",
   "metadata": {
    "execution": {
     "iopub.execute_input": "2022-10-16T05:51:19.492728Z",
     "iopub.status.busy": "2022-10-16T05:51:19.492269Z",
     "iopub.status.idle": "2022-10-16T05:51:19.505041Z",
     "shell.execute_reply": "2022-10-16T05:51:19.503952Z"
    },
    "papermill": {
     "duration": 0.037348,
     "end_time": "2022-10-16T05:51:19.507222",
     "exception": false,
     "start_time": "2022-10-16T05:51:19.469874",
     "status": "completed"
    },
    "tags": []
   },
   "outputs": [
    {
     "data": {
      "text/plain": [
       "CryoSleep       217\n",
       "ShoppingMall    208\n",
       "VIP             203\n",
       "HomePlanet      201\n",
       "Cabin           199\n",
       "VRDeck          188\n",
       "FoodCourt       183\n",
       "Spa             183\n",
       "Destination     182\n",
       "RoomService     181\n",
       "Age             179\n",
       "Transported       0\n",
       "dtype: int64"
      ]
     },
     "execution_count": 5,
     "metadata": {},
     "output_type": "execute_result"
    }
   ],
   "source": [
    "# 统计缺失值数量\n",
    "train_data.isna().sum().sort_values(ascending=False)"
   ]
  },
  {
   "cell_type": "markdown",
   "id": "60035fda",
   "metadata": {
    "papermill": {
     "duration": 0.02349,
     "end_time": "2022-10-16T05:51:19.551803",
     "exception": false,
     "start_time": "2022-10-16T05:51:19.528313",
     "status": "completed"
    },
    "tags": []
   },
   "source": [
    "# 探索测试集"
   ]
  },
  {
   "cell_type": "code",
   "execution_count": 6,
   "id": "332b53d9",
   "metadata": {
    "execution": {
     "iopub.execute_input": "2022-10-16T05:51:19.604615Z",
     "iopub.status.busy": "2022-10-16T05:51:19.604193Z",
     "iopub.status.idle": "2022-10-16T05:51:19.654412Z",
     "shell.execute_reply": "2022-10-16T05:51:19.653135Z"
    },
    "papermill": {
     "duration": 0.077881,
     "end_time": "2022-10-16T05:51:19.656831",
     "exception": false,
     "start_time": "2022-10-16T05:51:19.578950",
     "status": "completed"
    },
    "tags": []
   },
   "outputs": [
    {
     "data": {
      "text/html": [
       "<div>\n",
       "<style scoped>\n",
       "    .dataframe tbody tr th:only-of-type {\n",
       "        vertical-align: middle;\n",
       "    }\n",
       "\n",
       "    .dataframe tbody tr th {\n",
       "        vertical-align: top;\n",
       "    }\n",
       "\n",
       "    .dataframe thead th {\n",
       "        text-align: right;\n",
       "    }\n",
       "</style>\n",
       "<table border=\"1\" class=\"dataframe\">\n",
       "  <thead>\n",
       "    <tr style=\"text-align: right;\">\n",
       "      <th></th>\n",
       "      <th>PassengerId</th>\n",
       "      <th>HomePlanet</th>\n",
       "      <th>CryoSleep</th>\n",
       "      <th>Cabin</th>\n",
       "      <th>Destination</th>\n",
       "      <th>Age</th>\n",
       "      <th>VIP</th>\n",
       "      <th>RoomService</th>\n",
       "      <th>FoodCourt</th>\n",
       "      <th>ShoppingMall</th>\n",
       "      <th>Spa</th>\n",
       "      <th>VRDeck</th>\n",
       "      <th>Name</th>\n",
       "    </tr>\n",
       "  </thead>\n",
       "  <tbody>\n",
       "    <tr>\n",
       "      <th>0</th>\n",
       "      <td>0013_01</td>\n",
       "      <td>Earth</td>\n",
       "      <td>True</td>\n",
       "      <td>G/3/S</td>\n",
       "      <td>TRAPPIST-1e</td>\n",
       "      <td>27.0</td>\n",
       "      <td>False</td>\n",
       "      <td>0.0</td>\n",
       "      <td>0.0</td>\n",
       "      <td>0.0</td>\n",
       "      <td>0.0</td>\n",
       "      <td>0.0</td>\n",
       "      <td>Nelly Carsoning</td>\n",
       "    </tr>\n",
       "    <tr>\n",
       "      <th>1</th>\n",
       "      <td>0018_01</td>\n",
       "      <td>Earth</td>\n",
       "      <td>False</td>\n",
       "      <td>F/4/S</td>\n",
       "      <td>TRAPPIST-1e</td>\n",
       "      <td>19.0</td>\n",
       "      <td>False</td>\n",
       "      <td>0.0</td>\n",
       "      <td>9.0</td>\n",
       "      <td>0.0</td>\n",
       "      <td>2823.0</td>\n",
       "      <td>0.0</td>\n",
       "      <td>Lerome Peckers</td>\n",
       "    </tr>\n",
       "    <tr>\n",
       "      <th>2</th>\n",
       "      <td>0019_01</td>\n",
       "      <td>Europa</td>\n",
       "      <td>True</td>\n",
       "      <td>C/0/S</td>\n",
       "      <td>55 Cancri e</td>\n",
       "      <td>31.0</td>\n",
       "      <td>False</td>\n",
       "      <td>0.0</td>\n",
       "      <td>0.0</td>\n",
       "      <td>0.0</td>\n",
       "      <td>0.0</td>\n",
       "      <td>0.0</td>\n",
       "      <td>Sabih Unhearfus</td>\n",
       "    </tr>\n",
       "    <tr>\n",
       "      <th>3</th>\n",
       "      <td>0021_01</td>\n",
       "      <td>Europa</td>\n",
       "      <td>False</td>\n",
       "      <td>C/1/S</td>\n",
       "      <td>TRAPPIST-1e</td>\n",
       "      <td>38.0</td>\n",
       "      <td>False</td>\n",
       "      <td>0.0</td>\n",
       "      <td>6652.0</td>\n",
       "      <td>0.0</td>\n",
       "      <td>181.0</td>\n",
       "      <td>585.0</td>\n",
       "      <td>Meratz Caltilter</td>\n",
       "    </tr>\n",
       "    <tr>\n",
       "      <th>4</th>\n",
       "      <td>0023_01</td>\n",
       "      <td>Earth</td>\n",
       "      <td>False</td>\n",
       "      <td>F/5/S</td>\n",
       "      <td>TRAPPIST-1e</td>\n",
       "      <td>20.0</td>\n",
       "      <td>False</td>\n",
       "      <td>10.0</td>\n",
       "      <td>0.0</td>\n",
       "      <td>635.0</td>\n",
       "      <td>0.0</td>\n",
       "      <td>0.0</td>\n",
       "      <td>Brence Harperez</td>\n",
       "    </tr>\n",
       "  </tbody>\n",
       "</table>\n",
       "</div>"
      ],
      "text/plain": [
       "  PassengerId HomePlanet CryoSleep  Cabin  Destination   Age    VIP  RoomService  FoodCourt  ShoppingMall     Spa  VRDeck              Name\n",
       "0     0013_01      Earth      True  G/3/S  TRAPPIST-1e  27.0  False          0.0        0.0           0.0     0.0     0.0   Nelly Carsoning\n",
       "1     0018_01      Earth     False  F/4/S  TRAPPIST-1e  19.0  False          0.0        9.0           0.0  2823.0     0.0    Lerome Peckers\n",
       "2     0019_01     Europa      True  C/0/S  55 Cancri e  31.0  False          0.0        0.0           0.0     0.0     0.0   Sabih Unhearfus\n",
       "3     0021_01     Europa     False  C/1/S  TRAPPIST-1e  38.0  False          0.0     6652.0           0.0   181.0   585.0  Meratz Caltilter\n",
       "4     0023_01      Earth     False  F/5/S  TRAPPIST-1e  20.0  False         10.0        0.0         635.0     0.0     0.0   Brence Harperez"
      ]
     },
     "execution_count": 6,
     "metadata": {},
     "output_type": "execute_result"
    }
   ],
   "source": [
    "# 导入测试集\n",
    "test_data = pd.read_csv(\"../input/spaceship-titanic/test.csv\")\n",
    "test_data.head()"
   ]
  },
  {
   "cell_type": "markdown",
   "id": "230a865f",
   "metadata": {
    "papermill": {
     "duration": 0.021248,
     "end_time": "2022-10-16T05:51:19.699986",
     "exception": false,
     "start_time": "2022-10-16T05:51:19.678738",
     "status": "completed"
    },
    "tags": []
   },
   "source": [
    "相对于训练集，测试集没有 Transported 列"
   ]
  },
  {
   "cell_type": "code",
   "execution_count": 7,
   "id": "1c635d5c",
   "metadata": {
    "execution": {
     "iopub.execute_input": "2022-10-16T05:51:19.744550Z",
     "iopub.status.busy": "2022-10-16T05:51:19.744095Z",
     "iopub.status.idle": "2022-10-16T05:51:19.765597Z",
     "shell.execute_reply": "2022-10-16T05:51:19.764726Z"
    },
    "papermill": {
     "duration": 0.04647,
     "end_time": "2022-10-16T05:51:19.767765",
     "exception": false,
     "start_time": "2022-10-16T05:51:19.721295",
     "status": "completed"
    },
    "tags": []
   },
   "outputs": [
    {
     "data": {
      "text/html": [
       "<div>\n",
       "<style scoped>\n",
       "    .dataframe tbody tr th:only-of-type {\n",
       "        vertical-align: middle;\n",
       "    }\n",
       "\n",
       "    .dataframe tbody tr th {\n",
       "        vertical-align: top;\n",
       "    }\n",
       "\n",
       "    .dataframe thead th {\n",
       "        text-align: right;\n",
       "    }\n",
       "</style>\n",
       "<table border=\"1\" class=\"dataframe\">\n",
       "  <thead>\n",
       "    <tr style=\"text-align: right;\">\n",
       "      <th></th>\n",
       "      <th>HomePlanet</th>\n",
       "      <th>CryoSleep</th>\n",
       "      <th>Cabin</th>\n",
       "      <th>Destination</th>\n",
       "      <th>Age</th>\n",
       "      <th>VIP</th>\n",
       "      <th>RoomService</th>\n",
       "      <th>FoodCourt</th>\n",
       "      <th>ShoppingMall</th>\n",
       "      <th>Spa</th>\n",
       "      <th>VRDeck</th>\n",
       "    </tr>\n",
       "  </thead>\n",
       "  <tbody>\n",
       "    <tr>\n",
       "      <th>0</th>\n",
       "      <td>Earth</td>\n",
       "      <td>True</td>\n",
       "      <td>G/3/S</td>\n",
       "      <td>TRAPPIST-1e</td>\n",
       "      <td>27.0</td>\n",
       "      <td>False</td>\n",
       "      <td>0.0</td>\n",
       "      <td>0.0</td>\n",
       "      <td>0.0</td>\n",
       "      <td>0.0</td>\n",
       "      <td>0.0</td>\n",
       "    </tr>\n",
       "    <tr>\n",
       "      <th>1</th>\n",
       "      <td>Earth</td>\n",
       "      <td>False</td>\n",
       "      <td>F/4/S</td>\n",
       "      <td>TRAPPIST-1e</td>\n",
       "      <td>19.0</td>\n",
       "      <td>False</td>\n",
       "      <td>0.0</td>\n",
       "      <td>9.0</td>\n",
       "      <td>0.0</td>\n",
       "      <td>2823.0</td>\n",
       "      <td>0.0</td>\n",
       "    </tr>\n",
       "    <tr>\n",
       "      <th>2</th>\n",
       "      <td>Europa</td>\n",
       "      <td>True</td>\n",
       "      <td>C/0/S</td>\n",
       "      <td>55 Cancri e</td>\n",
       "      <td>31.0</td>\n",
       "      <td>False</td>\n",
       "      <td>0.0</td>\n",
       "      <td>0.0</td>\n",
       "      <td>0.0</td>\n",
       "      <td>0.0</td>\n",
       "      <td>0.0</td>\n",
       "    </tr>\n",
       "    <tr>\n",
       "      <th>3</th>\n",
       "      <td>Europa</td>\n",
       "      <td>False</td>\n",
       "      <td>C/1/S</td>\n",
       "      <td>TRAPPIST-1e</td>\n",
       "      <td>38.0</td>\n",
       "      <td>False</td>\n",
       "      <td>0.0</td>\n",
       "      <td>6652.0</td>\n",
       "      <td>0.0</td>\n",
       "      <td>181.0</td>\n",
       "      <td>585.0</td>\n",
       "    </tr>\n",
       "    <tr>\n",
       "      <th>4</th>\n",
       "      <td>Earth</td>\n",
       "      <td>False</td>\n",
       "      <td>F/5/S</td>\n",
       "      <td>TRAPPIST-1e</td>\n",
       "      <td>20.0</td>\n",
       "      <td>False</td>\n",
       "      <td>10.0</td>\n",
       "      <td>0.0</td>\n",
       "      <td>635.0</td>\n",
       "      <td>0.0</td>\n",
       "      <td>0.0</td>\n",
       "    </tr>\n",
       "  </tbody>\n",
       "</table>\n",
       "</div>"
      ],
      "text/plain": [
       "  HomePlanet CryoSleep  Cabin  Destination   Age    VIP  RoomService  FoodCourt  ShoppingMall     Spa  VRDeck\n",
       "0      Earth      True  G/3/S  TRAPPIST-1e  27.0  False          0.0        0.0           0.0     0.0     0.0\n",
       "1      Earth     False  F/4/S  TRAPPIST-1e  19.0  False          0.0        9.0           0.0  2823.0     0.0\n",
       "2     Europa      True  C/0/S  55 Cancri e  31.0  False          0.0        0.0           0.0     0.0     0.0\n",
       "3     Europa     False  C/1/S  TRAPPIST-1e  38.0  False          0.0     6652.0           0.0   181.0   585.0\n",
       "4      Earth     False  F/5/S  TRAPPIST-1e  20.0  False         10.0        0.0         635.0     0.0     0.0"
      ]
     },
     "execution_count": 7,
     "metadata": {},
     "output_type": "execute_result"
    }
   ],
   "source": [
    "# 删除无用特征\n",
    "test_data.drop(['PassengerId', 'Name'], axis=1, inplace=True)\n",
    "test_data.head()"
   ]
  },
  {
   "cell_type": "code",
   "execution_count": 8,
   "id": "b69d8a49",
   "metadata": {
    "execution": {
     "iopub.execute_input": "2022-10-16T05:51:19.815580Z",
     "iopub.status.busy": "2022-10-16T05:51:19.815138Z",
     "iopub.status.idle": "2022-10-16T05:51:19.827888Z",
     "shell.execute_reply": "2022-10-16T05:51:19.826656Z"
    },
    "papermill": {
     "duration": 0.039417,
     "end_time": "2022-10-16T05:51:19.830498",
     "exception": false,
     "start_time": "2022-10-16T05:51:19.791081",
     "status": "completed"
    },
    "tags": []
   },
   "outputs": [
    {
     "data": {
      "text/plain": [
       "FoodCourt       106\n",
       "Spa             101\n",
       "Cabin           100\n",
       "ShoppingMall     98\n",
       "CryoSleep        93\n",
       "VIP              93\n",
       "Destination      92\n",
       "Age              91\n",
       "HomePlanet       87\n",
       "RoomService      82\n",
       "VRDeck           80\n",
       "dtype: int64"
      ]
     },
     "execution_count": 8,
     "metadata": {},
     "output_type": "execute_result"
    }
   ],
   "source": [
    "# 统计缺失值\n",
    "test_data.isna().sum().sort_values(ascending=False)"
   ]
  },
  {
   "cell_type": "markdown",
   "id": "f8f6deb5",
   "metadata": {
    "papermill": {
     "duration": 0.022512,
     "end_time": "2022-10-16T05:51:19.875367",
     "exception": false,
     "start_time": "2022-10-16T05:51:19.852855",
     "status": "completed"
    },
    "tags": []
   },
   "source": [
    "# 合并训练集和测试集"
   ]
  },
  {
   "cell_type": "code",
   "execution_count": 9,
   "id": "ad496f76",
   "metadata": {
    "execution": {
     "iopub.execute_input": "2022-10-16T05:51:19.921377Z",
     "iopub.status.busy": "2022-10-16T05:51:19.920946Z",
     "iopub.status.idle": "2022-10-16T05:51:19.941080Z",
     "shell.execute_reply": "2022-10-16T05:51:19.939283Z"
    },
    "papermill": {
     "duration": 0.047438,
     "end_time": "2022-10-16T05:51:19.945063",
     "exception": false,
     "start_time": "2022-10-16T05:51:19.897625",
     "status": "completed"
    },
    "tags": []
   },
   "outputs": [
    {
     "data": {
      "text/plain": [
       "(12970, 12)"
      ]
     },
     "execution_count": 9,
     "metadata": {},
     "output_type": "execute_result"
    }
   ],
   "source": [
    "# 合并训练集和测试集\n",
    "all_data = pd.concat((train_data, test_data)).reset_index(drop=True)\n",
    "all_data.shape"
   ]
  },
  {
   "cell_type": "code",
   "execution_count": 10,
   "id": "2b938528",
   "metadata": {
    "execution": {
     "iopub.execute_input": "2022-10-16T05:51:20.001544Z",
     "iopub.status.busy": "2022-10-16T05:51:20.000996Z",
     "iopub.status.idle": "2022-10-16T05:51:20.025128Z",
     "shell.execute_reply": "2022-10-16T05:51:20.023874Z"
    },
    "papermill": {
     "duration": 0.058484,
     "end_time": "2022-10-16T05:51:20.027857",
     "exception": false,
     "start_time": "2022-10-16T05:51:19.969373",
     "status": "completed"
    },
    "tags": []
   },
   "outputs": [
    {
     "data": {
      "text/html": [
       "<div>\n",
       "<style scoped>\n",
       "    .dataframe tbody tr th:only-of-type {\n",
       "        vertical-align: middle;\n",
       "    }\n",
       "\n",
       "    .dataframe tbody tr th {\n",
       "        vertical-align: top;\n",
       "    }\n",
       "\n",
       "    .dataframe thead th {\n",
       "        text-align: right;\n",
       "    }\n",
       "</style>\n",
       "<table border=\"1\" class=\"dataframe\">\n",
       "  <thead>\n",
       "    <tr style=\"text-align: right;\">\n",
       "      <th></th>\n",
       "      <th>HomePlanet</th>\n",
       "      <th>CryoSleep</th>\n",
       "      <th>Cabin</th>\n",
       "      <th>Destination</th>\n",
       "      <th>Age</th>\n",
       "      <th>VIP</th>\n",
       "      <th>RoomService</th>\n",
       "      <th>FoodCourt</th>\n",
       "      <th>ShoppingMall</th>\n",
       "      <th>Spa</th>\n",
       "      <th>VRDeck</th>\n",
       "      <th>Transported</th>\n",
       "    </tr>\n",
       "  </thead>\n",
       "  <tbody>\n",
       "    <tr>\n",
       "      <th>0</th>\n",
       "      <td>Europa</td>\n",
       "      <td>False</td>\n",
       "      <td>B/0/P</td>\n",
       "      <td>TRAPPIST-1e</td>\n",
       "      <td>39.0</td>\n",
       "      <td>False</td>\n",
       "      <td>0.0</td>\n",
       "      <td>0.0</td>\n",
       "      <td>0.0</td>\n",
       "      <td>0.0</td>\n",
       "      <td>0.0</td>\n",
       "      <td>False</td>\n",
       "    </tr>\n",
       "    <tr>\n",
       "      <th>1</th>\n",
       "      <td>Earth</td>\n",
       "      <td>False</td>\n",
       "      <td>F/0/S</td>\n",
       "      <td>TRAPPIST-1e</td>\n",
       "      <td>24.0</td>\n",
       "      <td>False</td>\n",
       "      <td>109.0</td>\n",
       "      <td>9.0</td>\n",
       "      <td>25.0</td>\n",
       "      <td>549.0</td>\n",
       "      <td>44.0</td>\n",
       "      <td>True</td>\n",
       "    </tr>\n",
       "    <tr>\n",
       "      <th>2</th>\n",
       "      <td>Europa</td>\n",
       "      <td>False</td>\n",
       "      <td>A/0/S</td>\n",
       "      <td>TRAPPIST-1e</td>\n",
       "      <td>58.0</td>\n",
       "      <td>True</td>\n",
       "      <td>43.0</td>\n",
       "      <td>3576.0</td>\n",
       "      <td>0.0</td>\n",
       "      <td>6715.0</td>\n",
       "      <td>49.0</td>\n",
       "      <td>False</td>\n",
       "    </tr>\n",
       "    <tr>\n",
       "      <th>3</th>\n",
       "      <td>Europa</td>\n",
       "      <td>False</td>\n",
       "      <td>A/0/S</td>\n",
       "      <td>TRAPPIST-1e</td>\n",
       "      <td>33.0</td>\n",
       "      <td>False</td>\n",
       "      <td>0.0</td>\n",
       "      <td>1283.0</td>\n",
       "      <td>371.0</td>\n",
       "      <td>3329.0</td>\n",
       "      <td>193.0</td>\n",
       "      <td>False</td>\n",
       "    </tr>\n",
       "    <tr>\n",
       "      <th>4</th>\n",
       "      <td>Earth</td>\n",
       "      <td>False</td>\n",
       "      <td>F/1/S</td>\n",
       "      <td>TRAPPIST-1e</td>\n",
       "      <td>16.0</td>\n",
       "      <td>False</td>\n",
       "      <td>303.0</td>\n",
       "      <td>70.0</td>\n",
       "      <td>151.0</td>\n",
       "      <td>565.0</td>\n",
       "      <td>2.0</td>\n",
       "      <td>True</td>\n",
       "    </tr>\n",
       "  </tbody>\n",
       "</table>\n",
       "</div>"
      ],
      "text/plain": [
       "  HomePlanet CryoSleep  Cabin  Destination   Age    VIP  RoomService  FoodCourt  ShoppingMall     Spa  VRDeck Transported\n",
       "0     Europa     False  B/0/P  TRAPPIST-1e  39.0  False          0.0        0.0           0.0     0.0     0.0       False\n",
       "1      Earth     False  F/0/S  TRAPPIST-1e  24.0  False        109.0        9.0          25.0   549.0    44.0        True\n",
       "2     Europa     False  A/0/S  TRAPPIST-1e  58.0   True         43.0     3576.0           0.0  6715.0    49.0       False\n",
       "3     Europa     False  A/0/S  TRAPPIST-1e  33.0  False          0.0     1283.0         371.0  3329.0   193.0       False\n",
       "4      Earth     False  F/1/S  TRAPPIST-1e  16.0  False        303.0       70.0         151.0   565.0     2.0        True"
      ]
     },
     "execution_count": 10,
     "metadata": {},
     "output_type": "execute_result"
    }
   ],
   "source": [
    "all_data.head()"
   ]
  },
  {
   "cell_type": "code",
   "execution_count": 11,
   "id": "b687d9c6",
   "metadata": {
    "execution": {
     "iopub.execute_input": "2022-10-16T05:51:20.086382Z",
     "iopub.status.busy": "2022-10-16T05:51:20.085838Z",
     "iopub.status.idle": "2022-10-16T05:51:20.100899Z",
     "shell.execute_reply": "2022-10-16T05:51:20.099703Z"
    },
    "papermill": {
     "duration": 0.044472,
     "end_time": "2022-10-16T05:51:20.103336",
     "exception": false,
     "start_time": "2022-10-16T05:51:20.058864",
     "status": "completed"
    },
    "tags": []
   },
   "outputs": [
    {
     "data": {
      "text/plain": [
       "Transported     4277\n",
       "CryoSleep        310\n",
       "ShoppingMall     306\n",
       "Cabin            299\n",
       "VIP              296\n",
       "FoodCourt        289\n",
       "HomePlanet       288\n",
       "Spa              284\n",
       "Destination      274\n",
       "Age              270\n",
       "VRDeck           268\n",
       "RoomService      263\n",
       "dtype: int64"
      ]
     },
     "execution_count": 11,
     "metadata": {},
     "output_type": "execute_result"
    }
   ],
   "source": [
    "all_data.isna().sum().sort_values(ascending=False)"
   ]
  },
  {
   "cell_type": "markdown",
   "id": "609e3ccf",
   "metadata": {
    "papermill": {
     "duration": 0.021989,
     "end_time": "2022-10-16T05:51:20.148272",
     "exception": false,
     "start_time": "2022-10-16T05:51:20.126283",
     "status": "completed"
    },
    "tags": []
   },
   "source": [
    "# 对合并后的数据集进行预处理"
   ]
  },
  {
   "cell_type": "markdown",
   "id": "270180c4",
   "metadata": {
    "papermill": {
     "duration": 0.021861,
     "end_time": "2022-10-16T05:51:20.192369",
     "exception": false,
     "start_time": "2022-10-16T05:51:20.170508",
     "status": "completed"
    },
    "tags": []
   },
   "source": [
    "## HomePlanet特征"
   ]
  },
  {
   "cell_type": "code",
   "execution_count": 12,
   "id": "72f92cfb",
   "metadata": {
    "execution": {
     "iopub.execute_input": "2022-10-16T05:51:20.239857Z",
     "iopub.status.busy": "2022-10-16T05:51:20.239463Z",
     "iopub.status.idle": "2022-10-16T05:51:20.252693Z",
     "shell.execute_reply": "2022-10-16T05:51:20.251487Z"
    },
    "papermill": {
     "duration": 0.040136,
     "end_time": "2022-10-16T05:51:20.255029",
     "exception": false,
     "start_time": "2022-10-16T05:51:20.214893",
     "status": "completed"
    },
    "tags": []
   },
   "outputs": [
    {
     "data": {
      "text/plain": [
       "Earth     6865\n",
       "Europa    3133\n",
       "Mars      2684\n",
       "NaN        288\n",
       "Name: HomePlanet, dtype: int64"
      ]
     },
     "execution_count": 12,
     "metadata": {},
     "output_type": "execute_result"
    }
   ],
   "source": [
    "all_data.HomePlanet.value_counts(dropna=False)"
   ]
  },
  {
   "cell_type": "code",
   "execution_count": 13,
   "id": "4afffe40",
   "metadata": {
    "execution": {
     "iopub.execute_input": "2022-10-16T05:51:20.302176Z",
     "iopub.status.busy": "2022-10-16T05:51:20.301645Z",
     "iopub.status.idle": "2022-10-16T05:51:20.314624Z",
     "shell.execute_reply": "2022-10-16T05:51:20.313356Z"
    },
    "papermill": {
     "duration": 0.038832,
     "end_time": "2022-10-16T05:51:20.316810",
     "exception": false,
     "start_time": "2022-10-16T05:51:20.277978",
     "status": "completed"
    },
    "tags": []
   },
   "outputs": [
    {
     "data": {
      "text/plain": [
       "Earth     7153\n",
       "Europa    3133\n",
       "Mars      2684\n",
       "Name: HomePlanet, dtype: int64"
      ]
     },
     "execution_count": 13,
     "metadata": {},
     "output_type": "execute_result"
    }
   ],
   "source": [
    "# 使用众数填充 HomePlanet 列的缺失值\n",
    "all_data['HomePlanet'] = all_data['HomePlanet'].fillna('Earth')\n",
    "all_data.HomePlanet.value_counts(dropna=False)"
   ]
  },
  {
   "cell_type": "markdown",
   "id": "e189a401",
   "metadata": {
    "papermill": {
     "duration": 0.021983,
     "end_time": "2022-10-16T05:51:20.361316",
     "exception": false,
     "start_time": "2022-10-16T05:51:20.339333",
     "status": "completed"
    },
    "tags": []
   },
   "source": [
    "## CryoSleep特征"
   ]
  },
  {
   "cell_type": "code",
   "execution_count": 14,
   "id": "255f32e5",
   "metadata": {
    "execution": {
     "iopub.execute_input": "2022-10-16T05:51:20.413942Z",
     "iopub.status.busy": "2022-10-16T05:51:20.413277Z",
     "iopub.status.idle": "2022-10-16T05:51:20.426460Z",
     "shell.execute_reply": "2022-10-16T05:51:20.425499Z"
    },
    "papermill": {
     "duration": 0.046127,
     "end_time": "2022-10-16T05:51:20.430999",
     "exception": false,
     "start_time": "2022-10-16T05:51:20.384872",
     "status": "completed"
    },
    "tags": []
   },
   "outputs": [
    {
     "data": {
      "text/plain": [
       "False    8079\n",
       "True     4581\n",
       "NaN       310\n",
       "Name: CryoSleep, dtype: int64"
      ]
     },
     "execution_count": 14,
     "metadata": {},
     "output_type": "execute_result"
    }
   ],
   "source": [
    "all_data.CryoSleep.value_counts(dropna=False)"
   ]
  },
  {
   "cell_type": "code",
   "execution_count": 15,
   "id": "187f42bc",
   "metadata": {
    "execution": {
     "iopub.execute_input": "2022-10-16T05:51:20.484311Z",
     "iopub.status.busy": "2022-10-16T05:51:20.483908Z",
     "iopub.status.idle": "2022-10-16T05:51:20.497897Z",
     "shell.execute_reply": "2022-10-16T05:51:20.496674Z"
    },
    "papermill": {
     "duration": 0.041647,
     "end_time": "2022-10-16T05:51:20.500239",
     "exception": false,
     "start_time": "2022-10-16T05:51:20.458592",
     "status": "completed"
    },
    "tags": []
   },
   "outputs": [
    {
     "data": {
      "text/plain": [
       "False    8389\n",
       "True     4581\n",
       "Name: CryoSleep, dtype: int64"
      ]
     },
     "execution_count": 15,
     "metadata": {},
     "output_type": "execute_result"
    }
   ],
   "source": [
    "# 使用众数填充 CryoSleep 列的缺失值\n",
    "all_data['CryoSleep'] = all_data['CryoSleep'].fillna(False)\n",
    "all_data.CryoSleep.value_counts(dropna=False)"
   ]
  },
  {
   "cell_type": "markdown",
   "id": "be003347",
   "metadata": {
    "papermill": {
     "duration": 0.02451,
     "end_time": "2022-10-16T05:51:20.547598",
     "exception": false,
     "start_time": "2022-10-16T05:51:20.523088",
     "status": "completed"
    },
    "tags": []
   },
   "source": [
    "## Cabin特征"
   ]
  },
  {
   "cell_type": "code",
   "execution_count": 16,
   "id": "d8f659e9",
   "metadata": {
    "execution": {
     "iopub.execute_input": "2022-10-16T05:51:20.595130Z",
     "iopub.status.busy": "2022-10-16T05:51:20.594742Z",
     "iopub.status.idle": "2022-10-16T05:51:20.644563Z",
     "shell.execute_reply": "2022-10-16T05:51:20.643332Z"
    },
    "papermill": {
     "duration": 0.076628,
     "end_time": "2022-10-16T05:51:20.647173",
     "exception": false,
     "start_time": "2022-10-16T05:51:20.570545",
     "status": "completed"
    },
    "tags": []
   },
   "outputs": [
    {
     "data": {
      "text/html": [
       "<div>\n",
       "<style scoped>\n",
       "    .dataframe tbody tr th:only-of-type {\n",
       "        vertical-align: middle;\n",
       "    }\n",
       "\n",
       "    .dataframe tbody tr th {\n",
       "        vertical-align: top;\n",
       "    }\n",
       "\n",
       "    .dataframe thead th {\n",
       "        text-align: right;\n",
       "    }\n",
       "</style>\n",
       "<table border=\"1\" class=\"dataframe\">\n",
       "  <thead>\n",
       "    <tr style=\"text-align: right;\">\n",
       "      <th></th>\n",
       "      <th>HomePlanet</th>\n",
       "      <th>CryoSleep</th>\n",
       "      <th>Cabin</th>\n",
       "      <th>Destination</th>\n",
       "      <th>Age</th>\n",
       "      <th>VIP</th>\n",
       "      <th>RoomService</th>\n",
       "      <th>FoodCourt</th>\n",
       "      <th>ShoppingMall</th>\n",
       "      <th>Spa</th>\n",
       "      <th>VRDeck</th>\n",
       "      <th>Transported</th>\n",
       "      <th>0</th>\n",
       "      <th>1</th>\n",
       "      <th>2</th>\n",
       "    </tr>\n",
       "  </thead>\n",
       "  <tbody>\n",
       "    <tr>\n",
       "      <th>0</th>\n",
       "      <td>Europa</td>\n",
       "      <td>False</td>\n",
       "      <td>B/0/P</td>\n",
       "      <td>TRAPPIST-1e</td>\n",
       "      <td>39.0</td>\n",
       "      <td>False</td>\n",
       "      <td>0.0</td>\n",
       "      <td>0.0</td>\n",
       "      <td>0.0</td>\n",
       "      <td>0.0</td>\n",
       "      <td>0.0</td>\n",
       "      <td>False</td>\n",
       "      <td>B</td>\n",
       "      <td>0</td>\n",
       "      <td>P</td>\n",
       "    </tr>\n",
       "    <tr>\n",
       "      <th>1</th>\n",
       "      <td>Earth</td>\n",
       "      <td>False</td>\n",
       "      <td>F/0/S</td>\n",
       "      <td>TRAPPIST-1e</td>\n",
       "      <td>24.0</td>\n",
       "      <td>False</td>\n",
       "      <td>109.0</td>\n",
       "      <td>9.0</td>\n",
       "      <td>25.0</td>\n",
       "      <td>549.0</td>\n",
       "      <td>44.0</td>\n",
       "      <td>True</td>\n",
       "      <td>F</td>\n",
       "      <td>0</td>\n",
       "      <td>S</td>\n",
       "    </tr>\n",
       "    <tr>\n",
       "      <th>2</th>\n",
       "      <td>Europa</td>\n",
       "      <td>False</td>\n",
       "      <td>A/0/S</td>\n",
       "      <td>TRAPPIST-1e</td>\n",
       "      <td>58.0</td>\n",
       "      <td>True</td>\n",
       "      <td>43.0</td>\n",
       "      <td>3576.0</td>\n",
       "      <td>0.0</td>\n",
       "      <td>6715.0</td>\n",
       "      <td>49.0</td>\n",
       "      <td>False</td>\n",
       "      <td>A</td>\n",
       "      <td>0</td>\n",
       "      <td>S</td>\n",
       "    </tr>\n",
       "    <tr>\n",
       "      <th>3</th>\n",
       "      <td>Europa</td>\n",
       "      <td>False</td>\n",
       "      <td>A/0/S</td>\n",
       "      <td>TRAPPIST-1e</td>\n",
       "      <td>33.0</td>\n",
       "      <td>False</td>\n",
       "      <td>0.0</td>\n",
       "      <td>1283.0</td>\n",
       "      <td>371.0</td>\n",
       "      <td>3329.0</td>\n",
       "      <td>193.0</td>\n",
       "      <td>False</td>\n",
       "      <td>A</td>\n",
       "      <td>0</td>\n",
       "      <td>S</td>\n",
       "    </tr>\n",
       "    <tr>\n",
       "      <th>4</th>\n",
       "      <td>Earth</td>\n",
       "      <td>False</td>\n",
       "      <td>F/1/S</td>\n",
       "      <td>TRAPPIST-1e</td>\n",
       "      <td>16.0</td>\n",
       "      <td>False</td>\n",
       "      <td>303.0</td>\n",
       "      <td>70.0</td>\n",
       "      <td>151.0</td>\n",
       "      <td>565.0</td>\n",
       "      <td>2.0</td>\n",
       "      <td>True</td>\n",
       "      <td>F</td>\n",
       "      <td>1</td>\n",
       "      <td>S</td>\n",
       "    </tr>\n",
       "  </tbody>\n",
       "</table>\n",
       "</div>"
      ],
      "text/plain": [
       "  HomePlanet  CryoSleep  Cabin  Destination   Age    VIP  RoomService  FoodCourt  ShoppingMall     Spa  VRDeck Transported  0  1  2\n",
       "0     Europa      False  B/0/P  TRAPPIST-1e  39.0  False          0.0        0.0           0.0     0.0     0.0       False  B  0  P\n",
       "1      Earth      False  F/0/S  TRAPPIST-1e  24.0  False        109.0        9.0          25.0   549.0    44.0        True  F  0  S\n",
       "2     Europa      False  A/0/S  TRAPPIST-1e  58.0   True         43.0     3576.0           0.0  6715.0    49.0       False  A  0  S\n",
       "3     Europa      False  A/0/S  TRAPPIST-1e  33.0  False          0.0     1283.0         371.0  3329.0   193.0       False  A  0  S\n",
       "4      Earth      False  F/1/S  TRAPPIST-1e  16.0  False        303.0       70.0         151.0   565.0     2.0        True  F  1  S"
      ]
     },
     "execution_count": 16,
     "metadata": {},
     "output_type": "execute_result"
    }
   ],
   "source": [
    "# 将 Cabin 特征拆分为 deck/num/side 三个特征\n",
    "all_data = pd.concat([all_data, all_data['Cabin'].str.split('/', expand=True)], axis=1)\n",
    "all_data.head()"
   ]
  },
  {
   "cell_type": "code",
   "execution_count": 17,
   "id": "f022be4f",
   "metadata": {
    "execution": {
     "iopub.execute_input": "2022-10-16T05:51:20.694671Z",
     "iopub.status.busy": "2022-10-16T05:51:20.694247Z",
     "iopub.status.idle": "2022-10-16T05:51:20.701160Z",
     "shell.execute_reply": "2022-10-16T05:51:20.699912Z"
    },
    "papermill": {
     "duration": 0.033527,
     "end_time": "2022-10-16T05:51:20.703519",
     "exception": false,
     "start_time": "2022-10-16T05:51:20.669992",
     "status": "completed"
    },
    "tags": []
   },
   "outputs": [
    {
     "data": {
      "text/plain": [
       "(12970, 15)"
      ]
     },
     "execution_count": 17,
     "metadata": {},
     "output_type": "execute_result"
    }
   ],
   "source": [
    "all_data.shape"
   ]
  },
  {
   "cell_type": "code",
   "execution_count": 18,
   "id": "a52f1426",
   "metadata": {
    "execution": {
     "iopub.execute_input": "2022-10-16T05:51:20.753365Z",
     "iopub.status.busy": "2022-10-16T05:51:20.752950Z",
     "iopub.status.idle": "2022-10-16T05:51:20.764863Z",
     "shell.execute_reply": "2022-10-16T05:51:20.763839Z"
    },
    "papermill": {
     "duration": 0.039744,
     "end_time": "2022-10-16T05:51:20.767653",
     "exception": false,
     "start_time": "2022-10-16T05:51:20.727909",
     "status": "completed"
    },
    "tags": []
   },
   "outputs": [],
   "source": [
    "all_data.drop('Cabin', axis=1, inplace=True)"
   ]
  },
  {
   "cell_type": "code",
   "execution_count": 19,
   "id": "ef5401b7",
   "metadata": {
    "execution": {
     "iopub.execute_input": "2022-10-16T05:51:20.816263Z",
     "iopub.status.busy": "2022-10-16T05:51:20.815858Z",
     "iopub.status.idle": "2022-10-16T05:51:20.837162Z",
     "shell.execute_reply": "2022-10-16T05:51:20.836005Z"
    },
    "papermill": {
     "duration": 0.048401,
     "end_time": "2022-10-16T05:51:20.839612",
     "exception": false,
     "start_time": "2022-10-16T05:51:20.791211",
     "status": "completed"
    },
    "tags": []
   },
   "outputs": [
    {
     "data": {
      "text/html": [
       "<div>\n",
       "<style scoped>\n",
       "    .dataframe tbody tr th:only-of-type {\n",
       "        vertical-align: middle;\n",
       "    }\n",
       "\n",
       "    .dataframe tbody tr th {\n",
       "        vertical-align: top;\n",
       "    }\n",
       "\n",
       "    .dataframe thead th {\n",
       "        text-align: right;\n",
       "    }\n",
       "</style>\n",
       "<table border=\"1\" class=\"dataframe\">\n",
       "  <thead>\n",
       "    <tr style=\"text-align: right;\">\n",
       "      <th></th>\n",
       "      <th>HomePlanet</th>\n",
       "      <th>CryoSleep</th>\n",
       "      <th>Destination</th>\n",
       "      <th>Age</th>\n",
       "      <th>VIP</th>\n",
       "      <th>RoomService</th>\n",
       "      <th>FoodCourt</th>\n",
       "      <th>ShoppingMall</th>\n",
       "      <th>Spa</th>\n",
       "      <th>VRDeck</th>\n",
       "      <th>Transported</th>\n",
       "      <th>0</th>\n",
       "      <th>1</th>\n",
       "      <th>2</th>\n",
       "    </tr>\n",
       "  </thead>\n",
       "  <tbody>\n",
       "    <tr>\n",
       "      <th>0</th>\n",
       "      <td>Europa</td>\n",
       "      <td>False</td>\n",
       "      <td>TRAPPIST-1e</td>\n",
       "      <td>39.0</td>\n",
       "      <td>False</td>\n",
       "      <td>0.0</td>\n",
       "      <td>0.0</td>\n",
       "      <td>0.0</td>\n",
       "      <td>0.0</td>\n",
       "      <td>0.0</td>\n",
       "      <td>False</td>\n",
       "      <td>B</td>\n",
       "      <td>0</td>\n",
       "      <td>P</td>\n",
       "    </tr>\n",
       "    <tr>\n",
       "      <th>1</th>\n",
       "      <td>Earth</td>\n",
       "      <td>False</td>\n",
       "      <td>TRAPPIST-1e</td>\n",
       "      <td>24.0</td>\n",
       "      <td>False</td>\n",
       "      <td>109.0</td>\n",
       "      <td>9.0</td>\n",
       "      <td>25.0</td>\n",
       "      <td>549.0</td>\n",
       "      <td>44.0</td>\n",
       "      <td>True</td>\n",
       "      <td>F</td>\n",
       "      <td>0</td>\n",
       "      <td>S</td>\n",
       "    </tr>\n",
       "    <tr>\n",
       "      <th>2</th>\n",
       "      <td>Europa</td>\n",
       "      <td>False</td>\n",
       "      <td>TRAPPIST-1e</td>\n",
       "      <td>58.0</td>\n",
       "      <td>True</td>\n",
       "      <td>43.0</td>\n",
       "      <td>3576.0</td>\n",
       "      <td>0.0</td>\n",
       "      <td>6715.0</td>\n",
       "      <td>49.0</td>\n",
       "      <td>False</td>\n",
       "      <td>A</td>\n",
       "      <td>0</td>\n",
       "      <td>S</td>\n",
       "    </tr>\n",
       "    <tr>\n",
       "      <th>3</th>\n",
       "      <td>Europa</td>\n",
       "      <td>False</td>\n",
       "      <td>TRAPPIST-1e</td>\n",
       "      <td>33.0</td>\n",
       "      <td>False</td>\n",
       "      <td>0.0</td>\n",
       "      <td>1283.0</td>\n",
       "      <td>371.0</td>\n",
       "      <td>3329.0</td>\n",
       "      <td>193.0</td>\n",
       "      <td>False</td>\n",
       "      <td>A</td>\n",
       "      <td>0</td>\n",
       "      <td>S</td>\n",
       "    </tr>\n",
       "    <tr>\n",
       "      <th>4</th>\n",
       "      <td>Earth</td>\n",
       "      <td>False</td>\n",
       "      <td>TRAPPIST-1e</td>\n",
       "      <td>16.0</td>\n",
       "      <td>False</td>\n",
       "      <td>303.0</td>\n",
       "      <td>70.0</td>\n",
       "      <td>151.0</td>\n",
       "      <td>565.0</td>\n",
       "      <td>2.0</td>\n",
       "      <td>True</td>\n",
       "      <td>F</td>\n",
       "      <td>1</td>\n",
       "      <td>S</td>\n",
       "    </tr>\n",
       "  </tbody>\n",
       "</table>\n",
       "</div>"
      ],
      "text/plain": [
       "  HomePlanet  CryoSleep  Destination   Age    VIP  RoomService  FoodCourt  ShoppingMall     Spa  VRDeck Transported  0  1  2\n",
       "0     Europa      False  TRAPPIST-1e  39.0  False          0.0        0.0           0.0     0.0     0.0       False  B  0  P\n",
       "1      Earth      False  TRAPPIST-1e  24.0  False        109.0        9.0          25.0   549.0    44.0        True  F  0  S\n",
       "2     Europa      False  TRAPPIST-1e  58.0   True         43.0     3576.0           0.0  6715.0    49.0       False  A  0  S\n",
       "3     Europa      False  TRAPPIST-1e  33.0  False          0.0     1283.0         371.0  3329.0   193.0       False  A  0  S\n",
       "4      Earth      False  TRAPPIST-1e  16.0  False        303.0       70.0         151.0   565.0     2.0        True  F  1  S"
      ]
     },
     "execution_count": 19,
     "metadata": {},
     "output_type": "execute_result"
    }
   ],
   "source": [
    "all_data.head()"
   ]
  },
  {
   "cell_type": "code",
   "execution_count": 20,
   "id": "6f09372a",
   "metadata": {
    "execution": {
     "iopub.execute_input": "2022-10-16T05:51:20.888295Z",
     "iopub.status.busy": "2022-10-16T05:51:20.887798Z",
     "iopub.status.idle": "2022-10-16T05:51:20.894728Z",
     "shell.execute_reply": "2022-10-16T05:51:20.893542Z"
    },
    "papermill": {
     "duration": 0.034062,
     "end_time": "2022-10-16T05:51:20.897088",
     "exception": false,
     "start_time": "2022-10-16T05:51:20.863026",
     "status": "completed"
    },
    "tags": []
   },
   "outputs": [],
   "source": [
    "all_data.rename(columns={0: 'Deck', 1: 'Num', 2: 'Side'}, inplace=True)"
   ]
  },
  {
   "cell_type": "code",
   "execution_count": 21,
   "id": "26aec180",
   "metadata": {
    "execution": {
     "iopub.execute_input": "2022-10-16T05:51:20.947094Z",
     "iopub.status.busy": "2022-10-16T05:51:20.946672Z",
     "iopub.status.idle": "2022-10-16T05:51:20.968160Z",
     "shell.execute_reply": "2022-10-16T05:51:20.966933Z"
    },
    "papermill": {
     "duration": 0.049158,
     "end_time": "2022-10-16T05:51:20.970690",
     "exception": false,
     "start_time": "2022-10-16T05:51:20.921532",
     "status": "completed"
    },
    "tags": []
   },
   "outputs": [
    {
     "data": {
      "text/html": [
       "<div>\n",
       "<style scoped>\n",
       "    .dataframe tbody tr th:only-of-type {\n",
       "        vertical-align: middle;\n",
       "    }\n",
       "\n",
       "    .dataframe tbody tr th {\n",
       "        vertical-align: top;\n",
       "    }\n",
       "\n",
       "    .dataframe thead th {\n",
       "        text-align: right;\n",
       "    }\n",
       "</style>\n",
       "<table border=\"1\" class=\"dataframe\">\n",
       "  <thead>\n",
       "    <tr style=\"text-align: right;\">\n",
       "      <th></th>\n",
       "      <th>HomePlanet</th>\n",
       "      <th>CryoSleep</th>\n",
       "      <th>Destination</th>\n",
       "      <th>Age</th>\n",
       "      <th>VIP</th>\n",
       "      <th>RoomService</th>\n",
       "      <th>FoodCourt</th>\n",
       "      <th>ShoppingMall</th>\n",
       "      <th>Spa</th>\n",
       "      <th>VRDeck</th>\n",
       "      <th>Transported</th>\n",
       "      <th>Deck</th>\n",
       "      <th>Num</th>\n",
       "      <th>Side</th>\n",
       "    </tr>\n",
       "  </thead>\n",
       "  <tbody>\n",
       "    <tr>\n",
       "      <th>0</th>\n",
       "      <td>Europa</td>\n",
       "      <td>False</td>\n",
       "      <td>TRAPPIST-1e</td>\n",
       "      <td>39.0</td>\n",
       "      <td>False</td>\n",
       "      <td>0.0</td>\n",
       "      <td>0.0</td>\n",
       "      <td>0.0</td>\n",
       "      <td>0.0</td>\n",
       "      <td>0.0</td>\n",
       "      <td>False</td>\n",
       "      <td>B</td>\n",
       "      <td>0</td>\n",
       "      <td>P</td>\n",
       "    </tr>\n",
       "    <tr>\n",
       "      <th>1</th>\n",
       "      <td>Earth</td>\n",
       "      <td>False</td>\n",
       "      <td>TRAPPIST-1e</td>\n",
       "      <td>24.0</td>\n",
       "      <td>False</td>\n",
       "      <td>109.0</td>\n",
       "      <td>9.0</td>\n",
       "      <td>25.0</td>\n",
       "      <td>549.0</td>\n",
       "      <td>44.0</td>\n",
       "      <td>True</td>\n",
       "      <td>F</td>\n",
       "      <td>0</td>\n",
       "      <td>S</td>\n",
       "    </tr>\n",
       "    <tr>\n",
       "      <th>2</th>\n",
       "      <td>Europa</td>\n",
       "      <td>False</td>\n",
       "      <td>TRAPPIST-1e</td>\n",
       "      <td>58.0</td>\n",
       "      <td>True</td>\n",
       "      <td>43.0</td>\n",
       "      <td>3576.0</td>\n",
       "      <td>0.0</td>\n",
       "      <td>6715.0</td>\n",
       "      <td>49.0</td>\n",
       "      <td>False</td>\n",
       "      <td>A</td>\n",
       "      <td>0</td>\n",
       "      <td>S</td>\n",
       "    </tr>\n",
       "    <tr>\n",
       "      <th>3</th>\n",
       "      <td>Europa</td>\n",
       "      <td>False</td>\n",
       "      <td>TRAPPIST-1e</td>\n",
       "      <td>33.0</td>\n",
       "      <td>False</td>\n",
       "      <td>0.0</td>\n",
       "      <td>1283.0</td>\n",
       "      <td>371.0</td>\n",
       "      <td>3329.0</td>\n",
       "      <td>193.0</td>\n",
       "      <td>False</td>\n",
       "      <td>A</td>\n",
       "      <td>0</td>\n",
       "      <td>S</td>\n",
       "    </tr>\n",
       "    <tr>\n",
       "      <th>4</th>\n",
       "      <td>Earth</td>\n",
       "      <td>False</td>\n",
       "      <td>TRAPPIST-1e</td>\n",
       "      <td>16.0</td>\n",
       "      <td>False</td>\n",
       "      <td>303.0</td>\n",
       "      <td>70.0</td>\n",
       "      <td>151.0</td>\n",
       "      <td>565.0</td>\n",
       "      <td>2.0</td>\n",
       "      <td>True</td>\n",
       "      <td>F</td>\n",
       "      <td>1</td>\n",
       "      <td>S</td>\n",
       "    </tr>\n",
       "  </tbody>\n",
       "</table>\n",
       "</div>"
      ],
      "text/plain": [
       "  HomePlanet  CryoSleep  Destination   Age    VIP  RoomService  FoodCourt  ShoppingMall     Spa  VRDeck Transported Deck Num Side\n",
       "0     Europa      False  TRAPPIST-1e  39.0  False          0.0        0.0           0.0     0.0     0.0       False    B   0    P\n",
       "1      Earth      False  TRAPPIST-1e  24.0  False        109.0        9.0          25.0   549.0    44.0        True    F   0    S\n",
       "2     Europa      False  TRAPPIST-1e  58.0   True         43.0     3576.0           0.0  6715.0    49.0       False    A   0    S\n",
       "3     Europa      False  TRAPPIST-1e  33.0  False          0.0     1283.0         371.0  3329.0   193.0       False    A   0    S\n",
       "4      Earth      False  TRAPPIST-1e  16.0  False        303.0       70.0         151.0   565.0     2.0        True    F   1    S"
      ]
     },
     "execution_count": 21,
     "metadata": {},
     "output_type": "execute_result"
    }
   ],
   "source": [
    "all_data.head()"
   ]
  },
  {
   "cell_type": "code",
   "execution_count": 22,
   "id": "9a8b54b7",
   "metadata": {
    "execution": {
     "iopub.execute_input": "2022-10-16T05:51:21.020008Z",
     "iopub.status.busy": "2022-10-16T05:51:21.019614Z",
     "iopub.status.idle": "2022-10-16T05:51:21.028812Z",
     "shell.execute_reply": "2022-10-16T05:51:21.027938Z"
    },
    "papermill": {
     "duration": 0.03645,
     "end_time": "2022-10-16T05:51:21.030991",
     "exception": false,
     "start_time": "2022-10-16T05:51:20.994541",
     "status": "completed"
    },
    "tags": []
   },
   "outputs": [
    {
     "data": {
      "text/plain": [
       "F      4239\n",
       "G      3781\n",
       "E      1323\n",
       "B      1141\n",
       "C      1102\n",
       "D       720\n",
       "A       354\n",
       "NaN     299\n",
       "T        11\n",
       "Name: Deck, dtype: int64"
      ]
     },
     "execution_count": 22,
     "metadata": {},
     "output_type": "execute_result"
    }
   ],
   "source": [
    "all_data.Deck.value_counts(dropna=False)"
   ]
  },
  {
   "cell_type": "code",
   "execution_count": 23,
   "id": "14d129fc",
   "metadata": {
    "execution": {
     "iopub.execute_input": "2022-10-16T05:51:21.080757Z",
     "iopub.status.busy": "2022-10-16T05:51:21.080353Z",
     "iopub.status.idle": "2022-10-16T05:51:21.092022Z",
     "shell.execute_reply": "2022-10-16T05:51:21.090764Z"
    },
    "papermill": {
     "duration": 0.039938,
     "end_time": "2022-10-16T05:51:21.094582",
     "exception": false,
     "start_time": "2022-10-16T05:51:21.054644",
     "status": "completed"
    },
    "tags": []
   },
   "outputs": [
    {
     "data": {
      "text/plain": [
       "F    4538\n",
       "G    3781\n",
       "E    1323\n",
       "B    1141\n",
       "C    1102\n",
       "D     720\n",
       "A     354\n",
       "T      11\n",
       "Name: Deck, dtype: int64"
      ]
     },
     "execution_count": 23,
     "metadata": {},
     "output_type": "execute_result"
    }
   ],
   "source": [
    "# 使用众数填充 Deck 特征\n",
    "all_data['Deck'] = all_data['Deck'].fillna('F')\n",
    "all_data.Deck.value_counts(dropna=False)"
   ]
  },
  {
   "cell_type": "code",
   "execution_count": 24,
   "id": "466c653b",
   "metadata": {
    "execution": {
     "iopub.execute_input": "2022-10-16T05:51:21.144936Z",
     "iopub.status.busy": "2022-10-16T05:51:21.144512Z",
     "iopub.status.idle": "2022-10-16T05:51:21.152924Z",
     "shell.execute_reply": "2022-10-16T05:51:21.151399Z"
    },
    "papermill": {
     "duration": 0.036564,
     "end_time": "2022-10-16T05:51:21.155536",
     "exception": false,
     "start_time": "2022-10-16T05:51:21.118972",
     "status": "completed"
    },
    "tags": []
   },
   "outputs": [],
   "source": [
    "# 统计数量后发现 Num 特征没有用处，删除 Num 特征\n",
    "all_data.drop('Num', axis=1, inplace=True)"
   ]
  },
  {
   "cell_type": "code",
   "execution_count": 25,
   "id": "bbe9b0dd",
   "metadata": {
    "execution": {
     "iopub.execute_input": "2022-10-16T05:51:21.207186Z",
     "iopub.status.busy": "2022-10-16T05:51:21.206765Z",
     "iopub.status.idle": "2022-10-16T05:51:21.227523Z",
     "shell.execute_reply": "2022-10-16T05:51:21.226294Z"
    },
    "papermill": {
     "duration": 0.04883,
     "end_time": "2022-10-16T05:51:21.229850",
     "exception": false,
     "start_time": "2022-10-16T05:51:21.181020",
     "status": "completed"
    },
    "tags": []
   },
   "outputs": [
    {
     "data": {
      "text/html": [
       "<div>\n",
       "<style scoped>\n",
       "    .dataframe tbody tr th:only-of-type {\n",
       "        vertical-align: middle;\n",
       "    }\n",
       "\n",
       "    .dataframe tbody tr th {\n",
       "        vertical-align: top;\n",
       "    }\n",
       "\n",
       "    .dataframe thead th {\n",
       "        text-align: right;\n",
       "    }\n",
       "</style>\n",
       "<table border=\"1\" class=\"dataframe\">\n",
       "  <thead>\n",
       "    <tr style=\"text-align: right;\">\n",
       "      <th></th>\n",
       "      <th>HomePlanet</th>\n",
       "      <th>CryoSleep</th>\n",
       "      <th>Destination</th>\n",
       "      <th>Age</th>\n",
       "      <th>VIP</th>\n",
       "      <th>RoomService</th>\n",
       "      <th>FoodCourt</th>\n",
       "      <th>ShoppingMall</th>\n",
       "      <th>Spa</th>\n",
       "      <th>VRDeck</th>\n",
       "      <th>Transported</th>\n",
       "      <th>Deck</th>\n",
       "      <th>Side</th>\n",
       "    </tr>\n",
       "  </thead>\n",
       "  <tbody>\n",
       "    <tr>\n",
       "      <th>0</th>\n",
       "      <td>Europa</td>\n",
       "      <td>False</td>\n",
       "      <td>TRAPPIST-1e</td>\n",
       "      <td>39.0</td>\n",
       "      <td>False</td>\n",
       "      <td>0.0</td>\n",
       "      <td>0.0</td>\n",
       "      <td>0.0</td>\n",
       "      <td>0.0</td>\n",
       "      <td>0.0</td>\n",
       "      <td>False</td>\n",
       "      <td>B</td>\n",
       "      <td>P</td>\n",
       "    </tr>\n",
       "    <tr>\n",
       "      <th>1</th>\n",
       "      <td>Earth</td>\n",
       "      <td>False</td>\n",
       "      <td>TRAPPIST-1e</td>\n",
       "      <td>24.0</td>\n",
       "      <td>False</td>\n",
       "      <td>109.0</td>\n",
       "      <td>9.0</td>\n",
       "      <td>25.0</td>\n",
       "      <td>549.0</td>\n",
       "      <td>44.0</td>\n",
       "      <td>True</td>\n",
       "      <td>F</td>\n",
       "      <td>S</td>\n",
       "    </tr>\n",
       "    <tr>\n",
       "      <th>2</th>\n",
       "      <td>Europa</td>\n",
       "      <td>False</td>\n",
       "      <td>TRAPPIST-1e</td>\n",
       "      <td>58.0</td>\n",
       "      <td>True</td>\n",
       "      <td>43.0</td>\n",
       "      <td>3576.0</td>\n",
       "      <td>0.0</td>\n",
       "      <td>6715.0</td>\n",
       "      <td>49.0</td>\n",
       "      <td>False</td>\n",
       "      <td>A</td>\n",
       "      <td>S</td>\n",
       "    </tr>\n",
       "    <tr>\n",
       "      <th>3</th>\n",
       "      <td>Europa</td>\n",
       "      <td>False</td>\n",
       "      <td>TRAPPIST-1e</td>\n",
       "      <td>33.0</td>\n",
       "      <td>False</td>\n",
       "      <td>0.0</td>\n",
       "      <td>1283.0</td>\n",
       "      <td>371.0</td>\n",
       "      <td>3329.0</td>\n",
       "      <td>193.0</td>\n",
       "      <td>False</td>\n",
       "      <td>A</td>\n",
       "      <td>S</td>\n",
       "    </tr>\n",
       "    <tr>\n",
       "      <th>4</th>\n",
       "      <td>Earth</td>\n",
       "      <td>False</td>\n",
       "      <td>TRAPPIST-1e</td>\n",
       "      <td>16.0</td>\n",
       "      <td>False</td>\n",
       "      <td>303.0</td>\n",
       "      <td>70.0</td>\n",
       "      <td>151.0</td>\n",
       "      <td>565.0</td>\n",
       "      <td>2.0</td>\n",
       "      <td>True</td>\n",
       "      <td>F</td>\n",
       "      <td>S</td>\n",
       "    </tr>\n",
       "  </tbody>\n",
       "</table>\n",
       "</div>"
      ],
      "text/plain": [
       "  HomePlanet  CryoSleep  Destination   Age    VIP  RoomService  FoodCourt  ShoppingMall     Spa  VRDeck Transported Deck Side\n",
       "0     Europa      False  TRAPPIST-1e  39.0  False          0.0        0.0           0.0     0.0     0.0       False    B    P\n",
       "1      Earth      False  TRAPPIST-1e  24.0  False        109.0        9.0          25.0   549.0    44.0        True    F    S\n",
       "2     Europa      False  TRAPPIST-1e  58.0   True         43.0     3576.0           0.0  6715.0    49.0       False    A    S\n",
       "3     Europa      False  TRAPPIST-1e  33.0  False          0.0     1283.0         371.0  3329.0   193.0       False    A    S\n",
       "4      Earth      False  TRAPPIST-1e  16.0  False        303.0       70.0         151.0   565.0     2.0        True    F    S"
      ]
     },
     "execution_count": 25,
     "metadata": {},
     "output_type": "execute_result"
    }
   ],
   "source": [
    "all_data.head()"
   ]
  },
  {
   "cell_type": "code",
   "execution_count": 26,
   "id": "1e11a4e3",
   "metadata": {
    "execution": {
     "iopub.execute_input": "2022-10-16T05:51:21.280599Z",
     "iopub.status.busy": "2022-10-16T05:51:21.280116Z",
     "iopub.status.idle": "2022-10-16T05:51:21.291414Z",
     "shell.execute_reply": "2022-10-16T05:51:21.289930Z"
    },
    "papermill": {
     "duration": 0.039781,
     "end_time": "2022-10-16T05:51:21.294039",
     "exception": false,
     "start_time": "2022-10-16T05:51:21.254258",
     "status": "completed"
    },
    "tags": []
   },
   "outputs": [
    {
     "data": {
      "text/plain": [
       "S      6381\n",
       "P      6290\n",
       "NaN     299\n",
       "Name: Side, dtype: int64"
      ]
     },
     "execution_count": 26,
     "metadata": {},
     "output_type": "execute_result"
    }
   ],
   "source": [
    "all_data.Side.value_counts(dropna=False)"
   ]
  },
  {
   "cell_type": "code",
   "execution_count": 27,
   "id": "13758f66",
   "metadata": {
    "execution": {
     "iopub.execute_input": "2022-10-16T05:51:21.345488Z",
     "iopub.status.busy": "2022-10-16T05:51:21.344652Z",
     "iopub.status.idle": "2022-10-16T05:51:21.359909Z",
     "shell.execute_reply": "2022-10-16T05:51:21.358668Z"
    },
    "papermill": {
     "duration": 0.043408,
     "end_time": "2022-10-16T05:51:21.362289",
     "exception": false,
     "start_time": "2022-10-16T05:51:21.318881",
     "status": "completed"
    },
    "tags": []
   },
   "outputs": [
    {
     "data": {
      "text/plain": [
       "S    6524\n",
       "P    6446\n",
       "Name: Side, dtype: int64"
      ]
     },
     "execution_count": 27,
     "metadata": {},
     "output_type": "execute_result"
    }
   ],
   "source": [
    "# 使用随机数填充 Side 特征\n",
    "all_data['Side'] = all_data['Side'].fillna(method='ffill')\n",
    "all_data.Side.value_counts(dropna=False)"
   ]
  },
  {
   "cell_type": "markdown",
   "id": "3d756024",
   "metadata": {
    "papermill": {
     "duration": 0.025271,
     "end_time": "2022-10-16T05:51:21.412723",
     "exception": false,
     "start_time": "2022-10-16T05:51:21.387452",
     "status": "completed"
    },
    "tags": []
   },
   "source": [
    "## Destination 特征"
   ]
  },
  {
   "cell_type": "code",
   "execution_count": 28,
   "id": "fbdffc3e",
   "metadata": {
    "execution": {
     "iopub.execute_input": "2022-10-16T05:51:21.463123Z",
     "iopub.status.busy": "2022-10-16T05:51:21.462715Z",
     "iopub.status.idle": "2022-10-16T05:51:21.473055Z",
     "shell.execute_reply": "2022-10-16T05:51:21.471626Z"
    },
    "papermill": {
     "duration": 0.038963,
     "end_time": "2022-10-16T05:51:21.476044",
     "exception": false,
     "start_time": "2022-10-16T05:51:21.437081",
     "status": "completed"
    },
    "tags": []
   },
   "outputs": [
    {
     "data": {
      "text/plain": [
       "TRAPPIST-1e      8871\n",
       "55 Cancri e      2641\n",
       "PSO J318.5-22    1184\n",
       "NaN               274\n",
       "Name: Destination, dtype: int64"
      ]
     },
     "execution_count": 28,
     "metadata": {},
     "output_type": "execute_result"
    }
   ],
   "source": [
    "all_data.Destination.value_counts(dropna=False)"
   ]
  },
  {
   "cell_type": "code",
   "execution_count": 29,
   "id": "9d467990",
   "metadata": {
    "execution": {
     "iopub.execute_input": "2022-10-16T05:51:21.527506Z",
     "iopub.status.busy": "2022-10-16T05:51:21.526996Z",
     "iopub.status.idle": "2022-10-16T05:51:21.539742Z",
     "shell.execute_reply": "2022-10-16T05:51:21.538473Z"
    },
    "papermill": {
     "duration": 0.041309,
     "end_time": "2022-10-16T05:51:21.542249",
     "exception": false,
     "start_time": "2022-10-16T05:51:21.500940",
     "status": "completed"
    },
    "tags": []
   },
   "outputs": [
    {
     "data": {
      "text/plain": [
       "TRAPPIST-1e      9145\n",
       "55 Cancri e      2641\n",
       "PSO J318.5-22    1184\n",
       "Name: Destination, dtype: int64"
      ]
     },
     "execution_count": 29,
     "metadata": {},
     "output_type": "execute_result"
    }
   ],
   "source": [
    "# 使用众数填充缺失值\n",
    "all_data['Destination'] = all_data['Destination'].fillna('TRAPPIST-1e')\n",
    "all_data.Destination.value_counts(dropna=False)"
   ]
  },
  {
   "cell_type": "markdown",
   "id": "4f8a341e",
   "metadata": {
    "papermill": {
     "duration": 0.032467,
     "end_time": "2022-10-16T05:51:21.608078",
     "exception": false,
     "start_time": "2022-10-16T05:51:21.575611",
     "status": "completed"
    },
    "tags": []
   },
   "source": [
    "## Age 特征"
   ]
  },
  {
   "cell_type": "code",
   "execution_count": 30,
   "id": "529f310d",
   "metadata": {
    "execution": {
     "iopub.execute_input": "2022-10-16T05:51:21.673583Z",
     "iopub.status.busy": "2022-10-16T05:51:21.672636Z",
     "iopub.status.idle": "2022-10-16T05:51:23.121574Z",
     "shell.execute_reply": "2022-10-16T05:51:23.120312Z"
    },
    "papermill": {
     "duration": 1.485546,
     "end_time": "2022-10-16T05:51:23.124324",
     "exception": false,
     "start_time": "2022-10-16T05:51:21.638778",
     "status": "completed"
    },
    "tags": []
   },
   "outputs": [
    {
     "data": {
      "text/plain": [
       "<AxesSubplot:ylabel='Density'>"
      ]
     },
     "execution_count": 30,
     "metadata": {},
     "output_type": "execute_result"
    },
    {
     "data": {
      "image/png": "[encoded data removed]",
      "text/plain": [
       "<Figure size 432x288 with 1 Axes>"
      ]
     },
     "metadata": {
      "needs_background": "light"
     },
     "output_type": "display_data"
    }
   ],
   "source": [
    "all_data['Age'].plot.density()"
   ]
  },
  {
   "cell_type": "code",
   "execution_count": 31,
   "id": "559e7243",
   "metadata": {
    "execution": {
     "iopub.execute_input": "2022-10-16T05:51:23.177970Z",
     "iopub.status.busy": "2022-10-16T05:51:23.177155Z",
     "iopub.status.idle": "2022-10-16T05:51:23.713928Z",
     "shell.execute_reply": "2022-10-16T05:51:23.712679Z"
    },
    "papermill": {
     "duration": 0.56683,
     "end_time": "2022-10-16T05:51:23.716455",
     "exception": false,
     "start_time": "2022-10-16T05:51:23.149625",
     "status": "completed"
    },
    "tags": []
   },
   "outputs": [
    {
     "data": {
      "text/plain": [
       "<AxesSubplot:ylabel='Density'>"
      ]
     },
     "execution_count": 31,
     "metadata": {},
     "output_type": "execute_result"
    },
    {
     "data": {
      "image/png": "[encoded data removed]",
      "text/plain": [
       "<Figure size 432x288 with 1 Axes>"
      ]
     },
     "metadata": {
      "needs_background": "light"
     },
     "output_type": "display_data"
    }
   ],
   "source": [
    "# 使用均值填充缺失值\n",
    "all_data['Age'] = all_data['Age'].fillna(all_data['Age'].mean())\n",
    "all_data['Age'].plot.density()"
   ]
  },
  {
   "cell_type": "code",
   "execution_count": 32,
   "id": "f969ac76",
   "metadata": {
    "execution": {
     "iopub.execute_input": "2022-10-16T05:51:23.771793Z",
     "iopub.status.busy": "2022-10-16T05:51:23.770676Z",
     "iopub.status.idle": "2022-10-16T05:51:23.778437Z",
     "shell.execute_reply": "2022-10-16T05:51:23.777504Z"
    },
    "papermill": {
     "duration": 0.037945,
     "end_time": "2022-10-16T05:51:23.780706",
     "exception": false,
     "start_time": "2022-10-16T05:51:23.742761",
     "status": "completed"
    },
    "tags": []
   },
   "outputs": [
    {
     "data": {
      "text/plain": [
       "0"
      ]
     },
     "execution_count": 32,
     "metadata": {},
     "output_type": "execute_result"
    }
   ],
   "source": [
    "all_data.Age.isnull().sum()"
   ]
  },
  {
   "cell_type": "markdown",
   "id": "96271e43",
   "metadata": {
    "papermill": {
     "duration": 0.026472,
     "end_time": "2022-10-16T05:51:23.833617",
     "exception": false,
     "start_time": "2022-10-16T05:51:23.807145",
     "status": "completed"
    },
    "tags": []
   },
   "source": [
    "## VIP 特征"
   ]
  },
  {
   "cell_type": "code",
   "execution_count": 33,
   "id": "3f6f22a4",
   "metadata": {
    "execution": {
     "iopub.execute_input": "2022-10-16T05:51:23.888829Z",
     "iopub.status.busy": "2022-10-16T05:51:23.888367Z",
     "iopub.status.idle": "2022-10-16T05:51:23.897882Z",
     "shell.execute_reply": "2022-10-16T05:51:23.896748Z"
    },
    "papermill": {
     "duration": 0.039512,
     "end_time": "2022-10-16T05:51:23.900025",
     "exception": false,
     "start_time": "2022-10-16T05:51:23.860513",
     "status": "completed"
    },
    "tags": []
   },
   "outputs": [
    {
     "data": {
      "text/plain": [
       "False    12401\n",
       "NaN        296\n",
       "True       273\n",
       "Name: VIP, dtype: int64"
      ]
     },
     "execution_count": 33,
     "metadata": {},
     "output_type": "execute_result"
    }
   ],
   "source": [
    "all_data.VIP.value_counts(dropna=False)"
   ]
  },
  {
   "cell_type": "code",
   "execution_count": 34,
   "id": "640961a3",
   "metadata": {
    "execution": {
     "iopub.execute_input": "2022-10-16T05:51:23.954416Z",
     "iopub.status.busy": "2022-10-16T05:51:23.953572Z",
     "iopub.status.idle": "2022-10-16T05:51:23.964789Z",
     "shell.execute_reply": "2022-10-16T05:51:23.963695Z"
    },
    "papermill": {
     "duration": 0.040483,
     "end_time": "2022-10-16T05:51:23.967034",
     "exception": false,
     "start_time": "2022-10-16T05:51:23.926551",
     "status": "completed"
    },
    "tags": []
   },
   "outputs": [
    {
     "data": {
      "text/plain": [
       "False    12697\n",
       "True       273\n",
       "Name: VIP, dtype: int64"
      ]
     },
     "execution_count": 34,
     "metadata": {},
     "output_type": "execute_result"
    }
   ],
   "source": [
    "# 使用众数填充缺失值\n",
    "all_data['VIP'] = all_data['VIP'].fillna(False)\n",
    "all_data.VIP.value_counts(dropna=False)"
   ]
  },
  {
   "cell_type": "markdown",
   "id": "a0c6f19a",
   "metadata": {
    "papermill": {
     "duration": 0.025543,
     "end_time": "2022-10-16T05:51:24.018704",
     "exception": false,
     "start_time": "2022-10-16T05:51:23.993161",
     "status": "completed"
    },
    "tags": []
   },
   "source": [
    "## RoomService 特征"
   ]
  },
  {
   "cell_type": "code",
   "execution_count": 35,
   "id": "aa4ecc7b",
   "metadata": {
    "execution": {
     "iopub.execute_input": "2022-10-16T05:51:24.072486Z",
     "iopub.status.busy": "2022-10-16T05:51:24.071702Z",
     "iopub.status.idle": "2022-10-16T05:51:24.599369Z",
     "shell.execute_reply": "2022-10-16T05:51:24.598210Z"
    },
    "papermill": {
     "duration": 0.557373,
     "end_time": "2022-10-16T05:51:24.601935",
     "exception": false,
     "start_time": "2022-10-16T05:51:24.044562",
     "status": "completed"
    },
    "tags": []
   },
   "outputs": [
    {
     "data": {
      "text/plain": [
       "<AxesSubplot:ylabel='Density'>"
      ]
     },
     "execution_count": 35,
     "metadata": {},
     "output_type": "execute_result"
    },
    {
     "data": {
      "image/png": "[encoded data removed]",
      "text/plain": [
       "<Figure size 432x288 with 1 Axes>"
      ]
     },
     "metadata": {
      "needs_background": "light"
     },
     "output_type": "display_data"
    }
   ],
   "source": [
    "all_data['RoomService'].plot.density()"
   ]
  },
  {
   "cell_type": "code",
   "execution_count": 36,
   "id": "6ac26377",
   "metadata": {
    "execution": {
     "iopub.execute_input": "2022-10-16T05:51:24.661952Z",
     "iopub.status.busy": "2022-10-16T05:51:24.661123Z",
     "iopub.status.idle": "2022-10-16T05:51:25.197251Z",
     "shell.execute_reply": "2022-10-16T05:51:25.195918Z"
    },
    "papermill": {
     "duration": 0.568355,
     "end_time": "2022-10-16T05:51:25.200062",
     "exception": false,
     "start_time": "2022-10-16T05:51:24.631707",
     "status": "completed"
    },
    "tags": []
   },
   "outputs": [
    {
     "data": {
      "text/plain": [
       "<AxesSubplot:ylabel='Density'>"
      ]
     },
     "execution_count": 36,
     "metadata": {},
     "output_type": "execute_result"
    },
    {
     "data": {
      "image/png": "[encoded data removed]",
      "text/plain": [
       "<Figure size 432x288 with 1 Axes>"
      ]
     },
     "metadata": {
      "needs_background": "light"
     },
     "output_type": "display_data"
    }
   ],
   "source": [
    "# 由于该特征的数值分布不均匀，故使用中位数填充缺失值\n",
    "all_data['RoomService'] = all_data['RoomService'].fillna(all_data['RoomService'].median())\n",
    "all_data['RoomService'].plot.density()"
   ]
  },
  {
   "cell_type": "code",
   "execution_count": 37,
   "id": "bc7e49bc",
   "metadata": {
    "execution": {
     "iopub.execute_input": "2022-10-16T05:51:25.258282Z",
     "iopub.status.busy": "2022-10-16T05:51:25.257859Z",
     "iopub.status.idle": "2022-10-16T05:51:25.264592Z",
     "shell.execute_reply": "2022-10-16T05:51:25.263620Z"
    },
    "papermill": {
     "duration": 0.038577,
     "end_time": "2022-10-16T05:51:25.266751",
     "exception": false,
     "start_time": "2022-10-16T05:51:25.228174",
     "status": "completed"
    },
    "tags": []
   },
   "outputs": [
    {
     "data": {
      "text/plain": [
       "0"
      ]
     },
     "execution_count": 37,
     "metadata": {},
     "output_type": "execute_result"
    }
   ],
   "source": [
    "all_data.RoomService.isnull().sum()"
   ]
  },
  {
   "cell_type": "markdown",
   "id": "c4481ec6",
   "metadata": {
    "papermill": {
     "duration": 0.026337,
     "end_time": "2022-10-16T05:51:25.320771",
     "exception": false,
     "start_time": "2022-10-16T05:51:25.294434",
     "status": "completed"
    },
    "tags": []
   },
   "source": [
    "## FoodCourt 特征"
   ]
  },
  {
   "cell_type": "code",
   "execution_count": 38,
   "id": "302b5fb3",
   "metadata": {
    "execution": {
     "iopub.execute_input": "2022-10-16T05:51:25.376444Z",
     "iopub.status.busy": "2022-10-16T05:51:25.375771Z",
     "iopub.status.idle": "2022-10-16T05:51:25.910434Z",
     "shell.execute_reply": "2022-10-16T05:51:25.909448Z"
    },
    "papermill": {
     "duration": 0.56537,
     "end_time": "2022-10-16T05:51:25.912743",
     "exception": false,
     "start_time": "2022-10-16T05:51:25.347373",
     "status": "completed"
    },
    "tags": []
   },
   "outputs": [
    {
     "data": {
      "text/plain": [
       "<AxesSubplot:ylabel='Density'>"
      ]
     },
     "execution_count": 38,
     "metadata": {},
     "output_type": "execute_result"
    },
    {
     "data": {
      "image/png": "[encoded data removed]",
      "text/plain": [
       "<Figure size 432x288 with 1 Axes>"
      ]
     },
     "metadata": {
      "needs_background": "light"
     },
     "output_type": "display_data"
    }
   ],
   "source": [
    "all_data['FoodCourt'].plot.density()"
   ]
  },
  {
   "cell_type": "code",
   "execution_count": 39,
   "id": "8551fb5f",
   "metadata": {
    "execution": {
     "iopub.execute_input": "2022-10-16T05:51:25.971558Z",
     "iopub.status.busy": "2022-10-16T05:51:25.970741Z",
     "iopub.status.idle": "2022-10-16T05:51:26.544471Z",
     "shell.execute_reply": "2022-10-16T05:51:26.543084Z"
    },
    "papermill": {
     "duration": 0.6059,
     "end_time": "2022-10-16T05:51:26.547261",
     "exception": false,
     "start_time": "2022-10-16T05:51:25.941361",
     "status": "completed"
    },
    "tags": []
   },
   "outputs": [
    {
     "data": {
      "text/plain": [
       "<AxesSubplot:ylabel='Density'>"
      ]
     },
     "execution_count": 39,
     "metadata": {},
     "output_type": "execute_result"
    },
    {
     "data": {
      "image/png": "[encoded data removed]",
      "text/plain": [
       "<Figure size 432x288 with 1 Axes>"
      ]
     },
     "metadata": {
      "needs_background": "light"
     },
     "output_type": "display_data"
    }
   ],
   "source": [
    "# 由于该特征的数值分布不均匀，故使用中位数填充缺失值\n",
    "all_data['FoodCourt'] = all_data['FoodCourt'].fillna(all_data['FoodCourt'].median())\n",
    "all_data['FoodCourt'].plot.density()"
   ]
  },
  {
   "cell_type": "code",
   "execution_count": 40,
   "id": "110b0a9f",
   "metadata": {
    "execution": {
     "iopub.execute_input": "2022-10-16T05:51:26.610624Z",
     "iopub.status.busy": "2022-10-16T05:51:26.609757Z",
     "iopub.status.idle": "2022-10-16T05:51:26.618364Z",
     "shell.execute_reply": "2022-10-16T05:51:26.617415Z"
    },
    "papermill": {
     "duration": 0.044722,
     "end_time": "2022-10-16T05:51:26.620763",
     "exception": false,
     "start_time": "2022-10-16T05:51:26.576041",
     "status": "completed"
    },
    "tags": []
   },
   "outputs": [
    {
     "data": {
      "text/plain": [
       "0"
      ]
     },
     "execution_count": 40,
     "metadata": {},
     "output_type": "execute_result"
    }
   ],
   "source": [
    "all_data.FoodCourt.isnull().sum()"
   ]
  },
  {
   "cell_type": "markdown",
   "id": "4137d1f9",
   "metadata": {
    "papermill": {
     "duration": 0.027924,
     "end_time": "2022-10-16T05:51:26.681247",
     "exception": false,
     "start_time": "2022-10-16T05:51:26.653323",
     "status": "completed"
    },
    "tags": []
   },
   "source": [
    "## ShoppingMall 特征"
   ]
  },
  {
   "cell_type": "code",
   "execution_count": 41,
   "id": "cc450ce2",
   "metadata": {
    "execution": {
     "iopub.execute_input": "2022-10-16T05:51:26.739595Z",
     "iopub.status.busy": "2022-10-16T05:51:26.738755Z",
     "iopub.status.idle": "2022-10-16T05:51:27.258833Z",
     "shell.execute_reply": "2022-10-16T05:51:27.257583Z"
    },
    "papermill": {
     "duration": 0.55204,
     "end_time": "2022-10-16T05:51:27.261360",
     "exception": false,
     "start_time": "2022-10-16T05:51:26.709320",
     "status": "completed"
    },
    "tags": []
   },
   "outputs": [
    {
     "data": {
      "text/plain": [
       "<AxesSubplot:ylabel='Density'>"
      ]
     },
     "execution_count": 41,
     "metadata": {},
     "output_type": "execute_result"
    },
    {
     "data": {
      "image/png": "[encoded data removed]",
      "text/plain": [
       "<Figure size 432x288 with 1 Axes>"
      ]
     },
     "metadata": {
      "needs_background": "light"
     },
     "output_type": "display_data"
    }
   ],
   "source": [
    "all_data['ShoppingMall'].plot.density()"
   ]
  },
  {
   "cell_type": "code",
   "execution_count": 42,
   "id": "e4b22042",
   "metadata": {
    "execution": {
     "iopub.execute_input": "2022-10-16T05:51:27.326581Z",
     "iopub.status.busy": "2022-10-16T05:51:27.325621Z",
     "iopub.status.idle": "2022-10-16T05:51:27.336431Z",
     "shell.execute_reply": "2022-10-16T05:51:27.335106Z"
    },
    "papermill": {
     "duration": 0.044166,
     "end_time": "2022-10-16T05:51:27.339114",
     "exception": false,
     "start_time": "2022-10-16T05:51:27.294948",
     "status": "completed"
    },
    "tags": []
   },
   "outputs": [
    {
     "data": {
      "text/plain": [
       "0"
      ]
     },
     "execution_count": 42,
     "metadata": {},
     "output_type": "execute_result"
    }
   ],
   "source": [
    "# 由于该特征的数值分布不均匀，故使用中位数填充缺失值\n",
    "all_data['ShoppingMall'] = all_data['ShoppingMall'].fillna(all_data['ShoppingMall'].median())\n",
    "all_data.ShoppingMall.isnull().sum()"
   ]
  },
  {
   "cell_type": "markdown",
   "id": "bb928902",
   "metadata": {
    "papermill": {
     "duration": 0.031671,
     "end_time": "2022-10-16T05:51:27.401013",
     "exception": false,
     "start_time": "2022-10-16T05:51:27.369342",
     "status": "completed"
    },
    "tags": []
   },
   "source": [
    "## Spa 特征"
   ]
  },
  {
   "cell_type": "code",
   "execution_count": 43,
   "id": "fe2ab88c",
   "metadata": {
    "execution": {
     "iopub.execute_input": "2022-10-16T05:51:27.460541Z",
     "iopub.status.busy": "2022-10-16T05:51:27.460077Z",
     "iopub.status.idle": "2022-10-16T05:51:27.991367Z",
     "shell.execute_reply": "2022-10-16T05:51:27.990465Z"
    },
    "papermill": {
     "duration": 0.563449,
     "end_time": "2022-10-16T05:51:27.993900",
     "exception": false,
     "start_time": "2022-10-16T05:51:27.430451",
     "status": "completed"
    },
    "tags": []
   },
   "outputs": [
    {
     "data": {
      "text/plain": [
       "<AxesSubplot:ylabel='Density'>"
      ]
     },
     "execution_count": 43,
     "metadata": {},
     "output_type": "execute_result"
    },
    {
     "data": {
      "image/png": "[encoded data removed]",
      "text/plain": [
       "<Figure size 432x288 with 1 Axes>"
      ]
     },
     "metadata": {
      "needs_background": "light"
     },
     "output_type": "display_data"
    }
   ],
   "source": [
    "all_data['Spa'].plot.density()"
   ]
  },
  {
   "cell_type": "code",
   "execution_count": 44,
   "id": "2e5455b6",
   "metadata": {
    "execution": {
     "iopub.execute_input": "2022-10-16T05:51:28.055529Z",
     "iopub.status.busy": "2022-10-16T05:51:28.055074Z",
     "iopub.status.idle": "2022-10-16T05:51:28.065565Z",
     "shell.execute_reply": "2022-10-16T05:51:28.064475Z"
    },
    "papermill": {
     "duration": 0.045329,
     "end_time": "2022-10-16T05:51:28.068213",
     "exception": false,
     "start_time": "2022-10-16T05:51:28.022884",
     "status": "completed"
    },
    "tags": []
   },
   "outputs": [
    {
     "data": {
      "text/plain": [
       "0"
      ]
     },
     "execution_count": 44,
     "metadata": {},
     "output_type": "execute_result"
    }
   ],
   "source": [
    "# 由于该特征的数值分布不均匀，故使用中位数填充缺失值\n",
    "all_data['Spa'] = all_data['Spa'].fillna(all_data['Spa'].median())\n",
    "all_data.Spa.isnull().sum()"
   ]
  },
  {
   "cell_type": "markdown",
   "id": "077016cd",
   "metadata": {
    "papermill": {
     "duration": 0.028777,
     "end_time": "2022-10-16T05:51:28.126134",
     "exception": false,
     "start_time": "2022-10-16T05:51:28.097357",
     "status": "completed"
    },
    "tags": []
   },
   "source": [
    "## VRDeck 特征"
   ]
  },
  {
   "cell_type": "code",
   "execution_count": 45,
   "id": "26c6446d",
   "metadata": {
    "execution": {
     "iopub.execute_input": "2022-10-16T05:51:28.187211Z",
     "iopub.status.busy": "2022-10-16T05:51:28.186805Z",
     "iopub.status.idle": "2022-10-16T05:51:28.715166Z",
     "shell.execute_reply": "2022-10-16T05:51:28.713852Z"
    },
    "papermill": {
     "duration": 0.561538,
     "end_time": "2022-10-16T05:51:28.717669",
     "exception": false,
     "start_time": "2022-10-16T05:51:28.156131",
     "status": "completed"
    },
    "tags": []
   },
   "outputs": [
    {
     "data": {
      "text/plain": [
       "<AxesSubplot:ylabel='Density'>"
      ]
     },
     "execution_count": 45,
     "metadata": {},
     "output_type": "execute_result"
    },
    {
     "data": {
      "image/png": "[encoded data removed]",
      "text/plain": [
       "<Figure size 432x288 with 1 Axes>"
      ]
     },
     "metadata": {
      "needs_background": "light"
     },
     "output_type": "display_data"
    }
   ],
   "source": [
    "all_data['VRDeck'].plot.density()"
   ]
  },
  {
   "cell_type": "code",
   "execution_count": 46,
   "id": "1c2a7ffe",
   "metadata": {
    "execution": {
     "iopub.execute_input": "2022-10-16T05:51:28.780364Z",
     "iopub.status.busy": "2022-10-16T05:51:28.779068Z",
     "iopub.status.idle": "2022-10-16T05:51:28.790285Z",
     "shell.execute_reply": "2022-10-16T05:51:28.788560Z"
    },
    "papermill": {
     "duration": 0.044303,
     "end_time": "2022-10-16T05:51:28.792840",
     "exception": false,
     "start_time": "2022-10-16T05:51:28.748537",
     "status": "completed"
    },
    "tags": []
   },
   "outputs": [
    {
     "data": {
      "text/plain": [
       "0"
      ]
     },
     "execution_count": 46,
     "metadata": {},
     "output_type": "execute_result"
    }
   ],
   "source": [
    "# 由于该特征的数值分布不均匀，故使用中位数填充缺失值\n",
    "all_data['VRDeck'] = all_data['VRDeck'].fillna(all_data['VRDeck'].median())\n",
    "all_data.VRDeck.isnull().sum()"
   ]
  },
  {
   "cell_type": "markdown",
   "id": "37148cac",
   "metadata": {
    "papermill": {
     "duration": 0.028753,
     "end_time": "2022-10-16T05:51:28.851060",
     "exception": false,
     "start_time": "2022-10-16T05:51:28.822307",
     "status": "completed"
    },
    "tags": []
   },
   "source": [
    "# 判断缺失值是否填充完成"
   ]
  },
  {
   "cell_type": "code",
   "execution_count": 47,
   "id": "02bb0c71",
   "metadata": {
    "execution": {
     "iopub.execute_input": "2022-10-16T05:51:28.912636Z",
     "iopub.status.busy": "2022-10-16T05:51:28.912132Z",
     "iopub.status.idle": "2022-10-16T05:51:28.926449Z",
     "shell.execute_reply": "2022-10-16T05:51:28.925249Z"
    },
    "papermill": {
     "duration": 0.049112,
     "end_time": "2022-10-16T05:51:28.929024",
     "exception": false,
     "start_time": "2022-10-16T05:51:28.879912",
     "status": "completed"
    },
    "tags": []
   },
   "outputs": [
    {
     "data": {
      "text/plain": [
       "Transported     4277\n",
       "HomePlanet         0\n",
       "CryoSleep          0\n",
       "Destination        0\n",
       "Age                0\n",
       "VIP                0\n",
       "RoomService        0\n",
       "FoodCourt          0\n",
       "ShoppingMall       0\n",
       "Spa                0\n",
       "VRDeck             0\n",
       "Deck               0\n",
       "Side               0\n",
       "dtype: int64"
      ]
     },
     "execution_count": 47,
     "metadata": {},
     "output_type": "execute_result"
    }
   ],
   "source": [
    "all_data.isna().sum().sort_values(ascending=False)"
   ]
  },
  {
   "cell_type": "markdown",
   "id": "5dc6ed46",
   "metadata": {
    "papermill": {
     "duration": 0.029391,
     "end_time": "2022-10-16T05:51:28.988095",
     "exception": false,
     "start_time": "2022-10-16T05:51:28.958704",
     "status": "completed"
    },
    "tags": []
   },
   "source": [
    "# 将特征都转换为数值型数据"
   ]
  },
  {
   "cell_type": "code",
   "execution_count": 48,
   "id": "ec3f4db3",
   "metadata": {
    "execution": {
     "iopub.execute_input": "2022-10-16T05:51:29.048124Z",
     "iopub.status.busy": "2022-10-16T05:51:29.047642Z",
     "iopub.status.idle": "2022-10-16T05:51:29.069856Z",
     "shell.execute_reply": "2022-10-16T05:51:29.068692Z"
    },
    "papermill": {
     "duration": 0.054493,
     "end_time": "2022-10-16T05:51:29.071984",
     "exception": false,
     "start_time": "2022-10-16T05:51:29.017491",
     "status": "completed"
    },
    "tags": []
   },
   "outputs": [
    {
     "data": {
      "text/html": [
       "<div>\n",
       "<style scoped>\n",
       "    .dataframe tbody tr th:only-of-type {\n",
       "        vertical-align: middle;\n",
       "    }\n",
       "\n",
       "    .dataframe tbody tr th {\n",
       "        vertical-align: top;\n",
       "    }\n",
       "\n",
       "    .dataframe thead th {\n",
       "        text-align: right;\n",
       "    }\n",
       "</style>\n",
       "<table border=\"1\" class=\"dataframe\">\n",
       "  <thead>\n",
       "    <tr style=\"text-align: right;\">\n",
       "      <th></th>\n",
       "      <th>HomePlanet</th>\n",
       "      <th>CryoSleep</th>\n",
       "      <th>Destination</th>\n",
       "      <th>Age</th>\n",
       "      <th>VIP</th>\n",
       "      <th>RoomService</th>\n",
       "      <th>FoodCourt</th>\n",
       "      <th>ShoppingMall</th>\n",
       "      <th>Spa</th>\n",
       "      <th>VRDeck</th>\n",
       "      <th>Transported</th>\n",
       "      <th>Deck</th>\n",
       "      <th>Side</th>\n",
       "    </tr>\n",
       "  </thead>\n",
       "  <tbody>\n",
       "    <tr>\n",
       "      <th>0</th>\n",
       "      <td>Europa</td>\n",
       "      <td>False</td>\n",
       "      <td>TRAPPIST-1e</td>\n",
       "      <td>39.0</td>\n",
       "      <td>False</td>\n",
       "      <td>0.0</td>\n",
       "      <td>0.0</td>\n",
       "      <td>0.0</td>\n",
       "      <td>0.0</td>\n",
       "      <td>0.0</td>\n",
       "      <td>False</td>\n",
       "      <td>B</td>\n",
       "      <td>P</td>\n",
       "    </tr>\n",
       "    <tr>\n",
       "      <th>1</th>\n",
       "      <td>Earth</td>\n",
       "      <td>False</td>\n",
       "      <td>TRAPPIST-1e</td>\n",
       "      <td>24.0</td>\n",
       "      <td>False</td>\n",
       "      <td>109.0</td>\n",
       "      <td>9.0</td>\n",
       "      <td>25.0</td>\n",
       "      <td>549.0</td>\n",
       "      <td>44.0</td>\n",
       "      <td>True</td>\n",
       "      <td>F</td>\n",
       "      <td>S</td>\n",
       "    </tr>\n",
       "    <tr>\n",
       "      <th>2</th>\n",
       "      <td>Europa</td>\n",
       "      <td>False</td>\n",
       "      <td>TRAPPIST-1e</td>\n",
       "      <td>58.0</td>\n",
       "      <td>True</td>\n",
       "      <td>43.0</td>\n",
       "      <td>3576.0</td>\n",
       "      <td>0.0</td>\n",
       "      <td>6715.0</td>\n",
       "      <td>49.0</td>\n",
       "      <td>False</td>\n",
       "      <td>A</td>\n",
       "      <td>S</td>\n",
       "    </tr>\n",
       "    <tr>\n",
       "      <th>3</th>\n",
       "      <td>Europa</td>\n",
       "      <td>False</td>\n",
       "      <td>TRAPPIST-1e</td>\n",
       "      <td>33.0</td>\n",
       "      <td>False</td>\n",
       "      <td>0.0</td>\n",
       "      <td>1283.0</td>\n",
       "      <td>371.0</td>\n",
       "      <td>3329.0</td>\n",
       "      <td>193.0</td>\n",
       "      <td>False</td>\n",
       "      <td>A</td>\n",
       "      <td>S</td>\n",
       "    </tr>\n",
       "    <tr>\n",
       "      <th>4</th>\n",
       "      <td>Earth</td>\n",
       "      <td>False</td>\n",
       "      <td>TRAPPIST-1e</td>\n",
       "      <td>16.0</td>\n",
       "      <td>False</td>\n",
       "      <td>303.0</td>\n",
       "      <td>70.0</td>\n",
       "      <td>151.0</td>\n",
       "      <td>565.0</td>\n",
       "      <td>2.0</td>\n",
       "      <td>True</td>\n",
       "      <td>F</td>\n",
       "      <td>S</td>\n",
       "    </tr>\n",
       "  </tbody>\n",
       "</table>\n",
       "</div>"
      ],
      "text/plain": [
       "  HomePlanet  CryoSleep  Destination   Age    VIP  RoomService  FoodCourt  ShoppingMall     Spa  VRDeck Transported Deck Side\n",
       "0     Europa      False  TRAPPIST-1e  39.0  False          0.0        0.0           0.0     0.0     0.0       False    B    P\n",
       "1      Earth      False  TRAPPIST-1e  24.0  False        109.0        9.0          25.0   549.0    44.0        True    F    S\n",
       "2     Europa      False  TRAPPIST-1e  58.0   True         43.0     3576.0           0.0  6715.0    49.0       False    A    S\n",
       "3     Europa      False  TRAPPIST-1e  33.0  False          0.0     1283.0         371.0  3329.0   193.0       False    A    S\n",
       "4      Earth      False  TRAPPIST-1e  16.0  False        303.0       70.0         151.0   565.0     2.0        True    F    S"
      ]
     },
     "execution_count": 48,
     "metadata": {},
     "output_type": "execute_result"
    }
   ],
   "source": [
    "all_data.head()"
   ]
  },
  {
   "cell_type": "markdown",
   "id": "f58618ed",
   "metadata": {
    "papermill": {
     "duration": 0.030034,
     "end_time": "2022-10-16T05:51:29.131371",
     "exception": false,
     "start_time": "2022-10-16T05:51:29.101337",
     "status": "completed"
    },
    "tags": []
   },
   "source": [
    "分类型特征（需要转换为数值）：HomePlanet、CryoSleep、Destination、VIP、Deck、Side\n",
    "<br>\n",
    "\n",
    "数值型特征（无需转换）：Age、RoomService、FoodCourt、ShoppingMall、Spa、VRDeck\n",
    "<br>\n",
    "\n",
    "目标特征（bool类型）：Transported"
   ]
  },
  {
   "cell_type": "code",
   "execution_count": 49,
   "id": "0dd9f392",
   "metadata": {
    "execution": {
     "iopub.execute_input": "2022-10-16T05:51:29.193645Z",
     "iopub.status.busy": "2022-10-16T05:51:29.193181Z",
     "iopub.status.idle": "2022-10-16T05:51:29.227753Z",
     "shell.execute_reply": "2022-10-16T05:51:29.226639Z"
    },
    "papermill": {
     "duration": 0.068416,
     "end_time": "2022-10-16T05:51:29.230092",
     "exception": false,
     "start_time": "2022-10-16T05:51:29.161676",
     "status": "completed"
    },
    "tags": []
   },
   "outputs": [
    {
     "data": {
      "text/html": [
       "<div>\n",
       "<style scoped>\n",
       "    .dataframe tbody tr th:only-of-type {\n",
       "        vertical-align: middle;\n",
       "    }\n",
       "\n",
       "    .dataframe tbody tr th {\n",
       "        vertical-align: top;\n",
       "    }\n",
       "\n",
       "    .dataframe thead th {\n",
       "        text-align: right;\n",
       "    }\n",
       "</style>\n",
       "<table border=\"1\" class=\"dataframe\">\n",
       "  <thead>\n",
       "    <tr style=\"text-align: right;\">\n",
       "      <th></th>\n",
       "      <th>HomePlanet</th>\n",
       "      <th>CryoSleep</th>\n",
       "      <th>Destination</th>\n",
       "      <th>Age</th>\n",
       "      <th>VIP</th>\n",
       "      <th>RoomService</th>\n",
       "      <th>FoodCourt</th>\n",
       "      <th>ShoppingMall</th>\n",
       "      <th>Spa</th>\n",
       "      <th>VRDeck</th>\n",
       "      <th>Transported</th>\n",
       "      <th>Deck</th>\n",
       "      <th>Side</th>\n",
       "    </tr>\n",
       "  </thead>\n",
       "  <tbody>\n",
       "    <tr>\n",
       "      <th>0</th>\n",
       "      <td>1</td>\n",
       "      <td>0</td>\n",
       "      <td>2</td>\n",
       "      <td>39.0</td>\n",
       "      <td>0</td>\n",
       "      <td>0.0</td>\n",
       "      <td>0.0</td>\n",
       "      <td>0.0</td>\n",
       "      <td>0.0</td>\n",
       "      <td>0.0</td>\n",
       "      <td>False</td>\n",
       "      <td>1</td>\n",
       "      <td>0</td>\n",
       "    </tr>\n",
       "    <tr>\n",
       "      <th>1</th>\n",
       "      <td>0</td>\n",
       "      <td>0</td>\n",
       "      <td>2</td>\n",
       "      <td>24.0</td>\n",
       "      <td>0</td>\n",
       "      <td>109.0</td>\n",
       "      <td>9.0</td>\n",
       "      <td>25.0</td>\n",
       "      <td>549.0</td>\n",
       "      <td>44.0</td>\n",
       "      <td>True</td>\n",
       "      <td>5</td>\n",
       "      <td>1</td>\n",
       "    </tr>\n",
       "    <tr>\n",
       "      <th>2</th>\n",
       "      <td>1</td>\n",
       "      <td>0</td>\n",
       "      <td>2</td>\n",
       "      <td>58.0</td>\n",
       "      <td>1</td>\n",
       "      <td>43.0</td>\n",
       "      <td>3576.0</td>\n",
       "      <td>0.0</td>\n",
       "      <td>6715.0</td>\n",
       "      <td>49.0</td>\n",
       "      <td>False</td>\n",
       "      <td>0</td>\n",
       "      <td>1</td>\n",
       "    </tr>\n",
       "    <tr>\n",
       "      <th>3</th>\n",
       "      <td>1</td>\n",
       "      <td>0</td>\n",
       "      <td>2</td>\n",
       "      <td>33.0</td>\n",
       "      <td>0</td>\n",
       "      <td>0.0</td>\n",
       "      <td>1283.0</td>\n",
       "      <td>371.0</td>\n",
       "      <td>3329.0</td>\n",
       "      <td>193.0</td>\n",
       "      <td>False</td>\n",
       "      <td>0</td>\n",
       "      <td>1</td>\n",
       "    </tr>\n",
       "    <tr>\n",
       "      <th>4</th>\n",
       "      <td>0</td>\n",
       "      <td>0</td>\n",
       "      <td>2</td>\n",
       "      <td>16.0</td>\n",
       "      <td>0</td>\n",
       "      <td>303.0</td>\n",
       "      <td>70.0</td>\n",
       "      <td>151.0</td>\n",
       "      <td>565.0</td>\n",
       "      <td>2.0</td>\n",
       "      <td>True</td>\n",
       "      <td>5</td>\n",
       "      <td>1</td>\n",
       "    </tr>\n",
       "  </tbody>\n",
       "</table>\n",
       "</div>"
      ],
      "text/plain": [
       "   HomePlanet  CryoSleep  Destination   Age  VIP  RoomService  FoodCourt  ShoppingMall     Spa  VRDeck Transported  Deck  Side\n",
       "0           1          0            2  39.0    0          0.0        0.0           0.0     0.0     0.0       False     1     0\n",
       "1           0          0            2  24.0    0        109.0        9.0          25.0   549.0    44.0        True     5     1\n",
       "2           1          0            2  58.0    1         43.0     3576.0           0.0  6715.0    49.0       False     0     1\n",
       "3           1          0            2  33.0    0          0.0     1283.0         371.0  3329.0   193.0       False     0     1\n",
       "4           0          0            2  16.0    0        303.0       70.0         151.0   565.0     2.0        True     5     1"
      ]
     },
     "execution_count": 49,
     "metadata": {},
     "output_type": "execute_result"
    }
   ],
   "source": [
    "categorical_col = ['HomePlanet', 'CryoSleep', 'Destination', 'VIP', 'Deck', 'Side']\n",
    "# 将非数字的标签分类字段编码为数字\n",
    "for col in categorical_col:\n",
    "    all_data[col] = all_data[col].astype(\"category\").cat.codes\n",
    "\n",
    "all_data.head()"
   ]
  },
  {
   "cell_type": "markdown",
   "id": "9423e87f",
   "metadata": {
    "papermill": {
     "duration": 0.030687,
     "end_time": "2022-10-16T05:51:29.292180",
     "exception": false,
     "start_time": "2022-10-16T05:51:29.261493",
     "status": "completed"
    },
    "tags": []
   },
   "source": [
    "# 独热编码"
   ]
  },
  {
   "cell_type": "code",
   "execution_count": 50,
   "id": "b6d3ee7e",
   "metadata": {
    "execution": {
     "iopub.execute_input": "2022-10-16T05:51:29.354613Z",
     "iopub.status.busy": "2022-10-16T05:51:29.353834Z",
     "iopub.status.idle": "2022-10-16T05:51:29.553326Z",
     "shell.execute_reply": "2022-10-16T05:51:29.551510Z"
    },
    "papermill": {
     "duration": 0.235118,
     "end_time": "2022-10-16T05:51:29.557355",
     "exception": false,
     "start_time": "2022-10-16T05:51:29.322237",
     "status": "completed"
    },
    "tags": []
   },
   "outputs": [
    {
     "data": {
      "text/html": [
       "<div>\n",
       "<style scoped>\n",
       "    .dataframe tbody tr th:only-of-type {\n",
       "        vertical-align: middle;\n",
       "    }\n",
       "\n",
       "    .dataframe tbody tr th {\n",
       "        vertical-align: top;\n",
       "    }\n",
       "\n",
       "    .dataframe thead th {\n",
       "        text-align: right;\n",
       "    }\n",
       "</style>\n",
       "<table border=\"1\" class=\"dataframe\">\n",
       "  <thead>\n",
       "    <tr style=\"text-align: right;\">\n",
       "      <th></th>\n",
       "      <th>0</th>\n",
       "      <th>1</th>\n",
       "      <th>2</th>\n",
       "      <th>3</th>\n",
       "      <th>4</th>\n",
       "      <th>5</th>\n",
       "      <th>6</th>\n",
       "      <th>7</th>\n",
       "      <th>8</th>\n",
       "      <th>9</th>\n",
       "      <th>10</th>\n",
       "      <th>11</th>\n",
       "      <th>12</th>\n",
       "      <th>13</th>\n",
       "      <th>14</th>\n",
       "      <th>15</th>\n",
       "      <th>16</th>\n",
       "      <th>17</th>\n",
       "      <th>18</th>\n",
       "      <th>19</th>\n",
       "      <th>Age</th>\n",
       "      <th>RoomService</th>\n",
       "      <th>FoodCourt</th>\n",
       "      <th>ShoppingMall</th>\n",
       "      <th>Spa</th>\n",
       "      <th>VRDeck</th>\n",
       "      <th>Transported</th>\n",
       "    </tr>\n",
       "  </thead>\n",
       "  <tbody>\n",
       "    <tr>\n",
       "      <th>0</th>\n",
       "      <td>0.0</td>\n",
       "      <td>1.0</td>\n",
       "      <td>0.0</td>\n",
       "      <td>1.0</td>\n",
       "      <td>0.0</td>\n",
       "      <td>0.0</td>\n",
       "      <td>0.0</td>\n",
       "      <td>1.0</td>\n",
       "      <td>1.0</td>\n",
       "      <td>0.0</td>\n",
       "      <td>0.0</td>\n",
       "      <td>1.0</td>\n",
       "      <td>0.0</td>\n",
       "      <td>0.0</td>\n",
       "      <td>0.0</td>\n",
       "      <td>0.0</td>\n",
       "      <td>0.0</td>\n",
       "      <td>0.0</td>\n",
       "      <td>1.0</td>\n",
       "      <td>0.0</td>\n",
       "      <td>39.0</td>\n",
       "      <td>0.0</td>\n",
       "      <td>0.0</td>\n",
       "      <td>0.0</td>\n",
       "      <td>0.0</td>\n",
       "      <td>0.0</td>\n",
       "      <td>False</td>\n",
       "    </tr>\n",
       "    <tr>\n",
       "      <th>1</th>\n",
       "      <td>1.0</td>\n",
       "      <td>0.0</td>\n",
       "      <td>0.0</td>\n",
       "      <td>1.0</td>\n",
       "      <td>0.0</td>\n",
       "      <td>0.0</td>\n",
       "      <td>0.0</td>\n",
       "      <td>1.0</td>\n",
       "      <td>1.0</td>\n",
       "      <td>0.0</td>\n",
       "      <td>0.0</td>\n",
       "      <td>0.0</td>\n",
       "      <td>0.0</td>\n",
       "      <td>0.0</td>\n",
       "      <td>0.0</td>\n",
       "      <td>1.0</td>\n",
       "      <td>0.0</td>\n",
       "      <td>0.0</td>\n",
       "      <td>0.0</td>\n",
       "      <td>1.0</td>\n",
       "      <td>24.0</td>\n",
       "      <td>109.0</td>\n",
       "      <td>9.0</td>\n",
       "      <td>25.0</td>\n",
       "      <td>549.0</td>\n",
       "      <td>44.0</td>\n",
       "      <td>True</td>\n",
       "    </tr>\n",
       "    <tr>\n",
       "      <th>2</th>\n",
       "      <td>0.0</td>\n",
       "      <td>1.0</td>\n",
       "      <td>0.0</td>\n",
       "      <td>1.0</td>\n",
       "      <td>0.0</td>\n",
       "      <td>0.0</td>\n",
       "      <td>0.0</td>\n",
       "      <td>1.0</td>\n",
       "      <td>0.0</td>\n",
       "      <td>1.0</td>\n",
       "      <td>1.0</td>\n",
       "      <td>0.0</td>\n",
       "      <td>0.0</td>\n",
       "      <td>0.0</td>\n",
       "      <td>0.0</td>\n",
       "      <td>0.0</td>\n",
       "      <td>0.0</td>\n",
       "      <td>0.0</td>\n",
       "      <td>0.0</td>\n",
       "      <td>1.0</td>\n",
       "      <td>58.0</td>\n",
       "      <td>43.0</td>\n",
       "      <td>3576.0</td>\n",
       "      <td>0.0</td>\n",
       "      <td>6715.0</td>\n",
       "      <td>49.0</td>\n",
       "      <td>False</td>\n",
       "    </tr>\n",
       "    <tr>\n",
       "      <th>3</th>\n",
       "      <td>0.0</td>\n",
       "      <td>1.0</td>\n",
       "      <td>0.0</td>\n",
       "      <td>1.0</td>\n",
       "      <td>0.0</td>\n",
       "      <td>0.0</td>\n",
       "      <td>0.0</td>\n",
       "      <td>1.0</td>\n",
       "      <td>1.0</td>\n",
       "      <td>0.0</td>\n",
       "      <td>1.0</td>\n",
       "      <td>0.0</td>\n",
       "      <td>0.0</td>\n",
       "      <td>0.0</td>\n",
       "      <td>0.0</td>\n",
       "      <td>0.0</td>\n",
       "      <td>0.0</td>\n",
       "      <td>0.0</td>\n",
       "      <td>0.0</td>\n",
       "      <td>1.0</td>\n",
       "      <td>33.0</td>\n",
       "      <td>0.0</td>\n",
       "      <td>1283.0</td>\n",
       "      <td>371.0</td>\n",
       "      <td>3329.0</td>\n",
       "      <td>193.0</td>\n",
       "      <td>False</td>\n",
       "    </tr>\n",
       "    <tr>\n",
       "      <th>4</th>\n",
       "      <td>1.0</td>\n",
       "      <td>0.0</td>\n",
       "      <td>0.0</td>\n",
       "      <td>1.0</td>\n",
       "      <td>0.0</td>\n",
       "      <td>0.0</td>\n",
       "      <td>0.0</td>\n",
       "      <td>1.0</td>\n",
       "      <td>1.0</td>\n",
       "      <td>0.0</td>\n",
       "      <td>0.0</td>\n",
       "      <td>0.0</td>\n",
       "      <td>0.0</td>\n",
       "      <td>0.0</td>\n",
       "      <td>0.0</td>\n",
       "      <td>1.0</td>\n",
       "      <td>0.0</td>\n",
       "      <td>0.0</td>\n",
       "      <td>0.0</td>\n",
       "      <td>1.0</td>\n",
       "      <td>16.0</td>\n",
       "      <td>303.0</td>\n",
       "      <td>70.0</td>\n",
       "      <td>151.0</td>\n",
       "      <td>565.0</td>\n",
       "      <td>2.0</td>\n",
       "      <td>True</td>\n",
       "    </tr>\n",
       "  </tbody>\n",
       "</table>\n",
       "</div>"
      ],
      "text/plain": [
       "     0    1    2    3    4    5    6    7    8    9   10   11   12   13   14   15   16   17   18   19   Age  RoomService  FoodCourt  ShoppingMall     Spa  VRDeck Transported\n",
       "0  0.0  1.0  0.0  1.0  0.0  0.0  0.0  1.0  1.0  0.0  0.0  1.0  0.0  0.0  0.0  0.0  0.0  0.0  1.0  0.0  39.0          0.0        0.0           0.0     0.0     0.0       False\n",
       "1  1.0  0.0  0.0  1.0  0.0  0.0  0.0  1.0  1.0  0.0  0.0  0.0  0.0  0.0  0.0  1.0  0.0  0.0  0.0  1.0  24.0        109.0        9.0          25.0   549.0    44.0        True\n",
       "2  0.0  1.0  0.0  1.0  0.0  0.0  0.0  1.0  0.0  1.0  1.0  0.0  0.0  0.0  0.0  0.0  0.0  0.0  0.0  1.0  58.0         43.0     3576.0           0.0  6715.0    49.0       False\n",
       "3  0.0  1.0  0.0  1.0  0.0  0.0  0.0  1.0  1.0  0.0  1.0  0.0  0.0  0.0  0.0  0.0  0.0  0.0  0.0  1.0  33.0          0.0     1283.0         371.0  3329.0   193.0       False\n",
       "4  1.0  0.0  0.0  1.0  0.0  0.0  0.0  1.0  1.0  0.0  0.0  0.0  0.0  0.0  0.0  1.0  0.0  0.0  0.0  1.0  16.0        303.0       70.0         151.0   565.0     2.0        True"
      ]
     },
     "execution_count": 50,
     "metadata": {},
     "output_type": "execute_result"
    }
   ],
   "source": [
    "from sklearn.preprocessing import OneHotEncoder\n",
    "ohe = OneHotEncoder(categories='auto')\n",
    "\n",
    "# 独热编码分类列\n",
    "# 不过这里得到的是一个数组，因此后续要将它转换为 dataframe\n",
    "array_hot_encoded = ohe.fit_transform(all_data[categorical_col]).toarray()\n",
    "\n",
    "# 将数组转换为dataframe\n",
    "data_hot_encoded = pd.DataFrame(array_hot_encoded, index=all_data.index)\n",
    "\n",
    "# 得到其他不需要编码的字段\n",
    "data_other_cols = all_data.drop(columns=categorical_col)\n",
    "\n",
    "# 连接两个dataframe\n",
    "all_data = pd.concat([data_hot_encoded, data_other_cols], axis=1)\n",
    "\n",
    "all_data.head()"
   ]
  },
  {
   "cell_type": "code",
   "execution_count": 51,
   "id": "be194320",
   "metadata": {
    "execution": {
     "iopub.execute_input": "2022-10-16T05:51:29.620317Z",
     "iopub.status.busy": "2022-10-16T05:51:29.619263Z",
     "iopub.status.idle": "2022-10-16T05:51:29.628572Z",
     "shell.execute_reply": "2022-10-16T05:51:29.626825Z"
    },
    "papermill": {
     "duration": 0.044319,
     "end_time": "2022-10-16T05:51:29.632218",
     "exception": false,
     "start_time": "2022-10-16T05:51:29.587899",
     "status": "completed"
    },
    "tags": []
   },
   "outputs": [
    {
     "name": "stdout",
     "output_type": "stream",
     "text": [
      "in Index([<class 'int'>, <class 'int'>, <class 'int'>, <class 'int'>,\n",
      "       <class 'int'>, <class 'int'>, <class 'int'>, <class 'int'>,\n",
      "       <class 'int'>, <class 'int'>, <class 'int'>, <class 'int'>,\n",
      "       <class 'int'>, <class 'int'>, <class 'int'>, <class 'int'>,\n",
      "       <class 'int'>, <class 'int'>, <class 'int'>, <class 'int'>,\n",
      "       <class 'str'>, <class 'str'>, <class 'str'>, <class 'str'>,\n",
      "       <class 'str'>, <class 'str'>, <class 'str'>],\n",
      "      dtype='object')\n",
      "out Index([<class 'str'>, <class 'str'>, <class 'str'>, <class 'str'>,\n",
      "       <class 'str'>, <class 'str'>, <class 'str'>, <class 'str'>,\n",
      "       <class 'str'>, <class 'str'>, <class 'str'>, <class 'str'>,\n",
      "       <class 'str'>, <class 'str'>, <class 'str'>, <class 'str'>,\n",
      "       <class 'str'>, <class 'str'>, <class 'str'>, <class 'str'>,\n",
      "       <class 'str'>, <class 'str'>, <class 'str'>, <class 'str'>,\n",
      "       <class 'str'>, <class 'str'>, <class 'str'>],\n",
      "      dtype='object')\n"
     ]
    }
   ],
   "source": [
    "# 将所有特征的列名称转换为 str\n",
    "print('in',all_data.columns.map(type))\n",
    "all_data.columns = all_data.columns.astype(str)\n",
    "print('out',all_data.columns.map(type))"
   ]
  },
  {
   "cell_type": "markdown",
   "id": "d534620c",
   "metadata": {
    "papermill": {
     "duration": 0.033842,
     "end_time": "2022-10-16T05:51:29.699561",
     "exception": false,
     "start_time": "2022-10-16T05:51:29.665719",
     "status": "completed"
    },
    "tags": []
   },
   "source": [
    "# 拆分训练集和测试集"
   ]
  },
  {
   "cell_type": "code",
   "execution_count": 52,
   "id": "c355ca91",
   "metadata": {
    "execution": {
     "iopub.execute_input": "2022-10-16T05:51:29.762997Z",
     "iopub.status.busy": "2022-10-16T05:51:29.762361Z",
     "iopub.status.idle": "2022-10-16T05:51:29.769158Z",
     "shell.execute_reply": "2022-10-16T05:51:29.767808Z"
    },
    "papermill": {
     "duration": 0.042073,
     "end_time": "2022-10-16T05:51:29.771775",
     "exception": false,
     "start_time": "2022-10-16T05:51:29.729702",
     "status": "completed"
    },
    "tags": []
   },
   "outputs": [
    {
     "data": {
      "text/plain": [
       "((8693, 12), (4277, 11), (12970, 27))"
      ]
     },
     "execution_count": 52,
     "metadata": {},
     "output_type": "execute_result"
    }
   ],
   "source": [
    "train_data.shape, test_data.shape, all_data.shape"
   ]
  },
  {
   "cell_type": "code",
   "execution_count": 53,
   "id": "2752e702",
   "metadata": {
    "execution": {
     "iopub.execute_input": "2022-10-16T05:51:29.836521Z",
     "iopub.status.busy": "2022-10-16T05:51:29.835829Z",
     "iopub.status.idle": "2022-10-16T05:51:29.843896Z",
     "shell.execute_reply": "2022-10-16T05:51:29.842955Z"
    },
    "papermill": {
     "duration": 0.042504,
     "end_time": "2022-10-16T05:51:29.846068",
     "exception": false,
     "start_time": "2022-10-16T05:51:29.803564",
     "status": "completed"
    },
    "tags": []
   },
   "outputs": [
    {
     "data": {
      "text/plain": [
       "((8693, 27), (4277, 27))"
      ]
     },
     "execution_count": 53,
     "metadata": {},
     "output_type": "execute_result"
    }
   ],
   "source": [
    "train_data = all_data.iloc[:8693, :]\n",
    "test_data = all_data.iloc[-4277:, :]\n",
    "train_data.shape, test_data.shape"
   ]
  },
  {
   "cell_type": "code",
   "execution_count": 54,
   "id": "354e2a12",
   "metadata": {
    "execution": {
     "iopub.execute_input": "2022-10-16T05:51:29.908995Z",
     "iopub.status.busy": "2022-10-16T05:51:29.908302Z",
     "iopub.status.idle": "2022-10-16T05:51:29.945439Z",
     "shell.execute_reply": "2022-10-16T05:51:29.944305Z"
    },
    "papermill": {
     "duration": 0.071724,
     "end_time": "2022-10-16T05:51:29.948286",
     "exception": false,
     "start_time": "2022-10-16T05:51:29.876562",
     "status": "completed"
    },
    "tags": []
   },
   "outputs": [
    {
     "data": {
      "text/html": [
       "<div>\n",
       "<style scoped>\n",
       "    .dataframe tbody tr th:only-of-type {\n",
       "        vertical-align: middle;\n",
       "    }\n",
       "\n",
       "    .dataframe tbody tr th {\n",
       "        vertical-align: top;\n",
       "    }\n",
       "\n",
       "    .dataframe thead th {\n",
       "        text-align: right;\n",
       "    }\n",
       "</style>\n",
       "<table border=\"1\" class=\"dataframe\">\n",
       "  <thead>\n",
       "    <tr style=\"text-align: right;\">\n",
       "      <th></th>\n",
       "      <th>0</th>\n",
       "      <th>1</th>\n",
       "      <th>2</th>\n",
       "      <th>3</th>\n",
       "      <th>4</th>\n",
       "      <th>5</th>\n",
       "      <th>6</th>\n",
       "      <th>7</th>\n",
       "      <th>8</th>\n",
       "      <th>9</th>\n",
       "      <th>10</th>\n",
       "      <th>11</th>\n",
       "      <th>12</th>\n",
       "      <th>13</th>\n",
       "      <th>14</th>\n",
       "      <th>15</th>\n",
       "      <th>16</th>\n",
       "      <th>17</th>\n",
       "      <th>18</th>\n",
       "      <th>19</th>\n",
       "      <th>Age</th>\n",
       "      <th>RoomService</th>\n",
       "      <th>FoodCourt</th>\n",
       "      <th>ShoppingMall</th>\n",
       "      <th>Spa</th>\n",
       "      <th>VRDeck</th>\n",
       "      <th>Transported</th>\n",
       "    </tr>\n",
       "  </thead>\n",
       "  <tbody>\n",
       "    <tr>\n",
       "      <th>0</th>\n",
       "      <td>0.0</td>\n",
       "      <td>1.0</td>\n",
       "      <td>0.0</td>\n",
       "      <td>1.0</td>\n",
       "      <td>0.0</td>\n",
       "      <td>0.0</td>\n",
       "      <td>0.0</td>\n",
       "      <td>1.0</td>\n",
       "      <td>1.0</td>\n",
       "      <td>0.0</td>\n",
       "      <td>0.0</td>\n",
       "      <td>1.0</td>\n",
       "      <td>0.0</td>\n",
       "      <td>0.0</td>\n",
       "      <td>0.0</td>\n",
       "      <td>0.0</td>\n",
       "      <td>0.0</td>\n",
       "      <td>0.0</td>\n",
       "      <td>1.0</td>\n",
       "      <td>0.0</td>\n",
       "      <td>39.0</td>\n",
       "      <td>0.0</td>\n",
       "      <td>0.0</td>\n",
       "      <td>0.0</td>\n",
       "      <td>0.0</td>\n",
       "      <td>0.0</td>\n",
       "      <td>False</td>\n",
       "    </tr>\n",
       "    <tr>\n",
       "      <th>1</th>\n",
       "      <td>1.0</td>\n",
       "      <td>0.0</td>\n",
       "      <td>0.0</td>\n",
       "      <td>1.0</td>\n",
       "      <td>0.0</td>\n",
       "      <td>0.0</td>\n",
       "      <td>0.0</td>\n",
       "      <td>1.0</td>\n",
       "      <td>1.0</td>\n",
       "      <td>0.0</td>\n",
       "      <td>0.0</td>\n",
       "      <td>0.0</td>\n",
       "      <td>0.0</td>\n",
       "      <td>0.0</td>\n",
       "      <td>0.0</td>\n",
       "      <td>1.0</td>\n",
       "      <td>0.0</td>\n",
       "      <td>0.0</td>\n",
       "      <td>0.0</td>\n",
       "      <td>1.0</td>\n",
       "      <td>24.0</td>\n",
       "      <td>109.0</td>\n",
       "      <td>9.0</td>\n",
       "      <td>25.0</td>\n",
       "      <td>549.0</td>\n",
       "      <td>44.0</td>\n",
       "      <td>True</td>\n",
       "    </tr>\n",
       "    <tr>\n",
       "      <th>2</th>\n",
       "      <td>0.0</td>\n",
       "      <td>1.0</td>\n",
       "      <td>0.0</td>\n",
       "      <td>1.0</td>\n",
       "      <td>0.0</td>\n",
       "      <td>0.0</td>\n",
       "      <td>0.0</td>\n",
       "      <td>1.0</td>\n",
       "      <td>0.0</td>\n",
       "      <td>1.0</td>\n",
       "      <td>1.0</td>\n",
       "      <td>0.0</td>\n",
       "      <td>0.0</td>\n",
       "      <td>0.0</td>\n",
       "      <td>0.0</td>\n",
       "      <td>0.0</td>\n",
       "      <td>0.0</td>\n",
       "      <td>0.0</td>\n",
       "      <td>0.0</td>\n",
       "      <td>1.0</td>\n",
       "      <td>58.0</td>\n",
       "      <td>43.0</td>\n",
       "      <td>3576.0</td>\n",
       "      <td>0.0</td>\n",
       "      <td>6715.0</td>\n",
       "      <td>49.0</td>\n",
       "      <td>False</td>\n",
       "    </tr>\n",
       "    <tr>\n",
       "      <th>3</th>\n",
       "      <td>0.0</td>\n",
       "      <td>1.0</td>\n",
       "      <td>0.0</td>\n",
       "      <td>1.0</td>\n",
       "      <td>0.0</td>\n",
       "      <td>0.0</td>\n",
       "      <td>0.0</td>\n",
       "      <td>1.0</td>\n",
       "      <td>1.0</td>\n",
       "      <td>0.0</td>\n",
       "      <td>1.0</td>\n",
       "      <td>0.0</td>\n",
       "      <td>0.0</td>\n",
       "      <td>0.0</td>\n",
       "      <td>0.0</td>\n",
       "      <td>0.0</td>\n",
       "      <td>0.0</td>\n",
       "      <td>0.0</td>\n",
       "      <td>0.0</td>\n",
       "      <td>1.0</td>\n",
       "      <td>33.0</td>\n",
       "      <td>0.0</td>\n",
       "      <td>1283.0</td>\n",
       "      <td>371.0</td>\n",
       "      <td>3329.0</td>\n",
       "      <td>193.0</td>\n",
       "      <td>False</td>\n",
       "    </tr>\n",
       "    <tr>\n",
       "      <th>4</th>\n",
       "      <td>1.0</td>\n",
       "      <td>0.0</td>\n",
       "      <td>0.0</td>\n",
       "      <td>1.0</td>\n",
       "      <td>0.0</td>\n",
       "      <td>0.0</td>\n",
       "      <td>0.0</td>\n",
       "      <td>1.0</td>\n",
       "      <td>1.0</td>\n",
       "      <td>0.0</td>\n",
       "      <td>0.0</td>\n",
       "      <td>0.0</td>\n",
       "      <td>0.0</td>\n",
       "      <td>0.0</td>\n",
       "      <td>0.0</td>\n",
       "      <td>1.0</td>\n",
       "      <td>0.0</td>\n",
       "      <td>0.0</td>\n",
       "      <td>0.0</td>\n",
       "      <td>1.0</td>\n",
       "      <td>16.0</td>\n",
       "      <td>303.0</td>\n",
       "      <td>70.0</td>\n",
       "      <td>151.0</td>\n",
       "      <td>565.0</td>\n",
       "      <td>2.0</td>\n",
       "      <td>True</td>\n",
       "    </tr>\n",
       "  </tbody>\n",
       "</table>\n",
       "</div>"
      ],
      "text/plain": [
       "     0    1    2    3    4    5    6    7    8    9   10   11   12   13   14   15   16   17   18   19   Age  RoomService  FoodCourt  ShoppingMall     Spa  VRDeck Transported\n",
       "0  0.0  1.0  0.0  1.0  0.0  0.0  0.0  1.0  1.0  0.0  0.0  1.0  0.0  0.0  0.0  0.0  0.0  0.0  1.0  0.0  39.0          0.0        0.0           0.0     0.0     0.0       False\n",
       "1  1.0  0.0  0.0  1.0  0.0  0.0  0.0  1.0  1.0  0.0  0.0  0.0  0.0  0.0  0.0  1.0  0.0  0.0  0.0  1.0  24.0        109.0        9.0          25.0   549.0    44.0        True\n",
       "2  0.0  1.0  0.0  1.0  0.0  0.0  0.0  1.0  0.0  1.0  1.0  0.0  0.0  0.0  0.0  0.0  0.0  0.0  0.0  1.0  58.0         43.0     3576.0           0.0  6715.0    49.0       False\n",
       "3  0.0  1.0  0.0  1.0  0.0  0.0  0.0  1.0  1.0  0.0  1.0  0.0  0.0  0.0  0.0  0.0  0.0  0.0  0.0  1.0  33.0          0.0     1283.0         371.0  3329.0   193.0       False\n",
       "4  1.0  0.0  0.0  1.0  0.0  0.0  0.0  1.0  1.0  0.0  0.0  0.0  0.0  0.0  0.0  1.0  0.0  0.0  0.0  1.0  16.0        303.0       70.0         151.0   565.0     2.0        True"
      ]
     },
     "execution_count": 54,
     "metadata": {},
     "output_type": "execute_result"
    }
   ],
   "source": [
    "train_data.head()"
   ]
  },
  {
   "cell_type": "code",
   "execution_count": 55,
   "id": "848c3bd4",
   "metadata": {
    "execution": {
     "iopub.execute_input": "2022-10-16T05:51:30.015120Z",
     "iopub.status.busy": "2022-10-16T05:51:30.014446Z",
     "iopub.status.idle": "2022-10-16T05:51:30.050240Z",
     "shell.execute_reply": "2022-10-16T05:51:30.049006Z"
    },
    "papermill": {
     "duration": 0.072775,
     "end_time": "2022-10-16T05:51:30.052672",
     "exception": false,
     "start_time": "2022-10-16T05:51:29.979897",
     "status": "completed"
    },
    "tags": []
   },
   "outputs": [
    {
     "data": {
      "text/html": [
       "<div>\n",
       "<style scoped>\n",
       "    .dataframe tbody tr th:only-of-type {\n",
       "        vertical-align: middle;\n",
       "    }\n",
       "\n",
       "    .dataframe tbody tr th {\n",
       "        vertical-align: top;\n",
       "    }\n",
       "\n",
       "    .dataframe thead th {\n",
       "        text-align: right;\n",
       "    }\n",
       "</style>\n",
       "<table border=\"1\" class=\"dataframe\">\n",
       "  <thead>\n",
       "    <tr style=\"text-align: right;\">\n",
       "      <th></th>\n",
       "      <th>0</th>\n",
       "      <th>1</th>\n",
       "      <th>2</th>\n",
       "      <th>3</th>\n",
       "      <th>4</th>\n",
       "      <th>5</th>\n",
       "      <th>6</th>\n",
       "      <th>7</th>\n",
       "      <th>8</th>\n",
       "      <th>9</th>\n",
       "      <th>10</th>\n",
       "      <th>11</th>\n",
       "      <th>12</th>\n",
       "      <th>13</th>\n",
       "      <th>14</th>\n",
       "      <th>15</th>\n",
       "      <th>16</th>\n",
       "      <th>17</th>\n",
       "      <th>18</th>\n",
       "      <th>19</th>\n",
       "      <th>Age</th>\n",
       "      <th>RoomService</th>\n",
       "      <th>FoodCourt</th>\n",
       "      <th>ShoppingMall</th>\n",
       "      <th>Spa</th>\n",
       "      <th>VRDeck</th>\n",
       "      <th>Transported</th>\n",
       "    </tr>\n",
       "  </thead>\n",
       "  <tbody>\n",
       "    <tr>\n",
       "      <th>8693</th>\n",
       "      <td>1.0</td>\n",
       "      <td>0.0</td>\n",
       "      <td>0.0</td>\n",
       "      <td>0.0</td>\n",
       "      <td>1.0</td>\n",
       "      <td>0.0</td>\n",
       "      <td>0.0</td>\n",
       "      <td>1.0</td>\n",
       "      <td>1.0</td>\n",
       "      <td>0.0</td>\n",
       "      <td>0.0</td>\n",
       "      <td>0.0</td>\n",
       "      <td>0.0</td>\n",
       "      <td>0.0</td>\n",
       "      <td>0.0</td>\n",
       "      <td>0.0</td>\n",
       "      <td>1.0</td>\n",
       "      <td>0.0</td>\n",
       "      <td>0.0</td>\n",
       "      <td>1.0</td>\n",
       "      <td>27.0</td>\n",
       "      <td>0.0</td>\n",
       "      <td>0.0</td>\n",
       "      <td>0.0</td>\n",
       "      <td>0.0</td>\n",
       "      <td>0.0</td>\n",
       "      <td>NaN</td>\n",
       "    </tr>\n",
       "    <tr>\n",
       "      <th>8694</th>\n",
       "      <td>1.0</td>\n",
       "      <td>0.0</td>\n",
       "      <td>0.0</td>\n",
       "      <td>1.0</td>\n",
       "      <td>0.0</td>\n",
       "      <td>0.0</td>\n",
       "      <td>0.0</td>\n",
       "      <td>1.0</td>\n",
       "      <td>1.0</td>\n",
       "      <td>0.0</td>\n",
       "      <td>0.0</td>\n",
       "      <td>0.0</td>\n",
       "      <td>0.0</td>\n",
       "      <td>0.0</td>\n",
       "      <td>0.0</td>\n",
       "      <td>1.0</td>\n",
       "      <td>0.0</td>\n",
       "      <td>0.0</td>\n",
       "      <td>0.0</td>\n",
       "      <td>1.0</td>\n",
       "      <td>19.0</td>\n",
       "      <td>0.0</td>\n",
       "      <td>9.0</td>\n",
       "      <td>0.0</td>\n",
       "      <td>2823.0</td>\n",
       "      <td>0.0</td>\n",
       "      <td>NaN</td>\n",
       "    </tr>\n",
       "    <tr>\n",
       "      <th>8695</th>\n",
       "      <td>0.0</td>\n",
       "      <td>1.0</td>\n",
       "      <td>0.0</td>\n",
       "      <td>0.0</td>\n",
       "      <td>1.0</td>\n",
       "      <td>1.0</td>\n",
       "      <td>0.0</td>\n",
       "      <td>0.0</td>\n",
       "      <td>1.0</td>\n",
       "      <td>0.0</td>\n",
       "      <td>0.0</td>\n",
       "      <td>0.0</td>\n",
       "      <td>1.0</td>\n",
       "      <td>0.0</td>\n",
       "      <td>0.0</td>\n",
       "      <td>0.0</td>\n",
       "      <td>0.0</td>\n",
       "      <td>0.0</td>\n",
       "      <td>0.0</td>\n",
       "      <td>1.0</td>\n",
       "      <td>31.0</td>\n",
       "      <td>0.0</td>\n",
       "      <td>0.0</td>\n",
       "      <td>0.0</td>\n",
       "      <td>0.0</td>\n",
       "      <td>0.0</td>\n",
       "      <td>NaN</td>\n",
       "    </tr>\n",
       "    <tr>\n",
       "      <th>8696</th>\n",
       "      <td>0.0</td>\n",
       "      <td>1.0</td>\n",
       "      <td>0.0</td>\n",
       "      <td>1.0</td>\n",
       "      <td>0.0</td>\n",
       "      <td>0.0</td>\n",
       "      <td>0.0</td>\n",
       "      <td>1.0</td>\n",
       "      <td>1.0</td>\n",
       "      <td>0.0</td>\n",
       "      <td>0.0</td>\n",
       "      <td>0.0</td>\n",
       "      <td>1.0</td>\n",
       "      <td>0.0</td>\n",
       "      <td>0.0</td>\n",
       "      <td>0.0</td>\n",
       "      <td>0.0</td>\n",
       "      <td>0.0</td>\n",
       "      <td>0.0</td>\n",
       "      <td>1.0</td>\n",
       "      <td>38.0</td>\n",
       "      <td>0.0</td>\n",
       "      <td>6652.0</td>\n",
       "      <td>0.0</td>\n",
       "      <td>181.0</td>\n",
       "      <td>585.0</td>\n",
       "      <td>NaN</td>\n",
       "    </tr>\n",
       "    <tr>\n",
       "      <th>8697</th>\n",
       "      <td>1.0</td>\n",
       "      <td>0.0</td>\n",
       "      <td>0.0</td>\n",
       "      <td>1.0</td>\n",
       "      <td>0.0</td>\n",
       "      <td>0.0</td>\n",
       "      <td>0.0</td>\n",
       "      <td>1.0</td>\n",
       "      <td>1.0</td>\n",
       "      <td>0.0</td>\n",
       "      <td>0.0</td>\n",
       "      <td>0.0</td>\n",
       "      <td>0.0</td>\n",
       "      <td>0.0</td>\n",
       "      <td>0.0</td>\n",
       "      <td>1.0</td>\n",
       "      <td>0.0</td>\n",
       "      <td>0.0</td>\n",
       "      <td>0.0</td>\n",
       "      <td>1.0</td>\n",
       "      <td>20.0</td>\n",
       "      <td>10.0</td>\n",
       "      <td>0.0</td>\n",
       "      <td>635.0</td>\n",
       "      <td>0.0</td>\n",
       "      <td>0.0</td>\n",
       "      <td>NaN</td>\n",
       "    </tr>\n",
       "  </tbody>\n",
       "</table>\n",
       "</div>"
      ],
      "text/plain": [
       "        0    1    2    3    4    5    6    7    8    9   10   11   12   13   14   15   16   17   18   19   Age  RoomService  FoodCourt  ShoppingMall     Spa  VRDeck Transported\n",
       "8693  1.0  0.0  0.0  0.0  1.0  0.0  0.0  1.0  1.0  0.0  0.0  0.0  0.0  0.0  0.0  0.0  1.0  0.0  0.0  1.0  27.0          0.0        0.0           0.0     0.0     0.0         NaN\n",
       "8694  1.0  0.0  0.0  1.0  0.0  0.0  0.0  1.0  1.0  0.0  0.0  0.0  0.0  0.0  0.0  1.0  0.0  0.0  0.0  1.0  19.0          0.0        9.0           0.0  2823.0     0.0         NaN\n",
       "8695  0.0  1.0  0.0  0.0  1.0  1.0  0.0  0.0  1.0  0.0  0.0  0.0  1.0  0.0  0.0  0.0  0.0  0.0  0.0  1.0  31.0          0.0        0.0           0.0     0.0     0.0         NaN\n",
       "8696  0.0  1.0  0.0  1.0  0.0  0.0  0.0  1.0  1.0  0.0  0.0  0.0  1.0  0.0  0.0  0.0  0.0  0.0  0.0  1.0  38.0          0.0     6652.0           0.0   181.0   585.0         NaN\n",
       "8697  1.0  0.0  0.0  1.0  0.0  0.0  0.0  1.0  1.0  0.0  0.0  0.0  0.0  0.0  0.0  1.0  0.0  0.0  0.0  1.0  20.0         10.0        0.0         635.0     0.0     0.0         NaN"
      ]
     },
     "execution_count": 55,
     "metadata": {},
     "output_type": "execute_result"
    }
   ],
   "source": [
    "test_data.head()"
   ]
  },
  {
   "cell_type": "code",
   "execution_count": 56,
   "id": "e9e79119",
   "metadata": {
    "execution": {
     "iopub.execute_input": "2022-10-16T05:51:30.117474Z",
     "iopub.status.busy": "2022-10-16T05:51:30.116795Z",
     "iopub.status.idle": "2022-10-16T05:51:30.124757Z",
     "shell.execute_reply": "2022-10-16T05:51:30.123622Z"
    },
    "papermill": {
     "duration": 0.04358,
     "end_time": "2022-10-16T05:51:30.127623",
     "exception": false,
     "start_time": "2022-10-16T05:51:30.084043",
     "status": "completed"
    },
    "tags": []
   },
   "outputs": [],
   "source": [
    "test_data.drop(['Transported'], axis=1, inplace=True)"
   ]
  },
  {
   "cell_type": "code",
   "execution_count": 57,
   "id": "48b26265",
   "metadata": {
    "execution": {
     "iopub.execute_input": "2022-10-16T05:51:30.192810Z",
     "iopub.status.busy": "2022-10-16T05:51:30.191564Z",
     "iopub.status.idle": "2022-10-16T05:51:30.227929Z",
     "shell.execute_reply": "2022-10-16T05:51:30.226955Z"
    },
    "papermill": {
     "duration": 0.071458,
     "end_time": "2022-10-16T05:51:30.230232",
     "exception": false,
     "start_time": "2022-10-16T05:51:30.158774",
     "status": "completed"
    },
    "tags": []
   },
   "outputs": [
    {
     "data": {
      "text/html": [
       "<div>\n",
       "<style scoped>\n",
       "    .dataframe tbody tr th:only-of-type {\n",
       "        vertical-align: middle;\n",
       "    }\n",
       "\n",
       "    .dataframe tbody tr th {\n",
       "        vertical-align: top;\n",
       "    }\n",
       "\n",
       "    .dataframe thead th {\n",
       "        text-align: right;\n",
       "    }\n",
       "</style>\n",
       "<table border=\"1\" class=\"dataframe\">\n",
       "  <thead>\n",
       "    <tr style=\"text-align: right;\">\n",
       "      <th></th>\n",
       "      <th>0</th>\n",
       "      <th>1</th>\n",
       "      <th>2</th>\n",
       "      <th>3</th>\n",
       "      <th>4</th>\n",
       "      <th>5</th>\n",
       "      <th>6</th>\n",
       "      <th>7</th>\n",
       "      <th>8</th>\n",
       "      <th>9</th>\n",
       "      <th>10</th>\n",
       "      <th>11</th>\n",
       "      <th>12</th>\n",
       "      <th>13</th>\n",
       "      <th>14</th>\n",
       "      <th>15</th>\n",
       "      <th>16</th>\n",
       "      <th>17</th>\n",
       "      <th>18</th>\n",
       "      <th>19</th>\n",
       "      <th>Age</th>\n",
       "      <th>RoomService</th>\n",
       "      <th>FoodCourt</th>\n",
       "      <th>ShoppingMall</th>\n",
       "      <th>Spa</th>\n",
       "      <th>VRDeck</th>\n",
       "    </tr>\n",
       "  </thead>\n",
       "  <tbody>\n",
       "    <tr>\n",
       "      <th>8693</th>\n",
       "      <td>1.0</td>\n",
       "      <td>0.0</td>\n",
       "      <td>0.0</td>\n",
       "      <td>0.0</td>\n",
       "      <td>1.0</td>\n",
       "      <td>0.0</td>\n",
       "      <td>0.0</td>\n",
       "      <td>1.0</td>\n",
       "      <td>1.0</td>\n",
       "      <td>0.0</td>\n",
       "      <td>0.0</td>\n",
       "      <td>0.0</td>\n",
       "      <td>0.0</td>\n",
       "      <td>0.0</td>\n",
       "      <td>0.0</td>\n",
       "      <td>0.0</td>\n",
       "      <td>1.0</td>\n",
       "      <td>0.0</td>\n",
       "      <td>0.0</td>\n",
       "      <td>1.0</td>\n",
       "      <td>27.0</td>\n",
       "      <td>0.0</td>\n",
       "      <td>0.0</td>\n",
       "      <td>0.0</td>\n",
       "      <td>0.0</td>\n",
       "      <td>0.0</td>\n",
       "    </tr>\n",
       "    <tr>\n",
       "      <th>8694</th>\n",
       "      <td>1.0</td>\n",
       "      <td>0.0</td>\n",
       "      <td>0.0</td>\n",
       "      <td>1.0</td>\n",
       "      <td>0.0</td>\n",
       "      <td>0.0</td>\n",
       "      <td>0.0</td>\n",
       "      <td>1.0</td>\n",
       "      <td>1.0</td>\n",
       "      <td>0.0</td>\n",
       "      <td>0.0</td>\n",
       "      <td>0.0</td>\n",
       "      <td>0.0</td>\n",
       "      <td>0.0</td>\n",
       "      <td>0.0</td>\n",
       "      <td>1.0</td>\n",
       "      <td>0.0</td>\n",
       "      <td>0.0</td>\n",
       "      <td>0.0</td>\n",
       "      <td>1.0</td>\n",
       "      <td>19.0</td>\n",
       "      <td>0.0</td>\n",
       "      <td>9.0</td>\n",
       "      <td>0.0</td>\n",
       "      <td>2823.0</td>\n",
       "      <td>0.0</td>\n",
       "    </tr>\n",
       "    <tr>\n",
       "      <th>8695</th>\n",
       "      <td>0.0</td>\n",
       "      <td>1.0</td>\n",
       "      <td>0.0</td>\n",
       "      <td>0.0</td>\n",
       "      <td>1.0</td>\n",
       "      <td>1.0</td>\n",
       "      <td>0.0</td>\n",
       "      <td>0.0</td>\n",
       "      <td>1.0</td>\n",
       "      <td>0.0</td>\n",
       "      <td>0.0</td>\n",
       "      <td>0.0</td>\n",
       "      <td>1.0</td>\n",
       "      <td>0.0</td>\n",
       "      <td>0.0</td>\n",
       "      <td>0.0</td>\n",
       "      <td>0.0</td>\n",
       "      <td>0.0</td>\n",
       "      <td>0.0</td>\n",
       "      <td>1.0</td>\n",
       "      <td>31.0</td>\n",
       "      <td>0.0</td>\n",
       "      <td>0.0</td>\n",
       "      <td>0.0</td>\n",
       "      <td>0.0</td>\n",
       "      <td>0.0</td>\n",
       "    </tr>\n",
       "    <tr>\n",
       "      <th>8696</th>\n",
       "      <td>0.0</td>\n",
       "      <td>1.0</td>\n",
       "      <td>0.0</td>\n",
       "      <td>1.0</td>\n",
       "      <td>0.0</td>\n",
       "      <td>0.0</td>\n",
       "      <td>0.0</td>\n",
       "      <td>1.0</td>\n",
       "      <td>1.0</td>\n",
       "      <td>0.0</td>\n",
       "      <td>0.0</td>\n",
       "      <td>0.0</td>\n",
       "      <td>1.0</td>\n",
       "      <td>0.0</td>\n",
       "      <td>0.0</td>\n",
       "      <td>0.0</td>\n",
       "      <td>0.0</td>\n",
       "      <td>0.0</td>\n",
       "      <td>0.0</td>\n",
       "      <td>1.0</td>\n",
       "      <td>38.0</td>\n",
       "      <td>0.0</td>\n",
       "      <td>6652.0</td>\n",
       "      <td>0.0</td>\n",
       "      <td>181.0</td>\n",
       "      <td>585.0</td>\n",
       "    </tr>\n",
       "    <tr>\n",
       "      <th>8697</th>\n",
       "      <td>1.0</td>\n",
       "      <td>0.0</td>\n",
       "      <td>0.0</td>\n",
       "      <td>1.0</td>\n",
       "      <td>0.0</td>\n",
       "      <td>0.0</td>\n",
       "      <td>0.0</td>\n",
       "      <td>1.0</td>\n",
       "      <td>1.0</td>\n",
       "      <td>0.0</td>\n",
       "      <td>0.0</td>\n",
       "      <td>0.0</td>\n",
       "      <td>0.0</td>\n",
       "      <td>0.0</td>\n",
       "      <td>0.0</td>\n",
       "      <td>1.0</td>\n",
       "      <td>0.0</td>\n",
       "      <td>0.0</td>\n",
       "      <td>0.0</td>\n",
       "      <td>1.0</td>\n",
       "      <td>20.0</td>\n",
       "      <td>10.0</td>\n",
       "      <td>0.0</td>\n",
       "      <td>635.0</td>\n",
       "      <td>0.0</td>\n",
       "      <td>0.0</td>\n",
       "    </tr>\n",
       "  </tbody>\n",
       "</table>\n",
       "</div>"
      ],
      "text/plain": [
       "        0    1    2    3    4    5    6    7    8    9   10   11   12   13   14   15   16   17   18   19   Age  RoomService  FoodCourt  ShoppingMall     Spa  VRDeck\n",
       "8693  1.0  0.0  0.0  0.0  1.0  0.0  0.0  1.0  1.0  0.0  0.0  0.0  0.0  0.0  0.0  0.0  1.0  0.0  0.0  1.0  27.0          0.0        0.0           0.0     0.0     0.0\n",
       "8694  1.0  0.0  0.0  1.0  0.0  0.0  0.0  1.0  1.0  0.0  0.0  0.0  0.0  0.0  0.0  1.0  0.0  0.0  0.0  1.0  19.0          0.0        9.0           0.0  2823.0     0.0\n",
       "8695  0.0  1.0  0.0  0.0  1.0  1.0  0.0  0.0  1.0  0.0  0.0  0.0  1.0  0.0  0.0  0.0  0.0  0.0  0.0  1.0  31.0          0.0        0.0           0.0     0.0     0.0\n",
       "8696  0.0  1.0  0.0  1.0  0.0  0.0  0.0  1.0  1.0  0.0  0.0  0.0  1.0  0.0  0.0  0.0  0.0  0.0  0.0  1.0  38.0          0.0     6652.0           0.0   181.0   585.0\n",
       "8697  1.0  0.0  0.0  1.0  0.0  0.0  0.0  1.0  1.0  0.0  0.0  0.0  0.0  0.0  0.0  1.0  0.0  0.0  0.0  1.0  20.0         10.0        0.0         635.0     0.0     0.0"
      ]
     },
     "execution_count": 57,
     "metadata": {},
     "output_type": "execute_result"
    }
   ],
   "source": [
    "test_data.head()"
   ]
  },
  {
   "cell_type": "code",
   "execution_count": 58,
   "id": "88186862",
   "metadata": {
    "execution": {
     "iopub.execute_input": "2022-10-16T05:51:30.297836Z",
     "iopub.status.busy": "2022-10-16T05:51:30.296737Z",
     "iopub.status.idle": "2022-10-16T05:51:30.332982Z",
     "shell.execute_reply": "2022-10-16T05:51:30.332190Z"
    },
    "papermill": {
     "duration": 0.071464,
     "end_time": "2022-10-16T05:51:30.335313",
     "exception": false,
     "start_time": "2022-10-16T05:51:30.263849",
     "status": "completed"
    },
    "tags": []
   },
   "outputs": [
    {
     "data": {
      "text/html": [
       "<div>\n",
       "<style scoped>\n",
       "    .dataframe tbody tr th:only-of-type {\n",
       "        vertical-align: middle;\n",
       "    }\n",
       "\n",
       "    .dataframe tbody tr th {\n",
       "        vertical-align: top;\n",
       "    }\n",
       "\n",
       "    .dataframe thead th {\n",
       "        text-align: right;\n",
       "    }\n",
       "</style>\n",
       "<table border=\"1\" class=\"dataframe\">\n",
       "  <thead>\n",
       "    <tr style=\"text-align: right;\">\n",
       "      <th></th>\n",
       "      <th>0</th>\n",
       "      <th>1</th>\n",
       "      <th>2</th>\n",
       "      <th>3</th>\n",
       "      <th>4</th>\n",
       "      <th>5</th>\n",
       "      <th>6</th>\n",
       "      <th>7</th>\n",
       "      <th>8</th>\n",
       "      <th>9</th>\n",
       "      <th>10</th>\n",
       "      <th>11</th>\n",
       "      <th>12</th>\n",
       "      <th>13</th>\n",
       "      <th>14</th>\n",
       "      <th>15</th>\n",
       "      <th>16</th>\n",
       "      <th>17</th>\n",
       "      <th>18</th>\n",
       "      <th>19</th>\n",
       "      <th>Age</th>\n",
       "      <th>RoomService</th>\n",
       "      <th>FoodCourt</th>\n",
       "      <th>ShoppingMall</th>\n",
       "      <th>Spa</th>\n",
       "      <th>VRDeck</th>\n",
       "      <th>Transported</th>\n",
       "    </tr>\n",
       "  </thead>\n",
       "  <tbody>\n",
       "    <tr>\n",
       "      <th>0</th>\n",
       "      <td>0.0</td>\n",
       "      <td>1.0</td>\n",
       "      <td>0.0</td>\n",
       "      <td>1.0</td>\n",
       "      <td>0.0</td>\n",
       "      <td>0.0</td>\n",
       "      <td>0.0</td>\n",
       "      <td>1.0</td>\n",
       "      <td>1.0</td>\n",
       "      <td>0.0</td>\n",
       "      <td>0.0</td>\n",
       "      <td>1.0</td>\n",
       "      <td>0.0</td>\n",
       "      <td>0.0</td>\n",
       "      <td>0.0</td>\n",
       "      <td>0.0</td>\n",
       "      <td>0.0</td>\n",
       "      <td>0.0</td>\n",
       "      <td>1.0</td>\n",
       "      <td>0.0</td>\n",
       "      <td>39.0</td>\n",
       "      <td>0.0</td>\n",
       "      <td>0.0</td>\n",
       "      <td>0.0</td>\n",
       "      <td>0.0</td>\n",
       "      <td>0.0</td>\n",
       "      <td>0</td>\n",
       "    </tr>\n",
       "    <tr>\n",
       "      <th>1</th>\n",
       "      <td>1.0</td>\n",
       "      <td>0.0</td>\n",
       "      <td>0.0</td>\n",
       "      <td>1.0</td>\n",
       "      <td>0.0</td>\n",
       "      <td>0.0</td>\n",
       "      <td>0.0</td>\n",
       "      <td>1.0</td>\n",
       "      <td>1.0</td>\n",
       "      <td>0.0</td>\n",
       "      <td>0.0</td>\n",
       "      <td>0.0</td>\n",
       "      <td>0.0</td>\n",
       "      <td>0.0</td>\n",
       "      <td>0.0</td>\n",
       "      <td>1.0</td>\n",
       "      <td>0.0</td>\n",
       "      <td>0.0</td>\n",
       "      <td>0.0</td>\n",
       "      <td>1.0</td>\n",
       "      <td>24.0</td>\n",
       "      <td>109.0</td>\n",
       "      <td>9.0</td>\n",
       "      <td>25.0</td>\n",
       "      <td>549.0</td>\n",
       "      <td>44.0</td>\n",
       "      <td>1</td>\n",
       "    </tr>\n",
       "    <tr>\n",
       "      <th>2</th>\n",
       "      <td>0.0</td>\n",
       "      <td>1.0</td>\n",
       "      <td>0.0</td>\n",
       "      <td>1.0</td>\n",
       "      <td>0.0</td>\n",
       "      <td>0.0</td>\n",
       "      <td>0.0</td>\n",
       "      <td>1.0</td>\n",
       "      <td>0.0</td>\n",
       "      <td>1.0</td>\n",
       "      <td>1.0</td>\n",
       "      <td>0.0</td>\n",
       "      <td>0.0</td>\n",
       "      <td>0.0</td>\n",
       "      <td>0.0</td>\n",
       "      <td>0.0</td>\n",
       "      <td>0.0</td>\n",
       "      <td>0.0</td>\n",
       "      <td>0.0</td>\n",
       "      <td>1.0</td>\n",
       "      <td>58.0</td>\n",
       "      <td>43.0</td>\n",
       "      <td>3576.0</td>\n",
       "      <td>0.0</td>\n",
       "      <td>6715.0</td>\n",
       "      <td>49.0</td>\n",
       "      <td>0</td>\n",
       "    </tr>\n",
       "    <tr>\n",
       "      <th>3</th>\n",
       "      <td>0.0</td>\n",
       "      <td>1.0</td>\n",
       "      <td>0.0</td>\n",
       "      <td>1.0</td>\n",
       "      <td>0.0</td>\n",
       "      <td>0.0</td>\n",
       "      <td>0.0</td>\n",
       "      <td>1.0</td>\n",
       "      <td>1.0</td>\n",
       "      <td>0.0</td>\n",
       "      <td>1.0</td>\n",
       "      <td>0.0</td>\n",
       "      <td>0.0</td>\n",
       "      <td>0.0</td>\n",
       "      <td>0.0</td>\n",
       "      <td>0.0</td>\n",
       "      <td>0.0</td>\n",
       "      <td>0.0</td>\n",
       "      <td>0.0</td>\n",
       "      <td>1.0</td>\n",
       "      <td>33.0</td>\n",
       "      <td>0.0</td>\n",
       "      <td>1283.0</td>\n",
       "      <td>371.0</td>\n",
       "      <td>3329.0</td>\n",
       "      <td>193.0</td>\n",
       "      <td>0</td>\n",
       "    </tr>\n",
       "    <tr>\n",
       "      <th>4</th>\n",
       "      <td>1.0</td>\n",
       "      <td>0.0</td>\n",
       "      <td>0.0</td>\n",
       "      <td>1.0</td>\n",
       "      <td>0.0</td>\n",
       "      <td>0.0</td>\n",
       "      <td>0.0</td>\n",
       "      <td>1.0</td>\n",
       "      <td>1.0</td>\n",
       "      <td>0.0</td>\n",
       "      <td>0.0</td>\n",
       "      <td>0.0</td>\n",
       "      <td>0.0</td>\n",
       "      <td>0.0</td>\n",
       "      <td>0.0</td>\n",
       "      <td>1.0</td>\n",
       "      <td>0.0</td>\n",
       "      <td>0.0</td>\n",
       "      <td>0.0</td>\n",
       "      <td>1.0</td>\n",
       "      <td>16.0</td>\n",
       "      <td>303.0</td>\n",
       "      <td>70.0</td>\n",
       "      <td>151.0</td>\n",
       "      <td>565.0</td>\n",
       "      <td>2.0</td>\n",
       "      <td>1</td>\n",
       "    </tr>\n",
       "  </tbody>\n",
       "</table>\n",
       "</div>"
      ],
      "text/plain": [
       "     0    1    2    3    4    5    6    7    8    9   10   11   12   13   14   15   16   17   18   19   Age  RoomService  FoodCourt  ShoppingMall     Spa  VRDeck  Transported\n",
       "0  0.0  1.0  0.0  1.0  0.0  0.0  0.0  1.0  1.0  0.0  0.0  1.0  0.0  0.0  0.0  0.0  0.0  0.0  1.0  0.0  39.0          0.0        0.0           0.0     0.0     0.0            0\n",
       "1  1.0  0.0  0.0  1.0  0.0  0.0  0.0  1.0  1.0  0.0  0.0  0.0  0.0  0.0  0.0  1.0  0.0  0.0  0.0  1.0  24.0        109.0        9.0          25.0   549.0    44.0            1\n",
       "2  0.0  1.0  0.0  1.0  0.0  0.0  0.0  1.0  0.0  1.0  1.0  0.0  0.0  0.0  0.0  0.0  0.0  0.0  0.0  1.0  58.0         43.0     3576.0           0.0  6715.0    49.0            0\n",
       "3  0.0  1.0  0.0  1.0  0.0  0.0  0.0  1.0  1.0  0.0  1.0  0.0  0.0  0.0  0.0  0.0  0.0  0.0  0.0  1.0  33.0          0.0     1283.0         371.0  3329.0   193.0            0\n",
       "4  1.0  0.0  0.0  1.0  0.0  0.0  0.0  1.0  1.0  0.0  0.0  0.0  0.0  0.0  0.0  1.0  0.0  0.0  0.0  1.0  16.0        303.0       70.0         151.0   565.0     2.0            1"
      ]
     },
     "execution_count": 58,
     "metadata": {},
     "output_type": "execute_result"
    }
   ],
   "source": [
    "train_data['Transported'] = train_data['Transported'].astype(\"category\").cat.codes\n",
    "train_data.head()"
   ]
  },
  {
   "cell_type": "markdown",
   "id": "99d41248",
   "metadata": {
    "papermill": {
     "duration": 0.031361,
     "end_time": "2022-10-16T05:51:30.398564",
     "exception": false,
     "start_time": "2022-10-16T05:51:30.367203",
     "status": "completed"
    },
    "tags": []
   },
   "source": [
    "# 特征选择"
   ]
  },
  {
   "cell_type": "code",
   "execution_count": 59,
   "id": "e61f240a",
   "metadata": {
    "execution": {
     "iopub.execute_input": "2022-10-16T05:51:30.464098Z",
     "iopub.status.busy": "2022-10-16T05:51:30.463059Z",
     "iopub.status.idle": "2022-10-16T05:51:33.952545Z",
     "shell.execute_reply": "2022-10-16T05:51:33.951320Z"
    },
    "papermill": {
     "duration": 3.528212,
     "end_time": "2022-10-16T05:51:33.958327",
     "exception": false,
     "start_time": "2022-10-16T05:51:30.430115",
     "status": "completed"
    },
    "tags": []
   },
   "outputs": [
    {
     "data": {
      "image/png": "[encoded data removed]",
      "text/plain": [
       "<Figure size 1440x1440 with 2 Axes>"
      ]
     },
     "metadata": {
      "needs_background": "light"
     },
     "output_type": "display_data"
    },
    {
     "data": {
      "text/plain": [
       "Index(['Transported', '4', '3', 'RoomService', 'Spa', 'VRDeck', '1', '0', '11',\n",
       "       '5', '12', '18', '19', '14', '7', '15', 'Age', 'FoodCourt', '9', '8',\n",
       "       '13', '2', '16', '17', 'ShoppingMall', '10', '6'],\n",
       "      dtype='object')"
      ]
     },
     "execution_count": 59,
     "metadata": {},
     "output_type": "execute_result"
    }
   ],
   "source": [
    "import matplotlib.pyplot as plt\n",
    "import seaborn as sns\n",
    "import numpy as np\n",
    "k = 40 # 变量数\n",
    "f,ax = plt.subplots(figsize=(20, 20))\n",
    "cols = train_data.corr().abs().nlargest(k, 'Transported')['Transported'].index  \n",
    "cm = np.corrcoef(train_data[cols].values.T)\n",
    "sns.set(font_scale=1.25)\n",
    "hm = sns.heatmap(cm, cbar=True, annot=True, square=True, fmt='.2f', annot_kws={'size': 10}, yticklabels=cols.values, xticklabels=cols.values)\n",
    "plt.show()\n",
    "cols"
   ]
  },
  {
   "cell_type": "code",
   "execution_count": 60,
   "id": "3604936a",
   "metadata": {
    "execution": {
     "iopub.execute_input": "2022-10-16T05:51:34.034369Z",
     "iopub.status.busy": "2022-10-16T05:51:34.033963Z",
     "iopub.status.idle": "2022-10-16T05:51:34.044929Z",
     "shell.execute_reply": "2022-10-16T05:51:34.043666Z"
    },
    "papermill": {
     "duration": 0.051756,
     "end_time": "2022-10-16T05:51:34.047520",
     "exception": false,
     "start_time": "2022-10-16T05:51:33.995764",
     "status": "completed"
    },
    "tags": []
   },
   "outputs": [
    {
     "data": {
      "text/plain": [
       "((8693, 27), (4277, 26))"
      ]
     },
     "execution_count": 60,
     "metadata": {},
     "output_type": "execute_result"
    }
   ],
   "source": [
    "train_data = train_data[cols]\n",
    "test_data = test_data[cols.drop('Transported')]\n",
    "train_data.shape , test_data.shape"
   ]
  },
  {
   "cell_type": "code",
   "execution_count": 61,
   "id": "cbda5cf1",
   "metadata": {
    "execution": {
     "iopub.execute_input": "2022-10-16T05:51:34.127854Z",
     "iopub.status.busy": "2022-10-16T05:51:34.127107Z",
     "iopub.status.idle": "2022-10-16T05:51:34.165896Z",
     "shell.execute_reply": "2022-10-16T05:51:34.164962Z"
    },
    "papermill": {
     "duration": 0.081258,
     "end_time": "2022-10-16T05:51:34.168200",
     "exception": false,
     "start_time": "2022-10-16T05:51:34.086942",
     "status": "completed"
    },
    "tags": []
   },
   "outputs": [
    {
     "data": {
      "text/html": [
       "<div>\n",
       "<style scoped>\n",
       "    .dataframe tbody tr th:only-of-type {\n",
       "        vertical-align: middle;\n",
       "    }\n",
       "\n",
       "    .dataframe tbody tr th {\n",
       "        vertical-align: top;\n",
       "    }\n",
       "\n",
       "    .dataframe thead th {\n",
       "        text-align: right;\n",
       "    }\n",
       "</style>\n",
       "<table border=\"1\" class=\"dataframe\">\n",
       "  <thead>\n",
       "    <tr style=\"text-align: right;\">\n",
       "      <th></th>\n",
       "      <th>Transported</th>\n",
       "      <th>4</th>\n",
       "      <th>3</th>\n",
       "      <th>RoomService</th>\n",
       "      <th>Spa</th>\n",
       "      <th>VRDeck</th>\n",
       "      <th>1</th>\n",
       "      <th>0</th>\n",
       "      <th>11</th>\n",
       "      <th>5</th>\n",
       "      <th>12</th>\n",
       "      <th>18</th>\n",
       "      <th>19</th>\n",
       "      <th>14</th>\n",
       "      <th>7</th>\n",
       "      <th>15</th>\n",
       "      <th>Age</th>\n",
       "      <th>FoodCourt</th>\n",
       "      <th>9</th>\n",
       "      <th>8</th>\n",
       "      <th>13</th>\n",
       "      <th>2</th>\n",
       "      <th>16</th>\n",
       "      <th>17</th>\n",
       "      <th>ShoppingMall</th>\n",
       "      <th>10</th>\n",
       "      <th>6</th>\n",
       "    </tr>\n",
       "  </thead>\n",
       "  <tbody>\n",
       "    <tr>\n",
       "      <th>0</th>\n",
       "      <td>0</td>\n",
       "      <td>0.0</td>\n",
       "      <td>1.0</td>\n",
       "      <td>0.0</td>\n",
       "      <td>0.0</td>\n",
       "      <td>0.0</td>\n",
       "      <td>1.0</td>\n",
       "      <td>0.0</td>\n",
       "      <td>1.0</td>\n",
       "      <td>0.0</td>\n",
       "      <td>0.0</td>\n",
       "      <td>1.0</td>\n",
       "      <td>0.0</td>\n",
       "      <td>0.0</td>\n",
       "      <td>1.0</td>\n",
       "      <td>0.0</td>\n",
       "      <td>39.0</td>\n",
       "      <td>0.0</td>\n",
       "      <td>0.0</td>\n",
       "      <td>1.0</td>\n",
       "      <td>0.0</td>\n",
       "      <td>0.0</td>\n",
       "      <td>0.0</td>\n",
       "      <td>0.0</td>\n",
       "      <td>0.0</td>\n",
       "      <td>0.0</td>\n",
       "      <td>0.0</td>\n",
       "    </tr>\n",
       "    <tr>\n",
       "      <th>1</th>\n",
       "      <td>1</td>\n",
       "      <td>0.0</td>\n",
       "      <td>1.0</td>\n",
       "      <td>109.0</td>\n",
       "      <td>549.0</td>\n",
       "      <td>44.0</td>\n",
       "      <td>0.0</td>\n",
       "      <td>1.0</td>\n",
       "      <td>0.0</td>\n",
       "      <td>0.0</td>\n",
       "      <td>0.0</td>\n",
       "      <td>0.0</td>\n",
       "      <td>1.0</td>\n",
       "      <td>0.0</td>\n",
       "      <td>1.0</td>\n",
       "      <td>1.0</td>\n",
       "      <td>24.0</td>\n",
       "      <td>9.0</td>\n",
       "      <td>0.0</td>\n",
       "      <td>1.0</td>\n",
       "      <td>0.0</td>\n",
       "      <td>0.0</td>\n",
       "      <td>0.0</td>\n",
       "      <td>0.0</td>\n",
       "      <td>25.0</td>\n",
       "      <td>0.0</td>\n",
       "      <td>0.0</td>\n",
       "    </tr>\n",
       "    <tr>\n",
       "      <th>2</th>\n",
       "      <td>0</td>\n",
       "      <td>0.0</td>\n",
       "      <td>1.0</td>\n",
       "      <td>43.0</td>\n",
       "      <td>6715.0</td>\n",
       "      <td>49.0</td>\n",
       "      <td>1.0</td>\n",
       "      <td>0.0</td>\n",
       "      <td>0.0</td>\n",
       "      <td>0.0</td>\n",
       "      <td>0.0</td>\n",
       "      <td>0.0</td>\n",
       "      <td>1.0</td>\n",
       "      <td>0.0</td>\n",
       "      <td>1.0</td>\n",
       "      <td>0.0</td>\n",
       "      <td>58.0</td>\n",
       "      <td>3576.0</td>\n",
       "      <td>1.0</td>\n",
       "      <td>0.0</td>\n",
       "      <td>0.0</td>\n",
       "      <td>0.0</td>\n",
       "      <td>0.0</td>\n",
       "      <td>0.0</td>\n",
       "      <td>0.0</td>\n",
       "      <td>1.0</td>\n",
       "      <td>0.0</td>\n",
       "    </tr>\n",
       "    <tr>\n",
       "      <th>3</th>\n",
       "      <td>0</td>\n",
       "      <td>0.0</td>\n",
       "      <td>1.0</td>\n",
       "      <td>0.0</td>\n",
       "      <td>3329.0</td>\n",
       "      <td>193.0</td>\n",
       "      <td>1.0</td>\n",
       "      <td>0.0</td>\n",
       "      <td>0.0</td>\n",
       "      <td>0.0</td>\n",
       "      <td>0.0</td>\n",
       "      <td>0.0</td>\n",
       "      <td>1.0</td>\n",
       "      <td>0.0</td>\n",
       "      <td>1.0</td>\n",
       "      <td>0.0</td>\n",
       "      <td>33.0</td>\n",
       "      <td>1283.0</td>\n",
       "      <td>0.0</td>\n",
       "      <td>1.0</td>\n",
       "      <td>0.0</td>\n",
       "      <td>0.0</td>\n",
       "      <td>0.0</td>\n",
       "      <td>0.0</td>\n",
       "      <td>371.0</td>\n",
       "      <td>1.0</td>\n",
       "      <td>0.0</td>\n",
       "    </tr>\n",
       "    <tr>\n",
       "      <th>4</th>\n",
       "      <td>1</td>\n",
       "      <td>0.0</td>\n",
       "      <td>1.0</td>\n",
       "      <td>303.0</td>\n",
       "      <td>565.0</td>\n",
       "      <td>2.0</td>\n",
       "      <td>0.0</td>\n",
       "      <td>1.0</td>\n",
       "      <td>0.0</td>\n",
       "      <td>0.0</td>\n",
       "      <td>0.0</td>\n",
       "      <td>0.0</td>\n",
       "      <td>1.0</td>\n",
       "      <td>0.0</td>\n",
       "      <td>1.0</td>\n",
       "      <td>1.0</td>\n",
       "      <td>16.0</td>\n",
       "      <td>70.0</td>\n",
       "      <td>0.0</td>\n",
       "      <td>1.0</td>\n",
       "      <td>0.0</td>\n",
       "      <td>0.0</td>\n",
       "      <td>0.0</td>\n",
       "      <td>0.0</td>\n",
       "      <td>151.0</td>\n",
       "      <td>0.0</td>\n",
       "      <td>0.0</td>\n",
       "    </tr>\n",
       "  </tbody>\n",
       "</table>\n",
       "</div>"
      ],
      "text/plain": [
       "   Transported    4    3  RoomService     Spa  VRDeck    1    0   11    5   12   18   19   14    7   15   Age  FoodCourt    9    8   13    2   16   17  ShoppingMall   10    6\n",
       "0            0  0.0  1.0          0.0     0.0     0.0  1.0  0.0  1.0  0.0  0.0  1.0  0.0  0.0  1.0  0.0  39.0        0.0  0.0  1.0  0.0  0.0  0.0  0.0           0.0  0.0  0.0\n",
       "1            1  0.0  1.0        109.0   549.0    44.0  0.0  1.0  0.0  0.0  0.0  0.0  1.0  0.0  1.0  1.0  24.0        9.0  0.0  1.0  0.0  0.0  0.0  0.0          25.0  0.0  0.0\n",
       "2            0  0.0  1.0         43.0  6715.0    49.0  1.0  0.0  0.0  0.0  0.0  0.0  1.0  0.0  1.0  0.0  58.0     3576.0  1.0  0.0  0.0  0.0  0.0  0.0           0.0  1.0  0.0\n",
       "3            0  0.0  1.0          0.0  3329.0   193.0  1.0  0.0  0.0  0.0  0.0  0.0  1.0  0.0  1.0  0.0  33.0     1283.0  0.0  1.0  0.0  0.0  0.0  0.0         371.0  1.0  0.0\n",
       "4            1  0.0  1.0        303.0   565.0     2.0  0.0  1.0  0.0  0.0  0.0  0.0  1.0  0.0  1.0  1.0  16.0       70.0  0.0  1.0  0.0  0.0  0.0  0.0         151.0  0.0  0.0"
      ]
     },
     "execution_count": 61,
     "metadata": {},
     "output_type": "execute_result"
    }
   ],
   "source": [
    "train_data.head()"
   ]
  },
  {
   "cell_type": "code",
   "execution_count": 62,
   "id": "f0d816dc",
   "metadata": {
    "execution": {
     "iopub.execute_input": "2022-10-16T05:51:34.245541Z",
     "iopub.status.busy": "2022-10-16T05:51:34.245013Z",
     "iopub.status.idle": "2022-10-16T05:51:34.282621Z",
     "shell.execute_reply": "2022-10-16T05:51:34.281238Z"
    },
    "papermill": {
     "duration": 0.079283,
     "end_time": "2022-10-16T05:51:34.285149",
     "exception": false,
     "start_time": "2022-10-16T05:51:34.205866",
     "status": "completed"
    },
    "tags": []
   },
   "outputs": [
    {
     "data": {
      "text/html": [
       "<div>\n",
       "<style scoped>\n",
       "    .dataframe tbody tr th:only-of-type {\n",
       "        vertical-align: middle;\n",
       "    }\n",
       "\n",
       "    .dataframe tbody tr th {\n",
       "        vertical-align: top;\n",
       "    }\n",
       "\n",
       "    .dataframe thead th {\n",
       "        text-align: right;\n",
       "    }\n",
       "</style>\n",
       "<table border=\"1\" class=\"dataframe\">\n",
       "  <thead>\n",
       "    <tr style=\"text-align: right;\">\n",
       "      <th></th>\n",
       "      <th>4</th>\n",
       "      <th>3</th>\n",
       "      <th>RoomService</th>\n",
       "      <th>Spa</th>\n",
       "      <th>VRDeck</th>\n",
       "      <th>1</th>\n",
       "      <th>0</th>\n",
       "      <th>11</th>\n",
       "      <th>5</th>\n",
       "      <th>12</th>\n",
       "      <th>18</th>\n",
       "      <th>19</th>\n",
       "      <th>14</th>\n",
       "      <th>7</th>\n",
       "      <th>15</th>\n",
       "      <th>Age</th>\n",
       "      <th>FoodCourt</th>\n",
       "      <th>9</th>\n",
       "      <th>8</th>\n",
       "      <th>13</th>\n",
       "      <th>2</th>\n",
       "      <th>16</th>\n",
       "      <th>17</th>\n",
       "      <th>ShoppingMall</th>\n",
       "      <th>10</th>\n",
       "      <th>6</th>\n",
       "    </tr>\n",
       "  </thead>\n",
       "  <tbody>\n",
       "    <tr>\n",
       "      <th>8693</th>\n",
       "      <td>1.0</td>\n",
       "      <td>0.0</td>\n",
       "      <td>0.0</td>\n",
       "      <td>0.0</td>\n",
       "      <td>0.0</td>\n",
       "      <td>0.0</td>\n",
       "      <td>1.0</td>\n",
       "      <td>0.0</td>\n",
       "      <td>0.0</td>\n",
       "      <td>0.0</td>\n",
       "      <td>0.0</td>\n",
       "      <td>1.0</td>\n",
       "      <td>0.0</td>\n",
       "      <td>1.0</td>\n",
       "      <td>0.0</td>\n",
       "      <td>27.0</td>\n",
       "      <td>0.0</td>\n",
       "      <td>0.0</td>\n",
       "      <td>1.0</td>\n",
       "      <td>0.0</td>\n",
       "      <td>0.0</td>\n",
       "      <td>1.0</td>\n",
       "      <td>0.0</td>\n",
       "      <td>0.0</td>\n",
       "      <td>0.0</td>\n",
       "      <td>0.0</td>\n",
       "    </tr>\n",
       "    <tr>\n",
       "      <th>8694</th>\n",
       "      <td>0.0</td>\n",
       "      <td>1.0</td>\n",
       "      <td>0.0</td>\n",
       "      <td>2823.0</td>\n",
       "      <td>0.0</td>\n",
       "      <td>0.0</td>\n",
       "      <td>1.0</td>\n",
       "      <td>0.0</td>\n",
       "      <td>0.0</td>\n",
       "      <td>0.0</td>\n",
       "      <td>0.0</td>\n",
       "      <td>1.0</td>\n",
       "      <td>0.0</td>\n",
       "      <td>1.0</td>\n",
       "      <td>1.0</td>\n",
       "      <td>19.0</td>\n",
       "      <td>9.0</td>\n",
       "      <td>0.0</td>\n",
       "      <td>1.0</td>\n",
       "      <td>0.0</td>\n",
       "      <td>0.0</td>\n",
       "      <td>0.0</td>\n",
       "      <td>0.0</td>\n",
       "      <td>0.0</td>\n",
       "      <td>0.0</td>\n",
       "      <td>0.0</td>\n",
       "    </tr>\n",
       "    <tr>\n",
       "      <th>8695</th>\n",
       "      <td>1.0</td>\n",
       "      <td>0.0</td>\n",
       "      <td>0.0</td>\n",
       "      <td>0.0</td>\n",
       "      <td>0.0</td>\n",
       "      <td>1.0</td>\n",
       "      <td>0.0</td>\n",
       "      <td>0.0</td>\n",
       "      <td>1.0</td>\n",
       "      <td>1.0</td>\n",
       "      <td>0.0</td>\n",
       "      <td>1.0</td>\n",
       "      <td>0.0</td>\n",
       "      <td>0.0</td>\n",
       "      <td>0.0</td>\n",
       "      <td>31.0</td>\n",
       "      <td>0.0</td>\n",
       "      <td>0.0</td>\n",
       "      <td>1.0</td>\n",
       "      <td>0.0</td>\n",
       "      <td>0.0</td>\n",
       "      <td>0.0</td>\n",
       "      <td>0.0</td>\n",
       "      <td>0.0</td>\n",
       "      <td>0.0</td>\n",
       "      <td>0.0</td>\n",
       "    </tr>\n",
       "    <tr>\n",
       "      <th>8696</th>\n",
       "      <td>0.0</td>\n",
       "      <td>1.0</td>\n",
       "      <td>0.0</td>\n",
       "      <td>181.0</td>\n",
       "      <td>585.0</td>\n",
       "      <td>1.0</td>\n",
       "      <td>0.0</td>\n",
       "      <td>0.0</td>\n",
       "      <td>0.0</td>\n",
       "      <td>1.0</td>\n",
       "      <td>0.0</td>\n",
       "      <td>1.0</td>\n",
       "      <td>0.0</td>\n",
       "      <td>1.0</td>\n",
       "      <td>0.0</td>\n",
       "      <td>38.0</td>\n",
       "      <td>6652.0</td>\n",
       "      <td>0.0</td>\n",
       "      <td>1.0</td>\n",
       "      <td>0.0</td>\n",
       "      <td>0.0</td>\n",
       "      <td>0.0</td>\n",
       "      <td>0.0</td>\n",
       "      <td>0.0</td>\n",
       "      <td>0.0</td>\n",
       "      <td>0.0</td>\n",
       "    </tr>\n",
       "    <tr>\n",
       "      <th>8697</th>\n",
       "      <td>0.0</td>\n",
       "      <td>1.0</td>\n",
       "      <td>10.0</td>\n",
       "      <td>0.0</td>\n",
       "      <td>0.0</td>\n",
       "      <td>0.0</td>\n",
       "      <td>1.0</td>\n",
       "      <td>0.0</td>\n",
       "      <td>0.0</td>\n",
       "      <td>0.0</td>\n",
       "      <td>0.0</td>\n",
       "      <td>1.0</td>\n",
       "      <td>0.0</td>\n",
       "      <td>1.0</td>\n",
       "      <td>1.0</td>\n",
       "      <td>20.0</td>\n",
       "      <td>0.0</td>\n",
       "      <td>0.0</td>\n",
       "      <td>1.0</td>\n",
       "      <td>0.0</td>\n",
       "      <td>0.0</td>\n",
       "      <td>0.0</td>\n",
       "      <td>0.0</td>\n",
       "      <td>635.0</td>\n",
       "      <td>0.0</td>\n",
       "      <td>0.0</td>\n",
       "    </tr>\n",
       "  </tbody>\n",
       "</table>\n",
       "</div>"
      ],
      "text/plain": [
       "        4    3  RoomService     Spa  VRDeck    1    0   11    5   12   18   19   14    7   15   Age  FoodCourt    9    8   13    2   16   17  ShoppingMall   10    6\n",
       "8693  1.0  0.0          0.0     0.0     0.0  0.0  1.0  0.0  0.0  0.0  0.0  1.0  0.0  1.0  0.0  27.0        0.0  0.0  1.0  0.0  0.0  1.0  0.0           0.0  0.0  0.0\n",
       "8694  0.0  1.0          0.0  2823.0     0.0  0.0  1.0  0.0  0.0  0.0  0.0  1.0  0.0  1.0  1.0  19.0        9.0  0.0  1.0  0.0  0.0  0.0  0.0           0.0  0.0  0.0\n",
       "8695  1.0  0.0          0.0     0.0     0.0  1.0  0.0  0.0  1.0  1.0  0.0  1.0  0.0  0.0  0.0  31.0        0.0  0.0  1.0  0.0  0.0  0.0  0.0           0.0  0.0  0.0\n",
       "8696  0.0  1.0          0.0   181.0   585.0  1.0  0.0  0.0  0.0  1.0  0.0  1.0  0.0  1.0  0.0  38.0     6652.0  0.0  1.0  0.0  0.0  0.0  0.0           0.0  0.0  0.0\n",
       "8697  0.0  1.0         10.0     0.0     0.0  0.0  1.0  0.0  0.0  0.0  0.0  1.0  0.0  1.0  1.0  20.0        0.0  0.0  1.0  0.0  0.0  0.0  0.0         635.0  0.0  0.0"
      ]
     },
     "execution_count": 62,
     "metadata": {},
     "output_type": "execute_result"
    }
   ],
   "source": [
    "test_data.head()"
   ]
  },
  {
   "cell_type": "markdown",
   "id": "fb9b401f",
   "metadata": {
    "papermill": {
     "duration": 0.03821,
     "end_time": "2022-10-16T05:51:34.363514",
     "exception": false,
     "start_time": "2022-10-16T05:51:34.325304",
     "status": "completed"
    },
    "tags": []
   },
   "source": [
    "# 清除异常值"
   ]
  },
  {
   "cell_type": "code",
   "execution_count": 63,
   "id": "0e29df9e",
   "metadata": {
    "execution": {
     "iopub.execute_input": "2022-10-16T05:51:34.441057Z",
     "iopub.status.busy": "2022-10-16T05:51:34.440564Z",
     "iopub.status.idle": "2022-10-16T05:51:36.812905Z",
     "shell.execute_reply": "2022-10-16T05:51:36.811488Z"
    },
    "papermill": {
     "duration": 2.414508,
     "end_time": "2022-10-16T05:51:36.815533",
     "exception": false,
     "start_time": "2022-10-16T05:51:34.401025",
     "status": "completed"
    },
    "tags": []
   },
   "outputs": [
    {
     "data": {
      "text/html": [
       "<div>\n",
       "<style scoped>\n",
       "    .dataframe tbody tr th:only-of-type {\n",
       "        vertical-align: middle;\n",
       "    }\n",
       "\n",
       "    .dataframe tbody tr th {\n",
       "        vertical-align: top;\n",
       "    }\n",
       "\n",
       "    .dataframe thead th {\n",
       "        text-align: right;\n",
       "    }\n",
       "</style>\n",
       "<table border=\"1\" class=\"dataframe\">\n",
       "  <thead>\n",
       "    <tr style=\"text-align: right;\">\n",
       "      <th></th>\n",
       "      <th>Transported</th>\n",
       "      <th>4</th>\n",
       "      <th>3</th>\n",
       "      <th>RoomService</th>\n",
       "      <th>Spa</th>\n",
       "      <th>VRDeck</th>\n",
       "      <th>1</th>\n",
       "      <th>0</th>\n",
       "      <th>11</th>\n",
       "      <th>5</th>\n",
       "      <th>12</th>\n",
       "      <th>18</th>\n",
       "      <th>19</th>\n",
       "      <th>14</th>\n",
       "      <th>7</th>\n",
       "      <th>15</th>\n",
       "      <th>Age</th>\n",
       "      <th>FoodCourt</th>\n",
       "      <th>9</th>\n",
       "      <th>8</th>\n",
       "      <th>13</th>\n",
       "      <th>2</th>\n",
       "      <th>16</th>\n",
       "      <th>17</th>\n",
       "      <th>ShoppingMall</th>\n",
       "      <th>10</th>\n",
       "      <th>6</th>\n",
       "    </tr>\n",
       "  </thead>\n",
       "  <tbody>\n",
       "    <tr>\n",
       "      <th>0</th>\n",
       "      <td>0</td>\n",
       "      <td>0.0</td>\n",
       "      <td>1.0</td>\n",
       "      <td>0.0</td>\n",
       "      <td>0.0</td>\n",
       "      <td>0.0</td>\n",
       "      <td>1.0</td>\n",
       "      <td>0.0</td>\n",
       "      <td>1.0</td>\n",
       "      <td>0.0</td>\n",
       "      <td>0.0</td>\n",
       "      <td>1.0</td>\n",
       "      <td>0.0</td>\n",
       "      <td>0.0</td>\n",
       "      <td>1.0</td>\n",
       "      <td>0.0</td>\n",
       "      <td>39.0</td>\n",
       "      <td>0.0</td>\n",
       "      <td>0.0</td>\n",
       "      <td>1.0</td>\n",
       "      <td>0.0</td>\n",
       "      <td>0.0</td>\n",
       "      <td>0.0</td>\n",
       "      <td>0.0</td>\n",
       "      <td>0.0</td>\n",
       "      <td>0.0</td>\n",
       "      <td>0.0</td>\n",
       "    </tr>\n",
       "    <tr>\n",
       "      <th>1</th>\n",
       "      <td>1</td>\n",
       "      <td>0.0</td>\n",
       "      <td>1.0</td>\n",
       "      <td>109.0</td>\n",
       "      <td>549.0</td>\n",
       "      <td>44.0</td>\n",
       "      <td>0.0</td>\n",
       "      <td>1.0</td>\n",
       "      <td>0.0</td>\n",
       "      <td>0.0</td>\n",
       "      <td>0.0</td>\n",
       "      <td>0.0</td>\n",
       "      <td>1.0</td>\n",
       "      <td>0.0</td>\n",
       "      <td>1.0</td>\n",
       "      <td>1.0</td>\n",
       "      <td>24.0</td>\n",
       "      <td>9.0</td>\n",
       "      <td>0.0</td>\n",
       "      <td>1.0</td>\n",
       "      <td>0.0</td>\n",
       "      <td>0.0</td>\n",
       "      <td>0.0</td>\n",
       "      <td>0.0</td>\n",
       "      <td>25.0</td>\n",
       "      <td>0.0</td>\n",
       "      <td>0.0</td>\n",
       "    </tr>\n",
       "    <tr>\n",
       "      <th>2</th>\n",
       "      <td>0</td>\n",
       "      <td>0.0</td>\n",
       "      <td>1.0</td>\n",
       "      <td>43.0</td>\n",
       "      <td>6715.0</td>\n",
       "      <td>49.0</td>\n",
       "      <td>1.0</td>\n",
       "      <td>0.0</td>\n",
       "      <td>0.0</td>\n",
       "      <td>0.0</td>\n",
       "      <td>0.0</td>\n",
       "      <td>0.0</td>\n",
       "      <td>1.0</td>\n",
       "      <td>0.0</td>\n",
       "      <td>1.0</td>\n",
       "      <td>0.0</td>\n",
       "      <td>58.0</td>\n",
       "      <td>3576.0</td>\n",
       "      <td>1.0</td>\n",
       "      <td>0.0</td>\n",
       "      <td>0.0</td>\n",
       "      <td>0.0</td>\n",
       "      <td>0.0</td>\n",
       "      <td>0.0</td>\n",
       "      <td>0.0</td>\n",
       "      <td>1.0</td>\n",
       "      <td>0.0</td>\n",
       "    </tr>\n",
       "    <tr>\n",
       "      <th>3</th>\n",
       "      <td>0</td>\n",
       "      <td>0.0</td>\n",
       "      <td>1.0</td>\n",
       "      <td>0.0</td>\n",
       "      <td>3329.0</td>\n",
       "      <td>193.0</td>\n",
       "      <td>1.0</td>\n",
       "      <td>0.0</td>\n",
       "      <td>0.0</td>\n",
       "      <td>0.0</td>\n",
       "      <td>0.0</td>\n",
       "      <td>0.0</td>\n",
       "      <td>1.0</td>\n",
       "      <td>0.0</td>\n",
       "      <td>1.0</td>\n",
       "      <td>0.0</td>\n",
       "      <td>33.0</td>\n",
       "      <td>1283.0</td>\n",
       "      <td>0.0</td>\n",
       "      <td>1.0</td>\n",
       "      <td>0.0</td>\n",
       "      <td>0.0</td>\n",
       "      <td>0.0</td>\n",
       "      <td>0.0</td>\n",
       "      <td>371.0</td>\n",
       "      <td>1.0</td>\n",
       "      <td>0.0</td>\n",
       "    </tr>\n",
       "    <tr>\n",
       "      <th>4</th>\n",
       "      <td>1</td>\n",
       "      <td>0.0</td>\n",
       "      <td>1.0</td>\n",
       "      <td>303.0</td>\n",
       "      <td>565.0</td>\n",
       "      <td>2.0</td>\n",
       "      <td>0.0</td>\n",
       "      <td>1.0</td>\n",
       "      <td>0.0</td>\n",
       "      <td>0.0</td>\n",
       "      <td>0.0</td>\n",
       "      <td>0.0</td>\n",
       "      <td>1.0</td>\n",
       "      <td>0.0</td>\n",
       "      <td>1.0</td>\n",
       "      <td>1.0</td>\n",
       "      <td>16.0</td>\n",
       "      <td>70.0</td>\n",
       "      <td>0.0</td>\n",
       "      <td>1.0</td>\n",
       "      <td>0.0</td>\n",
       "      <td>0.0</td>\n",
       "      <td>0.0</td>\n",
       "      <td>0.0</td>\n",
       "      <td>151.0</td>\n",
       "      <td>0.0</td>\n",
       "      <td>0.0</td>\n",
       "    </tr>\n",
       "  </tbody>\n",
       "</table>\n",
       "</div>"
      ],
      "text/plain": [
       "   Transported    4    3  RoomService     Spa  VRDeck    1    0   11    5   12   18   19   14    7   15   Age  FoodCourt    9    8   13    2   16   17  ShoppingMall   10    6\n",
       "0            0  0.0  1.0          0.0     0.0     0.0  1.0  0.0  1.0  0.0  0.0  1.0  0.0  0.0  1.0  0.0  39.0        0.0  0.0  1.0  0.0  0.0  0.0  0.0           0.0  0.0  0.0\n",
       "1            1  0.0  1.0        109.0   549.0    44.0  0.0  1.0  0.0  0.0  0.0  0.0  1.0  0.0  1.0  1.0  24.0        9.0  0.0  1.0  0.0  0.0  0.0  0.0          25.0  0.0  0.0\n",
       "2            0  0.0  1.0         43.0  6715.0    49.0  1.0  0.0  0.0  0.0  0.0  0.0  1.0  0.0  1.0  0.0  58.0     3576.0  1.0  0.0  0.0  0.0  0.0  0.0           0.0  1.0  0.0\n",
       "3            0  0.0  1.0          0.0  3329.0   193.0  1.0  0.0  0.0  0.0  0.0  0.0  1.0  0.0  1.0  0.0  33.0     1283.0  0.0  1.0  0.0  0.0  0.0  0.0         371.0  1.0  0.0\n",
       "4            1  0.0  1.0        303.0   565.0     2.0  0.0  1.0  0.0  0.0  0.0  0.0  1.0  0.0  1.0  1.0  16.0       70.0  0.0  1.0  0.0  0.0  0.0  0.0         151.0  0.0  0.0"
      ]
     },
     "execution_count": 63,
     "metadata": {},
     "output_type": "execute_result"
    }
   ],
   "source": [
    "from sklearn.neighbors import LocalOutlierFactor\n",
    "\n",
    "clf = LocalOutlierFactor(contamination = 0.02)\n",
    "# 识别异常值:\n",
    "outliers = clf.fit_predict(train_data)\n",
    "# 删除异常值，其中 1 表示正常值，-1 表示异常值:\n",
    "train_data_cleaned = train_data[np.where(outliers == 1, True, False)]\n",
    "train_data_cleaned.head()"
   ]
  },
  {
   "cell_type": "code",
   "execution_count": 64,
   "id": "dda860b7",
   "metadata": {
    "execution": {
     "iopub.execute_input": "2022-10-16T05:51:36.894348Z",
     "iopub.status.busy": "2022-10-16T05:51:36.893923Z",
     "iopub.status.idle": "2022-10-16T05:51:36.934584Z",
     "shell.execute_reply": "2022-10-16T05:51:36.933329Z"
    },
    "papermill": {
     "duration": 0.083608,
     "end_time": "2022-10-16T05:51:36.937327",
     "exception": false,
     "start_time": "2022-10-16T05:51:36.853719",
     "status": "completed"
    },
    "tags": []
   },
   "outputs": [
    {
     "data": {
      "text/html": [
       "<div>\n",
       "<style scoped>\n",
       "    .dataframe tbody tr th:only-of-type {\n",
       "        vertical-align: middle;\n",
       "    }\n",
       "\n",
       "    .dataframe tbody tr th {\n",
       "        vertical-align: top;\n",
       "    }\n",
       "\n",
       "    .dataframe thead th {\n",
       "        text-align: right;\n",
       "    }\n",
       "</style>\n",
       "<table border=\"1\" class=\"dataframe\">\n",
       "  <thead>\n",
       "    <tr style=\"text-align: right;\">\n",
       "      <th></th>\n",
       "      <th>4</th>\n",
       "      <th>3</th>\n",
       "      <th>RoomService</th>\n",
       "      <th>Spa</th>\n",
       "      <th>VRDeck</th>\n",
       "      <th>1</th>\n",
       "      <th>0</th>\n",
       "      <th>11</th>\n",
       "      <th>5</th>\n",
       "      <th>12</th>\n",
       "      <th>18</th>\n",
       "      <th>19</th>\n",
       "      <th>14</th>\n",
       "      <th>7</th>\n",
       "      <th>15</th>\n",
       "      <th>Age</th>\n",
       "      <th>FoodCourt</th>\n",
       "      <th>9</th>\n",
       "      <th>8</th>\n",
       "      <th>13</th>\n",
       "      <th>2</th>\n",
       "      <th>16</th>\n",
       "      <th>17</th>\n",
       "      <th>ShoppingMall</th>\n",
       "      <th>10</th>\n",
       "      <th>6</th>\n",
       "    </tr>\n",
       "  </thead>\n",
       "  <tbody>\n",
       "    <tr>\n",
       "      <th>0</th>\n",
       "      <td>0.0</td>\n",
       "      <td>1.0</td>\n",
       "      <td>0.0</td>\n",
       "      <td>0.0</td>\n",
       "      <td>0.0</td>\n",
       "      <td>1.0</td>\n",
       "      <td>0.0</td>\n",
       "      <td>1.0</td>\n",
       "      <td>0.0</td>\n",
       "      <td>0.0</td>\n",
       "      <td>1.0</td>\n",
       "      <td>0.0</td>\n",
       "      <td>0.0</td>\n",
       "      <td>1.0</td>\n",
       "      <td>0.0</td>\n",
       "      <td>39.0</td>\n",
       "      <td>0.0</td>\n",
       "      <td>0.0</td>\n",
       "      <td>1.0</td>\n",
       "      <td>0.0</td>\n",
       "      <td>0.0</td>\n",
       "      <td>0.0</td>\n",
       "      <td>0.0</td>\n",
       "      <td>0.0</td>\n",
       "      <td>0.0</td>\n",
       "      <td>0.0</td>\n",
       "    </tr>\n",
       "    <tr>\n",
       "      <th>1</th>\n",
       "      <td>0.0</td>\n",
       "      <td>1.0</td>\n",
       "      <td>109.0</td>\n",
       "      <td>549.0</td>\n",
       "      <td>44.0</td>\n",
       "      <td>0.0</td>\n",
       "      <td>1.0</td>\n",
       "      <td>0.0</td>\n",
       "      <td>0.0</td>\n",
       "      <td>0.0</td>\n",
       "      <td>0.0</td>\n",
       "      <td>1.0</td>\n",
       "      <td>0.0</td>\n",
       "      <td>1.0</td>\n",
       "      <td>1.0</td>\n",
       "      <td>24.0</td>\n",
       "      <td>9.0</td>\n",
       "      <td>0.0</td>\n",
       "      <td>1.0</td>\n",
       "      <td>0.0</td>\n",
       "      <td>0.0</td>\n",
       "      <td>0.0</td>\n",
       "      <td>0.0</td>\n",
       "      <td>25.0</td>\n",
       "      <td>0.0</td>\n",
       "      <td>0.0</td>\n",
       "    </tr>\n",
       "    <tr>\n",
       "      <th>2</th>\n",
       "      <td>0.0</td>\n",
       "      <td>1.0</td>\n",
       "      <td>43.0</td>\n",
       "      <td>6715.0</td>\n",
       "      <td>49.0</td>\n",
       "      <td>1.0</td>\n",
       "      <td>0.0</td>\n",
       "      <td>0.0</td>\n",
       "      <td>0.0</td>\n",
       "      <td>0.0</td>\n",
       "      <td>0.0</td>\n",
       "      <td>1.0</td>\n",
       "      <td>0.0</td>\n",
       "      <td>1.0</td>\n",
       "      <td>0.0</td>\n",
       "      <td>58.0</td>\n",
       "      <td>3576.0</td>\n",
       "      <td>1.0</td>\n",
       "      <td>0.0</td>\n",
       "      <td>0.0</td>\n",
       "      <td>0.0</td>\n",
       "      <td>0.0</td>\n",
       "      <td>0.0</td>\n",
       "      <td>0.0</td>\n",
       "      <td>1.0</td>\n",
       "      <td>0.0</td>\n",
       "    </tr>\n",
       "    <tr>\n",
       "      <th>3</th>\n",
       "      <td>0.0</td>\n",
       "      <td>1.0</td>\n",
       "      <td>0.0</td>\n",
       "      <td>3329.0</td>\n",
       "      <td>193.0</td>\n",
       "      <td>1.0</td>\n",
       "      <td>0.0</td>\n",
       "      <td>0.0</td>\n",
       "      <td>0.0</td>\n",
       "      <td>0.0</td>\n",
       "      <td>0.0</td>\n",
       "      <td>1.0</td>\n",
       "      <td>0.0</td>\n",
       "      <td>1.0</td>\n",
       "      <td>0.0</td>\n",
       "      <td>33.0</td>\n",
       "      <td>1283.0</td>\n",
       "      <td>0.0</td>\n",
       "      <td>1.0</td>\n",
       "      <td>0.0</td>\n",
       "      <td>0.0</td>\n",
       "      <td>0.0</td>\n",
       "      <td>0.0</td>\n",
       "      <td>371.0</td>\n",
       "      <td>1.0</td>\n",
       "      <td>0.0</td>\n",
       "    </tr>\n",
       "    <tr>\n",
       "      <th>4</th>\n",
       "      <td>0.0</td>\n",
       "      <td>1.0</td>\n",
       "      <td>303.0</td>\n",
       "      <td>565.0</td>\n",
       "      <td>2.0</td>\n",
       "      <td>0.0</td>\n",
       "      <td>1.0</td>\n",
       "      <td>0.0</td>\n",
       "      <td>0.0</td>\n",
       "      <td>0.0</td>\n",
       "      <td>0.0</td>\n",
       "      <td>1.0</td>\n",
       "      <td>0.0</td>\n",
       "      <td>1.0</td>\n",
       "      <td>1.0</td>\n",
       "      <td>16.0</td>\n",
       "      <td>70.0</td>\n",
       "      <td>0.0</td>\n",
       "      <td>1.0</td>\n",
       "      <td>0.0</td>\n",
       "      <td>0.0</td>\n",
       "      <td>0.0</td>\n",
       "      <td>0.0</td>\n",
       "      <td>151.0</td>\n",
       "      <td>0.0</td>\n",
       "      <td>0.0</td>\n",
       "    </tr>\n",
       "  </tbody>\n",
       "</table>\n",
       "</div>"
      ],
      "text/plain": [
       "     4    3  RoomService     Spa  VRDeck    1    0   11    5   12   18   19   14    7   15   Age  FoodCourt    9    8   13    2   16   17  ShoppingMall   10    6\n",
       "0  0.0  1.0          0.0     0.0     0.0  1.0  0.0  1.0  0.0  0.0  1.0  0.0  0.0  1.0  0.0  39.0        0.0  0.0  1.0  0.0  0.0  0.0  0.0           0.0  0.0  0.0\n",
       "1  0.0  1.0        109.0   549.0    44.0  0.0  1.0  0.0  0.0  0.0  0.0  1.0  0.0  1.0  1.0  24.0        9.0  0.0  1.0  0.0  0.0  0.0  0.0          25.0  0.0  0.0\n",
       "2  0.0  1.0         43.0  6715.0    49.0  1.0  0.0  0.0  0.0  0.0  0.0  1.0  0.0  1.0  0.0  58.0     3576.0  1.0  0.0  0.0  0.0  0.0  0.0           0.0  1.0  0.0\n",
       "3  0.0  1.0          0.0  3329.0   193.0  1.0  0.0  0.0  0.0  0.0  0.0  1.0  0.0  1.0  0.0  33.0     1283.0  0.0  1.0  0.0  0.0  0.0  0.0         371.0  1.0  0.0\n",
       "4  0.0  1.0        303.0   565.0     2.0  0.0  1.0  0.0  0.0  0.0  0.0  1.0  0.0  1.0  1.0  16.0       70.0  0.0  1.0  0.0  0.0  0.0  0.0         151.0  0.0  0.0"
      ]
     },
     "execution_count": 64,
     "metadata": {},
     "output_type": "execute_result"
    }
   ],
   "source": [
    "x_train = train_data_cleaned.drop('Transported', axis = 1)\n",
    "x_train.head()"
   ]
  },
  {
   "cell_type": "code",
   "execution_count": 65,
   "id": "95787fd6",
   "metadata": {
    "execution": {
     "iopub.execute_input": "2022-10-16T05:51:37.024576Z",
     "iopub.status.busy": "2022-10-16T05:51:37.023759Z",
     "iopub.status.idle": "2022-10-16T05:51:37.035019Z",
     "shell.execute_reply": "2022-10-16T05:51:37.033973Z"
    },
    "papermill": {
     "duration": 0.05701,
     "end_time": "2022-10-16T05:51:37.037427",
     "exception": false,
     "start_time": "2022-10-16T05:51:36.980417",
     "status": "completed"
    },
    "tags": []
   },
   "outputs": [
    {
     "data": {
      "text/html": [
       "<div>\n",
       "<style scoped>\n",
       "    .dataframe tbody tr th:only-of-type {\n",
       "        vertical-align: middle;\n",
       "    }\n",
       "\n",
       "    .dataframe tbody tr th {\n",
       "        vertical-align: top;\n",
       "    }\n",
       "\n",
       "    .dataframe thead th {\n",
       "        text-align: right;\n",
       "    }\n",
       "</style>\n",
       "<table border=\"1\" class=\"dataframe\">\n",
       "  <thead>\n",
       "    <tr style=\"text-align: right;\">\n",
       "      <th></th>\n",
       "      <th>Transported</th>\n",
       "    </tr>\n",
       "  </thead>\n",
       "  <tbody>\n",
       "    <tr>\n",
       "      <th>0</th>\n",
       "      <td>0</td>\n",
       "    </tr>\n",
       "    <tr>\n",
       "      <th>1</th>\n",
       "      <td>1</td>\n",
       "    </tr>\n",
       "    <tr>\n",
       "      <th>2</th>\n",
       "      <td>0</td>\n",
       "    </tr>\n",
       "    <tr>\n",
       "      <th>3</th>\n",
       "      <td>0</td>\n",
       "    </tr>\n",
       "    <tr>\n",
       "      <th>4</th>\n",
       "      <td>1</td>\n",
       "    </tr>\n",
       "  </tbody>\n",
       "</table>\n",
       "</div>"
      ],
      "text/plain": [
       "   Transported\n",
       "0            0\n",
       "1            1\n",
       "2            0\n",
       "3            0\n",
       "4            1"
      ]
     },
     "execution_count": 65,
     "metadata": {},
     "output_type": "execute_result"
    }
   ],
   "source": [
    "y_train = train_data_cleaned[['Transported']]\n",
    "y_train.head()"
   ]
  },
  {
   "cell_type": "code",
   "execution_count": 66,
   "id": "e8b3d756",
   "metadata": {
    "execution": {
     "iopub.execute_input": "2022-10-16T05:51:37.121680Z",
     "iopub.status.busy": "2022-10-16T05:51:37.120915Z",
     "iopub.status.idle": "2022-10-16T05:51:37.127534Z",
     "shell.execute_reply": "2022-10-16T05:51:37.126711Z"
    },
    "papermill": {
     "duration": 0.049234,
     "end_time": "2022-10-16T05:51:37.129833",
     "exception": false,
     "start_time": "2022-10-16T05:51:37.080599",
     "status": "completed"
    },
    "tags": []
   },
   "outputs": [
    {
     "data": {
      "text/plain": [
       "((8519, 26), (8519, 1))"
      ]
     },
     "execution_count": 66,
     "metadata": {},
     "output_type": "execute_result"
    }
   ],
   "source": [
    "x_train.shape, y_train.shape"
   ]
  },
  {
   "cell_type": "markdown",
   "id": "f9715182",
   "metadata": {
    "papermill": {
     "duration": 0.041835,
     "end_time": "2022-10-16T05:51:37.215670",
     "exception": false,
     "start_time": "2022-10-16T05:51:37.173835",
     "status": "completed"
    },
    "tags": []
   },
   "source": [
    "# 模型选择"
   ]
  },
  {
   "cell_type": "code",
   "execution_count": 67,
   "id": "7633bc18",
   "metadata": {
    "execution": {
     "iopub.execute_input": "2022-10-16T05:51:37.302413Z",
     "iopub.status.busy": "2022-10-16T05:51:37.301042Z",
     "iopub.status.idle": "2022-10-16T05:51:38.626735Z",
     "shell.execute_reply": "2022-10-16T05:51:38.625686Z"
    },
    "papermill": {
     "duration": 1.371909,
     "end_time": "2022-10-16T05:51:38.629343",
     "exception": false,
     "start_time": "2022-10-16T05:51:37.257434",
     "status": "completed"
    },
    "tags": []
   },
   "outputs": [
    {
     "data": {
      "text/html": [
       "<style type='text/css'>\n",
       ".datatable table.frame { margin-bottom: 0; }\n",
       ".datatable table.frame thead { border-bottom: none; }\n",
       ".datatable table.frame tr.coltypes td {  color: #FFFFFF;  line-height: 6px;  padding: 0 0.5em;}\n",
       ".datatable .bool    { background: #DDDD99; }\n",
       ".datatable .object  { background: #565656; }\n",
       ".datatable .int     { background: #5D9E5D; }\n",
       ".datatable .float   { background: #4040CC; }\n",
       ".datatable .str     { background: #CC4040; }\n",
       ".datatable .time    { background: #40CC40; }\n",
       ".datatable .row_index {  background: var(--jp-border-color3);  border-right: 1px solid var(--jp-border-color0);  color: var(--jp-ui-font-color3);  font-size: 9px;}\n",
       ".datatable .frame tbody td { text-align: left; }\n",
       ".datatable .frame tr.coltypes .row_index {  background: var(--jp-border-color0);}\n",
       ".datatable th:nth-child(2) { padding-left: 12px; }\n",
       ".datatable .hellipsis {  color: var(--jp-cell-editor-border-color);}\n",
       ".datatable .vellipsis {  background: var(--jp-layout-color0);  color: var(--jp-cell-editor-border-color);}\n",
       ".datatable .na {  color: var(--jp-cell-editor-border-color);  font-size: 80%;}\n",
       ".datatable .sp {  opacity: 0.25;}\n",
       ".datatable .footer { font-size: 9px; }\n",
       ".datatable .frame_dimensions {  background: var(--jp-border-color3);  border-top: 1px solid var(--jp-border-color0);  color: var(--jp-ui-font-color3);  display: inline-block;  opacity: 0.6;  padding: 1px 10px 1px 5px;}\n",
       "</style>\n"
      ],
      "text/plain": [
       "<IPython.core.display.HTML object>"
      ]
     },
     "metadata": {},
     "output_type": "display_data"
    }
   ],
   "source": [
    "from sklearn.naive_bayes import GaussianNB\n",
    "from sklearn.neighbors import KNeighborsClassifier\n",
    "from sklearn.ensemble import RandomForestClassifier\n",
    "from sklearn.linear_model import LogisticRegression\n",
    "from sklearn.tree import DecisionTreeClassifier\n",
    "from xgboost import XGBClassifier\n",
    "from lightgbm import LGBMClassifier\n",
    "from catboost import CatBoostClassifier\n",
    "from sklearn.ensemble import AdaBoostClassifier\n",
    "\n",
    "from sklearn.model_selection import GridSearchCV , cross_val_score\n",
    "from sklearn.metrics import mean_absolute_error as MAE\n",
    "from sklearn.metrics import mean_squared_error as MSE\n",
    "from sklearn.ensemble import GradientBoostingClassifier"
   ]
  },
  {
   "cell_type": "code",
   "execution_count": 68,
   "id": "31fa7704",
   "metadata": {
    "execution": {
     "iopub.execute_input": "2022-10-16T05:51:38.709750Z",
     "iopub.status.busy": "2022-10-16T05:51:38.709218Z",
     "iopub.status.idle": "2022-10-16T05:51:38.888117Z",
     "shell.execute_reply": "2022-10-16T05:51:38.886841Z"
    },
    "papermill": {
     "duration": 0.222391,
     "end_time": "2022-10-16T05:51:38.891045",
     "exception": false,
     "start_time": "2022-10-16T05:51:38.668654",
     "status": "completed"
    },
    "tags": []
   },
   "outputs": [],
   "source": [
    "from sklearn.pipeline import Pipeline\n",
    "\n",
    "pipeline_dt=Pipeline([('GaussianNB',GaussianNB())])\n",
    "pipeline_knn=Pipeline([('KNeighborsClassifier',KNeighborsClassifier())])\n",
    "pipeline_rf=Pipeline([ ('RandomForestClassifier',RandomForestClassifier())])\n",
    "pipeline_dt=Pipeline([ ('DecisionTreeClassifier',DecisionTreeClassifier())])\n",
    "pipeline_xgb=Pipeline([ ('XGBClassifier',XGBClassifier())])\n",
    "pipeline_lgr=Pipeline([ ('LogisticRegression',LogisticRegression(solver='lbfgs', max_iter=3000))])\n",
    "pipeline_lgbm=Pipeline([ ('LGBMClassifier',LGBMClassifier(objective='binary'))])\n",
    "pipeline_catB=Pipeline([ ('CatBoostClassifier',CatBoostClassifier(verbose = 0 ))])\n",
    "pipeline_adaB=Pipeline([ ('AdaBoostClassifier',GradientBoostingClassifier())])\n",
    "\n",
    "pipelines = [pipeline_dt, pipeline_knn, pipeline_rf,pipeline_dt,pipeline_xgb , pipeline_lgr , pipeline_lgbm , pipeline_catB , pipeline_adaB]\n",
    "pipe_dict = {0: 'GaussianNB', 1: 'KNeighborsClassifier', 2: 'RandomForestClassifier',\n",
    "             3: 'DecisionTreeClassifier',4: 'XGBClassifier' , 5 : 'LogisticRegression' ,\n",
    "             6 : 'LGBMClassifier' , 7 : 'CatBoostClassifier' ,8 : 'AdaBoostClassifier'}"
   ]
  },
  {
   "cell_type": "code",
   "execution_count": 69,
   "id": "1b8664da",
   "metadata": {
    "execution": {
     "iopub.execute_input": "2022-10-16T05:51:38.972817Z",
     "iopub.status.busy": "2022-10-16T05:51:38.972337Z",
     "iopub.status.idle": "2022-10-16T05:52:04.858271Z",
     "shell.execute_reply": "2022-10-16T05:52:04.856928Z"
    },
    "papermill": {
     "duration": 25.931025,
     "end_time": "2022-10-16T05:52:04.861175",
     "exception": false,
     "start_time": "2022-10-16T05:51:38.930150",
     "status": "completed"
    },
    "tags": []
   },
   "outputs": [],
   "source": [
    "from sklearn.metrics import accuracy_score\n",
    "original_results = dict()\n",
    "for i, model in enumerate(pipelines):\n",
    "    cv_score = cross_val_score(model, x_train.values,y_train.values.ravel(), cv=3 ,scoring='accuracy').mean()\n",
    "    original_results[pipe_dict[i]] = cv_score"
   ]
  },
  {
   "cell_type": "code",
   "execution_count": 70,
   "id": "1aa98471",
   "metadata": {
    "execution": {
     "iopub.execute_input": "2022-10-16T05:52:04.943652Z",
     "iopub.status.busy": "2022-10-16T05:52:04.943247Z",
     "iopub.status.idle": "2022-10-16T05:52:04.949268Z",
     "shell.execute_reply": "2022-10-16T05:52:04.948032Z"
    },
    "papermill": {
     "duration": 0.051948,
     "end_time": "2022-10-16T05:52:04.953259",
     "exception": false,
     "start_time": "2022-10-16T05:52:04.901311",
     "status": "completed"
    },
    "tags": []
   },
   "outputs": [
    {
     "name": "stdout",
     "output_type": "stream",
     "text": [
      "GaussianNB 0.7344760355014907\n",
      "DecisionTreeClassifier 0.7382319453884278\n",
      "KNeighborsClassifier 0.7774402727271225\n",
      "RandomForestClassifier 0.7833088173280612\n",
      "LogisticRegression 0.7880042318015171\n",
      "LGBMClassifier 0.7929343880590105\n",
      "XGBClassifier 0.7938741406995454\n",
      "AdaBoostClassifier 0.7951651378270799\n",
      "CatBoostClassifier 0.8017388586538604\n"
     ]
    }
   ],
   "source": [
    "for key , value in sorted(original_results.items(),key=lambda item : item[1]):\n",
    "    print(key , value) "
   ]
  },
  {
   "cell_type": "markdown",
   "id": "01ae97da",
   "metadata": {
    "papermill": {
     "duration": 0.038822,
     "end_time": "2022-10-16T05:52:05.035058",
     "exception": false,
     "start_time": "2022-10-16T05:52:04.996236",
     "status": "completed"
    },
    "tags": []
   },
   "source": [
    "# 为模型寻找最优参数"
   ]
  },
  {
   "cell_type": "code",
   "execution_count": 71,
   "id": "e84024e4",
   "metadata": {
    "execution": {
     "iopub.execute_input": "2022-10-16T05:52:05.115920Z",
     "iopub.status.busy": "2022-10-16T05:52:05.115503Z",
     "iopub.status.idle": "2022-10-16T05:54:38.933359Z",
     "shell.execute_reply": "2022-10-16T05:54:38.931792Z"
    },
    "papermill": {
     "duration": 153.862313,
     "end_time": "2022-10-16T05:54:38.936333",
     "exception": false,
     "start_time": "2022-10-16T05:52:05.074020",
     "status": "completed"
    },
    "tags": []
   },
   "outputs": [
    {
     "name": "stdout",
     "output_type": "stream",
     "text": [
      "Fitting 3 folds for each of 12 candidates, totalling 36 fits\n",
      "CatBoost Best Score 0.8056120980904802\n",
      "CatBoost Best Parmas {'depth': 6, 'iterations': 450, 'learning_rate': 0.03}\n",
      "CatBoost Accuracy 0.8056120980904802\n"
     ]
    }
   ],
   "source": [
    "cat = CatBoostClassifier(eval_metric='Accuracy',\n",
    "                        verbose = 0)\n",
    "\n",
    "# 使用网格搜索\n",
    "params_catB = {\n",
    "    'learning_rate' : [0.01,0.02,0.03,],\n",
    "          'depth': [6,7,],\n",
    "    'iterations' : [450,1000,]\n",
    "         }\n",
    "\n",
    "grid_search_cat = GridSearchCV(estimator=cat,verbose = 1, param_grid=params_catB, cv = 3,scoring='accuracy',n_jobs=-1).fit(x_train.values, y_train.values.ravel())\n",
    "cat_best = grid_search_cat.best_estimator_\n",
    "print('CatBoost Best Score',grid_search_cat.best_score_)\n",
    "print('CatBoost Best Parmas',grid_search_cat.best_params_)\n",
    "print('CatBoost Accuracy',cross_val_score(cat_best,x_train.values, y_train.values.ravel(), cv=3).mean())"
   ]
  },
  {
   "cell_type": "code",
   "execution_count": 72,
   "id": "36ce4042",
   "metadata": {
    "execution": {
     "iopub.execute_input": "2022-10-16T05:54:39.022491Z",
     "iopub.status.busy": "2022-10-16T05:54:39.021851Z",
     "iopub.status.idle": "2022-10-16T05:54:39.041313Z",
     "shell.execute_reply": "2022-10-16T05:54:39.037063Z"
    },
    "papermill": {
     "duration": 0.069729,
     "end_time": "2022-10-16T05:54:39.046596",
     "exception": false,
     "start_time": "2022-10-16T05:54:38.976867",
     "status": "completed"
    },
    "tags": []
   },
   "outputs": [],
   "source": [
    "predictions = cat_best.predict(test_data.values)"
   ]
  },
  {
   "cell_type": "code",
   "execution_count": 73,
   "id": "78b9c605",
   "metadata": {
    "execution": {
     "iopub.execute_input": "2022-10-16T05:54:39.139290Z",
     "iopub.status.busy": "2022-10-16T05:54:39.138854Z",
     "iopub.status.idle": "2022-10-16T05:54:39.168745Z",
     "shell.execute_reply": "2022-10-16T05:54:39.167308Z"
    },
    "papermill": {
     "duration": 0.082724,
     "end_time": "2022-10-16T05:54:39.171808",
     "exception": false,
     "start_time": "2022-10-16T05:54:39.089084",
     "status": "completed"
    },
    "tags": []
   },
   "outputs": [
    {
     "data": {
      "text/html": [
       "<div>\n",
       "<style scoped>\n",
       "    .dataframe tbody tr th:only-of-type {\n",
       "        vertical-align: middle;\n",
       "    }\n",
       "\n",
       "    .dataframe tbody tr th {\n",
       "        vertical-align: top;\n",
       "    }\n",
       "\n",
       "    .dataframe thead th {\n",
       "        text-align: right;\n",
       "    }\n",
       "</style>\n",
       "<table border=\"1\" class=\"dataframe\">\n",
       "  <thead>\n",
       "    <tr style=\"text-align: right;\">\n",
       "      <th></th>\n",
       "      <th>PassengerId</th>\n",
       "      <th>Transported</th>\n",
       "    </tr>\n",
       "  </thead>\n",
       "  <tbody>\n",
       "    <tr>\n",
       "      <th>0</th>\n",
       "      <td>0013_01</td>\n",
       "      <td>1</td>\n",
       "    </tr>\n",
       "    <tr>\n",
       "      <th>1</th>\n",
       "      <td>0018_01</td>\n",
       "      <td>0</td>\n",
       "    </tr>\n",
       "    <tr>\n",
       "      <th>2</th>\n",
       "      <td>0019_01</td>\n",
       "      <td>1</td>\n",
       "    </tr>\n",
       "    <tr>\n",
       "      <th>3</th>\n",
       "      <td>0021_01</td>\n",
       "      <td>1</td>\n",
       "    </tr>\n",
       "    <tr>\n",
       "      <th>4</th>\n",
       "      <td>0023_01</td>\n",
       "      <td>1</td>\n",
       "    </tr>\n",
       "  </tbody>\n",
       "</table>\n",
       "</div>"
      ],
      "text/plain": [
       "  PassengerId  Transported\n",
       "0     0013_01            1\n",
       "1     0018_01            0\n",
       "2     0019_01            1\n",
       "3     0021_01            1\n",
       "4     0023_01            1"
      ]
     },
     "execution_count": 73,
     "metadata": {},
     "output_type": "execute_result"
    }
   ],
   "source": [
    "sub = pd.DataFrame()\n",
    "sub['PassengerId'] = pd.read_csv(\"../input/spaceship-titanic/test.csv\", usecols=['PassengerId'])\n",
    "sub['Transported'] = predictions\n",
    "sub.head()"
   ]
  },
  {
   "cell_type": "code",
   "execution_count": 74,
   "id": "9b8f5e59",
   "metadata": {
    "execution": {
     "iopub.execute_input": "2022-10-16T05:54:39.262845Z",
     "iopub.status.busy": "2022-10-16T05:54:39.262452Z",
     "iopub.status.idle": "2022-10-16T05:54:39.270101Z",
     "shell.execute_reply": "2022-10-16T05:54:39.268915Z"
    },
    "papermill": {
     "duration": 0.059148,
     "end_time": "2022-10-16T05:54:39.274701",
     "exception": false,
     "start_time": "2022-10-16T05:54:39.215553",
     "status": "completed"
    },
    "tags": []
   },
   "outputs": [
    {
     "data": {
      "text/plain": [
       "(4277, 2)"
      ]
     },
     "execution_count": 74,
     "metadata": {},
     "output_type": "execute_result"
    }
   ],
   "source": [
    "sub.shape"
   ]
  },
  {
   "cell_type": "code",
   "execution_count": 75,
   "id": "e6e5de59",
   "metadata": {
    "execution": {
     "iopub.execute_input": "2022-10-16T05:54:39.368493Z",
     "iopub.status.busy": "2022-10-16T05:54:39.367133Z",
     "iopub.status.idle": "2022-10-16T05:54:39.373967Z",
     "shell.execute_reply": "2022-10-16T05:54:39.372941Z"
    },
    "papermill": {
     "duration": 0.06101,
     "end_time": "2022-10-16T05:54:39.376217",
     "exception": false,
     "start_time": "2022-10-16T05:54:39.315207",
     "status": "completed"
    },
    "tags": []
   },
   "outputs": [],
   "source": [
    "sub['Transported'] = sub['Transported'].astype('bool')"
   ]
  },
  {
   "cell_type": "code",
   "execution_count": 76,
   "id": "9d03c971",
   "metadata": {
    "execution": {
     "iopub.execute_input": "2022-10-16T05:54:39.459124Z",
     "iopub.status.busy": "2022-10-16T05:54:39.458716Z",
     "iopub.status.idle": "2022-10-16T05:54:39.470647Z",
     "shell.execute_reply": "2022-10-16T05:54:39.469469Z"
    },
    "papermill": {
     "duration": 0.05669,
     "end_time": "2022-10-16T05:54:39.473031",
     "exception": false,
     "start_time": "2022-10-16T05:54:39.416341",
     "status": "completed"
    },
    "tags": []
   },
   "outputs": [
    {
     "data": {
      "text/html": [
       "<div>\n",
       "<style scoped>\n",
       "    .dataframe tbody tr th:only-of-type {\n",
       "        vertical-align: middle;\n",
       "    }\n",
       "\n",
       "    .dataframe tbody tr th {\n",
       "        vertical-align: top;\n",
       "    }\n",
       "\n",
       "    .dataframe thead th {\n",
       "        text-align: right;\n",
       "    }\n",
       "</style>\n",
       "<table border=\"1\" class=\"dataframe\">\n",
       "  <thead>\n",
       "    <tr style=\"text-align: right;\">\n",
       "      <th></th>\n",
       "      <th>PassengerId</th>\n",
       "      <th>Transported</th>\n",
       "    </tr>\n",
       "  </thead>\n",
       "  <tbody>\n",
       "    <tr>\n",
       "      <th>0</th>\n",
       "      <td>0013_01</td>\n",
       "      <td>True</td>\n",
       "    </tr>\n",
       "    <tr>\n",
       "      <th>1</th>\n",
       "      <td>0018_01</td>\n",
       "      <td>False</td>\n",
       "    </tr>\n",
       "    <tr>\n",
       "      <th>2</th>\n",
       "      <td>0019_01</td>\n",
       "      <td>True</td>\n",
       "    </tr>\n",
       "    <tr>\n",
       "      <th>3</th>\n",
       "      <td>0021_01</td>\n",
       "      <td>True</td>\n",
       "    </tr>\n",
       "    <tr>\n",
       "      <th>4</th>\n",
       "      <td>0023_01</td>\n",
       "      <td>True</td>\n",
       "    </tr>\n",
       "  </tbody>\n",
       "</table>\n",
       "</div>"
      ],
      "text/plain": [
       "  PassengerId  Transported\n",
       "0     0013_01         True\n",
       "1     0018_01        False\n",
       "2     0019_01         True\n",
       "3     0021_01         True\n",
       "4     0023_01         True"
      ]
     },
     "execution_count": 76,
     "metadata": {},
     "output_type": "execute_result"
    }
   ],
   "source": [
    "sub.head()"
   ]
  },
  {
   "cell_type": "code",
   "execution_count": 77,
   "id": "d1d9ac54",
   "metadata": {
    "execution": {
     "iopub.execute_input": "2022-10-16T05:54:39.562188Z",
     "iopub.status.busy": "2022-10-16T05:54:39.561645Z",
     "iopub.status.idle": "2022-10-16T05:54:39.581101Z",
     "shell.execute_reply": "2022-10-16T05:54:39.579421Z"
    },
    "papermill": {
     "duration": 0.072352,
     "end_time": "2022-10-16T05:54:39.585504",
     "exception": false,
     "start_time": "2022-10-16T05:54:39.513152",
     "status": "completed"
    },
    "tags": []
   },
   "outputs": [],
   "source": [
    "sub.to_csv('submission.csv',index=False)"
   ]
  }
 ],
 "metadata": {
  "kernelspec": {
   "display_name": "Python 3",
   "language": "python",
   "name": "python3"
  },
  "language_info": {
   "codemirror_mode": {
    "name": "ipython",
    "version": 3
   },
   "file_extension": ".py",
   "mimetype": "text/x-python",
   "name": "python",
   "nbconvert_exporter": "python",
   "pygments_lexer": "ipython3",
   "version": "3.7.12"
  },
  "papermill": {
   "default_parameters": {},
   "duration": 212.581991,
   "end_time": "2022-10-16T05:54:42.269423",
   "environment_variables": {},
   "exception": null,
   "input_path": "__notebook__.ipynb",
   "output_path": "__notebook__.ipynb",
   "parameters": {},
   "start_time": "2022-10-16T05:51:09.687432",
   "version": "2.3.4"
  }
 },
 "nbformat": 4,
 "nbformat_minor": 5
}
