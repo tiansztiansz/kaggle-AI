{
 "cells": [
  {
   "cell_type": "markdown",
   "id": "c153ace7",
   "metadata": {
    "papermill": {
     "duration": 0.007134,
     "end_time": "2022-10-31T03:36:47.933019",
     "exception": false,
     "start_time": "2022-10-31T03:36:47.925885",
     "status": "completed"
    },
    "tags": []
   },
   "source": [
    "# 导入数据"
   ]
  },
  {
   "cell_type": "code",
   "execution_count": 1,
   "id": "0e817f1d",
   "metadata": {
    "execution": {
     "iopub.execute_input": "2022-10-31T03:36:47.946559Z",
     "iopub.status.busy": "2022-10-31T03:36:47.946014Z",
     "iopub.status.idle": "2022-10-31T03:36:53.096652Z",
     "shell.execute_reply": "2022-10-31T03:36:53.095366Z"
    },
    "papermill": {
     "duration": 5.160656,
     "end_time": "2022-10-31T03:36:53.099464",
     "exception": false,
     "start_time": "2022-10-31T03:36:47.938808",
     "status": "completed"
    },
    "tags": []
   },
   "outputs": [],
   "source": [
    "import pandas as pd\n",
    "train_data = pd.read_csv('../input/digit-recognizer/train.csv')\n",
    "test_data = pd.read_csv('../input/digit-recognizer/test.csv')"
   ]
  },
  {
   "cell_type": "code",
   "execution_count": 2,
   "id": "b40097b8",
   "metadata": {
    "execution": {
     "iopub.execute_input": "2022-10-31T03:36:53.114439Z",
     "iopub.status.busy": "2022-10-31T03:36:53.114103Z",
     "iopub.status.idle": "2022-10-31T03:36:53.139859Z",
     "shell.execute_reply": "2022-10-31T03:36:53.138821Z"
    },
    "papermill": {
     "duration": 0.036674,
     "end_time": "2022-10-31T03:36:53.143131",
     "exception": false,
     "start_time": "2022-10-31T03:36:53.106457",
     "status": "completed"
    },
    "tags": []
   },
   "outputs": [
    {
     "data": {
      "text/html": [
       "<div>\n",
       "<style scoped>\n",
       "    .dataframe tbody tr th:only-of-type {\n",
       "        vertical-align: middle;\n",
       "    }\n",
       "\n",
       "    .dataframe tbody tr th {\n",
       "        vertical-align: top;\n",
       "    }\n",
       "\n",
       "    .dataframe thead th {\n",
       "        text-align: right;\n",
       "    }\n",
       "</style>\n",
       "<table border=\"1\" class=\"dataframe\">\n",
       "  <thead>\n",
       "    <tr style=\"text-align: right;\">\n",
       "      <th></th>\n",
       "      <th>label</th>\n",
       "      <th>pixel0</th>\n",
       "      <th>pixel1</th>\n",
       "      <th>pixel2</th>\n",
       "      <th>pixel3</th>\n",
       "      <th>pixel4</th>\n",
       "      <th>pixel5</th>\n",
       "      <th>pixel6</th>\n",
       "      <th>pixel7</th>\n",
       "      <th>pixel8</th>\n",
       "      <th>...</th>\n",
       "      <th>pixel774</th>\n",
       "      <th>pixel775</th>\n",
       "      <th>pixel776</th>\n",
       "      <th>pixel777</th>\n",
       "      <th>pixel778</th>\n",
       "      <th>pixel779</th>\n",
       "      <th>pixel780</th>\n",
       "      <th>pixel781</th>\n",
       "      <th>pixel782</th>\n",
       "      <th>pixel783</th>\n",
       "    </tr>\n",
       "  </thead>\n",
       "  <tbody>\n",
       "    <tr>\n",
       "      <th>0</th>\n",
       "      <td>1</td>\n",
       "      <td>0</td>\n",
       "      <td>0</td>\n",
       "      <td>0</td>\n",
       "      <td>0</td>\n",
       "      <td>0</td>\n",
       "      <td>0</td>\n",
       "      <td>0</td>\n",
       "      <td>0</td>\n",
       "      <td>0</td>\n",
       "      <td>...</td>\n",
       "      <td>0</td>\n",
       "      <td>0</td>\n",
       "      <td>0</td>\n",
       "      <td>0</td>\n",
       "      <td>0</td>\n",
       "      <td>0</td>\n",
       "      <td>0</td>\n",
       "      <td>0</td>\n",
       "      <td>0</td>\n",
       "      <td>0</td>\n",
       "    </tr>\n",
       "    <tr>\n",
       "      <th>1</th>\n",
       "      <td>0</td>\n",
       "      <td>0</td>\n",
       "      <td>0</td>\n",
       "      <td>0</td>\n",
       "      <td>0</td>\n",
       "      <td>0</td>\n",
       "      <td>0</td>\n",
       "      <td>0</td>\n",
       "      <td>0</td>\n",
       "      <td>0</td>\n",
       "      <td>...</td>\n",
       "      <td>0</td>\n",
       "      <td>0</td>\n",
       "      <td>0</td>\n",
       "      <td>0</td>\n",
       "      <td>0</td>\n",
       "      <td>0</td>\n",
       "      <td>0</td>\n",
       "      <td>0</td>\n",
       "      <td>0</td>\n",
       "      <td>0</td>\n",
       "    </tr>\n",
       "    <tr>\n",
       "      <th>2</th>\n",
       "      <td>1</td>\n",
       "      <td>0</td>\n",
       "      <td>0</td>\n",
       "      <td>0</td>\n",
       "      <td>0</td>\n",
       "      <td>0</td>\n",
       "      <td>0</td>\n",
       "      <td>0</td>\n",
       "      <td>0</td>\n",
       "      <td>0</td>\n",
       "      <td>...</td>\n",
       "      <td>0</td>\n",
       "      <td>0</td>\n",
       "      <td>0</td>\n",
       "      <td>0</td>\n",
       "      <td>0</td>\n",
       "      <td>0</td>\n",
       "      <td>0</td>\n",
       "      <td>0</td>\n",
       "      <td>0</td>\n",
       "      <td>0</td>\n",
       "    </tr>\n",
       "    <tr>\n",
       "      <th>3</th>\n",
       "      <td>4</td>\n",
       "      <td>0</td>\n",
       "      <td>0</td>\n",
       "      <td>0</td>\n",
       "      <td>0</td>\n",
       "      <td>0</td>\n",
       "      <td>0</td>\n",
       "      <td>0</td>\n",
       "      <td>0</td>\n",
       "      <td>0</td>\n",
       "      <td>...</td>\n",
       "      <td>0</td>\n",
       "      <td>0</td>\n",
       "      <td>0</td>\n",
       "      <td>0</td>\n",
       "      <td>0</td>\n",
       "      <td>0</td>\n",
       "      <td>0</td>\n",
       "      <td>0</td>\n",
       "      <td>0</td>\n",
       "      <td>0</td>\n",
       "    </tr>\n",
       "    <tr>\n",
       "      <th>4</th>\n",
       "      <td>0</td>\n",
       "      <td>0</td>\n",
       "      <td>0</td>\n",
       "      <td>0</td>\n",
       "      <td>0</td>\n",
       "      <td>0</td>\n",
       "      <td>0</td>\n",
       "      <td>0</td>\n",
       "      <td>0</td>\n",
       "      <td>0</td>\n",
       "      <td>...</td>\n",
       "      <td>0</td>\n",
       "      <td>0</td>\n",
       "      <td>0</td>\n",
       "      <td>0</td>\n",
       "      <td>0</td>\n",
       "      <td>0</td>\n",
       "      <td>0</td>\n",
       "      <td>0</td>\n",
       "      <td>0</td>\n",
       "      <td>0</td>\n",
       "    </tr>\n",
       "  </tbody>\n",
       "</table>\n",
       "<p>5 rows × 785 columns</p>\n",
       "</div>"
      ],
      "text/plain": [
       "   label  pixel0  pixel1  pixel2  pixel3  pixel4  pixel5  pixel6  pixel7  \\\n",
       "0      1       0       0       0       0       0       0       0       0   \n",
       "1      0       0       0       0       0       0       0       0       0   \n",
       "2      1       0       0       0       0       0       0       0       0   \n",
       "3      4       0       0       0       0       0       0       0       0   \n",
       "4      0       0       0       0       0       0       0       0       0   \n",
       "\n",
       "   pixel8  ...  pixel774  pixel775  pixel776  pixel777  pixel778  pixel779  \\\n",
       "0       0  ...         0         0         0         0         0         0   \n",
       "1       0  ...         0         0         0         0         0         0   \n",
       "2       0  ...         0         0         0         0         0         0   \n",
       "3       0  ...         0         0         0         0         0         0   \n",
       "4       0  ...         0         0         0         0         0         0   \n",
       "\n",
       "   pixel780  pixel781  pixel782  pixel783  \n",
       "0         0         0         0         0  \n",
       "1         0         0         0         0  \n",
       "2         0         0         0         0  \n",
       "3         0         0         0         0  \n",
       "4         0         0         0         0  \n",
       "\n",
       "[5 rows x 785 columns]"
      ]
     },
     "execution_count": 2,
     "metadata": {},
     "output_type": "execute_result"
    }
   ],
   "source": [
    "train_data.head()"
   ]
  },
  {
   "cell_type": "code",
   "execution_count": 3,
   "id": "a5f65c0c",
   "metadata": {
    "execution": {
     "iopub.execute_input": "2022-10-31T03:36:53.156498Z",
     "iopub.status.busy": "2022-10-31T03:36:53.156133Z",
     "iopub.status.idle": "2022-10-31T03:36:53.172978Z",
     "shell.execute_reply": "2022-10-31T03:36:53.171861Z"
    },
    "papermill": {
     "duration": 0.02625,
     "end_time": "2022-10-31T03:36:53.175390",
     "exception": false,
     "start_time": "2022-10-31T03:36:53.149140",
     "status": "completed"
    },
    "tags": []
   },
   "outputs": [
    {
     "data": {
      "text/html": [
       "<div>\n",
       "<style scoped>\n",
       "    .dataframe tbody tr th:only-of-type {\n",
       "        vertical-align: middle;\n",
       "    }\n",
       "\n",
       "    .dataframe tbody tr th {\n",
       "        vertical-align: top;\n",
       "    }\n",
       "\n",
       "    .dataframe thead th {\n",
       "        text-align: right;\n",
       "    }\n",
       "</style>\n",
       "<table border=\"1\" class=\"dataframe\">\n",
       "  <thead>\n",
       "    <tr style=\"text-align: right;\">\n",
       "      <th></th>\n",
       "      <th>pixel0</th>\n",
       "      <th>pixel1</th>\n",
       "      <th>pixel2</th>\n",
       "      <th>pixel3</th>\n",
       "      <th>pixel4</th>\n",
       "      <th>pixel5</th>\n",
       "      <th>pixel6</th>\n",
       "      <th>pixel7</th>\n",
       "      <th>pixel8</th>\n",
       "      <th>pixel9</th>\n",
       "      <th>...</th>\n",
       "      <th>pixel774</th>\n",
       "      <th>pixel775</th>\n",
       "      <th>pixel776</th>\n",
       "      <th>pixel777</th>\n",
       "      <th>pixel778</th>\n",
       "      <th>pixel779</th>\n",
       "      <th>pixel780</th>\n",
       "      <th>pixel781</th>\n",
       "      <th>pixel782</th>\n",
       "      <th>pixel783</th>\n",
       "    </tr>\n",
       "  </thead>\n",
       "  <tbody>\n",
       "    <tr>\n",
       "      <th>0</th>\n",
       "      <td>0</td>\n",
       "      <td>0</td>\n",
       "      <td>0</td>\n",
       "      <td>0</td>\n",
       "      <td>0</td>\n",
       "      <td>0</td>\n",
       "      <td>0</td>\n",
       "      <td>0</td>\n",
       "      <td>0</td>\n",
       "      <td>0</td>\n",
       "      <td>...</td>\n",
       "      <td>0</td>\n",
       "      <td>0</td>\n",
       "      <td>0</td>\n",
       "      <td>0</td>\n",
       "      <td>0</td>\n",
       "      <td>0</td>\n",
       "      <td>0</td>\n",
       "      <td>0</td>\n",
       "      <td>0</td>\n",
       "      <td>0</td>\n",
       "    </tr>\n",
       "    <tr>\n",
       "      <th>1</th>\n",
       "      <td>0</td>\n",
       "      <td>0</td>\n",
       "      <td>0</td>\n",
       "      <td>0</td>\n",
       "      <td>0</td>\n",
       "      <td>0</td>\n",
       "      <td>0</td>\n",
       "      <td>0</td>\n",
       "      <td>0</td>\n",
       "      <td>0</td>\n",
       "      <td>...</td>\n",
       "      <td>0</td>\n",
       "      <td>0</td>\n",
       "      <td>0</td>\n",
       "      <td>0</td>\n",
       "      <td>0</td>\n",
       "      <td>0</td>\n",
       "      <td>0</td>\n",
       "      <td>0</td>\n",
       "      <td>0</td>\n",
       "      <td>0</td>\n",
       "    </tr>\n",
       "    <tr>\n",
       "      <th>2</th>\n",
       "      <td>0</td>\n",
       "      <td>0</td>\n",
       "      <td>0</td>\n",
       "      <td>0</td>\n",
       "      <td>0</td>\n",
       "      <td>0</td>\n",
       "      <td>0</td>\n",
       "      <td>0</td>\n",
       "      <td>0</td>\n",
       "      <td>0</td>\n",
       "      <td>...</td>\n",
       "      <td>0</td>\n",
       "      <td>0</td>\n",
       "      <td>0</td>\n",
       "      <td>0</td>\n",
       "      <td>0</td>\n",
       "      <td>0</td>\n",
       "      <td>0</td>\n",
       "      <td>0</td>\n",
       "      <td>0</td>\n",
       "      <td>0</td>\n",
       "    </tr>\n",
       "    <tr>\n",
       "      <th>3</th>\n",
       "      <td>0</td>\n",
       "      <td>0</td>\n",
       "      <td>0</td>\n",
       "      <td>0</td>\n",
       "      <td>0</td>\n",
       "      <td>0</td>\n",
       "      <td>0</td>\n",
       "      <td>0</td>\n",
       "      <td>0</td>\n",
       "      <td>0</td>\n",
       "      <td>...</td>\n",
       "      <td>0</td>\n",
       "      <td>0</td>\n",
       "      <td>0</td>\n",
       "      <td>0</td>\n",
       "      <td>0</td>\n",
       "      <td>0</td>\n",
       "      <td>0</td>\n",
       "      <td>0</td>\n",
       "      <td>0</td>\n",
       "      <td>0</td>\n",
       "    </tr>\n",
       "    <tr>\n",
       "      <th>4</th>\n",
       "      <td>0</td>\n",
       "      <td>0</td>\n",
       "      <td>0</td>\n",
       "      <td>0</td>\n",
       "      <td>0</td>\n",
       "      <td>0</td>\n",
       "      <td>0</td>\n",
       "      <td>0</td>\n",
       "      <td>0</td>\n",
       "      <td>0</td>\n",
       "      <td>...</td>\n",
       "      <td>0</td>\n",
       "      <td>0</td>\n",
       "      <td>0</td>\n",
       "      <td>0</td>\n",
       "      <td>0</td>\n",
       "      <td>0</td>\n",
       "      <td>0</td>\n",
       "      <td>0</td>\n",
       "      <td>0</td>\n",
       "      <td>0</td>\n",
       "    </tr>\n",
       "  </tbody>\n",
       "</table>\n",
       "<p>5 rows × 784 columns</p>\n",
       "</div>"
      ],
      "text/plain": [
       "   pixel0  pixel1  pixel2  pixel3  pixel4  pixel5  pixel6  pixel7  pixel8  \\\n",
       "0       0       0       0       0       0       0       0       0       0   \n",
       "1       0       0       0       0       0       0       0       0       0   \n",
       "2       0       0       0       0       0       0       0       0       0   \n",
       "3       0       0       0       0       0       0       0       0       0   \n",
       "4       0       0       0       0       0       0       0       0       0   \n",
       "\n",
       "   pixel9  ...  pixel774  pixel775  pixel776  pixel777  pixel778  pixel779  \\\n",
       "0       0  ...         0         0         0         0         0         0   \n",
       "1       0  ...         0         0         0         0         0         0   \n",
       "2       0  ...         0         0         0         0         0         0   \n",
       "3       0  ...         0         0         0         0         0         0   \n",
       "4       0  ...         0         0         0         0         0         0   \n",
       "\n",
       "   pixel780  pixel781  pixel782  pixel783  \n",
       "0         0         0         0         0  \n",
       "1         0         0         0         0  \n",
       "2         0         0         0         0  \n",
       "3         0         0         0         0  \n",
       "4         0         0         0         0  \n",
       "\n",
       "[5 rows x 784 columns]"
      ]
     },
     "execution_count": 3,
     "metadata": {},
     "output_type": "execute_result"
    }
   ],
   "source": [
    "test_data.head()"
   ]
  },
  {
   "cell_type": "markdown",
   "id": "183c5a3e",
   "metadata": {
    "papermill": {
     "duration": 0.005815,
     "end_time": "2022-10-31T03:36:53.187435",
     "exception": false,
     "start_time": "2022-10-31T03:36:53.181620",
     "status": "completed"
    },
    "tags": []
   },
   "source": [
    "# 拆分训练集"
   ]
  },
  {
   "cell_type": "code",
   "execution_count": 4,
   "id": "a4b02314",
   "metadata": {
    "execution": {
     "iopub.execute_input": "2022-10-31T03:36:53.202600Z",
     "iopub.status.busy": "2022-10-31T03:36:53.201012Z",
     "iopub.status.idle": "2022-10-31T03:36:53.290463Z",
     "shell.execute_reply": "2022-10-31T03:36:53.289273Z"
    },
    "papermill": {
     "duration": 0.099471,
     "end_time": "2022-10-31T03:36:53.293280",
     "exception": false,
     "start_time": "2022-10-31T03:36:53.193809",
     "status": "completed"
    },
    "tags": []
   },
   "outputs": [],
   "source": [
    "y_train = train_data[['label']]\n",
    "x_train = train_data.drop(['label'], axis=1)"
   ]
  },
  {
   "cell_type": "code",
   "execution_count": 5,
   "id": "e152b48f",
   "metadata": {
    "execution": {
     "iopub.execute_input": "2022-10-31T03:36:53.307887Z",
     "iopub.status.busy": "2022-10-31T03:36:53.307542Z",
     "iopub.status.idle": "2022-10-31T03:36:53.325881Z",
     "shell.execute_reply": "2022-10-31T03:36:53.324950Z"
    },
    "papermill": {
     "duration": 0.027968,
     "end_time": "2022-10-31T03:36:53.328115",
     "exception": false,
     "start_time": "2022-10-31T03:36:53.300147",
     "status": "completed"
    },
    "tags": []
   },
   "outputs": [
    {
     "data": {
      "text/html": [
       "<div>\n",
       "<style scoped>\n",
       "    .dataframe tbody tr th:only-of-type {\n",
       "        vertical-align: middle;\n",
       "    }\n",
       "\n",
       "    .dataframe tbody tr th {\n",
       "        vertical-align: top;\n",
       "    }\n",
       "\n",
       "    .dataframe thead th {\n",
       "        text-align: right;\n",
       "    }\n",
       "</style>\n",
       "<table border=\"1\" class=\"dataframe\">\n",
       "  <thead>\n",
       "    <tr style=\"text-align: right;\">\n",
       "      <th></th>\n",
       "      <th>pixel0</th>\n",
       "      <th>pixel1</th>\n",
       "      <th>pixel2</th>\n",
       "      <th>pixel3</th>\n",
       "      <th>pixel4</th>\n",
       "      <th>pixel5</th>\n",
       "      <th>pixel6</th>\n",
       "      <th>pixel7</th>\n",
       "      <th>pixel8</th>\n",
       "      <th>pixel9</th>\n",
       "      <th>...</th>\n",
       "      <th>pixel774</th>\n",
       "      <th>pixel775</th>\n",
       "      <th>pixel776</th>\n",
       "      <th>pixel777</th>\n",
       "      <th>pixel778</th>\n",
       "      <th>pixel779</th>\n",
       "      <th>pixel780</th>\n",
       "      <th>pixel781</th>\n",
       "      <th>pixel782</th>\n",
       "      <th>pixel783</th>\n",
       "    </tr>\n",
       "  </thead>\n",
       "  <tbody>\n",
       "    <tr>\n",
       "      <th>0</th>\n",
       "      <td>0</td>\n",
       "      <td>0</td>\n",
       "      <td>0</td>\n",
       "      <td>0</td>\n",
       "      <td>0</td>\n",
       "      <td>0</td>\n",
       "      <td>0</td>\n",
       "      <td>0</td>\n",
       "      <td>0</td>\n",
       "      <td>0</td>\n",
       "      <td>...</td>\n",
       "      <td>0</td>\n",
       "      <td>0</td>\n",
       "      <td>0</td>\n",
       "      <td>0</td>\n",
       "      <td>0</td>\n",
       "      <td>0</td>\n",
       "      <td>0</td>\n",
       "      <td>0</td>\n",
       "      <td>0</td>\n",
       "      <td>0</td>\n",
       "    </tr>\n",
       "    <tr>\n",
       "      <th>1</th>\n",
       "      <td>0</td>\n",
       "      <td>0</td>\n",
       "      <td>0</td>\n",
       "      <td>0</td>\n",
       "      <td>0</td>\n",
       "      <td>0</td>\n",
       "      <td>0</td>\n",
       "      <td>0</td>\n",
       "      <td>0</td>\n",
       "      <td>0</td>\n",
       "      <td>...</td>\n",
       "      <td>0</td>\n",
       "      <td>0</td>\n",
       "      <td>0</td>\n",
       "      <td>0</td>\n",
       "      <td>0</td>\n",
       "      <td>0</td>\n",
       "      <td>0</td>\n",
       "      <td>0</td>\n",
       "      <td>0</td>\n",
       "      <td>0</td>\n",
       "    </tr>\n",
       "    <tr>\n",
       "      <th>2</th>\n",
       "      <td>0</td>\n",
       "      <td>0</td>\n",
       "      <td>0</td>\n",
       "      <td>0</td>\n",
       "      <td>0</td>\n",
       "      <td>0</td>\n",
       "      <td>0</td>\n",
       "      <td>0</td>\n",
       "      <td>0</td>\n",
       "      <td>0</td>\n",
       "      <td>...</td>\n",
       "      <td>0</td>\n",
       "      <td>0</td>\n",
       "      <td>0</td>\n",
       "      <td>0</td>\n",
       "      <td>0</td>\n",
       "      <td>0</td>\n",
       "      <td>0</td>\n",
       "      <td>0</td>\n",
       "      <td>0</td>\n",
       "      <td>0</td>\n",
       "    </tr>\n",
       "    <tr>\n",
       "      <th>3</th>\n",
       "      <td>0</td>\n",
       "      <td>0</td>\n",
       "      <td>0</td>\n",
       "      <td>0</td>\n",
       "      <td>0</td>\n",
       "      <td>0</td>\n",
       "      <td>0</td>\n",
       "      <td>0</td>\n",
       "      <td>0</td>\n",
       "      <td>0</td>\n",
       "      <td>...</td>\n",
       "      <td>0</td>\n",
       "      <td>0</td>\n",
       "      <td>0</td>\n",
       "      <td>0</td>\n",
       "      <td>0</td>\n",
       "      <td>0</td>\n",
       "      <td>0</td>\n",
       "      <td>0</td>\n",
       "      <td>0</td>\n",
       "      <td>0</td>\n",
       "    </tr>\n",
       "    <tr>\n",
       "      <th>4</th>\n",
       "      <td>0</td>\n",
       "      <td>0</td>\n",
       "      <td>0</td>\n",
       "      <td>0</td>\n",
       "      <td>0</td>\n",
       "      <td>0</td>\n",
       "      <td>0</td>\n",
       "      <td>0</td>\n",
       "      <td>0</td>\n",
       "      <td>0</td>\n",
       "      <td>...</td>\n",
       "      <td>0</td>\n",
       "      <td>0</td>\n",
       "      <td>0</td>\n",
       "      <td>0</td>\n",
       "      <td>0</td>\n",
       "      <td>0</td>\n",
       "      <td>0</td>\n",
       "      <td>0</td>\n",
       "      <td>0</td>\n",
       "      <td>0</td>\n",
       "    </tr>\n",
       "  </tbody>\n",
       "</table>\n",
       "<p>5 rows × 784 columns</p>\n",
       "</div>"
      ],
      "text/plain": [
       "   pixel0  pixel1  pixel2  pixel3  pixel4  pixel5  pixel6  pixel7  pixel8  \\\n",
       "0       0       0       0       0       0       0       0       0       0   \n",
       "1       0       0       0       0       0       0       0       0       0   \n",
       "2       0       0       0       0       0       0       0       0       0   \n",
       "3       0       0       0       0       0       0       0       0       0   \n",
       "4       0       0       0       0       0       0       0       0       0   \n",
       "\n",
       "   pixel9  ...  pixel774  pixel775  pixel776  pixel777  pixel778  pixel779  \\\n",
       "0       0  ...         0         0         0         0         0         0   \n",
       "1       0  ...         0         0         0         0         0         0   \n",
       "2       0  ...         0         0         0         0         0         0   \n",
       "3       0  ...         0         0         0         0         0         0   \n",
       "4       0  ...         0         0         0         0         0         0   \n",
       "\n",
       "   pixel780  pixel781  pixel782  pixel783  \n",
       "0         0         0         0         0  \n",
       "1         0         0         0         0  \n",
       "2         0         0         0         0  \n",
       "3         0         0         0         0  \n",
       "4         0         0         0         0  \n",
       "\n",
       "[5 rows x 784 columns]"
      ]
     },
     "execution_count": 5,
     "metadata": {},
     "output_type": "execute_result"
    }
   ],
   "source": [
    "x_train.head()"
   ]
  },
  {
   "cell_type": "code",
   "execution_count": 6,
   "id": "8e1897a1",
   "metadata": {
    "execution": {
     "iopub.execute_input": "2022-10-31T03:36:53.343891Z",
     "iopub.status.busy": "2022-10-31T03:36:53.343571Z",
     "iopub.status.idle": "2022-10-31T03:36:53.351693Z",
     "shell.execute_reply": "2022-10-31T03:36:53.350574Z"
    },
    "papermill": {
     "duration": 0.018856,
     "end_time": "2022-10-31T03:36:53.353837",
     "exception": false,
     "start_time": "2022-10-31T03:36:53.334981",
     "status": "completed"
    },
    "tags": []
   },
   "outputs": [
    {
     "data": {
      "text/html": [
       "<div>\n",
       "<style scoped>\n",
       "    .dataframe tbody tr th:only-of-type {\n",
       "        vertical-align: middle;\n",
       "    }\n",
       "\n",
       "    .dataframe tbody tr th {\n",
       "        vertical-align: top;\n",
       "    }\n",
       "\n",
       "    .dataframe thead th {\n",
       "        text-align: right;\n",
       "    }\n",
       "</style>\n",
       "<table border=\"1\" class=\"dataframe\">\n",
       "  <thead>\n",
       "    <tr style=\"text-align: right;\">\n",
       "      <th></th>\n",
       "      <th>label</th>\n",
       "    </tr>\n",
       "  </thead>\n",
       "  <tbody>\n",
       "    <tr>\n",
       "      <th>0</th>\n",
       "      <td>1</td>\n",
       "    </tr>\n",
       "    <tr>\n",
       "      <th>1</th>\n",
       "      <td>0</td>\n",
       "    </tr>\n",
       "    <tr>\n",
       "      <th>2</th>\n",
       "      <td>1</td>\n",
       "    </tr>\n",
       "    <tr>\n",
       "      <th>3</th>\n",
       "      <td>4</td>\n",
       "    </tr>\n",
       "    <tr>\n",
       "      <th>4</th>\n",
       "      <td>0</td>\n",
       "    </tr>\n",
       "  </tbody>\n",
       "</table>\n",
       "</div>"
      ],
      "text/plain": [
       "   label\n",
       "0      1\n",
       "1      0\n",
       "2      1\n",
       "3      4\n",
       "4      0"
      ]
     },
     "execution_count": 6,
     "metadata": {},
     "output_type": "execute_result"
    }
   ],
   "source": [
    "y_train.head()"
   ]
  },
  {
   "cell_type": "markdown",
   "id": "e9ba11d4",
   "metadata": {
    "papermill": {
     "duration": 0.006676,
     "end_time": "2022-10-31T03:36:53.366903",
     "exception": false,
     "start_time": "2022-10-31T03:36:53.360227",
     "status": "completed"
    },
    "tags": []
   },
   "source": [
    "# 将 1 维图像转换为 2 维图像"
   ]
  },
  {
   "cell_type": "code",
   "execution_count": 7,
   "id": "f3add074",
   "metadata": {
    "execution": {
     "iopub.execute_input": "2022-10-31T03:36:53.381466Z",
     "iopub.status.busy": "2022-10-31T03:36:53.381026Z",
     "iopub.status.idle": "2022-10-31T03:36:53.388353Z",
     "shell.execute_reply": "2022-10-31T03:36:53.387340Z"
    },
    "papermill": {
     "duration": 0.017122,
     "end_time": "2022-10-31T03:36:53.390774",
     "exception": false,
     "start_time": "2022-10-31T03:36:53.373652",
     "status": "completed"
    },
    "tags": []
   },
   "outputs": [
    {
     "data": {
      "text/plain": [
       "((42000, 784), (28000, 784))"
      ]
     },
     "execution_count": 7,
     "metadata": {},
     "output_type": "execute_result"
    }
   ],
   "source": [
    "x_train.shape, test_data.shape"
   ]
  },
  {
   "cell_type": "code",
   "execution_count": 8,
   "id": "69f40104",
   "metadata": {
    "execution": {
     "iopub.execute_input": "2022-10-31T03:36:53.405849Z",
     "iopub.status.busy": "2022-10-31T03:36:53.405567Z",
     "iopub.status.idle": "2022-10-31T03:36:53.410106Z",
     "shell.execute_reply": "2022-10-31T03:36:53.409123Z"
    },
    "papermill": {
     "duration": 0.014729,
     "end_time": "2022-10-31T03:36:53.412392",
     "exception": false,
     "start_time": "2022-10-31T03:36:53.397663",
     "status": "completed"
    },
    "tags": []
   },
   "outputs": [],
   "source": [
    "# 将数据转换为 28 × 28 像素的图像\n",
    "x_train = x_train.values.reshape(x_train.shape[0], 28, 28)\n",
    "x_test = test_data.values.reshape(test_data.shape[0], 28, 28)"
   ]
  },
  {
   "cell_type": "markdown",
   "id": "17a5c41d",
   "metadata": {
    "papermill": {
     "duration": 0.006535,
     "end_time": "2022-10-31T03:36:53.425811",
     "exception": false,
     "start_time": "2022-10-31T03:36:53.419276",
     "status": "completed"
    },
    "tags": []
   },
   "source": [
    "# 添加色彩通道维度"
   ]
  },
  {
   "cell_type": "code",
   "execution_count": 9,
   "id": "0816b155",
   "metadata": {
    "execution": {
     "iopub.execute_input": "2022-10-31T03:36:53.440505Z",
     "iopub.status.busy": "2022-10-31T03:36:53.440099Z",
     "iopub.status.idle": "2022-10-31T03:36:53.445894Z",
     "shell.execute_reply": "2022-10-31T03:36:53.444814Z"
    },
    "papermill": {
     "duration": 0.016912,
     "end_time": "2022-10-31T03:36:53.449466",
     "exception": false,
     "start_time": "2022-10-31T03:36:53.432554",
     "status": "completed"
    },
    "tags": []
   },
   "outputs": [
    {
     "name": "stdout",
     "output_type": "stream",
     "text": [
      "Train Data shape      : (42000, 28, 28, 1)\n",
      "Test Data shape       : (28000, 28, 28, 1)\n"
     ]
    }
   ],
   "source": [
    "x_train = x_train.reshape(-1, 28, 28, 1)\n",
    "x_test  = x_test.reshape(-1, 28, 28, 1)\n",
    "\n",
    "print('Train Data shape      :', x_train.shape)\n",
    "print('Test Data shape       :', x_test.shape) "
   ]
  },
  {
   "cell_type": "markdown",
   "id": "11bd5835",
   "metadata": {
    "papermill": {
     "duration": 0.006697,
     "end_time": "2022-10-31T03:36:53.462941",
     "exception": false,
     "start_time": "2022-10-31T03:36:53.456244",
     "status": "completed"
    },
    "tags": []
   },
   "source": [
    "# 归一化"
   ]
  },
  {
   "cell_type": "code",
   "execution_count": 10,
   "id": "0ec9cc43",
   "metadata": {
    "execution": {
     "iopub.execute_input": "2022-10-31T03:36:53.478657Z",
     "iopub.status.busy": "2022-10-31T03:36:53.478402Z",
     "iopub.status.idle": "2022-10-31T03:36:53.667706Z",
     "shell.execute_reply": "2022-10-31T03:36:53.666522Z"
    },
    "papermill": {
     "duration": 0.200118,
     "end_time": "2022-10-31T03:36:53.670575",
     "exception": false,
     "start_time": "2022-10-31T03:36:53.470457",
     "status": "completed"
    },
    "tags": []
   },
   "outputs": [],
   "source": [
    "x_train, x_test = x_train / 255, x_test / 255"
   ]
  },
  {
   "cell_type": "markdown",
   "id": "ff1f7cde",
   "metadata": {
    "papermill": {
     "duration": 0.006767,
     "end_time": "2022-10-31T03:36:53.685274",
     "exception": false,
     "start_time": "2022-10-31T03:36:53.678507",
     "status": "completed"
    },
    "tags": []
   },
   "source": [
    "# 对标签进行独热编码"
   ]
  },
  {
   "cell_type": "code",
   "execution_count": 11,
   "id": "4668e29a",
   "metadata": {
    "execution": {
     "iopub.execute_input": "2022-10-31T03:36:53.701209Z",
     "iopub.status.busy": "2022-10-31T03:36:53.700859Z",
     "iopub.status.idle": "2022-10-31T03:36:59.300208Z",
     "shell.execute_reply": "2022-10-31T03:36:59.299214Z"
    },
    "papermill": {
     "duration": 5.6099,
     "end_time": "2022-10-31T03:36:59.302868",
     "exception": false,
     "start_time": "2022-10-31T03:36:53.692968",
     "status": "completed"
    },
    "tags": []
   },
   "outputs": [],
   "source": [
    "import tensorflow as tf\n",
    "y_train = tf.keras.utils.to_categorical(y_train)"
   ]
  },
  {
   "cell_type": "code",
   "execution_count": 12,
   "id": "50cc576d",
   "metadata": {
    "execution": {
     "iopub.execute_input": "2022-10-31T03:36:59.319390Z",
     "iopub.status.busy": "2022-10-31T03:36:59.318178Z",
     "iopub.status.idle": "2022-10-31T03:36:59.325831Z",
     "shell.execute_reply": "2022-10-31T03:36:59.324971Z"
    },
    "papermill": {
     "duration": 0.018131,
     "end_time": "2022-10-31T03:36:59.327829",
     "exception": false,
     "start_time": "2022-10-31T03:36:59.309698",
     "status": "completed"
    },
    "tags": []
   },
   "outputs": [
    {
     "data": {
      "text/plain": [
       "(42000, 10)"
      ]
     },
     "execution_count": 12,
     "metadata": {},
     "output_type": "execute_result"
    }
   ],
   "source": [
    "y_train.shape"
   ]
  },
  {
   "cell_type": "markdown",
   "id": "45f832df",
   "metadata": {
    "papermill": {
     "duration": 0.006409,
     "end_time": "2022-10-31T03:36:59.340889",
     "exception": false,
     "start_time": "2022-10-31T03:36:59.334480",
     "status": "completed"
    },
    "tags": []
   },
   "source": [
    "# 模型定义"
   ]
  },
  {
   "cell_type": "code",
   "execution_count": 13,
   "id": "881b8205",
   "metadata": {
    "execution": {
     "iopub.execute_input": "2022-10-31T03:36:59.355665Z",
     "iopub.status.busy": "2022-10-31T03:36:59.355384Z",
     "iopub.status.idle": "2022-10-31T03:36:59.361816Z",
     "shell.execute_reply": "2022-10-31T03:36:59.360858Z"
    },
    "papermill": {
     "duration": 0.016219,
     "end_time": "2022-10-31T03:36:59.363909",
     "exception": false,
     "start_time": "2022-10-31T03:36:59.347690",
     "status": "completed"
    },
    "tags": []
   },
   "outputs": [],
   "source": [
    "# 超参数设定 \n",
    "batch = 42   # 将训练集分成 42 份\n",
    "epochs = 20  # 将小批次的训练集训练 20 次\n",
    "steps_per_epoch = x_train.shape[0] // batch   # 模型每次训练数量\n",
    "seed = 4       # 随机种子数\n",
    "tf.random.set_seed(4)\n",
    "lr_rate = 0.001  # 学习率"
   ]
  },
  {
   "cell_type": "code",
   "execution_count": 14,
   "id": "278ea346",
   "metadata": {
    "execution": {
     "iopub.execute_input": "2022-10-31T03:36:59.378915Z",
     "iopub.status.busy": "2022-10-31T03:36:59.378068Z",
     "iopub.status.idle": "2022-10-31T03:36:59.437918Z",
     "shell.execute_reply": "2022-10-31T03:36:59.436867Z"
    },
    "papermill": {
     "duration": 0.070004,
     "end_time": "2022-10-31T03:36:59.440640",
     "exception": false,
     "start_time": "2022-10-31T03:36:59.370636",
     "status": "completed"
    },
    "tags": []
   },
   "outputs": [],
   "source": [
    "# 数据增强\n",
    "datagen = tf.keras.preprocessing.image.ImageDataGenerator(rotation_range=10,\n",
    "                             zoom_range=0.15\n",
    "                            )\n",
    "\n",
    "image_generator = datagen.flow(x_train, y_train, \n",
    "                               batch_size=batch, \n",
    "                               seed=seed,\n",
    "                              )"
   ]
  },
  {
   "cell_type": "code",
   "execution_count": 15,
   "id": "07d59a47",
   "metadata": {
    "_kg_hide-output": true,
    "execution": {
     "iopub.execute_input": "2022-10-31T03:36:59.456225Z",
     "iopub.status.busy": "2022-10-31T03:36:59.455909Z",
     "iopub.status.idle": "2022-10-31T03:37:02.704353Z",
     "shell.execute_reply": "2022-10-31T03:37:02.703465Z"
    },
    "papermill": {
     "duration": 3.258733,
     "end_time": "2022-10-31T03:37:02.706463",
     "exception": false,
     "start_time": "2022-10-31T03:36:59.447730",
     "status": "completed"
    },
    "tags": []
   },
   "outputs": [
    {
     "name": "stderr",
     "output_type": "stream",
     "text": [
      "2022-10-31 03:36:59.575362: I tensorflow/stream_executor/cuda/cuda_gpu_executor.cc:937] successful NUMA node read from SysFS had negative value (-1), but there must be at least one NUMA node, so returning NUMA node zero\n",
      "2022-10-31 03:36:59.702280: I tensorflow/stream_executor/cuda/cuda_gpu_executor.cc:937] successful NUMA node read from SysFS had negative value (-1), but there must be at least one NUMA node, so returning NUMA node zero\n",
      "2022-10-31 03:36:59.703059: I tensorflow/stream_executor/cuda/cuda_gpu_executor.cc:937] successful NUMA node read from SysFS had negative value (-1), but there must be at least one NUMA node, so returning NUMA node zero\n",
      "2022-10-31 03:36:59.705014: I tensorflow/core/platform/cpu_feature_guard.cc:142] This TensorFlow binary is optimized with oneAPI Deep Neural Network Library (oneDNN) to use the following CPU instructions in performance-critical operations:  AVX2 AVX512F FMA\n",
      "To enable them in other operations, rebuild TensorFlow with the appropriate compiler flags.\n",
      "2022-10-31 03:36:59.705367: I tensorflow/stream_executor/cuda/cuda_gpu_executor.cc:937] successful NUMA node read from SysFS had negative value (-1), but there must be at least one NUMA node, so returning NUMA node zero\n",
      "2022-10-31 03:36:59.706335: I tensorflow/stream_executor/cuda/cuda_gpu_executor.cc:937] successful NUMA node read from SysFS had negative value (-1), but there must be at least one NUMA node, so returning NUMA node zero\n",
      "2022-10-31 03:36:59.707263: I tensorflow/stream_executor/cuda/cuda_gpu_executor.cc:937] successful NUMA node read from SysFS had negative value (-1), but there must be at least one NUMA node, so returning NUMA node zero\n",
      "2022-10-31 03:37:02.088910: I tensorflow/stream_executor/cuda/cuda_gpu_executor.cc:937] successful NUMA node read from SysFS had negative value (-1), but there must be at least one NUMA node, so returning NUMA node zero\n",
      "2022-10-31 03:37:02.089808: I tensorflow/stream_executor/cuda/cuda_gpu_executor.cc:937] successful NUMA node read from SysFS had negative value (-1), but there must be at least one NUMA node, so returning NUMA node zero\n",
      "2022-10-31 03:37:02.090462: I tensorflow/stream_executor/cuda/cuda_gpu_executor.cc:937] successful NUMA node read from SysFS had negative value (-1), but there must be at least one NUMA node, so returning NUMA node zero\n",
      "2022-10-31 03:37:02.091092: I tensorflow/core/common_runtime/gpu/gpu_device.cc:1510] Created device /job:localhost/replica:0/task:0/device:GPU:0 with 15401 MB memory:  -> device: 0, name: Tesla P100-PCIE-16GB, pci bus id: 0000:00:04.0, compute capability: 6.0\n"
     ]
    }
   ],
   "source": [
    "# 定义模型\n",
    "from tensorflow.keras import layers, models\n",
    "model = models.Sequential([\n",
    "    layers.Conv2D(filters=32, kernel_size=(2, 2), activation='relu', input_shape = (28,28,1)),         # 卷积层\n",
    "    layers.Conv2D(32, (4, 4), activation = 'relu'),\n",
    "    layers.BatchNormalization(),\n",
    "    layers.MaxPooling2D(2, 2),\n",
    "    \n",
    "    layers.Conv2D(filters=64, kernel_size=(2, 2), activation='relu'),         # 卷积层\n",
    "    layers.Conv2D(64, (4, 4), activation = 'relu'),\n",
    "    layers.BatchNormalization(),\n",
    "    layers.MaxPooling2D(2, 2),                                             # 最大池化\n",
    "    \n",
    "    layers.Conv2D(128, (3, 3), activation = 'relu'),\n",
    "    layers.BatchNormalization(),\n",
    "    \n",
    "    layers.Flatten(),                        \n",
    "    layers.Dense(150, activation = tf.nn.relu),     # 隐藏层\n",
    "    layers.Dense(150, activation = tf.nn.relu),      # 隐藏层\n",
    "    \n",
    "    # 分类为 0 - 9 的数字标签，所以输出有 10 种可能，并且使用 softmax 激活函数表示概率的大小\n",
    "    layers.Dense(10, activation = tf.nn.softmax)     \n",
    "])\n",
    "\n",
    "# 当模型的 accuracy 不再提升时停止训练\n",
    "early_stopping = tf.keras.callbacks.EarlyStopping(monitor = 'val_accuracy',\n",
    "                                                  patience = 3,\n",
    "                                                  min_delta = 1e-4,\n",
    "                                                  restore_best_weights = True)\n",
    "\n",
    "# 保存模型\n",
    "checkpoint_callback = tf.keras.callbacks.ModelCheckpoint(filepath = 'saved_model/best_model_todate', \n",
    "                                                 save_best_only = True, \n",
    "                                                 save_weights_only = True,\n",
    "                                                 monitor='val_accuracy',\n",
    "                                                 mode='max')\n",
    "\n",
    "# 遇到 NaN 丢失时终止训练\n",
    "tn = tf.keras.callbacks.TerminateOnNaN()\n",
    "\n",
    "# 模型学习率、学习次数等设置\n",
    "scheduler = tf.keras.optimizers.schedules.ExponentialDecay(initial_learning_rate = lr_rate,\n",
    "                                                           decay_steps = steps_per_epoch // 4,\n",
    "                                                           decay_rate= 0.80,\n",
    "                                                           staircase=True)\n",
    "lr_scheduler = tf.keras.callbacks.LearningRateScheduler(scheduler)\n",
    "\n",
    "# 当指标停止改进时降低学习率\n",
    "lr_plateau = tf.keras.callbacks.ReduceLROnPlateau(monitor = 'val_loss',\n",
    "                                                  factor = 0.1,\n",
    "                                                  patience = 4, \n",
    "                                                  verbose = 3)\n",
    "\n",
    "# 设置损失函数\n",
    "loss_object = tf.keras.losses.CategoricalCrossentropy()\n",
    "\n",
    "# 设置优化器\n",
    "optimizer = tf.keras.optimizers.Adam(learning_rate=lr_rate) "
   ]
  },
  {
   "cell_type": "markdown",
   "id": "fb782826",
   "metadata": {
    "papermill": {
     "duration": 0.006489,
     "end_time": "2022-10-31T03:37:02.720254",
     "exception": false,
     "start_time": "2022-10-31T03:37:02.713765",
     "status": "completed"
    },
    "tags": []
   },
   "source": [
    "# 模型预测"
   ]
  },
  {
   "cell_type": "code",
   "execution_count": 16,
   "id": "b663f03c",
   "metadata": {
    "execution": {
     "iopub.execute_input": "2022-10-31T03:37:02.735692Z",
     "iopub.status.busy": "2022-10-31T03:37:02.734783Z",
     "iopub.status.idle": "2022-10-31T03:37:02.746870Z",
     "shell.execute_reply": "2022-10-31T03:37:02.746040Z"
    },
    "papermill": {
     "duration": 0.021897,
     "end_time": "2022-10-31T03:37:02.748886",
     "exception": false,
     "start_time": "2022-10-31T03:37:02.726989",
     "status": "completed"
    },
    "tags": []
   },
   "outputs": [],
   "source": [
    "# 编译模型\n",
    "model.compile(optimizer=optimizer,loss=loss_object, metrics=['accuracy'])"
   ]
  },
  {
   "cell_type": "code",
   "execution_count": 17,
   "id": "b0cef7b0",
   "metadata": {
    "execution": {
     "iopub.execute_input": "2022-10-31T03:37:02.763351Z",
     "iopub.status.busy": "2022-10-31T03:37:02.763062Z",
     "iopub.status.idle": "2022-10-31T03:39:55.966417Z",
     "shell.execute_reply": "2022-10-31T03:39:55.965326Z"
    },
    "papermill": {
     "duration": 173.21317,
     "end_time": "2022-10-31T03:39:55.968836",
     "exception": false,
     "start_time": "2022-10-31T03:37:02.755666",
     "status": "completed"
    },
    "tags": []
   },
   "outputs": [
    {
     "name": "stderr",
     "output_type": "stream",
     "text": [
      "2022-10-31 03:37:02.844064: I tensorflow/compiler/mlir/mlir_graph_optimization_pass.cc:185] None of the MLIR Optimization Passes are enabled (registered 2)\n"
     ]
    },
    {
     "name": "stdout",
     "output_type": "stream",
     "text": [
      "Epoch 1/20\n"
     ]
    },
    {
     "name": "stderr",
     "output_type": "stream",
     "text": [
      "2022-10-31 03:37:04.400088: I tensorflow/stream_executor/cuda/cuda_dnn.cc:369] Loaded cuDNN version 8005\n"
     ]
    },
    {
     "name": "stdout",
     "output_type": "stream",
     "text": [
      "1000/1000 [==============================] - 23s 16ms/step - loss: 0.1323 - accuracy: 0.9589 - val_loss: 0.0539 - val_accuracy: 0.9839\n",
      "Epoch 2/20\n",
      "1000/1000 [==============================] - 16s 16ms/step - loss: 0.0579 - accuracy: 0.9815 - val_loss: 0.0630 - val_accuracy: 0.9821\n",
      "Epoch 3/20\n",
      "1000/1000 [==============================] - 15s 15ms/step - loss: 0.0461 - accuracy: 0.9856 - val_loss: 0.0250 - val_accuracy: 0.9920\n",
      "Epoch 4/20\n",
      "1000/1000 [==============================] - 17s 17ms/step - loss: 0.0392 - accuracy: 0.9876 - val_loss: 0.0177 - val_accuracy: 0.9943\n",
      "Epoch 5/20\n",
      "1000/1000 [==============================] - 15s 15ms/step - loss: 0.0378 - accuracy: 0.9885 - val_loss: 0.0253 - val_accuracy: 0.9924\n",
      "Epoch 6/20\n",
      "1000/1000 [==============================] - 17s 17ms/step - loss: 0.0315 - accuracy: 0.9902 - val_loss: 0.0179 - val_accuracy: 0.9943\n",
      "Epoch 7/20\n",
      "1000/1000 [==============================] - 17s 17ms/step - loss: 0.0289 - accuracy: 0.9903 - val_loss: 0.0125 - val_accuracy: 0.9960\n",
      "Epoch 8/20\n",
      "1000/1000 [==============================] - 18s 18ms/step - loss: 0.0267 - accuracy: 0.9915 - val_loss: 0.0196 - val_accuracy: 0.9938\n",
      "Epoch 9/20\n",
      "1000/1000 [==============================] - 15s 15ms/step - loss: 0.0264 - accuracy: 0.9917 - val_loss: 0.0139 - val_accuracy: 0.9955\n",
      "Epoch 10/20\n",
      "1000/1000 [==============================] - 15s 15ms/step - loss: 0.0225 - accuracy: 0.9931 - val_loss: 0.0169 - val_accuracy: 0.9945\n"
     ]
    },
    {
     "data": {
      "text/plain": [
       "<keras.callbacks.History at 0x7fe3012f76d0>"
      ]
     },
     "execution_count": 17,
     "metadata": {},
     "output_type": "execute_result"
    }
   ],
   "source": [
    "# 模型训练\n",
    "model.fit(image_generator, \n",
    "          epochs=epochs, \n",
    "          validation_data=(x_train, y_train), \n",
    "          steps_per_epoch=steps_per_epoch,\n",
    "          callbacks = [lr_scheduler, lr_plateau, checkpoint_callback, early_stopping, tn]\n",
    "          )"
   ]
  },
  {
   "cell_type": "code",
   "execution_count": 18,
   "id": "c9ea61fb",
   "metadata": {
    "execution": {
     "iopub.execute_input": "2022-10-31T03:39:56.346972Z",
     "iopub.status.busy": "2022-10-31T03:39:56.346460Z",
     "iopub.status.idle": "2022-10-31T03:40:02.768277Z",
     "shell.execute_reply": "2022-10-31T03:40:02.767194Z"
    },
    "papermill": {
     "duration": 6.662739,
     "end_time": "2022-10-31T03:40:02.770870",
     "exception": false,
     "start_time": "2022-10-31T03:39:56.108131",
     "status": "completed"
    },
    "tags": []
   },
   "outputs": [],
   "source": [
    "# 模型预测\n",
    "import numpy as np\n",
    "predict = model.predict(x_test)\n",
    "labels = [np.argmax(i) for i in predict]  # 返回概率最大值的索引值"
   ]
  },
  {
   "cell_type": "markdown",
   "id": "c1437413",
   "metadata": {
    "papermill": {
     "duration": 0.115295,
     "end_time": "2022-10-31T03:40:03.002135",
     "exception": false,
     "start_time": "2022-10-31T03:40:02.886840",
     "status": "completed"
    },
    "tags": []
   },
   "source": [
    "# 提交结果"
   ]
  },
  {
   "cell_type": "code",
   "execution_count": 19,
   "id": "10ce139a",
   "metadata": {
    "execution": {
     "iopub.execute_input": "2022-10-31T03:40:03.291313Z",
     "iopub.status.busy": "2022-10-31T03:40:03.290938Z",
     "iopub.status.idle": "2022-10-31T03:40:03.321883Z",
     "shell.execute_reply": "2022-10-31T03:40:03.320873Z"
    },
    "papermill": {
     "duration": 0.149084,
     "end_time": "2022-10-31T03:40:03.323922",
     "exception": false,
     "start_time": "2022-10-31T03:40:03.174838",
     "status": "completed"
    },
    "tags": []
   },
   "outputs": [
    {
     "data": {
      "text/html": [
       "<div>\n",
       "<style scoped>\n",
       "    .dataframe tbody tr th:only-of-type {\n",
       "        vertical-align: middle;\n",
       "    }\n",
       "\n",
       "    .dataframe tbody tr th {\n",
       "        vertical-align: top;\n",
       "    }\n",
       "\n",
       "    .dataframe thead th {\n",
       "        text-align: right;\n",
       "    }\n",
       "</style>\n",
       "<table border=\"1\" class=\"dataframe\">\n",
       "  <thead>\n",
       "    <tr style=\"text-align: right;\">\n",
       "      <th></th>\n",
       "      <th>ImageId</th>\n",
       "      <th>Label</th>\n",
       "    </tr>\n",
       "  </thead>\n",
       "  <tbody>\n",
       "    <tr>\n",
       "      <th>0</th>\n",
       "      <td>1</td>\n",
       "      <td>2</td>\n",
       "    </tr>\n",
       "    <tr>\n",
       "      <th>1</th>\n",
       "      <td>2</td>\n",
       "      <td>0</td>\n",
       "    </tr>\n",
       "    <tr>\n",
       "      <th>2</th>\n",
       "      <td>3</td>\n",
       "      <td>9</td>\n",
       "    </tr>\n",
       "    <tr>\n",
       "      <th>3</th>\n",
       "      <td>4</td>\n",
       "      <td>0</td>\n",
       "    </tr>\n",
       "    <tr>\n",
       "      <th>4</th>\n",
       "      <td>5</td>\n",
       "      <td>3</td>\n",
       "    </tr>\n",
       "  </tbody>\n",
       "</table>\n",
       "</div>"
      ],
      "text/plain": [
       "   ImageId  Label\n",
       "0        1      2\n",
       "1        2      0\n",
       "2        3      9\n",
       "3        4      0\n",
       "4        5      3"
      ]
     },
     "execution_count": 19,
     "metadata": {},
     "output_type": "execute_result"
    }
   ],
   "source": [
    "submission = pd.read_csv('../input/digit-recognizer/sample_submission.csv')\n",
    "submission['Label'] = labels\n",
    "submission.head()"
   ]
  },
  {
   "cell_type": "code",
   "execution_count": 20,
   "id": "80fda712",
   "metadata": {
    "execution": {
     "iopub.execute_input": "2022-10-31T03:40:03.555652Z",
     "iopub.status.busy": "2022-10-31T03:40:03.555335Z",
     "iopub.status.idle": "2022-10-31T03:40:03.586247Z",
     "shell.execute_reply": "2022-10-31T03:40:03.585430Z"
    },
    "papermill": {
     "duration": 0.148922,
     "end_time": "2022-10-31T03:40:03.588503",
     "exception": false,
     "start_time": "2022-10-31T03:40:03.439581",
     "status": "completed"
    },
    "tags": []
   },
   "outputs": [],
   "source": [
    "submission.to_csv('submission.csv', index = False)"
   ]
  }
 ],
 "metadata": {
  "kernelspec": {
   "display_name": "Python 3",
   "language": "python",
   "name": "python3"
  },
  "language_info": {
   "codemirror_mode": {
    "name": "ipython",
    "version": 3
   },
   "file_extension": ".py",
   "mimetype": "text/x-python",
   "name": "python",
   "nbconvert_exporter": "python",
   "pygments_lexer": "ipython3",
   "version": "3.7.12"
  },
  "papermill": {
   "default_parameters": {},
   "duration": 207.476015,
   "end_time": "2022-10-31T03:40:07.305557",
   "environment_variables": {},
   "exception": null,
   "input_path": "__notebook__.ipynb",
   "output_path": "__notebook__.ipynb",
   "parameters": {},
   "start_time": "2022-10-31T03:36:39.829542",
   "version": "2.3.4"
  }
 },
 "nbformat": 4,
 "nbformat_minor": 5
}
