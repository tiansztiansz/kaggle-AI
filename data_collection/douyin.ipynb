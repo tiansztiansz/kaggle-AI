{
 "cells": [
  {
   "attachments": {},
   "cell_type": "markdown",
   "metadata": {},
   "source": [
    "# 抖音数据爬取\n",
    "## 抖音评论爬取\n",
    "注意：referer 是网页版抖音的短视频链接，而 url 是随机的评论的二级请求"
   ]
  },
  {
   "cell_type": "code",
   "execution_count": 1,
   "metadata": {},
   "outputs": [
    {
     "name": "stdout",
     "output_type": "stream",
     "text": [
      "[泣不成声]这两个隐形门麻烦大家看看合理吗\n",
      "学到了\n",
      "赴福建电话的大家大家发出\n",
      "作为一个行内的人告诉你。子母合叶不如双开合叶\n",
      "阿爽，极窄边框的铝木门要4千多，算不算贵？\n"
     ]
    }
   ],
   "source": [
    "import requests\n",
    "import json\n",
    "\n",
    "# 每5个评论的 url 请求（二级请求）\n",
    "url = \"https://www.douyin.com/aweme/v1/web/comment/list/?device_platform=webapp&aid=6383&channel=channel_pc_web&aweme_id=7208081644471848247&cursor=20&count=5&item_type=0&rcFT=&pc_client_type=1&version_code=170400&version_name=17.4.0&cookie_enabled=true&screen_width=1280&screen_height=720&browser_language=zh-CN&browser_platform=Win32&browser_name=Edge&browser_version=110.0.1587.69&browser_online=true&engine_name=Blink&engine_version=110.0.0.0&os_name=Windows&os_version=10&cpu_core_num=8&device_memory=8&platform=PC&downlink=10&effective_type=4g&round_trip_time=50&webid=7209199745494419004&msToken=c06obL4RfLxVcgMOnHvmp0Rw6n1cWsV9uKVnX6ijf83fG0NgI91bDILO9kI2-9BmAPIGbGJW4UA6eJqxzzL8ZvFBwvZr4011Ggg30R--ciAVZNyr4VFHPB4rgtYsbzk=&X-Bogus=DFSzswVYgPkANjcZtabV85ppgizs\"\n",
    "\n",
    "# cookie：历史；referer：每个视频的url请求（一级请求）；user-agent：浏览器版本\n",
    "headers = {\n",
    "    \"cookie\": \"ttwid=1%7CtQOY_fSHcVQDKOaa2KbEkI54YX5J2FIl3uD0WP43HwQ%7C1678522627%7C89a8159c9b33883bec31d2698b043885ebb92a6847ffbc1e6641d88ddfd76c96; passport_csrf_token=8984298cf046e8a1aa68b1c008bf0ad5; passport_csrf_token_default=8984298cf046e8a1aa68b1c008bf0ad5; s_v_web_id=verify_lf3p19eu_uKpB5w57_4bx2_4wL1_AabG_zWnQbOOTSN7t; ttcid=f2f68d62d292426ba48f1fd1de97261d12; download_guide=%223%2F20230311%22; SEARCH_RESULT_LIST_TYPE=%22single%22; xgplayer_user_id=800699363207; odin_tt=121745c4c942255d077d1428e6a8f1b2528f40255e928186ddac2b77fe32636f41dae3dcfffe5f64445924d7cf2509a07ededd3800a0ca609d2db8c33a9d0660619cb54548a8a5819dab9feb80726e05; live_can_add_dy_2_desktop=%221%22; strategyABtestKey=%221678588087.704%22; __ac_nonce=0640dba2900be1c6ef070; __ac_signature=_02B4Z6wo00f01hicEkAAAIDD7eP43Fltd8IYvBbAAOI4h7EQbUQDUMerUOS0kKyzoo9agB-K.ravDoo-0H2r-DQ6Mjl2Ajg16ADXxJdxUEtyZCAXRASGGqb9j0Wdt14Z6E9RqFfANK7L7K6y25; douyin.com; VIDEO_FILTER_MEMO_SELECT=%7B%22expireTime%22%3A1679226025635%2C%22type%22%3A1%7D; bd_ticket_guard_client_data=eyJiZC10aWNrZXQtZ3VhcmQtdmVyc2lvbiI6MiwiYmQtdGlja2V0LWd1YXJkLWNsaWVudC1jc3IiOiItLS0tLUJFR0lOIENFUlRJRklDQVRFIFJFUVVFU1QtLS0tLVxyXG5NSUlCRGpDQnRRSUJBREFuTVFzd0NRWURWUVFHRXdKRFRqRVlNQllHQTFVRUF3d1BZbVJmZEdsamEyVjBYMmQxXHJcbllYSmtNRmt3RXdZSEtvWkl6ajBDQVFZSUtvWkl6ajBEQVFjRFFnQUVTTkI5ei9Gc3c4ZWlrc3RJZGhqZmh2MzJcclxuODZnMVpIQXVya2FBSjVPYllTZW4vU3hwRTQ4Q1JaLzN4USs1L3o5MThIckhkRW9HSmljemZObEhtUWFVV2FBc1xyXG5NQ29HQ1NxR1NJYjNEUUVKRGpFZE1Cc3dHUVlEVlIwUkJCSXdFSUlPZDNkM0xtUnZkWGxwYmk1amIyMHdDZ1lJXHJcbktvWkl6ajBFQXdJRFNBQXdSUUlnVG1ZKzQxTnRPSUVMWTRZdGtzd2IrQkJZL3RmZ21oaC9aNnh3Tm0rM0s5QUNcclxuSVFEMHlrTDgyUWRUWGI1QmwyVXVrSUJweHVhQVNSZWdscjRKME1LdUVyOUpyUT09XHJcbi0tLS0tRU5EIENFUlRJRklDQVRFIFJFUVVFU1QtLS0tLVxyXG4ifQ==; msToken=Cao7IpCitPQUOQJG0evMfVRyB0PkfxyyxFf3fV0AkAhDkrSknCt6EJS0ln2bOeCAbW46sAunBIx0jcwkRmiUINC3M395MLCEOsAP8XPIsvNFqgwG4MCLmLMIPHwWaAY=; tt_scid=V4seDrgr7MEguBdtXRipSWSGevlUXLia322ptUnSlFmd6ka92vGK-8C1jPdnutBF65d7; home_can_add_dy_2_desktop=%220%22; msToken=c06obL4RfLxVcgMOnHvmp0Rw6n1cWsV9uKVnX6ijf83fG0NgI91bDILO9kI2-9BmAPIGbGJW4UA6eJqxzzL8ZvFBwvZr4011Ggg30R--ciAVZNyr4VFHPB4rgtYsbzk=\",\n",
    "    \"referer\": \"https://www.douyin.com/video/7208081644471848247\",\n",
    "    \"user-agent\": \"Mozilla/5.0 (Windows NT 10.0; Win64; x64) AppleWebKit/537.36 (KHTML, like Gecko) Chrome/110.0.0.0 Safari/537.36 Edg/110.0.1587.69\",\n",
    "}\n",
    "\n",
    "# 发起 get 请求\n",
    "response = requests.get(url, headers=headers)\n",
    "\n",
    "# 解析请求结果\n",
    "result_list = json.loads(response.text)\n",
    "\n",
    "# 获取评论的键值\n",
    "result = result_list[\"comments\"]\n",
    "\n",
    "for i in result:\n",
    "    print(i[\"text\"])"
   ]
  }
 ],
 "metadata": {
  "kernelspec": {
   "display_name": "Python 3",
   "language": "python",
   "name": "python3"
  },
  "language_info": {
   "codemirror_mode": {
    "name": "ipython",
    "version": 3
   },
   "file_extension": ".py",
   "mimetype": "text/x-python",
   "name": "python",
   "nbconvert_exporter": "python",
   "pygments_lexer": "ipython3",
   "version": "3.10.6"
  },
  "orig_nbformat": 4
 },
 "nbformat": 4,
 "nbformat_minor": 2
}
