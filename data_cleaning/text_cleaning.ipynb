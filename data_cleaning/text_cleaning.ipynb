{
 "cells": [
  {
   "attachments": {},
   "cell_type": "markdown",
   "metadata": {},
   "source": [
    "# 文本清洗\n",
    "## 1. 剔除重复行"
   ]
  },
  {
   "cell_type": "code",
   "execution_count": 4,
   "metadata": {},
   "outputs": [
    {
     "data": {
      "text/html": [
       "<div>\n",
       "<style scoped>\n",
       "    .dataframe tbody tr th:only-of-type {\n",
       "        vertical-align: middle;\n",
       "    }\n",
       "\n",
       "    .dataframe tbody tr th {\n",
       "        vertical-align: top;\n",
       "    }\n",
       "\n",
       "    .dataframe thead th {\n",
       "        text-align: right;\n",
       "    }\n",
       "</style>\n",
       "<table border=\"1\" class=\"dataframe\">\n",
       "  <thead>\n",
       "    <tr style=\"text-align: right;\">\n",
       "      <th></th>\n",
       "      <th>0</th>\n",
       "      <th>1</th>\n",
       "      <th>2</th>\n",
       "    </tr>\n",
       "  </thead>\n",
       "  <tbody>\n",
       "    <tr>\n",
       "      <th>0</th>\n",
       "      <td>1</td>\n",
       "      <td>2</td>\n",
       "      <td>3</td>\n",
       "    </tr>\n",
       "    <tr>\n",
       "      <th>2</th>\n",
       "      <td>4</td>\n",
       "      <td>5</td>\n",
       "      <td>6</td>\n",
       "    </tr>\n",
       "  </tbody>\n",
       "</table>\n",
       "</div>"
      ],
      "text/plain": [
       "   0  1  2\n",
       "0  1  2  3\n",
       "2  4  5  6"
      ]
     },
     "metadata": {},
     "output_type": "display_data"
    }
   ],
   "source": [
    "import pandas as pd\n",
    "\n",
    "data = [[1, 2, 3], [1, 2, 3], [4, 5, 6]]\n",
    "df = pd.DataFrame(data)\n",
    "\n",
    "df.drop_duplicates(inplace=True)\n",
    "\n",
    "display(df)\n"
   ]
  },
  {
   "attachments": {},
   "cell_type": "markdown",
   "metadata": {},
   "source": [
    "<br>"
   ]
  },
  {
   "attachments": {},
   "cell_type": "markdown",
   "metadata": {},
   "source": [
    "## 2. 剔除文本两侧的空格符"
   ]
  },
  {
   "cell_type": "code",
   "execution_count": 2,
   "metadata": {},
   "outputs": [
    {
     "data": {
      "text/html": [
       "<div>\n",
       "<style scoped>\n",
       "    .dataframe tbody tr th:only-of-type {\n",
       "        vertical-align: middle;\n",
       "    }\n",
       "\n",
       "    .dataframe tbody tr th {\n",
       "        vertical-align: top;\n",
       "    }\n",
       "\n",
       "    .dataframe thead th {\n",
       "        text-align: right;\n",
       "    }\n",
       "</style>\n",
       "<table border=\"1\" class=\"dataframe\">\n",
       "  <thead>\n",
       "    <tr style=\"text-align: right;\">\n",
       "      <th></th>\n",
       "      <th>0</th>\n",
       "      <th>1</th>\n",
       "      <th>2</th>\n",
       "    </tr>\n",
       "  </thead>\n",
       "  <tbody>\n",
       "    <tr>\n",
       "      <th>0</th>\n",
       "      <td>天河</td>\n",
       "      <td>海珠</td>\n",
       "      <td>白云</td>\n",
       "    </tr>\n",
       "    <tr>\n",
       "      <th>1</th>\n",
       "      <td>番禺</td>\n",
       "      <td>荔湾</td>\n",
       "      <td>越秀</td>\n",
       "    </tr>\n",
       "  </tbody>\n",
       "</table>\n",
       "</div>"
      ],
      "text/plain": [
       "    0   1   2\n",
       "0  天河  海珠  白云\n",
       "1  番禺  荔湾  越秀"
      ]
     },
     "metadata": {},
     "output_type": "display_data"
    }
   ],
   "source": [
    "import pandas as pd\n",
    "\n",
    "data = [[\"  天河  \", \"海珠\", \"白云\"], [\"番禺\", \"  荔湾\", \"越秀  \"]]\n",
    "df = pd.DataFrame(data)\n",
    "\n",
    "for col in df.columns:\n",
    "    df[col] = df[col].apply(lambda item: item.strip())\n",
    "\n",
    "display(df)\n"
   ]
  },
  {
   "attachments": {},
   "cell_type": "markdown",
   "metadata": {},
   "source": [
    "<br>\n",
    "\n",
    "## 3. 剔除纯数字"
   ]
  },
  {
   "cell_type": "code",
   "execution_count": 1,
   "metadata": {},
   "outputs": [
    {
     "name": "stdout",
     "output_type": "stream",
     "text": [
      "['你好', '世界']\n"
     ]
    }
   ],
   "source": [
    "my_list = [\"你好\", \"123\", \"世界\"]\n",
    "\n",
    "for item in my_list:\n",
    "    if item.isdigit():\n",
    "        my_list.remove(item)\n",
    "\n",
    "print(my_list)\n"
   ]
  },
  {
   "attachments": {},
   "cell_type": "markdown",
   "metadata": {},
   "source": [
    "<br>\n",
    "\n",
    "## 4. 剔除手机号"
   ]
  },
  {
   "cell_type": "code",
   "execution_count": 12,
   "metadata": {},
   "outputs": [
    {
     "name": "stdout",
     "output_type": "stream",
     "text": [
      "['你好', '我的电话是13798812258', '12312312312312314341', '世界']\n"
     ]
    }
   ],
   "source": [
    "import re\n",
    "\n",
    "my_list = [\"你好\", \"13798812258\", \"我的电话是13798812258\", \"12312312312312314341\", \"世界\"]\n",
    "\n",
    "for item in my_list:\n",
    "    phone_list = re.compile(\"(?<!\\d)(1\\d{10})(?!\\d)\").findall(item)\n",
    "    if phone_list:\n",
    "        my_list.remove(item)\n",
    "\n",
    "print(my_list)\n"
   ]
  },
  {
   "attachments": {},
   "cell_type": "markdown",
   "metadata": {},
   "source": [
    "<br>\n",
    "\n",
    "## 5. 剔除网站\n",
    "`if \"http\" in item:` 是一个有效的代码，你可以添加各种需要过滤的符号，但注意它不能写成 `or` 形式，必须单成一行"
   ]
  },
  {
   "cell_type": "code",
   "execution_count": 9,
   "metadata": {},
   "outputs": [
    {
     "name": "stdout",
     "output_type": "stream",
     "text": [
      "['你好', '世界']\n"
     ]
    }
   ],
   "source": [
    "my_list = [\"你好\", \"https://www.baidu.com\", \"世界\"]\n",
    "\n",
    "for item in my_list:\n",
    "    if \"http\" in item:\n",
    "        my_list.remove(item)\n",
    "\n",
    "print(my_list)\n"
   ]
  },
  {
   "attachments": {},
   "cell_type": "markdown",
   "metadata": {},
   "source": [
    "<br>\n",
    "\n",
    "## 6. 剔除纯英文"
   ]
  },
  {
   "cell_type": "code",
   "execution_count": 10,
   "metadata": {},
   "outputs": [
    {
     "name": "stdout",
     "output_type": "stream",
     "text": [
      "['你好', '123abc', '123', '世界']\n"
     ]
    }
   ],
   "source": [
    "my_list = [\"你好\", \"abadsa\", \"123abc\", \"123\", \"世界\"]\n",
    "\n",
    "for item in my_list:\n",
    "    if item.encode(\"UTF-8\").isalpha():\n",
    "        my_list.remove(item)\n",
    "\n",
    "print(my_list)\n"
   ]
  },
  {
   "attachments": {},
   "cell_type": "markdown",
   "metadata": {},
   "source": [
    "<br>\n",
    "\n",
    "## 7. 剔除纯英文或者纯数字"
   ]
  },
  {
   "cell_type": "code",
   "execution_count": 11,
   "metadata": {},
   "outputs": [
    {
     "name": "stdout",
     "output_type": "stream",
     "text": [
      "['你好', '123abc', '世界']\n"
     ]
    }
   ],
   "source": [
    "my_list = [\"你好\", \"abadsa\", \"123abc\", \"123\", \"世界\"]\n",
    "\n",
    "for item in my_list:\n",
    "    if item.encode(\"UTF-8\").isalnum():\n",
    "        my_list.remove(item)\n",
    "\n",
    "print(my_list)\n"
   ]
  },
  {
   "attachments": {},
   "cell_type": "markdown",
   "metadata": {},
   "source": [
    "<br>\n",
    "\n",
    "## 8. 剔除纯特殊字符"
   ]
  },
  {
   "cell_type": "code",
   "execution_count": 24,
   "metadata": {},
   "outputs": [
    {
     "name": "stdout",
     "output_type": "stream",
     "text": [
      "['13798812258', '我的电话是13798812258?', '世界...']\n"
     ]
    }
   ],
   "source": [
    "import re\n",
    "\n",
    "my_list = [\"?你好\", \"13798812258\", \"我的电话是13798812258?\", \"？。。\", \"世界...\"]\n",
    "\n",
    "for item in my_list:\n",
    "    symbol_list = re.compile(\"[^0-9A-Za-z\\u4e00-\\u9fa5]\").match(item)\n",
    "    if symbol_list:\n",
    "        my_list.remove(item)\n",
    "\n",
    "print(my_list)\n"
   ]
  }
 ],
 "metadata": {
  "kernelspec": {
   "display_name": "Python 3",
   "language": "python",
   "name": "python3"
  },
  "language_info": {
   "codemirror_mode": {
    "name": "ipython",
    "version": 3
   },
   "file_extension": ".py",
   "mimetype": "text/x-python",
   "name": "python",
   "nbconvert_exporter": "python",
   "pygments_lexer": "ipython3",
   "version": "3.10.6"
  },
  "orig_nbformat": 4
 },
 "nbformat": 4,
 "nbformat_minor": 2
}
