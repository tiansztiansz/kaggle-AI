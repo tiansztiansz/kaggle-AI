{
 "cells": [
  {
   "cell_type": "markdown",
   "id": "a8645bf5",
   "metadata": {},
   "source": [
    "比赛链接：https://www.kaggle.com/competitions/spaceship-titanic\n",
    "\n",
    "notebook 链接：https://www.kaggle.com/code/tiansztianszs/spaceship-titanic-learning"
   ]
  },
  {
   "cell_type": "code",
   "execution_count": 1,
   "id": "f826f413",
   "metadata": {
    "execution": {
     "iopub.execute_input": "2022-10-27T01:54:26.400863Z",
     "iopub.status.busy": "2022-10-27T01:54:26.400029Z",
     "iopub.status.idle": "2022-10-27T01:54:26.420180Z",
     "shell.execute_reply": "2022-10-27T01:54:26.418708Z"
    },
    "papermill": {
     "duration": 0.04721,
     "end_time": "2022-10-27T01:54:26.423072",
     "exception": false,
     "start_time": "2022-10-27T01:54:26.375862",
     "status": "completed"
    },
    "tags": []
   },
   "outputs": [],
   "source": [
    "# 开启代码提示\n",
    "%config Completer.use_jedi = False\n",
    "# 忽略警告\n",
    "import warnings\n",
    "warnings.filterwarnings(\"ignore\")"
   ]
  },
  {
   "cell_type": "code",
   "execution_count": 2,
   "id": "fe024999",
   "metadata": {
    "execution": {
     "iopub.execute_input": "2022-10-27T01:54:26.461351Z",
     "iopub.status.busy": "2022-10-27T01:54:26.460864Z",
     "iopub.status.idle": "2022-10-27T01:54:26.466944Z",
     "shell.execute_reply": "2022-10-27T01:54:26.466024Z"
    },
    "papermill": {
     "duration": 0.027833,
     "end_time": "2022-10-27T01:54:26.469040",
     "exception": false,
     "start_time": "2022-10-27T01:54:26.441207",
     "status": "completed"
    },
    "tags": []
   },
   "outputs": [],
   "source": [
    "# 不折叠数据框\n",
    "import pandas as pd\n",
    "pd.set_option('display.max_columns', None) # 显示完整的列\n",
    "pd.set_option('display.max_rows', None) # 显示完整的行\n",
    "pd.set_option('display.expand_frame_repr', False) # 设置不折叠数据\n",
    "pd.set_option('display.max_colwidth', 100)"
   ]
  },
  {
   "cell_type": "markdown",
   "id": "7202d254",
   "metadata": {
    "papermill": {
     "duration": 0.017329,
     "end_time": "2022-10-27T01:54:26.504167",
     "exception": false,
     "start_time": "2022-10-27T01:54:26.486838",
     "status": "completed"
    },
    "tags": []
   },
   "source": [
    "# 探索训练集"
   ]
  },
  {
   "cell_type": "code",
   "execution_count": 3,
   "id": "2a0c3dde",
   "metadata": {
    "execution": {
     "iopub.execute_input": "2022-10-27T01:54:26.541527Z",
     "iopub.status.busy": "2022-10-27T01:54:26.540733Z",
     "iopub.status.idle": "2022-10-27T01:54:26.639139Z",
     "shell.execute_reply": "2022-10-27T01:54:26.637938Z"
    },
    "papermill": {
     "duration": 0.120741,
     "end_time": "2022-10-27T01:54:26.642497",
     "exception": false,
     "start_time": "2022-10-27T01:54:26.521756",
     "status": "completed"
    },
    "tags": []
   },
   "outputs": [
    {
     "data": {
      "text/html": [
       "<div>\n",
       "<style scoped>\n",
       "    .dataframe tbody tr th:only-of-type {\n",
       "        vertical-align: middle;\n",
       "    }\n",
       "\n",
       "    .dataframe tbody tr th {\n",
       "        vertical-align: top;\n",
       "    }\n",
       "\n",
       "    .dataframe thead th {\n",
       "        text-align: right;\n",
       "    }\n",
       "</style>\n",
       "<table border=\"1\" class=\"dataframe\">\n",
       "  <thead>\n",
       "    <tr style=\"text-align: right;\">\n",
       "      <th></th>\n",
       "      <th>PassengerId</th>\n",
       "      <th>HomePlanet</th>\n",
       "      <th>CryoSleep</th>\n",
       "      <th>Cabin</th>\n",
       "      <th>Destination</th>\n",
       "      <th>Age</th>\n",
       "      <th>VIP</th>\n",
       "      <th>RoomService</th>\n",
       "      <th>FoodCourt</th>\n",
       "      <th>ShoppingMall</th>\n",
       "      <th>Spa</th>\n",
       "      <th>VRDeck</th>\n",
       "      <th>Name</th>\n",
       "      <th>Transported</th>\n",
       "    </tr>\n",
       "  </thead>\n",
       "  <tbody>\n",
       "    <tr>\n",
       "      <th>0</th>\n",
       "      <td>0001_01</td>\n",
       "      <td>Europa</td>\n",
       "      <td>False</td>\n",
       "      <td>B/0/P</td>\n",
       "      <td>TRAPPIST-1e</td>\n",
       "      <td>39.0</td>\n",
       "      <td>False</td>\n",
       "      <td>0.0</td>\n",
       "      <td>0.0</td>\n",
       "      <td>0.0</td>\n",
       "      <td>0.0</td>\n",
       "      <td>0.0</td>\n",
       "      <td>Maham Ofracculy</td>\n",
       "      <td>False</td>\n",
       "    </tr>\n",
       "    <tr>\n",
       "      <th>1</th>\n",
       "      <td>0002_01</td>\n",
       "      <td>Earth</td>\n",
       "      <td>False</td>\n",
       "      <td>F/0/S</td>\n",
       "      <td>TRAPPIST-1e</td>\n",
       "      <td>24.0</td>\n",
       "      <td>False</td>\n",
       "      <td>109.0</td>\n",
       "      <td>9.0</td>\n",
       "      <td>25.0</td>\n",
       "      <td>549.0</td>\n",
       "      <td>44.0</td>\n",
       "      <td>Juanna Vines</td>\n",
       "      <td>True</td>\n",
       "    </tr>\n",
       "    <tr>\n",
       "      <th>2</th>\n",
       "      <td>0003_01</td>\n",
       "      <td>Europa</td>\n",
       "      <td>False</td>\n",
       "      <td>A/0/S</td>\n",
       "      <td>TRAPPIST-1e</td>\n",
       "      <td>58.0</td>\n",
       "      <td>True</td>\n",
       "      <td>43.0</td>\n",
       "      <td>3576.0</td>\n",
       "      <td>0.0</td>\n",
       "      <td>6715.0</td>\n",
       "      <td>49.0</td>\n",
       "      <td>Altark Susent</td>\n",
       "      <td>False</td>\n",
       "    </tr>\n",
       "    <tr>\n",
       "      <th>3</th>\n",
       "      <td>0003_02</td>\n",
       "      <td>Europa</td>\n",
       "      <td>False</td>\n",
       "      <td>A/0/S</td>\n",
       "      <td>TRAPPIST-1e</td>\n",
       "      <td>33.0</td>\n",
       "      <td>False</td>\n",
       "      <td>0.0</td>\n",
       "      <td>1283.0</td>\n",
       "      <td>371.0</td>\n",
       "      <td>3329.0</td>\n",
       "      <td>193.0</td>\n",
       "      <td>Solam Susent</td>\n",
       "      <td>False</td>\n",
       "    </tr>\n",
       "    <tr>\n",
       "      <th>4</th>\n",
       "      <td>0004_01</td>\n",
       "      <td>Earth</td>\n",
       "      <td>False</td>\n",
       "      <td>F/1/S</td>\n",
       "      <td>TRAPPIST-1e</td>\n",
       "      <td>16.0</td>\n",
       "      <td>False</td>\n",
       "      <td>303.0</td>\n",
       "      <td>70.0</td>\n",
       "      <td>151.0</td>\n",
       "      <td>565.0</td>\n",
       "      <td>2.0</td>\n",
       "      <td>Willy Santantines</td>\n",
       "      <td>True</td>\n",
       "    </tr>\n",
       "  </tbody>\n",
       "</table>\n",
       "</div>"
      ],
      "text/plain": [
       "  PassengerId HomePlanet CryoSleep  Cabin  Destination   Age    VIP  RoomService  FoodCourt  ShoppingMall     Spa  VRDeck               Name  Transported\n",
       "0     0001_01     Europa     False  B/0/P  TRAPPIST-1e  39.0  False          0.0        0.0           0.0     0.0     0.0    Maham Ofracculy        False\n",
       "1     0002_01      Earth     False  F/0/S  TRAPPIST-1e  24.0  False        109.0        9.0          25.0   549.0    44.0       Juanna Vines         True\n",
       "2     0003_01     Europa     False  A/0/S  TRAPPIST-1e  58.0   True         43.0     3576.0           0.0  6715.0    49.0      Altark Susent        False\n",
       "3     0003_02     Europa     False  A/0/S  TRAPPIST-1e  33.0  False          0.0     1283.0         371.0  3329.0   193.0       Solam Susent        False\n",
       "4     0004_01      Earth     False  F/1/S  TRAPPIST-1e  16.0  False        303.0       70.0         151.0   565.0     2.0  Willy Santantines         True"
      ]
     },
     "execution_count": 3,
     "metadata": {},
     "output_type": "execute_result"
    }
   ],
   "source": [
    "# 导入训练集\n",
    "train_data = pd.read_csv(\"../input/spaceship-titanic/train.csv\")\n",
    "train_data.head()"
   ]
  },
  {
   "cell_type": "markdown",
   "id": "36757aec",
   "metadata": {
    "papermill": {
     "duration": 0.018246,
     "end_time": "2022-10-27T01:54:26.678862",
     "exception": false,
     "start_time": "2022-10-27T01:54:26.660616",
     "status": "completed"
    },
    "tags": []
   },
   "source": [
    "PassengerId -- 每位乘客的唯一 ID。每个 Id 采用gggg_pp形式，其中 gggg 表示乘客随行的团体，pp 表示他们在团体中的号码。群体中的人通常是家庭成员，但并非总是如此。（该特征丢弃）\n",
    "<br>\n",
    "\n",
    "HomePlanet -- 乘客离开的行星，通常是他们的永久居住行星。（可能有关联，该特征保留。后续要转换为分类数据）\n",
    "<br>\n",
    "\n",
    "GryoSleep -- 指示乘客是否在航行期间被选择进入暂停动画状态。处于冷冻睡眠状态的乘客被限制在他们的机舱内。（可能有关联，该特征保留。后续要转换为分类数据）\n",
    "<br>\n",
    "\n",
    "Cabin -- 乘客居住的机舱号。采用甲板/数字/侧面的形式，其中侧面可以是 P 表示左舷，也可以是 S 表示右舷。（可能有关联，该特征保留。后续要转换为分类数据）\n",
    "<br>\n",
    "\n",
    "Destination -- 乘客将要下船的星球。（可能有关联，该特征保留。后续要转换为分类数据）\n",
    "<br>\n",
    "\n",
    "Age -- 乘客的年龄。（可能有关联，该特征保留。后续要转换为分类数据）\n",
    "<br>\n",
    "\n",
    "VIP -- 旅客在航行期间是否支付了特殊VIP服务费用。（可能有关联，该特征保留。后续要转换为分类数据）\n",
    "<br>\n",
    "\n",
    "RoomService -- 乘客在泰坦尼克号宇宙飞船的许多豪华设施中收取的费用。（可能有关联，该特征保留。后续要转换为分类数据）\n",
    "<br>\n",
    "\n",
    "FoodCourt  -- 乘客在泰坦尼克号宇宙飞船的许多豪华设施中收取的费用。（可能有关联，该特征保留。后续要转换为分类数据）\n",
    "<br>\n",
    "\n",
    "ShoppingMall -- 乘客在泰坦尼克号宇宙飞船的许多豪华设施中收取的费用。（可能有关联，该特征保留。后续要转换为分类数据）\n",
    "<br>\n",
    "\n",
    "Spa -- 乘客在泰坦尼克号宇宙飞船的许多豪华设施中收取的费用。（可能有关联，该特征保留。后续要转换为分类数据）\n",
    "<br>\n",
    "\n",
    "VRDeck -- 乘客在泰坦尼克号宇宙飞船的许多豪华设施中收取的费用。（可能有关联，该特征保留。后续要转换为分类数据）\n",
    "<br>\n",
    "\n",
    "Name -- 乘客的名字和姓氏。（该特征丢弃）\n",
    "<br>\n",
    "\n",
    "Transported  -- 乘客是否被运送到另一个维度。这是目标，您尝试预测的列。"
   ]
  },
  {
   "cell_type": "code",
   "execution_count": 4,
   "id": "bfaca192",
   "metadata": {
    "execution": {
     "iopub.execute_input": "2022-10-27T01:54:26.718519Z",
     "iopub.status.busy": "2022-10-27T01:54:26.718112Z",
     "iopub.status.idle": "2022-10-27T01:54:26.747843Z",
     "shell.execute_reply": "2022-10-27T01:54:26.746550Z"
    },
    "papermill": {
     "duration": 0.052183,
     "end_time": "2022-10-27T01:54:26.750385",
     "exception": false,
     "start_time": "2022-10-27T01:54:26.698202",
     "status": "completed"
    },
    "tags": []
   },
   "outputs": [
    {
     "data": {
      "text/html": [
       "<div>\n",
       "<style scoped>\n",
       "    .dataframe tbody tr th:only-of-type {\n",
       "        vertical-align: middle;\n",
       "    }\n",
       "\n",
       "    .dataframe tbody tr th {\n",
       "        vertical-align: top;\n",
       "    }\n",
       "\n",
       "    .dataframe thead th {\n",
       "        text-align: right;\n",
       "    }\n",
       "</style>\n",
       "<table border=\"1\" class=\"dataframe\">\n",
       "  <thead>\n",
       "    <tr style=\"text-align: right;\">\n",
       "      <th></th>\n",
       "      <th>HomePlanet</th>\n",
       "      <th>CryoSleep</th>\n",
       "      <th>Cabin</th>\n",
       "      <th>Destination</th>\n",
       "      <th>Age</th>\n",
       "      <th>VIP</th>\n",
       "      <th>RoomService</th>\n",
       "      <th>FoodCourt</th>\n",
       "      <th>ShoppingMall</th>\n",
       "      <th>Spa</th>\n",
       "      <th>VRDeck</th>\n",
       "      <th>Transported</th>\n",
       "    </tr>\n",
       "  </thead>\n",
       "  <tbody>\n",
       "    <tr>\n",
       "      <th>0</th>\n",
       "      <td>Europa</td>\n",
       "      <td>False</td>\n",
       "      <td>B/0/P</td>\n",
       "      <td>TRAPPIST-1e</td>\n",
       "      <td>39.0</td>\n",
       "      <td>False</td>\n",
       "      <td>0.0</td>\n",
       "      <td>0.0</td>\n",
       "      <td>0.0</td>\n",
       "      <td>0.0</td>\n",
       "      <td>0.0</td>\n",
       "      <td>False</td>\n",
       "    </tr>\n",
       "    <tr>\n",
       "      <th>1</th>\n",
       "      <td>Earth</td>\n",
       "      <td>False</td>\n",
       "      <td>F/0/S</td>\n",
       "      <td>TRAPPIST-1e</td>\n",
       "      <td>24.0</td>\n",
       "      <td>False</td>\n",
       "      <td>109.0</td>\n",
       "      <td>9.0</td>\n",
       "      <td>25.0</td>\n",
       "      <td>549.0</td>\n",
       "      <td>44.0</td>\n",
       "      <td>True</td>\n",
       "    </tr>\n",
       "    <tr>\n",
       "      <th>2</th>\n",
       "      <td>Europa</td>\n",
       "      <td>False</td>\n",
       "      <td>A/0/S</td>\n",
       "      <td>TRAPPIST-1e</td>\n",
       "      <td>58.0</td>\n",
       "      <td>True</td>\n",
       "      <td>43.0</td>\n",
       "      <td>3576.0</td>\n",
       "      <td>0.0</td>\n",
       "      <td>6715.0</td>\n",
       "      <td>49.0</td>\n",
       "      <td>False</td>\n",
       "    </tr>\n",
       "    <tr>\n",
       "      <th>3</th>\n",
       "      <td>Europa</td>\n",
       "      <td>False</td>\n",
       "      <td>A/0/S</td>\n",
       "      <td>TRAPPIST-1e</td>\n",
       "      <td>33.0</td>\n",
       "      <td>False</td>\n",
       "      <td>0.0</td>\n",
       "      <td>1283.0</td>\n",
       "      <td>371.0</td>\n",
       "      <td>3329.0</td>\n",
       "      <td>193.0</td>\n",
       "      <td>False</td>\n",
       "    </tr>\n",
       "    <tr>\n",
       "      <th>4</th>\n",
       "      <td>Earth</td>\n",
       "      <td>False</td>\n",
       "      <td>F/1/S</td>\n",
       "      <td>TRAPPIST-1e</td>\n",
       "      <td>16.0</td>\n",
       "      <td>False</td>\n",
       "      <td>303.0</td>\n",
       "      <td>70.0</td>\n",
       "      <td>151.0</td>\n",
       "      <td>565.0</td>\n",
       "      <td>2.0</td>\n",
       "      <td>True</td>\n",
       "    </tr>\n",
       "  </tbody>\n",
       "</table>\n",
       "</div>"
      ],
      "text/plain": [
       "  HomePlanet CryoSleep  Cabin  Destination   Age    VIP  RoomService  FoodCourt  ShoppingMall     Spa  VRDeck  Transported\n",
       "0     Europa     False  B/0/P  TRAPPIST-1e  39.0  False          0.0        0.0           0.0     0.0     0.0        False\n",
       "1      Earth     False  F/0/S  TRAPPIST-1e  24.0  False        109.0        9.0          25.0   549.0    44.0         True\n",
       "2     Europa     False  A/0/S  TRAPPIST-1e  58.0   True         43.0     3576.0           0.0  6715.0    49.0        False\n",
       "3     Europa     False  A/0/S  TRAPPIST-1e  33.0  False          0.0     1283.0         371.0  3329.0   193.0        False\n",
       "4      Earth     False  F/1/S  TRAPPIST-1e  16.0  False        303.0       70.0         151.0   565.0     2.0         True"
      ]
     },
     "execution_count": 4,
     "metadata": {},
     "output_type": "execute_result"
    }
   ],
   "source": [
    "# 删除无用特征\n",
    "train_data.drop(['PassengerId', 'Name'], axis=1, inplace=True)\n",
    "train_data.head()"
   ]
  },
  {
   "cell_type": "markdown",
   "id": "7ce3b45e",
   "metadata": {
    "papermill": {
     "duration": 0.018272,
     "end_time": "2022-10-27T01:54:26.787166",
     "exception": false,
     "start_time": "2022-10-27T01:54:26.768894",
     "status": "completed"
    },
    "tags": []
   },
   "source": [
    "# 探索测试集"
   ]
  },
  {
   "cell_type": "code",
   "execution_count": 5,
   "id": "12b8a3db",
   "metadata": {
    "execution": {
     "iopub.execute_input": "2022-10-27T01:54:26.826821Z",
     "iopub.status.busy": "2022-10-27T01:54:26.826368Z",
     "iopub.status.idle": "2022-10-27T01:54:26.872479Z",
     "shell.execute_reply": "2022-10-27T01:54:26.871221Z"
    },
    "papermill": {
     "duration": 0.068978,
     "end_time": "2022-10-27T01:54:26.875162",
     "exception": false,
     "start_time": "2022-10-27T01:54:26.806184",
     "status": "completed"
    },
    "tags": []
   },
   "outputs": [
    {
     "data": {
      "text/html": [
       "<div>\n",
       "<style scoped>\n",
       "    .dataframe tbody tr th:only-of-type {\n",
       "        vertical-align: middle;\n",
       "    }\n",
       "\n",
       "    .dataframe tbody tr th {\n",
       "        vertical-align: top;\n",
       "    }\n",
       "\n",
       "    .dataframe thead th {\n",
       "        text-align: right;\n",
       "    }\n",
       "</style>\n",
       "<table border=\"1\" class=\"dataframe\">\n",
       "  <thead>\n",
       "    <tr style=\"text-align: right;\">\n",
       "      <th></th>\n",
       "      <th>PassengerId</th>\n",
       "      <th>HomePlanet</th>\n",
       "      <th>CryoSleep</th>\n",
       "      <th>Cabin</th>\n",
       "      <th>Destination</th>\n",
       "      <th>Age</th>\n",
       "      <th>VIP</th>\n",
       "      <th>RoomService</th>\n",
       "      <th>FoodCourt</th>\n",
       "      <th>ShoppingMall</th>\n",
       "      <th>Spa</th>\n",
       "      <th>VRDeck</th>\n",
       "      <th>Name</th>\n",
       "    </tr>\n",
       "  </thead>\n",
       "  <tbody>\n",
       "    <tr>\n",
       "      <th>0</th>\n",
       "      <td>0013_01</td>\n",
       "      <td>Earth</td>\n",
       "      <td>True</td>\n",
       "      <td>G/3/S</td>\n",
       "      <td>TRAPPIST-1e</td>\n",
       "      <td>27.0</td>\n",
       "      <td>False</td>\n",
       "      <td>0.0</td>\n",
       "      <td>0.0</td>\n",
       "      <td>0.0</td>\n",
       "      <td>0.0</td>\n",
       "      <td>0.0</td>\n",
       "      <td>Nelly Carsoning</td>\n",
       "    </tr>\n",
       "    <tr>\n",
       "      <th>1</th>\n",
       "      <td>0018_01</td>\n",
       "      <td>Earth</td>\n",
       "      <td>False</td>\n",
       "      <td>F/4/S</td>\n",
       "      <td>TRAPPIST-1e</td>\n",
       "      <td>19.0</td>\n",
       "      <td>False</td>\n",
       "      <td>0.0</td>\n",
       "      <td>9.0</td>\n",
       "      <td>0.0</td>\n",
       "      <td>2823.0</td>\n",
       "      <td>0.0</td>\n",
       "      <td>Lerome Peckers</td>\n",
       "    </tr>\n",
       "    <tr>\n",
       "      <th>2</th>\n",
       "      <td>0019_01</td>\n",
       "      <td>Europa</td>\n",
       "      <td>True</td>\n",
       "      <td>C/0/S</td>\n",
       "      <td>55 Cancri e</td>\n",
       "      <td>31.0</td>\n",
       "      <td>False</td>\n",
       "      <td>0.0</td>\n",
       "      <td>0.0</td>\n",
       "      <td>0.0</td>\n",
       "      <td>0.0</td>\n",
       "      <td>0.0</td>\n",
       "      <td>Sabih Unhearfus</td>\n",
       "    </tr>\n",
       "    <tr>\n",
       "      <th>3</th>\n",
       "      <td>0021_01</td>\n",
       "      <td>Europa</td>\n",
       "      <td>False</td>\n",
       "      <td>C/1/S</td>\n",
       "      <td>TRAPPIST-1e</td>\n",
       "      <td>38.0</td>\n",
       "      <td>False</td>\n",
       "      <td>0.0</td>\n",
       "      <td>6652.0</td>\n",
       "      <td>0.0</td>\n",
       "      <td>181.0</td>\n",
       "      <td>585.0</td>\n",
       "      <td>Meratz Caltilter</td>\n",
       "    </tr>\n",
       "    <tr>\n",
       "      <th>4</th>\n",
       "      <td>0023_01</td>\n",
       "      <td>Earth</td>\n",
       "      <td>False</td>\n",
       "      <td>F/5/S</td>\n",
       "      <td>TRAPPIST-1e</td>\n",
       "      <td>20.0</td>\n",
       "      <td>False</td>\n",
       "      <td>10.0</td>\n",
       "      <td>0.0</td>\n",
       "      <td>635.0</td>\n",
       "      <td>0.0</td>\n",
       "      <td>0.0</td>\n",
       "      <td>Brence Harperez</td>\n",
       "    </tr>\n",
       "  </tbody>\n",
       "</table>\n",
       "</div>"
      ],
      "text/plain": [
       "  PassengerId HomePlanet CryoSleep  Cabin  Destination   Age    VIP  RoomService  FoodCourt  ShoppingMall     Spa  VRDeck              Name\n",
       "0     0013_01      Earth      True  G/3/S  TRAPPIST-1e  27.0  False          0.0        0.0           0.0     0.0     0.0   Nelly Carsoning\n",
       "1     0018_01      Earth     False  F/4/S  TRAPPIST-1e  19.0  False          0.0        9.0           0.0  2823.0     0.0    Lerome Peckers\n",
       "2     0019_01     Europa      True  C/0/S  55 Cancri e  31.0  False          0.0        0.0           0.0     0.0     0.0   Sabih Unhearfus\n",
       "3     0021_01     Europa     False  C/1/S  TRAPPIST-1e  38.0  False          0.0     6652.0           0.0   181.0   585.0  Meratz Caltilter\n",
       "4     0023_01      Earth     False  F/5/S  TRAPPIST-1e  20.0  False         10.0        0.0         635.0     0.0     0.0   Brence Harperez"
      ]
     },
     "execution_count": 5,
     "metadata": {},
     "output_type": "execute_result"
    }
   ],
   "source": [
    "# 导入测试集\n",
    "test_data = pd.read_csv(\"../input/spaceship-titanic/test.csv\")\n",
    "test_data.head()"
   ]
  },
  {
   "cell_type": "markdown",
   "id": "1648d275",
   "metadata": {
    "papermill": {
     "duration": 0.018146,
     "end_time": "2022-10-27T01:54:26.912224",
     "exception": false,
     "start_time": "2022-10-27T01:54:26.894078",
     "status": "completed"
    },
    "tags": []
   },
   "source": [
    "相对于训练集，测试集没有 Transported 列"
   ]
  },
  {
   "cell_type": "code",
   "execution_count": 6,
   "id": "b4e773b7",
   "metadata": {
    "execution": {
     "iopub.execute_input": "2022-10-27T01:54:26.951802Z",
     "iopub.status.busy": "2022-10-27T01:54:26.951305Z",
     "iopub.status.idle": "2022-10-27T01:54:26.972556Z",
     "shell.execute_reply": "2022-10-27T01:54:26.971300Z"
    },
    "papermill": {
     "duration": 0.044424,
     "end_time": "2022-10-27T01:54:26.975029",
     "exception": false,
     "start_time": "2022-10-27T01:54:26.930605",
     "status": "completed"
    },
    "tags": []
   },
   "outputs": [
    {
     "data": {
      "text/html": [
       "<div>\n",
       "<style scoped>\n",
       "    .dataframe tbody tr th:only-of-type {\n",
       "        vertical-align: middle;\n",
       "    }\n",
       "\n",
       "    .dataframe tbody tr th {\n",
       "        vertical-align: top;\n",
       "    }\n",
       "\n",
       "    .dataframe thead th {\n",
       "        text-align: right;\n",
       "    }\n",
       "</style>\n",
       "<table border=\"1\" class=\"dataframe\">\n",
       "  <thead>\n",
       "    <tr style=\"text-align: right;\">\n",
       "      <th></th>\n",
       "      <th>HomePlanet</th>\n",
       "      <th>CryoSleep</th>\n",
       "      <th>Cabin</th>\n",
       "      <th>Destination</th>\n",
       "      <th>Age</th>\n",
       "      <th>VIP</th>\n",
       "      <th>RoomService</th>\n",
       "      <th>FoodCourt</th>\n",
       "      <th>ShoppingMall</th>\n",
       "      <th>Spa</th>\n",
       "      <th>VRDeck</th>\n",
       "    </tr>\n",
       "  </thead>\n",
       "  <tbody>\n",
       "    <tr>\n",
       "      <th>0</th>\n",
       "      <td>Earth</td>\n",
       "      <td>True</td>\n",
       "      <td>G/3/S</td>\n",
       "      <td>TRAPPIST-1e</td>\n",
       "      <td>27.0</td>\n",
       "      <td>False</td>\n",
       "      <td>0.0</td>\n",
       "      <td>0.0</td>\n",
       "      <td>0.0</td>\n",
       "      <td>0.0</td>\n",
       "      <td>0.0</td>\n",
       "    </tr>\n",
       "    <tr>\n",
       "      <th>1</th>\n",
       "      <td>Earth</td>\n",
       "      <td>False</td>\n",
       "      <td>F/4/S</td>\n",
       "      <td>TRAPPIST-1e</td>\n",
       "      <td>19.0</td>\n",
       "      <td>False</td>\n",
       "      <td>0.0</td>\n",
       "      <td>9.0</td>\n",
       "      <td>0.0</td>\n",
       "      <td>2823.0</td>\n",
       "      <td>0.0</td>\n",
       "    </tr>\n",
       "    <tr>\n",
       "      <th>2</th>\n",
       "      <td>Europa</td>\n",
       "      <td>True</td>\n",
       "      <td>C/0/S</td>\n",
       "      <td>55 Cancri e</td>\n",
       "      <td>31.0</td>\n",
       "      <td>False</td>\n",
       "      <td>0.0</td>\n",
       "      <td>0.0</td>\n",
       "      <td>0.0</td>\n",
       "      <td>0.0</td>\n",
       "      <td>0.0</td>\n",
       "    </tr>\n",
       "    <tr>\n",
       "      <th>3</th>\n",
       "      <td>Europa</td>\n",
       "      <td>False</td>\n",
       "      <td>C/1/S</td>\n",
       "      <td>TRAPPIST-1e</td>\n",
       "      <td>38.0</td>\n",
       "      <td>False</td>\n",
       "      <td>0.0</td>\n",
       "      <td>6652.0</td>\n",
       "      <td>0.0</td>\n",
       "      <td>181.0</td>\n",
       "      <td>585.0</td>\n",
       "    </tr>\n",
       "    <tr>\n",
       "      <th>4</th>\n",
       "      <td>Earth</td>\n",
       "      <td>False</td>\n",
       "      <td>F/5/S</td>\n",
       "      <td>TRAPPIST-1e</td>\n",
       "      <td>20.0</td>\n",
       "      <td>False</td>\n",
       "      <td>10.0</td>\n",
       "      <td>0.0</td>\n",
       "      <td>635.0</td>\n",
       "      <td>0.0</td>\n",
       "      <td>0.0</td>\n",
       "    </tr>\n",
       "  </tbody>\n",
       "</table>\n",
       "</div>"
      ],
      "text/plain": [
       "  HomePlanet CryoSleep  Cabin  Destination   Age    VIP  RoomService  FoodCourt  ShoppingMall     Spa  VRDeck\n",
       "0      Earth      True  G/3/S  TRAPPIST-1e  27.0  False          0.0        0.0           0.0     0.0     0.0\n",
       "1      Earth     False  F/4/S  TRAPPIST-1e  19.0  False          0.0        9.0           0.0  2823.0     0.0\n",
       "2     Europa      True  C/0/S  55 Cancri e  31.0  False          0.0        0.0           0.0     0.0     0.0\n",
       "3     Europa     False  C/1/S  TRAPPIST-1e  38.0  False          0.0     6652.0           0.0   181.0   585.0\n",
       "4      Earth     False  F/5/S  TRAPPIST-1e  20.0  False         10.0        0.0         635.0     0.0     0.0"
      ]
     },
     "execution_count": 6,
     "metadata": {},
     "output_type": "execute_result"
    }
   ],
   "source": [
    "# 删除无用特征\n",
    "test_data.drop(['PassengerId', 'Name'], axis=1, inplace=True)\n",
    "test_data.head()"
   ]
  },
  {
   "cell_type": "markdown",
   "id": "c213ba72",
   "metadata": {
    "papermill": {
     "duration": 0.018663,
     "end_time": "2022-10-27T01:54:27.012425",
     "exception": false,
     "start_time": "2022-10-27T01:54:26.993762",
     "status": "completed"
    },
    "tags": []
   },
   "source": [
    "# 合并训练集和测试集"
   ]
  },
  {
   "cell_type": "code",
   "execution_count": 7,
   "id": "21dfcc96",
   "metadata": {
    "execution": {
     "iopub.execute_input": "2022-10-27T01:54:27.052166Z",
     "iopub.status.busy": "2022-10-27T01:54:27.051726Z",
     "iopub.status.idle": "2022-10-27T01:54:27.069916Z",
     "shell.execute_reply": "2022-10-27T01:54:27.068352Z"
    },
    "papermill": {
     "duration": 0.041266,
     "end_time": "2022-10-27T01:54:27.072503",
     "exception": false,
     "start_time": "2022-10-27T01:54:27.031237",
     "status": "completed"
    },
    "tags": []
   },
   "outputs": [
    {
     "data": {
      "text/plain": [
       "(12970, 12)"
      ]
     },
     "execution_count": 7,
     "metadata": {},
     "output_type": "execute_result"
    }
   ],
   "source": [
    "# 合并训练集和测试集\n",
    "all_data = pd.concat((train_data, test_data)).reset_index(drop=True)\n",
    "all_data.shape"
   ]
  },
  {
   "cell_type": "code",
   "execution_count": 8,
   "id": "244ffe23",
   "metadata": {
    "execution": {
     "iopub.execute_input": "2022-10-27T01:54:27.114062Z",
     "iopub.status.busy": "2022-10-27T01:54:27.113419Z",
     "iopub.status.idle": "2022-10-27T01:54:27.126715Z",
     "shell.execute_reply": "2022-10-27T01:54:27.125546Z"
    },
    "papermill": {
     "duration": 0.036485,
     "end_time": "2022-10-27T01:54:27.128992",
     "exception": false,
     "start_time": "2022-10-27T01:54:27.092507",
     "status": "completed"
    },
    "tags": []
   },
   "outputs": [
    {
     "data": {
      "text/plain": [
       "Transported     4277\n",
       "CryoSleep        310\n",
       "ShoppingMall     306\n",
       "Cabin            299\n",
       "VIP              296\n",
       "FoodCourt        289\n",
       "HomePlanet       288\n",
       "Spa              284\n",
       "Destination      274\n",
       "Age              270\n",
       "VRDeck           268\n",
       "RoomService      263\n",
       "dtype: int64"
      ]
     },
     "execution_count": 8,
     "metadata": {},
     "output_type": "execute_result"
    }
   ],
   "source": [
    "# 缺失值统计\n",
    "all_data.isna().sum().sort_values(ascending=False)"
   ]
  },
  {
   "cell_type": "markdown",
   "id": "7af28819",
   "metadata": {
    "papermill": {
     "duration": 0.0189,
     "end_time": "2022-10-27T01:54:27.167111",
     "exception": false,
     "start_time": "2022-10-27T01:54:27.148211",
     "status": "completed"
    },
    "tags": []
   },
   "source": [
    "# 缺失值处理"
   ]
  },
  {
   "cell_type": "markdown",
   "id": "5885fb35",
   "metadata": {
    "papermill": {
     "duration": 0.01878,
     "end_time": "2022-10-27T01:54:27.205108",
     "exception": false,
     "start_time": "2022-10-27T01:54:27.186328",
     "status": "completed"
    },
    "tags": []
   },
   "source": [
    "## HomePlanet特征"
   ]
  },
  {
   "cell_type": "code",
   "execution_count": 9,
   "id": "ce5d3a55",
   "metadata": {
    "execution": {
     "iopub.execute_input": "2022-10-27T01:54:27.245988Z",
     "iopub.status.busy": "2022-10-27T01:54:27.245553Z",
     "iopub.status.idle": "2022-10-27T01:54:27.259553Z",
     "shell.execute_reply": "2022-10-27T01:54:27.258319Z"
    },
    "papermill": {
     "duration": 0.037475,
     "end_time": "2022-10-27T01:54:27.261832",
     "exception": false,
     "start_time": "2022-10-27T01:54:27.224357",
     "status": "completed"
    },
    "tags": []
   },
   "outputs": [
    {
     "data": {
      "text/plain": [
       "Earth     6865\n",
       "Europa    3133\n",
       "Mars      2684\n",
       "NaN        288\n",
       "Name: HomePlanet, dtype: int64"
      ]
     },
     "execution_count": 9,
     "metadata": {},
     "output_type": "execute_result"
    }
   ],
   "source": [
    "all_data.HomePlanet.value_counts(dropna=False)"
   ]
  },
  {
   "cell_type": "code",
   "execution_count": 10,
   "id": "ae04167c",
   "metadata": {
    "execution": {
     "iopub.execute_input": "2022-10-27T01:54:27.301980Z",
     "iopub.status.busy": "2022-10-27T01:54:27.301559Z",
     "iopub.status.idle": "2022-10-27T01:54:27.313238Z",
     "shell.execute_reply": "2022-10-27T01:54:27.312280Z"
    },
    "papermill": {
     "duration": 0.034526,
     "end_time": "2022-10-27T01:54:27.315423",
     "exception": false,
     "start_time": "2022-10-27T01:54:27.280897",
     "status": "completed"
    },
    "tags": []
   },
   "outputs": [
    {
     "data": {
      "text/plain": [
       "Earth     7153\n",
       "Europa    3133\n",
       "Mars      2684\n",
       "Name: HomePlanet, dtype: int64"
      ]
     },
     "execution_count": 10,
     "metadata": {},
     "output_type": "execute_result"
    }
   ],
   "source": [
    "# 使用众数填充 HomePlanet 列的缺失值\n",
    "all_data['HomePlanet'] = all_data['HomePlanet'].fillna('Earth')\n",
    "all_data.HomePlanet.value_counts(dropna=False)"
   ]
  },
  {
   "cell_type": "markdown",
   "id": "9bcd1829",
   "metadata": {
    "papermill": {
     "duration": 0.019473,
     "end_time": "2022-10-27T01:54:27.354369",
     "exception": false,
     "start_time": "2022-10-27T01:54:27.334896",
     "status": "completed"
    },
    "tags": []
   },
   "source": [
    "## CryoSleep特征"
   ]
  },
  {
   "cell_type": "code",
   "execution_count": 11,
   "id": "6dd67511",
   "metadata": {
    "execution": {
     "iopub.execute_input": "2022-10-27T01:54:27.395091Z",
     "iopub.status.busy": "2022-10-27T01:54:27.394686Z",
     "iopub.status.idle": "2022-10-27T01:54:27.405512Z",
     "shell.execute_reply": "2022-10-27T01:54:27.404087Z"
    },
    "papermill": {
     "duration": 0.034233,
     "end_time": "2022-10-27T01:54:27.408055",
     "exception": false,
     "start_time": "2022-10-27T01:54:27.373822",
     "status": "completed"
    },
    "tags": []
   },
   "outputs": [
    {
     "data": {
      "text/plain": [
       "False    8079\n",
       "True     4581\n",
       "NaN       310\n",
       "Name: CryoSleep, dtype: int64"
      ]
     },
     "execution_count": 11,
     "metadata": {},
     "output_type": "execute_result"
    }
   ],
   "source": [
    "all_data.CryoSleep.value_counts(dropna=False)"
   ]
  },
  {
   "cell_type": "code",
   "execution_count": 12,
   "id": "6975097d",
   "metadata": {
    "execution": {
     "iopub.execute_input": "2022-10-27T01:54:27.449845Z",
     "iopub.status.busy": "2022-10-27T01:54:27.449439Z",
     "iopub.status.idle": "2022-10-27T01:54:27.463414Z",
     "shell.execute_reply": "2022-10-27T01:54:27.462201Z"
    },
    "papermill": {
     "duration": 0.037417,
     "end_time": "2022-10-27T01:54:27.465923",
     "exception": false,
     "start_time": "2022-10-27T01:54:27.428506",
     "status": "completed"
    },
    "tags": []
   },
   "outputs": [
    {
     "data": {
      "text/plain": [
       "False    8389\n",
       "True     4581\n",
       "Name: CryoSleep, dtype: int64"
      ]
     },
     "execution_count": 12,
     "metadata": {},
     "output_type": "execute_result"
    }
   ],
   "source": [
    "# 使用众数填充 CryoSleep 列的缺失值\n",
    "all_data['CryoSleep'] = all_data['CryoSleep'].fillna(False)\n",
    "all_data.CryoSleep.value_counts(dropna=False)"
   ]
  },
  {
   "cell_type": "markdown",
   "id": "726b3e87",
   "metadata": {
    "papermill": {
     "duration": 0.019104,
     "end_time": "2022-10-27T01:54:27.504566",
     "exception": false,
     "start_time": "2022-10-27T01:54:27.485462",
     "status": "completed"
    },
    "tags": []
   },
   "source": [
    "## Cabin特征"
   ]
  },
  {
   "cell_type": "code",
   "execution_count": 13,
   "id": "c45a0520",
   "metadata": {
    "execution": {
     "iopub.execute_input": "2022-10-27T01:54:27.546726Z",
     "iopub.status.busy": "2022-10-27T01:54:27.546291Z",
     "iopub.status.idle": "2022-10-27T01:54:27.599342Z",
     "shell.execute_reply": "2022-10-27T01:54:27.597779Z"
    },
    "papermill": {
     "duration": 0.077547,
     "end_time": "2022-10-27T01:54:27.601899",
     "exception": false,
     "start_time": "2022-10-27T01:54:27.524352",
     "status": "completed"
    },
    "tags": []
   },
   "outputs": [
    {
     "data": {
      "text/html": [
       "<div>\n",
       "<style scoped>\n",
       "    .dataframe tbody tr th:only-of-type {\n",
       "        vertical-align: middle;\n",
       "    }\n",
       "\n",
       "    .dataframe tbody tr th {\n",
       "        vertical-align: top;\n",
       "    }\n",
       "\n",
       "    .dataframe thead th {\n",
       "        text-align: right;\n",
       "    }\n",
       "</style>\n",
       "<table border=\"1\" class=\"dataframe\">\n",
       "  <thead>\n",
       "    <tr style=\"text-align: right;\">\n",
       "      <th></th>\n",
       "      <th>HomePlanet</th>\n",
       "      <th>CryoSleep</th>\n",
       "      <th>Cabin</th>\n",
       "      <th>Destination</th>\n",
       "      <th>Age</th>\n",
       "      <th>VIP</th>\n",
       "      <th>RoomService</th>\n",
       "      <th>FoodCourt</th>\n",
       "      <th>ShoppingMall</th>\n",
       "      <th>Spa</th>\n",
       "      <th>VRDeck</th>\n",
       "      <th>Transported</th>\n",
       "      <th>0</th>\n",
       "      <th>1</th>\n",
       "      <th>2</th>\n",
       "    </tr>\n",
       "  </thead>\n",
       "  <tbody>\n",
       "    <tr>\n",
       "      <th>0</th>\n",
       "      <td>Europa</td>\n",
       "      <td>False</td>\n",
       "      <td>B/0/P</td>\n",
       "      <td>TRAPPIST-1e</td>\n",
       "      <td>39.0</td>\n",
       "      <td>False</td>\n",
       "      <td>0.0</td>\n",
       "      <td>0.0</td>\n",
       "      <td>0.0</td>\n",
       "      <td>0.0</td>\n",
       "      <td>0.0</td>\n",
       "      <td>False</td>\n",
       "      <td>B</td>\n",
       "      <td>0</td>\n",
       "      <td>P</td>\n",
       "    </tr>\n",
       "    <tr>\n",
       "      <th>1</th>\n",
       "      <td>Earth</td>\n",
       "      <td>False</td>\n",
       "      <td>F/0/S</td>\n",
       "      <td>TRAPPIST-1e</td>\n",
       "      <td>24.0</td>\n",
       "      <td>False</td>\n",
       "      <td>109.0</td>\n",
       "      <td>9.0</td>\n",
       "      <td>25.0</td>\n",
       "      <td>549.0</td>\n",
       "      <td>44.0</td>\n",
       "      <td>True</td>\n",
       "      <td>F</td>\n",
       "      <td>0</td>\n",
       "      <td>S</td>\n",
       "    </tr>\n",
       "    <tr>\n",
       "      <th>2</th>\n",
       "      <td>Europa</td>\n",
       "      <td>False</td>\n",
       "      <td>A/0/S</td>\n",
       "      <td>TRAPPIST-1e</td>\n",
       "      <td>58.0</td>\n",
       "      <td>True</td>\n",
       "      <td>43.0</td>\n",
       "      <td>3576.0</td>\n",
       "      <td>0.0</td>\n",
       "      <td>6715.0</td>\n",
       "      <td>49.0</td>\n",
       "      <td>False</td>\n",
       "      <td>A</td>\n",
       "      <td>0</td>\n",
       "      <td>S</td>\n",
       "    </tr>\n",
       "    <tr>\n",
       "      <th>3</th>\n",
       "      <td>Europa</td>\n",
       "      <td>False</td>\n",
       "      <td>A/0/S</td>\n",
       "      <td>TRAPPIST-1e</td>\n",
       "      <td>33.0</td>\n",
       "      <td>False</td>\n",
       "      <td>0.0</td>\n",
       "      <td>1283.0</td>\n",
       "      <td>371.0</td>\n",
       "      <td>3329.0</td>\n",
       "      <td>193.0</td>\n",
       "      <td>False</td>\n",
       "      <td>A</td>\n",
       "      <td>0</td>\n",
       "      <td>S</td>\n",
       "    </tr>\n",
       "    <tr>\n",
       "      <th>4</th>\n",
       "      <td>Earth</td>\n",
       "      <td>False</td>\n",
       "      <td>F/1/S</td>\n",
       "      <td>TRAPPIST-1e</td>\n",
       "      <td>16.0</td>\n",
       "      <td>False</td>\n",
       "      <td>303.0</td>\n",
       "      <td>70.0</td>\n",
       "      <td>151.0</td>\n",
       "      <td>565.0</td>\n",
       "      <td>2.0</td>\n",
       "      <td>True</td>\n",
       "      <td>F</td>\n",
       "      <td>1</td>\n",
       "      <td>S</td>\n",
       "    </tr>\n",
       "  </tbody>\n",
       "</table>\n",
       "</div>"
      ],
      "text/plain": [
       "  HomePlanet  CryoSleep  Cabin  Destination   Age    VIP  RoomService  FoodCourt  ShoppingMall     Spa  VRDeck Transported  0  1  2\n",
       "0     Europa      False  B/0/P  TRAPPIST-1e  39.0  False          0.0        0.0           0.0     0.0     0.0       False  B  0  P\n",
       "1      Earth      False  F/0/S  TRAPPIST-1e  24.0  False        109.0        9.0          25.0   549.0    44.0        True  F  0  S\n",
       "2     Europa      False  A/0/S  TRAPPIST-1e  58.0   True         43.0     3576.0           0.0  6715.0    49.0       False  A  0  S\n",
       "3     Europa      False  A/0/S  TRAPPIST-1e  33.0  False          0.0     1283.0         371.0  3329.0   193.0       False  A  0  S\n",
       "4      Earth      False  F/1/S  TRAPPIST-1e  16.0  False        303.0       70.0         151.0   565.0     2.0        True  F  1  S"
      ]
     },
     "execution_count": 13,
     "metadata": {},
     "output_type": "execute_result"
    }
   ],
   "source": [
    "# 将 Cabin 特征拆分为 deck/num/side 三个特征\n",
    "all_data = pd.concat([all_data, all_data['Cabin'].str.split('/', expand=True)], axis=1)\n",
    "all_data.head()"
   ]
  },
  {
   "cell_type": "code",
   "execution_count": 14,
   "id": "1aa4460a",
   "metadata": {
    "execution": {
     "iopub.execute_input": "2022-10-27T01:54:27.644374Z",
     "iopub.status.busy": "2022-10-27T01:54:27.643911Z",
     "iopub.status.idle": "2022-10-27T01:54:27.670141Z",
     "shell.execute_reply": "2022-10-27T01:54:27.668842Z"
    },
    "papermill": {
     "duration": 0.051174,
     "end_time": "2022-10-27T01:54:27.672997",
     "exception": false,
     "start_time": "2022-10-27T01:54:27.621823",
     "status": "completed"
    },
    "tags": []
   },
   "outputs": [
    {
     "data": {
      "text/html": [
       "<div>\n",
       "<style scoped>\n",
       "    .dataframe tbody tr th:only-of-type {\n",
       "        vertical-align: middle;\n",
       "    }\n",
       "\n",
       "    .dataframe tbody tr th {\n",
       "        vertical-align: top;\n",
       "    }\n",
       "\n",
       "    .dataframe thead th {\n",
       "        text-align: right;\n",
       "    }\n",
       "</style>\n",
       "<table border=\"1\" class=\"dataframe\">\n",
       "  <thead>\n",
       "    <tr style=\"text-align: right;\">\n",
       "      <th></th>\n",
       "      <th>HomePlanet</th>\n",
       "      <th>CryoSleep</th>\n",
       "      <th>Destination</th>\n",
       "      <th>Age</th>\n",
       "      <th>VIP</th>\n",
       "      <th>RoomService</th>\n",
       "      <th>FoodCourt</th>\n",
       "      <th>ShoppingMall</th>\n",
       "      <th>Spa</th>\n",
       "      <th>VRDeck</th>\n",
       "      <th>Transported</th>\n",
       "      <th>0</th>\n",
       "      <th>1</th>\n",
       "      <th>2</th>\n",
       "    </tr>\n",
       "  </thead>\n",
       "  <tbody>\n",
       "    <tr>\n",
       "      <th>0</th>\n",
       "      <td>Europa</td>\n",
       "      <td>False</td>\n",
       "      <td>TRAPPIST-1e</td>\n",
       "      <td>39.0</td>\n",
       "      <td>False</td>\n",
       "      <td>0.0</td>\n",
       "      <td>0.0</td>\n",
       "      <td>0.0</td>\n",
       "      <td>0.0</td>\n",
       "      <td>0.0</td>\n",
       "      <td>False</td>\n",
       "      <td>B</td>\n",
       "      <td>0</td>\n",
       "      <td>P</td>\n",
       "    </tr>\n",
       "    <tr>\n",
       "      <th>1</th>\n",
       "      <td>Earth</td>\n",
       "      <td>False</td>\n",
       "      <td>TRAPPIST-1e</td>\n",
       "      <td>24.0</td>\n",
       "      <td>False</td>\n",
       "      <td>109.0</td>\n",
       "      <td>9.0</td>\n",
       "      <td>25.0</td>\n",
       "      <td>549.0</td>\n",
       "      <td>44.0</td>\n",
       "      <td>True</td>\n",
       "      <td>F</td>\n",
       "      <td>0</td>\n",
       "      <td>S</td>\n",
       "    </tr>\n",
       "    <tr>\n",
       "      <th>2</th>\n",
       "      <td>Europa</td>\n",
       "      <td>False</td>\n",
       "      <td>TRAPPIST-1e</td>\n",
       "      <td>58.0</td>\n",
       "      <td>True</td>\n",
       "      <td>43.0</td>\n",
       "      <td>3576.0</td>\n",
       "      <td>0.0</td>\n",
       "      <td>6715.0</td>\n",
       "      <td>49.0</td>\n",
       "      <td>False</td>\n",
       "      <td>A</td>\n",
       "      <td>0</td>\n",
       "      <td>S</td>\n",
       "    </tr>\n",
       "    <tr>\n",
       "      <th>3</th>\n",
       "      <td>Europa</td>\n",
       "      <td>False</td>\n",
       "      <td>TRAPPIST-1e</td>\n",
       "      <td>33.0</td>\n",
       "      <td>False</td>\n",
       "      <td>0.0</td>\n",
       "      <td>1283.0</td>\n",
       "      <td>371.0</td>\n",
       "      <td>3329.0</td>\n",
       "      <td>193.0</td>\n",
       "      <td>False</td>\n",
       "      <td>A</td>\n",
       "      <td>0</td>\n",
       "      <td>S</td>\n",
       "    </tr>\n",
       "    <tr>\n",
       "      <th>4</th>\n",
       "      <td>Earth</td>\n",
       "      <td>False</td>\n",
       "      <td>TRAPPIST-1e</td>\n",
       "      <td>16.0</td>\n",
       "      <td>False</td>\n",
       "      <td>303.0</td>\n",
       "      <td>70.0</td>\n",
       "      <td>151.0</td>\n",
       "      <td>565.0</td>\n",
       "      <td>2.0</td>\n",
       "      <td>True</td>\n",
       "      <td>F</td>\n",
       "      <td>1</td>\n",
       "      <td>S</td>\n",
       "    </tr>\n",
       "  </tbody>\n",
       "</table>\n",
       "</div>"
      ],
      "text/plain": [
       "  HomePlanet  CryoSleep  Destination   Age    VIP  RoomService  FoodCourt  ShoppingMall     Spa  VRDeck Transported  0  1  2\n",
       "0     Europa      False  TRAPPIST-1e  39.0  False          0.0        0.0           0.0     0.0     0.0       False  B  0  P\n",
       "1      Earth      False  TRAPPIST-1e  24.0  False        109.0        9.0          25.0   549.0    44.0        True  F  0  S\n",
       "2     Europa      False  TRAPPIST-1e  58.0   True         43.0     3576.0           0.0  6715.0    49.0       False  A  0  S\n",
       "3     Europa      False  TRAPPIST-1e  33.0  False          0.0     1283.0         371.0  3329.0   193.0       False  A  0  S\n",
       "4      Earth      False  TRAPPIST-1e  16.0  False        303.0       70.0         151.0   565.0     2.0        True  F  1  S"
      ]
     },
     "execution_count": 14,
     "metadata": {},
     "output_type": "execute_result"
    }
   ],
   "source": [
    "# 剔除掉 Cabin 特征\n",
    "all_data.drop('Cabin', axis=1, inplace=True)\n",
    "all_data.head()"
   ]
  },
  {
   "cell_type": "code",
   "execution_count": 15,
   "id": "94d1c314",
   "metadata": {
    "execution": {
     "iopub.execute_input": "2022-10-27T01:54:27.715691Z",
     "iopub.status.busy": "2022-10-27T01:54:27.715218Z",
     "iopub.status.idle": "2022-10-27T01:54:27.738405Z",
     "shell.execute_reply": "2022-10-27T01:54:27.737046Z"
    },
    "papermill": {
     "duration": 0.047342,
     "end_time": "2022-10-27T01:54:27.740816",
     "exception": false,
     "start_time": "2022-10-27T01:54:27.693474",
     "status": "completed"
    },
    "tags": []
   },
   "outputs": [
    {
     "data": {
      "text/html": [
       "<div>\n",
       "<style scoped>\n",
       "    .dataframe tbody tr th:only-of-type {\n",
       "        vertical-align: middle;\n",
       "    }\n",
       "\n",
       "    .dataframe tbody tr th {\n",
       "        vertical-align: top;\n",
       "    }\n",
       "\n",
       "    .dataframe thead th {\n",
       "        text-align: right;\n",
       "    }\n",
       "</style>\n",
       "<table border=\"1\" class=\"dataframe\">\n",
       "  <thead>\n",
       "    <tr style=\"text-align: right;\">\n",
       "      <th></th>\n",
       "      <th>HomePlanet</th>\n",
       "      <th>CryoSleep</th>\n",
       "      <th>Destination</th>\n",
       "      <th>Age</th>\n",
       "      <th>VIP</th>\n",
       "      <th>RoomService</th>\n",
       "      <th>FoodCourt</th>\n",
       "      <th>ShoppingMall</th>\n",
       "      <th>Spa</th>\n",
       "      <th>VRDeck</th>\n",
       "      <th>Transported</th>\n",
       "      <th>Deck</th>\n",
       "      <th>Num</th>\n",
       "      <th>Side</th>\n",
       "    </tr>\n",
       "  </thead>\n",
       "  <tbody>\n",
       "    <tr>\n",
       "      <th>0</th>\n",
       "      <td>Europa</td>\n",
       "      <td>False</td>\n",
       "      <td>TRAPPIST-1e</td>\n",
       "      <td>39.0</td>\n",
       "      <td>False</td>\n",
       "      <td>0.0</td>\n",
       "      <td>0.0</td>\n",
       "      <td>0.0</td>\n",
       "      <td>0.0</td>\n",
       "      <td>0.0</td>\n",
       "      <td>False</td>\n",
       "      <td>B</td>\n",
       "      <td>0</td>\n",
       "      <td>P</td>\n",
       "    </tr>\n",
       "    <tr>\n",
       "      <th>1</th>\n",
       "      <td>Earth</td>\n",
       "      <td>False</td>\n",
       "      <td>TRAPPIST-1e</td>\n",
       "      <td>24.0</td>\n",
       "      <td>False</td>\n",
       "      <td>109.0</td>\n",
       "      <td>9.0</td>\n",
       "      <td>25.0</td>\n",
       "      <td>549.0</td>\n",
       "      <td>44.0</td>\n",
       "      <td>True</td>\n",
       "      <td>F</td>\n",
       "      <td>0</td>\n",
       "      <td>S</td>\n",
       "    </tr>\n",
       "    <tr>\n",
       "      <th>2</th>\n",
       "      <td>Europa</td>\n",
       "      <td>False</td>\n",
       "      <td>TRAPPIST-1e</td>\n",
       "      <td>58.0</td>\n",
       "      <td>True</td>\n",
       "      <td>43.0</td>\n",
       "      <td>3576.0</td>\n",
       "      <td>0.0</td>\n",
       "      <td>6715.0</td>\n",
       "      <td>49.0</td>\n",
       "      <td>False</td>\n",
       "      <td>A</td>\n",
       "      <td>0</td>\n",
       "      <td>S</td>\n",
       "    </tr>\n",
       "    <tr>\n",
       "      <th>3</th>\n",
       "      <td>Europa</td>\n",
       "      <td>False</td>\n",
       "      <td>TRAPPIST-1e</td>\n",
       "      <td>33.0</td>\n",
       "      <td>False</td>\n",
       "      <td>0.0</td>\n",
       "      <td>1283.0</td>\n",
       "      <td>371.0</td>\n",
       "      <td>3329.0</td>\n",
       "      <td>193.0</td>\n",
       "      <td>False</td>\n",
       "      <td>A</td>\n",
       "      <td>0</td>\n",
       "      <td>S</td>\n",
       "    </tr>\n",
       "    <tr>\n",
       "      <th>4</th>\n",
       "      <td>Earth</td>\n",
       "      <td>False</td>\n",
       "      <td>TRAPPIST-1e</td>\n",
       "      <td>16.0</td>\n",
       "      <td>False</td>\n",
       "      <td>303.0</td>\n",
       "      <td>70.0</td>\n",
       "      <td>151.0</td>\n",
       "      <td>565.0</td>\n",
       "      <td>2.0</td>\n",
       "      <td>True</td>\n",
       "      <td>F</td>\n",
       "      <td>1</td>\n",
       "      <td>S</td>\n",
       "    </tr>\n",
       "  </tbody>\n",
       "</table>\n",
       "</div>"
      ],
      "text/plain": [
       "  HomePlanet  CryoSleep  Destination   Age    VIP  RoomService  FoodCourt  ShoppingMall     Spa  VRDeck Transported Deck Num Side\n",
       "0     Europa      False  TRAPPIST-1e  39.0  False          0.0        0.0           0.0     0.0     0.0       False    B   0    P\n",
       "1      Earth      False  TRAPPIST-1e  24.0  False        109.0        9.0          25.0   549.0    44.0        True    F   0    S\n",
       "2     Europa      False  TRAPPIST-1e  58.0   True         43.0     3576.0           0.0  6715.0    49.0       False    A   0    S\n",
       "3     Europa      False  TRAPPIST-1e  33.0  False          0.0     1283.0         371.0  3329.0   193.0       False    A   0    S\n",
       "4      Earth      False  TRAPPIST-1e  16.0  False        303.0       70.0         151.0   565.0     2.0        True    F   1    S"
      ]
     },
     "execution_count": 15,
     "metadata": {},
     "output_type": "execute_result"
    }
   ],
   "source": [
    "# 将列重新命名为 deck/num/side \n",
    "all_data.rename(columns={0: 'Deck', 1: 'Num', 2: 'Side'}, inplace=True)\n",
    "all_data.head()"
   ]
  },
  {
   "cell_type": "code",
   "execution_count": 16,
   "id": "5173cf2e",
   "metadata": {
    "execution": {
     "iopub.execute_input": "2022-10-27T01:54:27.784596Z",
     "iopub.status.busy": "2022-10-27T01:54:27.784143Z",
     "iopub.status.idle": "2022-10-27T01:54:27.793902Z",
     "shell.execute_reply": "2022-10-27T01:54:27.792867Z"
    },
    "papermill": {
     "duration": 0.034762,
     "end_time": "2022-10-27T01:54:27.796226",
     "exception": false,
     "start_time": "2022-10-27T01:54:27.761464",
     "status": "completed"
    },
    "tags": []
   },
   "outputs": [
    {
     "data": {
      "text/plain": [
       "F      4239\n",
       "G      3781\n",
       "E      1323\n",
       "B      1141\n",
       "C      1102\n",
       "D       720\n",
       "A       354\n",
       "NaN     299\n",
       "T        11\n",
       "Name: Deck, dtype: int64"
      ]
     },
     "execution_count": 16,
     "metadata": {},
     "output_type": "execute_result"
    }
   ],
   "source": [
    "all_data.Deck.value_counts(dropna=False)"
   ]
  },
  {
   "cell_type": "code",
   "execution_count": 17,
   "id": "1ed141ee",
   "metadata": {
    "execution": {
     "iopub.execute_input": "2022-10-27T01:54:27.843484Z",
     "iopub.status.busy": "2022-10-27T01:54:27.842577Z",
     "iopub.status.idle": "2022-10-27T01:54:27.854246Z",
     "shell.execute_reply": "2022-10-27T01:54:27.853147Z"
    },
    "papermill": {
     "duration": 0.037345,
     "end_time": "2022-10-27T01:54:27.856790",
     "exception": false,
     "start_time": "2022-10-27T01:54:27.819445",
     "status": "completed"
    },
    "tags": []
   },
   "outputs": [
    {
     "data": {
      "text/plain": [
       "F    4538\n",
       "G    3781\n",
       "E    1323\n",
       "B    1141\n",
       "C    1102\n",
       "D     720\n",
       "A     354\n",
       "T      11\n",
       "Name: Deck, dtype: int64"
      ]
     },
     "execution_count": 17,
     "metadata": {},
     "output_type": "execute_result"
    }
   ],
   "source": [
    "# 使用众数填充 Deck 特征\n",
    "all_data['Deck'] = all_data['Deck'].fillna('F')\n",
    "all_data.Deck.value_counts(dropna=False)"
   ]
  },
  {
   "cell_type": "code",
   "execution_count": 18,
   "id": "8353737e",
   "metadata": {
    "execution": {
     "iopub.execute_input": "2022-10-27T01:54:27.916919Z",
     "iopub.status.busy": "2022-10-27T01:54:27.915756Z",
     "iopub.status.idle": "2022-10-27T01:54:27.923985Z",
     "shell.execute_reply": "2022-10-27T01:54:27.922650Z"
    },
    "papermill": {
     "duration": 0.043333,
     "end_time": "2022-10-27T01:54:27.926962",
     "exception": false,
     "start_time": "2022-10-27T01:54:27.883629",
     "status": "completed"
    },
    "tags": []
   },
   "outputs": [],
   "source": [
    "# 统计数量后发现 Num 特征没有用处，删除 Num 特征\n",
    "all_data.drop('Num', axis=1, inplace=True)"
   ]
  },
  {
   "cell_type": "code",
   "execution_count": 19,
   "id": "ff4b68ad",
   "metadata": {
    "execution": {
     "iopub.execute_input": "2022-10-27T01:54:27.978626Z",
     "iopub.status.busy": "2022-10-27T01:54:27.978215Z",
     "iopub.status.idle": "2022-10-27T01:54:28.000534Z",
     "shell.execute_reply": "2022-10-27T01:54:27.999315Z"
    },
    "papermill": {
     "duration": 0.049243,
     "end_time": "2022-10-27T01:54:28.002971",
     "exception": false,
     "start_time": "2022-10-27T01:54:27.953728",
     "status": "completed"
    },
    "tags": []
   },
   "outputs": [
    {
     "data": {
      "text/html": [
       "<div>\n",
       "<style scoped>\n",
       "    .dataframe tbody tr th:only-of-type {\n",
       "        vertical-align: middle;\n",
       "    }\n",
       "\n",
       "    .dataframe tbody tr th {\n",
       "        vertical-align: top;\n",
       "    }\n",
       "\n",
       "    .dataframe thead th {\n",
       "        text-align: right;\n",
       "    }\n",
       "</style>\n",
       "<table border=\"1\" class=\"dataframe\">\n",
       "  <thead>\n",
       "    <tr style=\"text-align: right;\">\n",
       "      <th></th>\n",
       "      <th>HomePlanet</th>\n",
       "      <th>CryoSleep</th>\n",
       "      <th>Destination</th>\n",
       "      <th>Age</th>\n",
       "      <th>VIP</th>\n",
       "      <th>RoomService</th>\n",
       "      <th>FoodCourt</th>\n",
       "      <th>ShoppingMall</th>\n",
       "      <th>Spa</th>\n",
       "      <th>VRDeck</th>\n",
       "      <th>Transported</th>\n",
       "      <th>Deck</th>\n",
       "      <th>Side</th>\n",
       "    </tr>\n",
       "  </thead>\n",
       "  <tbody>\n",
       "    <tr>\n",
       "      <th>0</th>\n",
       "      <td>Europa</td>\n",
       "      <td>False</td>\n",
       "      <td>TRAPPIST-1e</td>\n",
       "      <td>39.0</td>\n",
       "      <td>False</td>\n",
       "      <td>0.0</td>\n",
       "      <td>0.0</td>\n",
       "      <td>0.0</td>\n",
       "      <td>0.0</td>\n",
       "      <td>0.0</td>\n",
       "      <td>False</td>\n",
       "      <td>B</td>\n",
       "      <td>P</td>\n",
       "    </tr>\n",
       "    <tr>\n",
       "      <th>1</th>\n",
       "      <td>Earth</td>\n",
       "      <td>False</td>\n",
       "      <td>TRAPPIST-1e</td>\n",
       "      <td>24.0</td>\n",
       "      <td>False</td>\n",
       "      <td>109.0</td>\n",
       "      <td>9.0</td>\n",
       "      <td>25.0</td>\n",
       "      <td>549.0</td>\n",
       "      <td>44.0</td>\n",
       "      <td>True</td>\n",
       "      <td>F</td>\n",
       "      <td>S</td>\n",
       "    </tr>\n",
       "    <tr>\n",
       "      <th>2</th>\n",
       "      <td>Europa</td>\n",
       "      <td>False</td>\n",
       "      <td>TRAPPIST-1e</td>\n",
       "      <td>58.0</td>\n",
       "      <td>True</td>\n",
       "      <td>43.0</td>\n",
       "      <td>3576.0</td>\n",
       "      <td>0.0</td>\n",
       "      <td>6715.0</td>\n",
       "      <td>49.0</td>\n",
       "      <td>False</td>\n",
       "      <td>A</td>\n",
       "      <td>S</td>\n",
       "    </tr>\n",
       "    <tr>\n",
       "      <th>3</th>\n",
       "      <td>Europa</td>\n",
       "      <td>False</td>\n",
       "      <td>TRAPPIST-1e</td>\n",
       "      <td>33.0</td>\n",
       "      <td>False</td>\n",
       "      <td>0.0</td>\n",
       "      <td>1283.0</td>\n",
       "      <td>371.0</td>\n",
       "      <td>3329.0</td>\n",
       "      <td>193.0</td>\n",
       "      <td>False</td>\n",
       "      <td>A</td>\n",
       "      <td>S</td>\n",
       "    </tr>\n",
       "    <tr>\n",
       "      <th>4</th>\n",
       "      <td>Earth</td>\n",
       "      <td>False</td>\n",
       "      <td>TRAPPIST-1e</td>\n",
       "      <td>16.0</td>\n",
       "      <td>False</td>\n",
       "      <td>303.0</td>\n",
       "      <td>70.0</td>\n",
       "      <td>151.0</td>\n",
       "      <td>565.0</td>\n",
       "      <td>2.0</td>\n",
       "      <td>True</td>\n",
       "      <td>F</td>\n",
       "      <td>S</td>\n",
       "    </tr>\n",
       "  </tbody>\n",
       "</table>\n",
       "</div>"
      ],
      "text/plain": [
       "  HomePlanet  CryoSleep  Destination   Age    VIP  RoomService  FoodCourt  ShoppingMall     Spa  VRDeck Transported Deck Side\n",
       "0     Europa      False  TRAPPIST-1e  39.0  False          0.0        0.0           0.0     0.0     0.0       False    B    P\n",
       "1      Earth      False  TRAPPIST-1e  24.0  False        109.0        9.0          25.0   549.0    44.0        True    F    S\n",
       "2     Europa      False  TRAPPIST-1e  58.0   True         43.0     3576.0           0.0  6715.0    49.0       False    A    S\n",
       "3     Europa      False  TRAPPIST-1e  33.0  False          0.0     1283.0         371.0  3329.0   193.0       False    A    S\n",
       "4      Earth      False  TRAPPIST-1e  16.0  False        303.0       70.0         151.0   565.0     2.0        True    F    S"
      ]
     },
     "execution_count": 19,
     "metadata": {},
     "output_type": "execute_result"
    }
   ],
   "source": [
    "all_data.head()"
   ]
  },
  {
   "cell_type": "code",
   "execution_count": 20,
   "id": "65a3d71d",
   "metadata": {
    "execution": {
     "iopub.execute_input": "2022-10-27T01:54:28.048866Z",
     "iopub.status.busy": "2022-10-27T01:54:28.047839Z",
     "iopub.status.idle": "2022-10-27T01:54:28.061231Z",
     "shell.execute_reply": "2022-10-27T01:54:28.059887Z"
    },
    "papermill": {
     "duration": 0.038859,
     "end_time": "2022-10-27T01:54:28.063589",
     "exception": false,
     "start_time": "2022-10-27T01:54:28.024730",
     "status": "completed"
    },
    "tags": []
   },
   "outputs": [
    {
     "data": {
      "text/plain": [
       "S      6381\n",
       "P      6290\n",
       "NaN     299\n",
       "Name: Side, dtype: int64"
      ]
     },
     "execution_count": 20,
     "metadata": {},
     "output_type": "execute_result"
    }
   ],
   "source": [
    "all_data.Side.value_counts(dropna=False)"
   ]
  },
  {
   "cell_type": "code",
   "execution_count": 21,
   "id": "3680c822",
   "metadata": {
    "execution": {
     "iopub.execute_input": "2022-10-27T01:54:28.108539Z",
     "iopub.status.busy": "2022-10-27T01:54:28.108098Z",
     "iopub.status.idle": "2022-10-27T01:54:28.123792Z",
     "shell.execute_reply": "2022-10-27T01:54:28.122499Z"
    },
    "papermill": {
     "duration": 0.041243,
     "end_time": "2022-10-27T01:54:28.126240",
     "exception": false,
     "start_time": "2022-10-27T01:54:28.084997",
     "status": "completed"
    },
    "tags": []
   },
   "outputs": [
    {
     "data": {
      "text/plain": [
       "S    6524\n",
       "P    6446\n",
       "Name: Side, dtype: int64"
      ]
     },
     "execution_count": 21,
     "metadata": {},
     "output_type": "execute_result"
    }
   ],
   "source": [
    "# 使用随机数填充 Side 特征\n",
    "all_data['Side'] = all_data['Side'].fillna(method='ffill')\n",
    "all_data.Side.value_counts(dropna=False)"
   ]
  },
  {
   "cell_type": "markdown",
   "id": "b3e625f3",
   "metadata": {
    "papermill": {
     "duration": 0.021822,
     "end_time": "2022-10-27T01:54:28.169814",
     "exception": false,
     "start_time": "2022-10-27T01:54:28.147992",
     "status": "completed"
    },
    "tags": []
   },
   "source": [
    "## Destination 特征"
   ]
  },
  {
   "cell_type": "code",
   "execution_count": 22,
   "id": "1da5b393",
   "metadata": {
    "execution": {
     "iopub.execute_input": "2022-10-27T01:54:28.219309Z",
     "iopub.status.busy": "2022-10-27T01:54:28.218459Z",
     "iopub.status.idle": "2022-10-27T01:54:28.228805Z",
     "shell.execute_reply": "2022-10-27T01:54:28.227780Z"
    },
    "papermill": {
     "duration": 0.038774,
     "end_time": "2022-10-27T01:54:28.231958",
     "exception": false,
     "start_time": "2022-10-27T01:54:28.193184",
     "status": "completed"
    },
    "tags": []
   },
   "outputs": [
    {
     "data": {
      "text/plain": [
       "TRAPPIST-1e      8871\n",
       "55 Cancri e      2641\n",
       "PSO J318.5-22    1184\n",
       "NaN               274\n",
       "Name: Destination, dtype: int64"
      ]
     },
     "execution_count": 22,
     "metadata": {},
     "output_type": "execute_result"
    }
   ],
   "source": [
    "all_data.Destination.value_counts(dropna=False)"
   ]
  },
  {
   "cell_type": "code",
   "execution_count": 23,
   "id": "fdb09bc5",
   "metadata": {
    "execution": {
     "iopub.execute_input": "2022-10-27T01:54:28.284604Z",
     "iopub.status.busy": "2022-10-27T01:54:28.283688Z",
     "iopub.status.idle": "2022-10-27T01:54:28.297742Z",
     "shell.execute_reply": "2022-10-27T01:54:28.296695Z"
    },
    "papermill": {
     "duration": 0.03979,
     "end_time": "2022-10-27T01:54:28.300187",
     "exception": false,
     "start_time": "2022-10-27T01:54:28.260397",
     "status": "completed"
    },
    "tags": []
   },
   "outputs": [
    {
     "data": {
      "text/plain": [
       "TRAPPIST-1e      9145\n",
       "55 Cancri e      2641\n",
       "PSO J318.5-22    1184\n",
       "Name: Destination, dtype: int64"
      ]
     },
     "execution_count": 23,
     "metadata": {},
     "output_type": "execute_result"
    }
   ],
   "source": [
    "# 使用众数填充缺失值\n",
    "all_data['Destination'] = all_data['Destination'].fillna('TRAPPIST-1e')\n",
    "all_data.Destination.value_counts(dropna=False)"
   ]
  },
  {
   "cell_type": "markdown",
   "id": "b864cbe0",
   "metadata": {
    "papermill": {
     "duration": 0.0211,
     "end_time": "2022-10-27T01:54:28.343783",
     "exception": false,
     "start_time": "2022-10-27T01:54:28.322683",
     "status": "completed"
    },
    "tags": []
   },
   "source": [
    "## Age 特征"
   ]
  },
  {
   "cell_type": "code",
   "execution_count": 24,
   "id": "3d03748f",
   "metadata": {
    "execution": {
     "iopub.execute_input": "2022-10-27T01:54:28.390123Z",
     "iopub.status.busy": "2022-10-27T01:54:28.389143Z",
     "iopub.status.idle": "2022-10-27T01:54:30.144145Z",
     "shell.execute_reply": "2022-10-27T01:54:30.143337Z"
    },
    "papermill": {
     "duration": 1.781024,
     "end_time": "2022-10-27T01:54:30.146421",
     "exception": false,
     "start_time": "2022-10-27T01:54:28.365397",
     "status": "completed"
    },
    "tags": []
   },
   "outputs": [
    {
     "data": {
      "text/plain": [
       "<AxesSubplot:ylabel='Density'>"
      ]
     },
     "execution_count": 24,
     "metadata": {},
     "output_type": "execute_result"
    },
    {
     "data": {
      "image/png": "[encoded data removed]",
      "text/plain": [
       "<Figure size 432x288 with 1 Axes>"
      ]
     },
     "metadata": {
      "needs_background": "light"
     },
     "output_type": "display_data"
    }
   ],
   "source": [
    "all_data['Age'].plot.density()"
   ]
  },
  {
   "cell_type": "code",
   "execution_count": 25,
   "id": "7bf40663",
   "metadata": {
    "execution": {
     "iopub.execute_input": "2022-10-27T01:54:30.193156Z",
     "iopub.status.busy": "2022-10-27T01:54:30.192176Z",
     "iopub.status.idle": "2022-10-27T01:54:30.722897Z",
     "shell.execute_reply": "2022-10-27T01:54:30.721557Z"
    },
    "papermill": {
     "duration": 0.557238,
     "end_time": "2022-10-27T01:54:30.726036",
     "exception": false,
     "start_time": "2022-10-27T01:54:30.168798",
     "status": "completed"
    },
    "tags": []
   },
   "outputs": [
    {
     "data": {
      "text/plain": [
       "<AxesSubplot:ylabel='Density'>"
      ]
     },
     "execution_count": 25,
     "metadata": {},
     "output_type": "execute_result"
    },
    {
     "data": {
      "image/png": "[encoded data removed]",
      "text/plain": [
       "<Figure size 432x288 with 1 Axes>"
      ]
     },
     "metadata": {
      "needs_background": "light"
     },
     "output_type": "display_data"
    }
   ],
   "source": [
    "# 使用均值填充缺失值\n",
    "all_data['Age'] = all_data['Age'].fillna(all_data['Age'].mean())\n",
    "all_data['Age'].plot.density()"
   ]
  },
  {
   "cell_type": "code",
   "execution_count": 26,
   "id": "87cfb6a4",
   "metadata": {
    "execution": {
     "iopub.execute_input": "2022-10-27T01:54:30.773015Z",
     "iopub.status.busy": "2022-10-27T01:54:30.772614Z",
     "iopub.status.idle": "2022-10-27T01:54:30.781349Z",
     "shell.execute_reply": "2022-10-27T01:54:30.779806Z"
    },
    "papermill": {
     "duration": 0.035206,
     "end_time": "2022-10-27T01:54:30.783901",
     "exception": false,
     "start_time": "2022-10-27T01:54:30.748695",
     "status": "completed"
    },
    "tags": []
   },
   "outputs": [
    {
     "data": {
      "text/plain": [
       "0"
      ]
     },
     "execution_count": 26,
     "metadata": {},
     "output_type": "execute_result"
    }
   ],
   "source": [
    "all_data.Age.isnull().sum()"
   ]
  },
  {
   "cell_type": "markdown",
   "id": "b172e3bc",
   "metadata": {
    "papermill": {
     "duration": 0.021987,
     "end_time": "2022-10-27T01:54:30.829083",
     "exception": false,
     "start_time": "2022-10-27T01:54:30.807096",
     "status": "completed"
    },
    "tags": []
   },
   "source": [
    "## VIP 特征"
   ]
  },
  {
   "cell_type": "code",
   "execution_count": 27,
   "id": "32d76749",
   "metadata": {
    "execution": {
     "iopub.execute_input": "2022-10-27T01:54:30.875345Z",
     "iopub.status.busy": "2022-10-27T01:54:30.874910Z",
     "iopub.status.idle": "2022-10-27T01:54:30.884797Z",
     "shell.execute_reply": "2022-10-27T01:54:30.883619Z"
    },
    "papermill": {
     "duration": 0.036014,
     "end_time": "2022-10-27T01:54:30.887220",
     "exception": false,
     "start_time": "2022-10-27T01:54:30.851206",
     "status": "completed"
    },
    "tags": []
   },
   "outputs": [
    {
     "data": {
      "text/plain": [
       "False    12401\n",
       "NaN        296\n",
       "True       273\n",
       "Name: VIP, dtype: int64"
      ]
     },
     "execution_count": 27,
     "metadata": {},
     "output_type": "execute_result"
    }
   ],
   "source": [
    "all_data.VIP.value_counts(dropna=False)"
   ]
  },
  {
   "cell_type": "code",
   "execution_count": 28,
   "id": "26845992",
   "metadata": {
    "execution": {
     "iopub.execute_input": "2022-10-27T01:54:30.934216Z",
     "iopub.status.busy": "2022-10-27T01:54:30.933709Z",
     "iopub.status.idle": "2022-10-27T01:54:30.946435Z",
     "shell.execute_reply": "2022-10-27T01:54:30.945317Z"
    },
    "papermill": {
     "duration": 0.038617,
     "end_time": "2022-10-27T01:54:30.948576",
     "exception": false,
     "start_time": "2022-10-27T01:54:30.909959",
     "status": "completed"
    },
    "tags": []
   },
   "outputs": [
    {
     "data": {
      "text/plain": [
       "False    12697\n",
       "True       273\n",
       "Name: VIP, dtype: int64"
      ]
     },
     "execution_count": 28,
     "metadata": {},
     "output_type": "execute_result"
    }
   ],
   "source": [
    "# 使用众数填充缺失值\n",
    "all_data['VIP'] = all_data['VIP'].fillna(False)\n",
    "all_data.VIP.value_counts(dropna=False)"
   ]
  },
  {
   "cell_type": "markdown",
   "id": "133fa5ed",
   "metadata": {
    "papermill": {
     "duration": 0.0219,
     "end_time": "2022-10-27T01:54:30.992800",
     "exception": false,
     "start_time": "2022-10-27T01:54:30.970900",
     "status": "completed"
    },
    "tags": []
   },
   "source": [
    "## RoomService 特征"
   ]
  },
  {
   "cell_type": "code",
   "execution_count": 29,
   "id": "7291e031",
   "metadata": {
    "execution": {
     "iopub.execute_input": "2022-10-27T01:54:31.039246Z",
     "iopub.status.busy": "2022-10-27T01:54:31.038770Z",
     "iopub.status.idle": "2022-10-27T01:54:31.561423Z",
     "shell.execute_reply": "2022-10-27T01:54:31.560285Z"
    },
    "papermill": {
     "duration": 0.549063,
     "end_time": "2022-10-27T01:54:31.564110",
     "exception": false,
     "start_time": "2022-10-27T01:54:31.015047",
     "status": "completed"
    },
    "tags": []
   },
   "outputs": [
    {
     "data": {
      "text/plain": [
       "<AxesSubplot:ylabel='Density'>"
      ]
     },
     "execution_count": 29,
     "metadata": {},
     "output_type": "execute_result"
    },
    {
     "data": {
      "image/png": "[encoded data removed]",
      "text/plain": [
       "<Figure size 432x288 with 1 Axes>"
      ]
     },
     "metadata": {
      "needs_background": "light"
     },
     "output_type": "display_data"
    }
   ],
   "source": [
    "all_data['RoomService'].plot.density()"
   ]
  },
  {
   "cell_type": "code",
   "execution_count": 30,
   "id": "3ec81be7",
   "metadata": {
    "execution": {
     "iopub.execute_input": "2022-10-27T01:54:31.612798Z",
     "iopub.status.busy": "2022-10-27T01:54:31.612361Z",
     "iopub.status.idle": "2022-10-27T01:54:32.151967Z",
     "shell.execute_reply": "2022-10-27T01:54:32.150617Z"
    },
    "papermill": {
     "duration": 0.567848,
     "end_time": "2022-10-27T01:54:32.154731",
     "exception": false,
     "start_time": "2022-10-27T01:54:31.586883",
     "status": "completed"
    },
    "tags": []
   },
   "outputs": [
    {
     "data": {
      "text/plain": [
       "<AxesSubplot:ylabel='Density'>"
      ]
     },
     "execution_count": 30,
     "metadata": {},
     "output_type": "execute_result"
    },
    {
     "data": {
      "image/png": "[encoded data removed]",
      "text/plain": [
       "<Figure size 432x288 with 1 Axes>"
      ]
     },
     "metadata": {
      "needs_background": "light"
     },
     "output_type": "display_data"
    }
   ],
   "source": [
    "# 由于该特征的数值分布不均匀，故使用中位数填充缺失值\n",
    "all_data['RoomService'] = all_data['RoomService'].fillna(all_data['RoomService'].median())\n",
    "all_data['RoomService'].plot.density()"
   ]
  },
  {
   "cell_type": "code",
   "execution_count": 31,
   "id": "ab98ffa4",
   "metadata": {
    "execution": {
     "iopub.execute_input": "2022-10-27T01:54:32.203354Z",
     "iopub.status.busy": "2022-10-27T01:54:32.202893Z",
     "iopub.status.idle": "2022-10-27T01:54:32.211647Z",
     "shell.execute_reply": "2022-10-27T01:54:32.210345Z"
    },
    "papermill": {
     "duration": 0.036142,
     "end_time": "2022-10-27T01:54:32.214236",
     "exception": false,
     "start_time": "2022-10-27T01:54:32.178094",
     "status": "completed"
    },
    "tags": []
   },
   "outputs": [
    {
     "data": {
      "text/plain": [
       "0"
      ]
     },
     "execution_count": 31,
     "metadata": {},
     "output_type": "execute_result"
    }
   ],
   "source": [
    "all_data.RoomService.isnull().sum()"
   ]
  },
  {
   "cell_type": "markdown",
   "id": "1244a6c3",
   "metadata": {
    "papermill": {
     "duration": 0.022875,
     "end_time": "2022-10-27T01:54:32.262010",
     "exception": false,
     "start_time": "2022-10-27T01:54:32.239135",
     "status": "completed"
    },
    "tags": []
   },
   "source": [
    "## FoodCourt 特征"
   ]
  },
  {
   "cell_type": "code",
   "execution_count": 32,
   "id": "2651eb3a",
   "metadata": {
    "execution": {
     "iopub.execute_input": "2022-10-27T01:54:32.311883Z",
     "iopub.status.busy": "2022-10-27T01:54:32.310731Z",
     "iopub.status.idle": "2022-10-27T01:54:32.838100Z",
     "shell.execute_reply": "2022-10-27T01:54:32.836895Z"
    },
    "papermill": {
     "duration": 0.55544,
     "end_time": "2022-10-27T01:54:32.840743",
     "exception": false,
     "start_time": "2022-10-27T01:54:32.285303",
     "status": "completed"
    },
    "tags": []
   },
   "outputs": [
    {
     "data": {
      "text/plain": [
       "<AxesSubplot:ylabel='Density'>"
      ]
     },
     "execution_count": 32,
     "metadata": {},
     "output_type": "execute_result"
    },
    {
     "data": {
      "image/png": "[encoded data removed]",
      "text/plain": [
       "<Figure size 432x288 with 1 Axes>"
      ]
     },
     "metadata": {
      "needs_background": "light"
     },
     "output_type": "display_data"
    }
   ],
   "source": [
    "all_data['FoodCourt'].plot.density()"
   ]
  },
  {
   "cell_type": "code",
   "execution_count": 33,
   "id": "9084923d",
   "metadata": {
    "execution": {
     "iopub.execute_input": "2022-10-27T01:54:32.891087Z",
     "iopub.status.busy": "2022-10-27T01:54:32.890636Z",
     "iopub.status.idle": "2022-10-27T01:54:33.430258Z",
     "shell.execute_reply": "2022-10-27T01:54:33.428934Z"
    },
    "papermill": {
     "duration": 0.567245,
     "end_time": "2022-10-27T01:54:33.432863",
     "exception": false,
     "start_time": "2022-10-27T01:54:32.865618",
     "status": "completed"
    },
    "tags": []
   },
   "outputs": [
    {
     "data": {
      "text/plain": [
       "<AxesSubplot:ylabel='Density'>"
      ]
     },
     "execution_count": 33,
     "metadata": {},
     "output_type": "execute_result"
    },
    {
     "data": {
      "image/png": "[encoded data removed]",
      "text/plain": [
       "<Figure size 432x288 with 1 Axes>"
      ]
     },
     "metadata": {
      "needs_background": "light"
     },
     "output_type": "display_data"
    }
   ],
   "source": [
    "# 由于该特征的数值分布不均匀，故使用中位数填充缺失值\n",
    "all_data['FoodCourt'] = all_data['FoodCourt'].fillna(all_data['FoodCourt'].median())\n",
    "all_data['FoodCourt'].plot.density()"
   ]
  },
  {
   "cell_type": "code",
   "execution_count": 34,
   "id": "43be9d28",
   "metadata": {
    "execution": {
     "iopub.execute_input": "2022-10-27T01:54:33.483834Z",
     "iopub.status.busy": "2022-10-27T01:54:33.483064Z",
     "iopub.status.idle": "2022-10-27T01:54:33.490594Z",
     "shell.execute_reply": "2022-10-27T01:54:33.489689Z"
    },
    "papermill": {
     "duration": 0.035186,
     "end_time": "2022-10-27T01:54:33.492791",
     "exception": false,
     "start_time": "2022-10-27T01:54:33.457605",
     "status": "completed"
    },
    "tags": []
   },
   "outputs": [
    {
     "data": {
      "text/plain": [
       "0"
      ]
     },
     "execution_count": 34,
     "metadata": {},
     "output_type": "execute_result"
    }
   ],
   "source": [
    "all_data.FoodCourt.isnull().sum()"
   ]
  },
  {
   "cell_type": "markdown",
   "id": "cc3db595",
   "metadata": {
    "papermill": {
     "duration": 0.024292,
     "end_time": "2022-10-27T01:54:33.541682",
     "exception": false,
     "start_time": "2022-10-27T01:54:33.517390",
     "status": "completed"
    },
    "tags": []
   },
   "source": [
    "## ShoppingMall 特征"
   ]
  },
  {
   "cell_type": "code",
   "execution_count": 35,
   "id": "a224eddc",
   "metadata": {
    "execution": {
     "iopub.execute_input": "2022-10-27T01:54:33.593203Z",
     "iopub.status.busy": "2022-10-27T01:54:33.591867Z",
     "iopub.status.idle": "2022-10-27T01:54:34.113493Z",
     "shell.execute_reply": "2022-10-27T01:54:34.111362Z"
    },
    "papermill": {
     "duration": 0.551184,
     "end_time": "2022-10-27T01:54:34.117681",
     "exception": false,
     "start_time": "2022-10-27T01:54:33.566497",
     "status": "completed"
    },
    "tags": []
   },
   "outputs": [
    {
     "data": {
      "text/plain": [
       "<AxesSubplot:ylabel='Density'>"
      ]
     },
     "execution_count": 35,
     "metadata": {},
     "output_type": "execute_result"
    },
    {
     "data": {
      "image/png": "[encoded data removed]",
      "text/plain": [
       "<Figure size 432x288 with 1 Axes>"
      ]
     },
     "metadata": {
      "needs_background": "light"
     },
     "output_type": "display_data"
    }
   ],
   "source": [
    "all_data['ShoppingMall'].plot.density()"
   ]
  },
  {
   "cell_type": "code",
   "execution_count": 36,
   "id": "1f5bfe88",
   "metadata": {
    "execution": {
     "iopub.execute_input": "2022-10-27T01:54:34.170745Z",
     "iopub.status.busy": "2022-10-27T01:54:34.169523Z",
     "iopub.status.idle": "2022-10-27T01:54:34.178896Z",
     "shell.execute_reply": "2022-10-27T01:54:34.177684Z"
    },
    "papermill": {
     "duration": 0.037846,
     "end_time": "2022-10-27T01:54:34.181053",
     "exception": false,
     "start_time": "2022-10-27T01:54:34.143207",
     "status": "completed"
    },
    "tags": []
   },
   "outputs": [
    {
     "data": {
      "text/plain": [
       "0"
      ]
     },
     "execution_count": 36,
     "metadata": {},
     "output_type": "execute_result"
    }
   ],
   "source": [
    "# 由于该特征的数值分布不均匀，故使用中位数填充缺失值\n",
    "all_data['ShoppingMall'] = all_data['ShoppingMall'].fillna(all_data['ShoppingMall'].median())\n",
    "all_data.ShoppingMall.isnull().sum()"
   ]
  },
  {
   "cell_type": "markdown",
   "id": "df12a3c0",
   "metadata": {
    "papermill": {
     "duration": 0.024347,
     "end_time": "2022-10-27T01:54:34.230048",
     "exception": false,
     "start_time": "2022-10-27T01:54:34.205701",
     "status": "completed"
    },
    "tags": []
   },
   "source": [
    "## Spa 特征"
   ]
  },
  {
   "cell_type": "code",
   "execution_count": 37,
   "id": "ecb406ab",
   "metadata": {
    "execution": {
     "iopub.execute_input": "2022-10-27T01:54:34.282830Z",
     "iopub.status.busy": "2022-10-27T01:54:34.282180Z",
     "iopub.status.idle": "2022-10-27T01:54:34.803649Z",
     "shell.execute_reply": "2022-10-27T01:54:34.802668Z"
    },
    "papermill": {
     "duration": 0.550489,
     "end_time": "2022-10-27T01:54:34.806069",
     "exception": false,
     "start_time": "2022-10-27T01:54:34.255580",
     "status": "completed"
    },
    "tags": []
   },
   "outputs": [
    {
     "data": {
      "text/plain": [
       "<AxesSubplot:ylabel='Density'>"
      ]
     },
     "execution_count": 37,
     "metadata": {},
     "output_type": "execute_result"
    },
    {
     "data": {
      "image/png": "[encoded data removed]",
      "text/plain": [
       "<Figure size 432x288 with 1 Axes>"
      ]
     },
     "metadata": {
      "needs_background": "light"
     },
     "output_type": "display_data"
    }
   ],
   "source": [
    "all_data['Spa'].plot.density()"
   ]
  },
  {
   "cell_type": "code",
   "execution_count": 38,
   "id": "981f6fb8",
   "metadata": {
    "execution": {
     "iopub.execute_input": "2022-10-27T01:54:34.858394Z",
     "iopub.status.busy": "2022-10-27T01:54:34.857598Z",
     "iopub.status.idle": "2022-10-27T01:54:34.867432Z",
     "shell.execute_reply": "2022-10-27T01:54:34.866239Z"
    },
    "papermill": {
     "duration": 0.038921,
     "end_time": "2022-10-27T01:54:34.870001",
     "exception": false,
     "start_time": "2022-10-27T01:54:34.831080",
     "status": "completed"
    },
    "tags": []
   },
   "outputs": [
    {
     "data": {
      "text/plain": [
       "0"
      ]
     },
     "execution_count": 38,
     "metadata": {},
     "output_type": "execute_result"
    }
   ],
   "source": [
    "# 由于该特征的数值分布不均匀，故使用中位数填充缺失值\n",
    "all_data['Spa'] = all_data['Spa'].fillna(all_data['Spa'].median())\n",
    "all_data.Spa.isnull().sum()"
   ]
  },
  {
   "cell_type": "markdown",
   "id": "2e16f314",
   "metadata": {
    "papermill": {
     "duration": 0.024669,
     "end_time": "2022-10-27T01:54:34.920213",
     "exception": false,
     "start_time": "2022-10-27T01:54:34.895544",
     "status": "completed"
    },
    "tags": []
   },
   "source": [
    "## VRDeck 特征"
   ]
  },
  {
   "cell_type": "code",
   "execution_count": 39,
   "id": "46d43246",
   "metadata": {
    "execution": {
     "iopub.execute_input": "2022-10-27T01:54:34.973105Z",
     "iopub.status.busy": "2022-10-27T01:54:34.972172Z",
     "iopub.status.idle": "2022-10-27T01:54:35.527290Z",
     "shell.execute_reply": "2022-10-27T01:54:35.526352Z"
    },
    "papermill": {
     "duration": 0.583977,
     "end_time": "2022-10-27T01:54:35.529727",
     "exception": false,
     "start_time": "2022-10-27T01:54:34.945750",
     "status": "completed"
    },
    "tags": []
   },
   "outputs": [
    {
     "data": {
      "text/plain": [
       "<AxesSubplot:ylabel='Density'>"
      ]
     },
     "execution_count": 39,
     "metadata": {},
     "output_type": "execute_result"
    },
    {
     "data": {
      "image/png": "[encoded data removed]",
      "text/plain": [
       "<Figure size 432x288 with 1 Axes>"
      ]
     },
     "metadata": {
      "needs_background": "light"
     },
     "output_type": "display_data"
    }
   ],
   "source": [
    "all_data['VRDeck'].plot.density()"
   ]
  },
  {
   "cell_type": "code",
   "execution_count": 40,
   "id": "e2abdd71",
   "metadata": {
    "execution": {
     "iopub.execute_input": "2022-10-27T01:54:35.583414Z",
     "iopub.status.busy": "2022-10-27T01:54:35.582954Z",
     "iopub.status.idle": "2022-10-27T01:54:35.593618Z",
     "shell.execute_reply": "2022-10-27T01:54:35.592563Z"
    },
    "papermill": {
     "duration": 0.040079,
     "end_time": "2022-10-27T01:54:35.595984",
     "exception": false,
     "start_time": "2022-10-27T01:54:35.555905",
     "status": "completed"
    },
    "tags": []
   },
   "outputs": [
    {
     "data": {
      "text/plain": [
       "0"
      ]
     },
     "execution_count": 40,
     "metadata": {},
     "output_type": "execute_result"
    }
   ],
   "source": [
    "# 由于该特征的数值分布不均匀，故使用中位数填充缺失值\n",
    "all_data['VRDeck'] = all_data['VRDeck'].fillna(all_data['VRDeck'].median())\n",
    "all_data.VRDeck.isnull().sum()"
   ]
  },
  {
   "cell_type": "markdown",
   "id": "644ef53a",
   "metadata": {
    "papermill": {
     "duration": 0.026181,
     "end_time": "2022-10-27T01:54:35.649309",
     "exception": false,
     "start_time": "2022-10-27T01:54:35.623128",
     "status": "completed"
    },
    "tags": []
   },
   "source": [
    "## 判断缺失值是否填充完成"
   ]
  },
  {
   "cell_type": "code",
   "execution_count": 41,
   "id": "75a1872b",
   "metadata": {
    "execution": {
     "iopub.execute_input": "2022-10-27T01:54:35.704049Z",
     "iopub.status.busy": "2022-10-27T01:54:35.703315Z",
     "iopub.status.idle": "2022-10-27T01:54:35.715731Z",
     "shell.execute_reply": "2022-10-27T01:54:35.714807Z"
    },
    "papermill": {
     "duration": 0.043062,
     "end_time": "2022-10-27T01:54:35.718038",
     "exception": false,
     "start_time": "2022-10-27T01:54:35.674976",
     "status": "completed"
    },
    "tags": []
   },
   "outputs": [
    {
     "data": {
      "text/plain": [
       "Transported     4277\n",
       "HomePlanet         0\n",
       "CryoSleep          0\n",
       "Destination        0\n",
       "Age                0\n",
       "VIP                0\n",
       "RoomService        0\n",
       "FoodCourt          0\n",
       "ShoppingMall       0\n",
       "Spa                0\n",
       "VRDeck             0\n",
       "Deck               0\n",
       "Side               0\n",
       "dtype: int64"
      ]
     },
     "execution_count": 41,
     "metadata": {},
     "output_type": "execute_result"
    }
   ],
   "source": [
    "all_data.isna().sum().sort_values(ascending=False)"
   ]
  },
  {
   "cell_type": "markdown",
   "id": "f7e44ee7",
   "metadata": {
    "papermill": {
     "duration": 0.025031,
     "end_time": "2022-10-27T01:54:35.769041",
     "exception": false,
     "start_time": "2022-10-27T01:54:35.744010",
     "status": "completed"
    },
    "tags": []
   },
   "source": [
    "# 数据类型转化"
   ]
  },
  {
   "cell_type": "code",
   "execution_count": 42,
   "id": "c62c79e5",
   "metadata": {
    "execution": {
     "iopub.execute_input": "2022-10-27T01:54:35.822382Z",
     "iopub.status.busy": "2022-10-27T01:54:35.821560Z",
     "iopub.status.idle": "2022-10-27T01:54:35.841515Z",
     "shell.execute_reply": "2022-10-27T01:54:35.840577Z"
    },
    "papermill": {
     "duration": 0.049078,
     "end_time": "2022-10-27T01:54:35.843648",
     "exception": false,
     "start_time": "2022-10-27T01:54:35.794570",
     "status": "completed"
    },
    "tags": []
   },
   "outputs": [
    {
     "data": {
      "text/html": [
       "<div>\n",
       "<style scoped>\n",
       "    .dataframe tbody tr th:only-of-type {\n",
       "        vertical-align: middle;\n",
       "    }\n",
       "\n",
       "    .dataframe tbody tr th {\n",
       "        vertical-align: top;\n",
       "    }\n",
       "\n",
       "    .dataframe thead th {\n",
       "        text-align: right;\n",
       "    }\n",
       "</style>\n",
       "<table border=\"1\" class=\"dataframe\">\n",
       "  <thead>\n",
       "    <tr style=\"text-align: right;\">\n",
       "      <th></th>\n",
       "      <th>HomePlanet</th>\n",
       "      <th>CryoSleep</th>\n",
       "      <th>Destination</th>\n",
       "      <th>Age</th>\n",
       "      <th>VIP</th>\n",
       "      <th>RoomService</th>\n",
       "      <th>FoodCourt</th>\n",
       "      <th>ShoppingMall</th>\n",
       "      <th>Spa</th>\n",
       "      <th>VRDeck</th>\n",
       "      <th>Transported</th>\n",
       "      <th>Deck</th>\n",
       "      <th>Side</th>\n",
       "    </tr>\n",
       "  </thead>\n",
       "  <tbody>\n",
       "    <tr>\n",
       "      <th>0</th>\n",
       "      <td>Europa</td>\n",
       "      <td>False</td>\n",
       "      <td>TRAPPIST-1e</td>\n",
       "      <td>39.0</td>\n",
       "      <td>False</td>\n",
       "      <td>0.0</td>\n",
       "      <td>0.0</td>\n",
       "      <td>0.0</td>\n",
       "      <td>0.0</td>\n",
       "      <td>0.0</td>\n",
       "      <td>False</td>\n",
       "      <td>B</td>\n",
       "      <td>P</td>\n",
       "    </tr>\n",
       "    <tr>\n",
       "      <th>1</th>\n",
       "      <td>Earth</td>\n",
       "      <td>False</td>\n",
       "      <td>TRAPPIST-1e</td>\n",
       "      <td>24.0</td>\n",
       "      <td>False</td>\n",
       "      <td>109.0</td>\n",
       "      <td>9.0</td>\n",
       "      <td>25.0</td>\n",
       "      <td>549.0</td>\n",
       "      <td>44.0</td>\n",
       "      <td>True</td>\n",
       "      <td>F</td>\n",
       "      <td>S</td>\n",
       "    </tr>\n",
       "    <tr>\n",
       "      <th>2</th>\n",
       "      <td>Europa</td>\n",
       "      <td>False</td>\n",
       "      <td>TRAPPIST-1e</td>\n",
       "      <td>58.0</td>\n",
       "      <td>True</td>\n",
       "      <td>43.0</td>\n",
       "      <td>3576.0</td>\n",
       "      <td>0.0</td>\n",
       "      <td>6715.0</td>\n",
       "      <td>49.0</td>\n",
       "      <td>False</td>\n",
       "      <td>A</td>\n",
       "      <td>S</td>\n",
       "    </tr>\n",
       "    <tr>\n",
       "      <th>3</th>\n",
       "      <td>Europa</td>\n",
       "      <td>False</td>\n",
       "      <td>TRAPPIST-1e</td>\n",
       "      <td>33.0</td>\n",
       "      <td>False</td>\n",
       "      <td>0.0</td>\n",
       "      <td>1283.0</td>\n",
       "      <td>371.0</td>\n",
       "      <td>3329.0</td>\n",
       "      <td>193.0</td>\n",
       "      <td>False</td>\n",
       "      <td>A</td>\n",
       "      <td>S</td>\n",
       "    </tr>\n",
       "    <tr>\n",
       "      <th>4</th>\n",
       "      <td>Earth</td>\n",
       "      <td>False</td>\n",
       "      <td>TRAPPIST-1e</td>\n",
       "      <td>16.0</td>\n",
       "      <td>False</td>\n",
       "      <td>303.0</td>\n",
       "      <td>70.0</td>\n",
       "      <td>151.0</td>\n",
       "      <td>565.0</td>\n",
       "      <td>2.0</td>\n",
       "      <td>True</td>\n",
       "      <td>F</td>\n",
       "      <td>S</td>\n",
       "    </tr>\n",
       "  </tbody>\n",
       "</table>\n",
       "</div>"
      ],
      "text/plain": [
       "  HomePlanet  CryoSleep  Destination   Age    VIP  RoomService  FoodCourt  ShoppingMall     Spa  VRDeck Transported Deck Side\n",
       "0     Europa      False  TRAPPIST-1e  39.0  False          0.0        0.0           0.0     0.0     0.0       False    B    P\n",
       "1      Earth      False  TRAPPIST-1e  24.0  False        109.0        9.0          25.0   549.0    44.0        True    F    S\n",
       "2     Europa      False  TRAPPIST-1e  58.0   True         43.0     3576.0           0.0  6715.0    49.0       False    A    S\n",
       "3     Europa      False  TRAPPIST-1e  33.0  False          0.0     1283.0         371.0  3329.0   193.0       False    A    S\n",
       "4      Earth      False  TRAPPIST-1e  16.0  False        303.0       70.0         151.0   565.0     2.0        True    F    S"
      ]
     },
     "execution_count": 42,
     "metadata": {},
     "output_type": "execute_result"
    }
   ],
   "source": [
    "all_data.head()"
   ]
  },
  {
   "cell_type": "markdown",
   "id": "3fed0c14",
   "metadata": {
    "papermill": {
     "duration": 0.025346,
     "end_time": "2022-10-27T01:54:35.894666",
     "exception": false,
     "start_time": "2022-10-27T01:54:35.869320",
     "status": "completed"
    },
    "tags": []
   },
   "source": [
    "分类型特征（需要转换为数值）：HomePlanet、CryoSleep、Destination、VIP、Deck、Side\n",
    "<br>\n",
    "\n",
    "数值型特征（无需转换）：Age、RoomService、FoodCourt、ShoppingMall、Spa、VRDeck\n",
    "<br>\n",
    "\n",
    "目标特征（bool类型）：Transported"
   ]
  },
  {
   "cell_type": "code",
   "execution_count": 43,
   "id": "f6e0a2d9",
   "metadata": {
    "execution": {
     "iopub.execute_input": "2022-10-27T01:54:35.949047Z",
     "iopub.status.busy": "2022-10-27T01:54:35.948191Z",
     "iopub.status.idle": "2022-10-27T01:54:35.980676Z",
     "shell.execute_reply": "2022-10-27T01:54:35.979507Z"
    },
    "papermill": {
     "duration": 0.06259,
     "end_time": "2022-10-27T01:54:35.983171",
     "exception": false,
     "start_time": "2022-10-27T01:54:35.920581",
     "status": "completed"
    },
    "tags": []
   },
   "outputs": [
    {
     "data": {
      "text/html": [
       "<div>\n",
       "<style scoped>\n",
       "    .dataframe tbody tr th:only-of-type {\n",
       "        vertical-align: middle;\n",
       "    }\n",
       "\n",
       "    .dataframe tbody tr th {\n",
       "        vertical-align: top;\n",
       "    }\n",
       "\n",
       "    .dataframe thead th {\n",
       "        text-align: right;\n",
       "    }\n",
       "</style>\n",
       "<table border=\"1\" class=\"dataframe\">\n",
       "  <thead>\n",
       "    <tr style=\"text-align: right;\">\n",
       "      <th></th>\n",
       "      <th>HomePlanet</th>\n",
       "      <th>CryoSleep</th>\n",
       "      <th>Destination</th>\n",
       "      <th>Age</th>\n",
       "      <th>VIP</th>\n",
       "      <th>RoomService</th>\n",
       "      <th>FoodCourt</th>\n",
       "      <th>ShoppingMall</th>\n",
       "      <th>Spa</th>\n",
       "      <th>VRDeck</th>\n",
       "      <th>Transported</th>\n",
       "      <th>Deck</th>\n",
       "      <th>Side</th>\n",
       "    </tr>\n",
       "  </thead>\n",
       "  <tbody>\n",
       "    <tr>\n",
       "      <th>0</th>\n",
       "      <td>1</td>\n",
       "      <td>0</td>\n",
       "      <td>2</td>\n",
       "      <td>39.0</td>\n",
       "      <td>0</td>\n",
       "      <td>0.0</td>\n",
       "      <td>0.0</td>\n",
       "      <td>0.0</td>\n",
       "      <td>0.0</td>\n",
       "      <td>0.0</td>\n",
       "      <td>False</td>\n",
       "      <td>1</td>\n",
       "      <td>0</td>\n",
       "    </tr>\n",
       "    <tr>\n",
       "      <th>1</th>\n",
       "      <td>0</td>\n",
       "      <td>0</td>\n",
       "      <td>2</td>\n",
       "      <td>24.0</td>\n",
       "      <td>0</td>\n",
       "      <td>109.0</td>\n",
       "      <td>9.0</td>\n",
       "      <td>25.0</td>\n",
       "      <td>549.0</td>\n",
       "      <td>44.0</td>\n",
       "      <td>True</td>\n",
       "      <td>5</td>\n",
       "      <td>1</td>\n",
       "    </tr>\n",
       "    <tr>\n",
       "      <th>2</th>\n",
       "      <td>1</td>\n",
       "      <td>0</td>\n",
       "      <td>2</td>\n",
       "      <td>58.0</td>\n",
       "      <td>1</td>\n",
       "      <td>43.0</td>\n",
       "      <td>3576.0</td>\n",
       "      <td>0.0</td>\n",
       "      <td>6715.0</td>\n",
       "      <td>49.0</td>\n",
       "      <td>False</td>\n",
       "      <td>0</td>\n",
       "      <td>1</td>\n",
       "    </tr>\n",
       "    <tr>\n",
       "      <th>3</th>\n",
       "      <td>1</td>\n",
       "      <td>0</td>\n",
       "      <td>2</td>\n",
       "      <td>33.0</td>\n",
       "      <td>0</td>\n",
       "      <td>0.0</td>\n",
       "      <td>1283.0</td>\n",
       "      <td>371.0</td>\n",
       "      <td>3329.0</td>\n",
       "      <td>193.0</td>\n",
       "      <td>False</td>\n",
       "      <td>0</td>\n",
       "      <td>1</td>\n",
       "    </tr>\n",
       "    <tr>\n",
       "      <th>4</th>\n",
       "      <td>0</td>\n",
       "      <td>0</td>\n",
       "      <td>2</td>\n",
       "      <td>16.0</td>\n",
       "      <td>0</td>\n",
       "      <td>303.0</td>\n",
       "      <td>70.0</td>\n",
       "      <td>151.0</td>\n",
       "      <td>565.0</td>\n",
       "      <td>2.0</td>\n",
       "      <td>True</td>\n",
       "      <td>5</td>\n",
       "      <td>1</td>\n",
       "    </tr>\n",
       "  </tbody>\n",
       "</table>\n",
       "</div>"
      ],
      "text/plain": [
       "   HomePlanet  CryoSleep  Destination   Age  VIP  RoomService  FoodCourt  ShoppingMall     Spa  VRDeck Transported  Deck  Side\n",
       "0           1          0            2  39.0    0          0.0        0.0           0.0     0.0     0.0       False     1     0\n",
       "1           0          0            2  24.0    0        109.0        9.0          25.0   549.0    44.0        True     5     1\n",
       "2           1          0            2  58.0    1         43.0     3576.0           0.0  6715.0    49.0       False     0     1\n",
       "3           1          0            2  33.0    0          0.0     1283.0         371.0  3329.0   193.0       False     0     1\n",
       "4           0          0            2  16.0    0        303.0       70.0         151.0   565.0     2.0        True     5     1"
      ]
     },
     "execution_count": 43,
     "metadata": {},
     "output_type": "execute_result"
    }
   ],
   "source": [
    "categorical_col = ['HomePlanet', 'CryoSleep', 'Destination', 'VIP', 'Deck', 'Side']\n",
    "# 将非数字的标签分类字段编码为数字\n",
    "for col in categorical_col:\n",
    "    all_data[col] = all_data[col].astype(\"category\").cat.codes\n",
    "\n",
    "all_data.head()"
   ]
  },
  {
   "cell_type": "code",
   "execution_count": 44,
   "id": "728e8769",
   "metadata": {
    "execution": {
     "iopub.execute_input": "2022-10-27T01:54:36.037656Z",
     "iopub.status.busy": "2022-10-27T01:54:36.037182Z",
     "iopub.status.idle": "2022-10-27T01:54:36.266638Z",
     "shell.execute_reply": "2022-10-27T01:54:36.265345Z"
    },
    "papermill": {
     "duration": 0.259167,
     "end_time": "2022-10-27T01:54:36.268949",
     "exception": false,
     "start_time": "2022-10-27T01:54:36.009782",
     "status": "completed"
    },
    "tags": []
   },
   "outputs": [
    {
     "data": {
      "text/html": [
       "<div>\n",
       "<style scoped>\n",
       "    .dataframe tbody tr th:only-of-type {\n",
       "        vertical-align: middle;\n",
       "    }\n",
       "\n",
       "    .dataframe tbody tr th {\n",
       "        vertical-align: top;\n",
       "    }\n",
       "\n",
       "    .dataframe thead th {\n",
       "        text-align: right;\n",
       "    }\n",
       "</style>\n",
       "<table border=\"1\" class=\"dataframe\">\n",
       "  <thead>\n",
       "    <tr style=\"text-align: right;\">\n",
       "      <th></th>\n",
       "      <th>0</th>\n",
       "      <th>1</th>\n",
       "      <th>2</th>\n",
       "      <th>3</th>\n",
       "      <th>4</th>\n",
       "      <th>5</th>\n",
       "      <th>6</th>\n",
       "      <th>7</th>\n",
       "      <th>8</th>\n",
       "      <th>9</th>\n",
       "      <th>10</th>\n",
       "      <th>11</th>\n",
       "      <th>12</th>\n",
       "      <th>13</th>\n",
       "      <th>14</th>\n",
       "      <th>15</th>\n",
       "      <th>16</th>\n",
       "      <th>17</th>\n",
       "      <th>18</th>\n",
       "      <th>19</th>\n",
       "      <th>Age</th>\n",
       "      <th>RoomService</th>\n",
       "      <th>FoodCourt</th>\n",
       "      <th>ShoppingMall</th>\n",
       "      <th>Spa</th>\n",
       "      <th>VRDeck</th>\n",
       "      <th>Transported</th>\n",
       "    </tr>\n",
       "  </thead>\n",
       "  <tbody>\n",
       "    <tr>\n",
       "      <th>0</th>\n",
       "      <td>0.0</td>\n",
       "      <td>1.0</td>\n",
       "      <td>0.0</td>\n",
       "      <td>1.0</td>\n",
       "      <td>0.0</td>\n",
       "      <td>0.0</td>\n",
       "      <td>0.0</td>\n",
       "      <td>1.0</td>\n",
       "      <td>1.0</td>\n",
       "      <td>0.0</td>\n",
       "      <td>0.0</td>\n",
       "      <td>1.0</td>\n",
       "      <td>0.0</td>\n",
       "      <td>0.0</td>\n",
       "      <td>0.0</td>\n",
       "      <td>0.0</td>\n",
       "      <td>0.0</td>\n",
       "      <td>0.0</td>\n",
       "      <td>1.0</td>\n",
       "      <td>0.0</td>\n",
       "      <td>39.0</td>\n",
       "      <td>0.0</td>\n",
       "      <td>0.0</td>\n",
       "      <td>0.0</td>\n",
       "      <td>0.0</td>\n",
       "      <td>0.0</td>\n",
       "      <td>False</td>\n",
       "    </tr>\n",
       "    <tr>\n",
       "      <th>1</th>\n",
       "      <td>1.0</td>\n",
       "      <td>0.0</td>\n",
       "      <td>0.0</td>\n",
       "      <td>1.0</td>\n",
       "      <td>0.0</td>\n",
       "      <td>0.0</td>\n",
       "      <td>0.0</td>\n",
       "      <td>1.0</td>\n",
       "      <td>1.0</td>\n",
       "      <td>0.0</td>\n",
       "      <td>0.0</td>\n",
       "      <td>0.0</td>\n",
       "      <td>0.0</td>\n",
       "      <td>0.0</td>\n",
       "      <td>0.0</td>\n",
       "      <td>1.0</td>\n",
       "      <td>0.0</td>\n",
       "      <td>0.0</td>\n",
       "      <td>0.0</td>\n",
       "      <td>1.0</td>\n",
       "      <td>24.0</td>\n",
       "      <td>109.0</td>\n",
       "      <td>9.0</td>\n",
       "      <td>25.0</td>\n",
       "      <td>549.0</td>\n",
       "      <td>44.0</td>\n",
       "      <td>True</td>\n",
       "    </tr>\n",
       "    <tr>\n",
       "      <th>2</th>\n",
       "      <td>0.0</td>\n",
       "      <td>1.0</td>\n",
       "      <td>0.0</td>\n",
       "      <td>1.0</td>\n",
       "      <td>0.0</td>\n",
       "      <td>0.0</td>\n",
       "      <td>0.0</td>\n",
       "      <td>1.0</td>\n",
       "      <td>0.0</td>\n",
       "      <td>1.0</td>\n",
       "      <td>1.0</td>\n",
       "      <td>0.0</td>\n",
       "      <td>0.0</td>\n",
       "      <td>0.0</td>\n",
       "      <td>0.0</td>\n",
       "      <td>0.0</td>\n",
       "      <td>0.0</td>\n",
       "      <td>0.0</td>\n",
       "      <td>0.0</td>\n",
       "      <td>1.0</td>\n",
       "      <td>58.0</td>\n",
       "      <td>43.0</td>\n",
       "      <td>3576.0</td>\n",
       "      <td>0.0</td>\n",
       "      <td>6715.0</td>\n",
       "      <td>49.0</td>\n",
       "      <td>False</td>\n",
       "    </tr>\n",
       "    <tr>\n",
       "      <th>3</th>\n",
       "      <td>0.0</td>\n",
       "      <td>1.0</td>\n",
       "      <td>0.0</td>\n",
       "      <td>1.0</td>\n",
       "      <td>0.0</td>\n",
       "      <td>0.0</td>\n",
       "      <td>0.0</td>\n",
       "      <td>1.0</td>\n",
       "      <td>1.0</td>\n",
       "      <td>0.0</td>\n",
       "      <td>1.0</td>\n",
       "      <td>0.0</td>\n",
       "      <td>0.0</td>\n",
       "      <td>0.0</td>\n",
       "      <td>0.0</td>\n",
       "      <td>0.0</td>\n",
       "      <td>0.0</td>\n",
       "      <td>0.0</td>\n",
       "      <td>0.0</td>\n",
       "      <td>1.0</td>\n",
       "      <td>33.0</td>\n",
       "      <td>0.0</td>\n",
       "      <td>1283.0</td>\n",
       "      <td>371.0</td>\n",
       "      <td>3329.0</td>\n",
       "      <td>193.0</td>\n",
       "      <td>False</td>\n",
       "    </tr>\n",
       "    <tr>\n",
       "      <th>4</th>\n",
       "      <td>1.0</td>\n",
       "      <td>0.0</td>\n",
       "      <td>0.0</td>\n",
       "      <td>1.0</td>\n",
       "      <td>0.0</td>\n",
       "      <td>0.0</td>\n",
       "      <td>0.0</td>\n",
       "      <td>1.0</td>\n",
       "      <td>1.0</td>\n",
       "      <td>0.0</td>\n",
       "      <td>0.0</td>\n",
       "      <td>0.0</td>\n",
       "      <td>0.0</td>\n",
       "      <td>0.0</td>\n",
       "      <td>0.0</td>\n",
       "      <td>1.0</td>\n",
       "      <td>0.0</td>\n",
       "      <td>0.0</td>\n",
       "      <td>0.0</td>\n",
       "      <td>1.0</td>\n",
       "      <td>16.0</td>\n",
       "      <td>303.0</td>\n",
       "      <td>70.0</td>\n",
       "      <td>151.0</td>\n",
       "      <td>565.0</td>\n",
       "      <td>2.0</td>\n",
       "      <td>True</td>\n",
       "    </tr>\n",
       "  </tbody>\n",
       "</table>\n",
       "</div>"
      ],
      "text/plain": [
       "     0    1    2    3    4    5    6    7    8    9   10   11   12   13   14   15   16   17   18   19   Age  RoomService  FoodCourt  ShoppingMall     Spa  VRDeck Transported\n",
       "0  0.0  1.0  0.0  1.0  0.0  0.0  0.0  1.0  1.0  0.0  0.0  1.0  0.0  0.0  0.0  0.0  0.0  0.0  1.0  0.0  39.0          0.0        0.0           0.0     0.0     0.0       False\n",
       "1  1.0  0.0  0.0  1.0  0.0  0.0  0.0  1.0  1.0  0.0  0.0  0.0  0.0  0.0  0.0  1.0  0.0  0.0  0.0  1.0  24.0        109.0        9.0          25.0   549.0    44.0        True\n",
       "2  0.0  1.0  0.0  1.0  0.0  0.0  0.0  1.0  0.0  1.0  1.0  0.0  0.0  0.0  0.0  0.0  0.0  0.0  0.0  1.0  58.0         43.0     3576.0           0.0  6715.0    49.0       False\n",
       "3  0.0  1.0  0.0  1.0  0.0  0.0  0.0  1.0  1.0  0.0  1.0  0.0  0.0  0.0  0.0  0.0  0.0  0.0  0.0  1.0  33.0          0.0     1283.0         371.0  3329.0   193.0       False\n",
       "4  1.0  0.0  0.0  1.0  0.0  0.0  0.0  1.0  1.0  0.0  0.0  0.0  0.0  0.0  0.0  1.0  0.0  0.0  0.0  1.0  16.0        303.0       70.0         151.0   565.0     2.0        True"
      ]
     },
     "execution_count": 44,
     "metadata": {},
     "output_type": "execute_result"
    }
   ],
   "source": [
    "from sklearn.preprocessing import OneHotEncoder\n",
    "ohe = OneHotEncoder(categories='auto')\n",
    "\n",
    "# 独热编码分类列\n",
    "# 不过这里得到的是一个数组，因此后续要将它转换为 dataframe\n",
    "array_hot_encoded = ohe.fit_transform(all_data[categorical_col]).toarray()\n",
    "\n",
    "# 将数组转换为dataframe\n",
    "data_hot_encoded = pd.DataFrame(array_hot_encoded, index=all_data.index)\n",
    "\n",
    "# 得到其他不需要编码的字段\n",
    "data_other_cols = all_data.drop(columns=categorical_col)\n",
    "\n",
    "# 连接两个dataframe\n",
    "all_data = pd.concat([data_hot_encoded, data_other_cols], axis=1)\n",
    "\n",
    "all_data.head()"
   ]
  },
  {
   "cell_type": "code",
   "execution_count": 45,
   "id": "9dc198a5",
   "metadata": {
    "execution": {
     "iopub.execute_input": "2022-10-27T01:54:36.323603Z",
     "iopub.status.busy": "2022-10-27T01:54:36.323157Z",
     "iopub.status.idle": "2022-10-27T01:54:36.329100Z",
     "shell.execute_reply": "2022-10-27T01:54:36.327716Z"
    },
    "papermill": {
     "duration": 0.036102,
     "end_time": "2022-10-27T01:54:36.331441",
     "exception": false,
     "start_time": "2022-10-27T01:54:36.295339",
     "status": "completed"
    },
    "tags": []
   },
   "outputs": [],
   "source": [
    "# 将所有特征的列名称转换为 str\n",
    "all_data.columns = all_data.columns.astype(str)"
   ]
  },
  {
   "cell_type": "markdown",
   "id": "80f04de6",
   "metadata": {
    "papermill": {
     "duration": 0.027115,
     "end_time": "2022-10-27T01:54:36.384915",
     "exception": false,
     "start_time": "2022-10-27T01:54:36.357800",
     "status": "completed"
    },
    "tags": []
   },
   "source": [
    "# 拆分训练集和测试集"
   ]
  },
  {
   "cell_type": "code",
   "execution_count": 46,
   "id": "27db18bd",
   "metadata": {
    "execution": {
     "iopub.execute_input": "2022-10-27T01:54:36.441984Z",
     "iopub.status.busy": "2022-10-27T01:54:36.441561Z",
     "iopub.status.idle": "2022-10-27T01:54:36.448583Z",
     "shell.execute_reply": "2022-10-27T01:54:36.447413Z"
    },
    "papermill": {
     "duration": 0.038977,
     "end_time": "2022-10-27T01:54:36.451071",
     "exception": false,
     "start_time": "2022-10-27T01:54:36.412094",
     "status": "completed"
    },
    "tags": []
   },
   "outputs": [
    {
     "data": {
      "text/plain": [
       "((8693, 12), (4277, 11), (12970, 27))"
      ]
     },
     "execution_count": 46,
     "metadata": {},
     "output_type": "execute_result"
    }
   ],
   "source": [
    "train_data.shape, test_data.shape, all_data.shape"
   ]
  },
  {
   "cell_type": "code",
   "execution_count": 47,
   "id": "05fbdd0d",
   "metadata": {
    "execution": {
     "iopub.execute_input": "2022-10-27T01:54:36.506842Z",
     "iopub.status.busy": "2022-10-27T01:54:36.506431Z",
     "iopub.status.idle": "2022-10-27T01:54:36.513977Z",
     "shell.execute_reply": "2022-10-27T01:54:36.513153Z"
    },
    "papermill": {
     "duration": 0.03817,
     "end_time": "2022-10-27T01:54:36.516096",
     "exception": false,
     "start_time": "2022-10-27T01:54:36.477926",
     "status": "completed"
    },
    "tags": []
   },
   "outputs": [
    {
     "data": {
      "text/plain": [
       "((8693, 27), (4277, 27))"
      ]
     },
     "execution_count": 47,
     "metadata": {},
     "output_type": "execute_result"
    }
   ],
   "source": [
    "train_data = all_data.iloc[:8693, :]\n",
    "test_data = all_data.iloc[-4277:, :]\n",
    "train_data.shape, test_data.shape"
   ]
  },
  {
   "cell_type": "code",
   "execution_count": 48,
   "id": "3cd0ea2c",
   "metadata": {
    "execution": {
     "iopub.execute_input": "2022-10-27T01:54:36.571616Z",
     "iopub.status.busy": "2022-10-27T01:54:36.571180Z",
     "iopub.status.idle": "2022-10-27T01:54:36.578789Z",
     "shell.execute_reply": "2022-10-27T01:54:36.577607Z"
    },
    "papermill": {
     "duration": 0.038942,
     "end_time": "2022-10-27T01:54:36.581764",
     "exception": false,
     "start_time": "2022-10-27T01:54:36.542822",
     "status": "completed"
    },
    "tags": []
   },
   "outputs": [],
   "source": [
    "test_data.drop(['Transported'], axis=1, inplace=True)"
   ]
  },
  {
   "cell_type": "code",
   "execution_count": 49,
   "id": "9f8d4eaf",
   "metadata": {
    "execution": {
     "iopub.execute_input": "2022-10-27T01:54:36.639106Z",
     "iopub.status.busy": "2022-10-27T01:54:36.638710Z",
     "iopub.status.idle": "2022-10-27T01:54:36.676954Z",
     "shell.execute_reply": "2022-10-27T01:54:36.675669Z"
    },
    "papermill": {
     "duration": 0.070436,
     "end_time": "2022-10-27T01:54:36.679848",
     "exception": false,
     "start_time": "2022-10-27T01:54:36.609412",
     "status": "completed"
    },
    "tags": []
   },
   "outputs": [
    {
     "data": {
      "text/html": [
       "<div>\n",
       "<style scoped>\n",
       "    .dataframe tbody tr th:only-of-type {\n",
       "        vertical-align: middle;\n",
       "    }\n",
       "\n",
       "    .dataframe tbody tr th {\n",
       "        vertical-align: top;\n",
       "    }\n",
       "\n",
       "    .dataframe thead th {\n",
       "        text-align: right;\n",
       "    }\n",
       "</style>\n",
       "<table border=\"1\" class=\"dataframe\">\n",
       "  <thead>\n",
       "    <tr style=\"text-align: right;\">\n",
       "      <th></th>\n",
       "      <th>0</th>\n",
       "      <th>1</th>\n",
       "      <th>2</th>\n",
       "      <th>3</th>\n",
       "      <th>4</th>\n",
       "      <th>5</th>\n",
       "      <th>6</th>\n",
       "      <th>7</th>\n",
       "      <th>8</th>\n",
       "      <th>9</th>\n",
       "      <th>10</th>\n",
       "      <th>11</th>\n",
       "      <th>12</th>\n",
       "      <th>13</th>\n",
       "      <th>14</th>\n",
       "      <th>15</th>\n",
       "      <th>16</th>\n",
       "      <th>17</th>\n",
       "      <th>18</th>\n",
       "      <th>19</th>\n",
       "      <th>Age</th>\n",
       "      <th>RoomService</th>\n",
       "      <th>FoodCourt</th>\n",
       "      <th>ShoppingMall</th>\n",
       "      <th>Spa</th>\n",
       "      <th>VRDeck</th>\n",
       "    </tr>\n",
       "  </thead>\n",
       "  <tbody>\n",
       "    <tr>\n",
       "      <th>8693</th>\n",
       "      <td>1.0</td>\n",
       "      <td>0.0</td>\n",
       "      <td>0.0</td>\n",
       "      <td>0.0</td>\n",
       "      <td>1.0</td>\n",
       "      <td>0.0</td>\n",
       "      <td>0.0</td>\n",
       "      <td>1.0</td>\n",
       "      <td>1.0</td>\n",
       "      <td>0.0</td>\n",
       "      <td>0.0</td>\n",
       "      <td>0.0</td>\n",
       "      <td>0.0</td>\n",
       "      <td>0.0</td>\n",
       "      <td>0.0</td>\n",
       "      <td>0.0</td>\n",
       "      <td>1.0</td>\n",
       "      <td>0.0</td>\n",
       "      <td>0.0</td>\n",
       "      <td>1.0</td>\n",
       "      <td>27.0</td>\n",
       "      <td>0.0</td>\n",
       "      <td>0.0</td>\n",
       "      <td>0.0</td>\n",
       "      <td>0.0</td>\n",
       "      <td>0.0</td>\n",
       "    </tr>\n",
       "    <tr>\n",
       "      <th>8694</th>\n",
       "      <td>1.0</td>\n",
       "      <td>0.0</td>\n",
       "      <td>0.0</td>\n",
       "      <td>1.0</td>\n",
       "      <td>0.0</td>\n",
       "      <td>0.0</td>\n",
       "      <td>0.0</td>\n",
       "      <td>1.0</td>\n",
       "      <td>1.0</td>\n",
       "      <td>0.0</td>\n",
       "      <td>0.0</td>\n",
       "      <td>0.0</td>\n",
       "      <td>0.0</td>\n",
       "      <td>0.0</td>\n",
       "      <td>0.0</td>\n",
       "      <td>1.0</td>\n",
       "      <td>0.0</td>\n",
       "      <td>0.0</td>\n",
       "      <td>0.0</td>\n",
       "      <td>1.0</td>\n",
       "      <td>19.0</td>\n",
       "      <td>0.0</td>\n",
       "      <td>9.0</td>\n",
       "      <td>0.0</td>\n",
       "      <td>2823.0</td>\n",
       "      <td>0.0</td>\n",
       "    </tr>\n",
       "    <tr>\n",
       "      <th>8695</th>\n",
       "      <td>0.0</td>\n",
       "      <td>1.0</td>\n",
       "      <td>0.0</td>\n",
       "      <td>0.0</td>\n",
       "      <td>1.0</td>\n",
       "      <td>1.0</td>\n",
       "      <td>0.0</td>\n",
       "      <td>0.0</td>\n",
       "      <td>1.0</td>\n",
       "      <td>0.0</td>\n",
       "      <td>0.0</td>\n",
       "      <td>0.0</td>\n",
       "      <td>1.0</td>\n",
       "      <td>0.0</td>\n",
       "      <td>0.0</td>\n",
       "      <td>0.0</td>\n",
       "      <td>0.0</td>\n",
       "      <td>0.0</td>\n",
       "      <td>0.0</td>\n",
       "      <td>1.0</td>\n",
       "      <td>31.0</td>\n",
       "      <td>0.0</td>\n",
       "      <td>0.0</td>\n",
       "      <td>0.0</td>\n",
       "      <td>0.0</td>\n",
       "      <td>0.0</td>\n",
       "    </tr>\n",
       "    <tr>\n",
       "      <th>8696</th>\n",
       "      <td>0.0</td>\n",
       "      <td>1.0</td>\n",
       "      <td>0.0</td>\n",
       "      <td>1.0</td>\n",
       "      <td>0.0</td>\n",
       "      <td>0.0</td>\n",
       "      <td>0.0</td>\n",
       "      <td>1.0</td>\n",
       "      <td>1.0</td>\n",
       "      <td>0.0</td>\n",
       "      <td>0.0</td>\n",
       "      <td>0.0</td>\n",
       "      <td>1.0</td>\n",
       "      <td>0.0</td>\n",
       "      <td>0.0</td>\n",
       "      <td>0.0</td>\n",
       "      <td>0.0</td>\n",
       "      <td>0.0</td>\n",
       "      <td>0.0</td>\n",
       "      <td>1.0</td>\n",
       "      <td>38.0</td>\n",
       "      <td>0.0</td>\n",
       "      <td>6652.0</td>\n",
       "      <td>0.0</td>\n",
       "      <td>181.0</td>\n",
       "      <td>585.0</td>\n",
       "    </tr>\n",
       "    <tr>\n",
       "      <th>8697</th>\n",
       "      <td>1.0</td>\n",
       "      <td>0.0</td>\n",
       "      <td>0.0</td>\n",
       "      <td>1.0</td>\n",
       "      <td>0.0</td>\n",
       "      <td>0.0</td>\n",
       "      <td>0.0</td>\n",
       "      <td>1.0</td>\n",
       "      <td>1.0</td>\n",
       "      <td>0.0</td>\n",
       "      <td>0.0</td>\n",
       "      <td>0.0</td>\n",
       "      <td>0.0</td>\n",
       "      <td>0.0</td>\n",
       "      <td>0.0</td>\n",
       "      <td>1.0</td>\n",
       "      <td>0.0</td>\n",
       "      <td>0.0</td>\n",
       "      <td>0.0</td>\n",
       "      <td>1.0</td>\n",
       "      <td>20.0</td>\n",
       "      <td>10.0</td>\n",
       "      <td>0.0</td>\n",
       "      <td>635.0</td>\n",
       "      <td>0.0</td>\n",
       "      <td>0.0</td>\n",
       "    </tr>\n",
       "  </tbody>\n",
       "</table>\n",
       "</div>"
      ],
      "text/plain": [
       "        0    1    2    3    4    5    6    7    8    9   10   11   12   13   14   15   16   17   18   19   Age  RoomService  FoodCourt  ShoppingMall     Spa  VRDeck\n",
       "8693  1.0  0.0  0.0  0.0  1.0  0.0  0.0  1.0  1.0  0.0  0.0  0.0  0.0  0.0  0.0  0.0  1.0  0.0  0.0  1.0  27.0          0.0        0.0           0.0     0.0     0.0\n",
       "8694  1.0  0.0  0.0  1.0  0.0  0.0  0.0  1.0  1.0  0.0  0.0  0.0  0.0  0.0  0.0  1.0  0.0  0.0  0.0  1.0  19.0          0.0        9.0           0.0  2823.0     0.0\n",
       "8695  0.0  1.0  0.0  0.0  1.0  1.0  0.0  0.0  1.0  0.0  0.0  0.0  1.0  0.0  0.0  0.0  0.0  0.0  0.0  1.0  31.0          0.0        0.0           0.0     0.0     0.0\n",
       "8696  0.0  1.0  0.0  1.0  0.0  0.0  0.0  1.0  1.0  0.0  0.0  0.0  1.0  0.0  0.0  0.0  0.0  0.0  0.0  1.0  38.0          0.0     6652.0           0.0   181.0   585.0\n",
       "8697  1.0  0.0  0.0  1.0  0.0  0.0  0.0  1.0  1.0  0.0  0.0  0.0  0.0  0.0  0.0  1.0  0.0  0.0  0.0  1.0  20.0         10.0        0.0         635.0     0.0     0.0"
      ]
     },
     "execution_count": 49,
     "metadata": {},
     "output_type": "execute_result"
    }
   ],
   "source": [
    "test_data.head()"
   ]
  },
  {
   "cell_type": "code",
   "execution_count": 50,
   "id": "d41675b3",
   "metadata": {
    "execution": {
     "iopub.execute_input": "2022-10-27T01:54:36.737637Z",
     "iopub.status.busy": "2022-10-27T01:54:36.737222Z",
     "iopub.status.idle": "2022-10-27T01:54:36.777143Z",
     "shell.execute_reply": "2022-10-27T01:54:36.775963Z"
    },
    "papermill": {
     "duration": 0.071088,
     "end_time": "2022-10-27T01:54:36.779469",
     "exception": false,
     "start_time": "2022-10-27T01:54:36.708381",
     "status": "completed"
    },
    "tags": []
   },
   "outputs": [
    {
     "data": {
      "text/html": [
       "<div>\n",
       "<style scoped>\n",
       "    .dataframe tbody tr th:only-of-type {\n",
       "        vertical-align: middle;\n",
       "    }\n",
       "\n",
       "    .dataframe tbody tr th {\n",
       "        vertical-align: top;\n",
       "    }\n",
       "\n",
       "    .dataframe thead th {\n",
       "        text-align: right;\n",
       "    }\n",
       "</style>\n",
       "<table border=\"1\" class=\"dataframe\">\n",
       "  <thead>\n",
       "    <tr style=\"text-align: right;\">\n",
       "      <th></th>\n",
       "      <th>0</th>\n",
       "      <th>1</th>\n",
       "      <th>2</th>\n",
       "      <th>3</th>\n",
       "      <th>4</th>\n",
       "      <th>5</th>\n",
       "      <th>6</th>\n",
       "      <th>7</th>\n",
       "      <th>8</th>\n",
       "      <th>9</th>\n",
       "      <th>10</th>\n",
       "      <th>11</th>\n",
       "      <th>12</th>\n",
       "      <th>13</th>\n",
       "      <th>14</th>\n",
       "      <th>15</th>\n",
       "      <th>16</th>\n",
       "      <th>17</th>\n",
       "      <th>18</th>\n",
       "      <th>19</th>\n",
       "      <th>Age</th>\n",
       "      <th>RoomService</th>\n",
       "      <th>FoodCourt</th>\n",
       "      <th>ShoppingMall</th>\n",
       "      <th>Spa</th>\n",
       "      <th>VRDeck</th>\n",
       "      <th>Transported</th>\n",
       "    </tr>\n",
       "  </thead>\n",
       "  <tbody>\n",
       "    <tr>\n",
       "      <th>0</th>\n",
       "      <td>0.0</td>\n",
       "      <td>1.0</td>\n",
       "      <td>0.0</td>\n",
       "      <td>1.0</td>\n",
       "      <td>0.0</td>\n",
       "      <td>0.0</td>\n",
       "      <td>0.0</td>\n",
       "      <td>1.0</td>\n",
       "      <td>1.0</td>\n",
       "      <td>0.0</td>\n",
       "      <td>0.0</td>\n",
       "      <td>1.0</td>\n",
       "      <td>0.0</td>\n",
       "      <td>0.0</td>\n",
       "      <td>0.0</td>\n",
       "      <td>0.0</td>\n",
       "      <td>0.0</td>\n",
       "      <td>0.0</td>\n",
       "      <td>1.0</td>\n",
       "      <td>0.0</td>\n",
       "      <td>39.0</td>\n",
       "      <td>0.0</td>\n",
       "      <td>0.0</td>\n",
       "      <td>0.0</td>\n",
       "      <td>0.0</td>\n",
       "      <td>0.0</td>\n",
       "      <td>0</td>\n",
       "    </tr>\n",
       "    <tr>\n",
       "      <th>1</th>\n",
       "      <td>1.0</td>\n",
       "      <td>0.0</td>\n",
       "      <td>0.0</td>\n",
       "      <td>1.0</td>\n",
       "      <td>0.0</td>\n",
       "      <td>0.0</td>\n",
       "      <td>0.0</td>\n",
       "      <td>1.0</td>\n",
       "      <td>1.0</td>\n",
       "      <td>0.0</td>\n",
       "      <td>0.0</td>\n",
       "      <td>0.0</td>\n",
       "      <td>0.0</td>\n",
       "      <td>0.0</td>\n",
       "      <td>0.0</td>\n",
       "      <td>1.0</td>\n",
       "      <td>0.0</td>\n",
       "      <td>0.0</td>\n",
       "      <td>0.0</td>\n",
       "      <td>1.0</td>\n",
       "      <td>24.0</td>\n",
       "      <td>109.0</td>\n",
       "      <td>9.0</td>\n",
       "      <td>25.0</td>\n",
       "      <td>549.0</td>\n",
       "      <td>44.0</td>\n",
       "      <td>1</td>\n",
       "    </tr>\n",
       "    <tr>\n",
       "      <th>2</th>\n",
       "      <td>0.0</td>\n",
       "      <td>1.0</td>\n",
       "      <td>0.0</td>\n",
       "      <td>1.0</td>\n",
       "      <td>0.0</td>\n",
       "      <td>0.0</td>\n",
       "      <td>0.0</td>\n",
       "      <td>1.0</td>\n",
       "      <td>0.0</td>\n",
       "      <td>1.0</td>\n",
       "      <td>1.0</td>\n",
       "      <td>0.0</td>\n",
       "      <td>0.0</td>\n",
       "      <td>0.0</td>\n",
       "      <td>0.0</td>\n",
       "      <td>0.0</td>\n",
       "      <td>0.0</td>\n",
       "      <td>0.0</td>\n",
       "      <td>0.0</td>\n",
       "      <td>1.0</td>\n",
       "      <td>58.0</td>\n",
       "      <td>43.0</td>\n",
       "      <td>3576.0</td>\n",
       "      <td>0.0</td>\n",
       "      <td>6715.0</td>\n",
       "      <td>49.0</td>\n",
       "      <td>0</td>\n",
       "    </tr>\n",
       "    <tr>\n",
       "      <th>3</th>\n",
       "      <td>0.0</td>\n",
       "      <td>1.0</td>\n",
       "      <td>0.0</td>\n",
       "      <td>1.0</td>\n",
       "      <td>0.0</td>\n",
       "      <td>0.0</td>\n",
       "      <td>0.0</td>\n",
       "      <td>1.0</td>\n",
       "      <td>1.0</td>\n",
       "      <td>0.0</td>\n",
       "      <td>1.0</td>\n",
       "      <td>0.0</td>\n",
       "      <td>0.0</td>\n",
       "      <td>0.0</td>\n",
       "      <td>0.0</td>\n",
       "      <td>0.0</td>\n",
       "      <td>0.0</td>\n",
       "      <td>0.0</td>\n",
       "      <td>0.0</td>\n",
       "      <td>1.0</td>\n",
       "      <td>33.0</td>\n",
       "      <td>0.0</td>\n",
       "      <td>1283.0</td>\n",
       "      <td>371.0</td>\n",
       "      <td>3329.0</td>\n",
       "      <td>193.0</td>\n",
       "      <td>0</td>\n",
       "    </tr>\n",
       "    <tr>\n",
       "      <th>4</th>\n",
       "      <td>1.0</td>\n",
       "      <td>0.0</td>\n",
       "      <td>0.0</td>\n",
       "      <td>1.0</td>\n",
       "      <td>0.0</td>\n",
       "      <td>0.0</td>\n",
       "      <td>0.0</td>\n",
       "      <td>1.0</td>\n",
       "      <td>1.0</td>\n",
       "      <td>0.0</td>\n",
       "      <td>0.0</td>\n",
       "      <td>0.0</td>\n",
       "      <td>0.0</td>\n",
       "      <td>0.0</td>\n",
       "      <td>0.0</td>\n",
       "      <td>1.0</td>\n",
       "      <td>0.0</td>\n",
       "      <td>0.0</td>\n",
       "      <td>0.0</td>\n",
       "      <td>1.0</td>\n",
       "      <td>16.0</td>\n",
       "      <td>303.0</td>\n",
       "      <td>70.0</td>\n",
       "      <td>151.0</td>\n",
       "      <td>565.0</td>\n",
       "      <td>2.0</td>\n",
       "      <td>1</td>\n",
       "    </tr>\n",
       "  </tbody>\n",
       "</table>\n",
       "</div>"
      ],
      "text/plain": [
       "     0    1    2    3    4    5    6    7    8    9   10   11   12   13   14   15   16   17   18   19   Age  RoomService  FoodCourt  ShoppingMall     Spa  VRDeck  Transported\n",
       "0  0.0  1.0  0.0  1.0  0.0  0.0  0.0  1.0  1.0  0.0  0.0  1.0  0.0  0.0  0.0  0.0  0.0  0.0  1.0  0.0  39.0          0.0        0.0           0.0     0.0     0.0            0\n",
       "1  1.0  0.0  0.0  1.0  0.0  0.0  0.0  1.0  1.0  0.0  0.0  0.0  0.0  0.0  0.0  1.0  0.0  0.0  0.0  1.0  24.0        109.0        9.0          25.0   549.0    44.0            1\n",
       "2  0.0  1.0  0.0  1.0  0.0  0.0  0.0  1.0  0.0  1.0  1.0  0.0  0.0  0.0  0.0  0.0  0.0  0.0  0.0  1.0  58.0         43.0     3576.0           0.0  6715.0    49.0            0\n",
       "3  0.0  1.0  0.0  1.0  0.0  0.0  0.0  1.0  1.0  0.0  1.0  0.0  0.0  0.0  0.0  0.0  0.0  0.0  0.0  1.0  33.0          0.0     1283.0         371.0  3329.0   193.0            0\n",
       "4  1.0  0.0  0.0  1.0  0.0  0.0  0.0  1.0  1.0  0.0  0.0  0.0  0.0  0.0  0.0  1.0  0.0  0.0  0.0  1.0  16.0        303.0       70.0         151.0   565.0     2.0            1"
      ]
     },
     "execution_count": 50,
     "metadata": {},
     "output_type": "execute_result"
    }
   ],
   "source": [
    "train_data['Transported'] = train_data['Transported'].astype(\"category\").cat.codes\n",
    "train_data.head()"
   ]
  },
  {
   "cell_type": "markdown",
   "id": "a0070764",
   "metadata": {
    "papermill": {
     "duration": 0.02742,
     "end_time": "2022-10-27T01:54:36.834447",
     "exception": false,
     "start_time": "2022-10-27T01:54:36.807027",
     "status": "completed"
    },
    "tags": []
   },
   "source": [
    "# 清除异常值"
   ]
  },
  {
   "cell_type": "code",
   "execution_count": 51,
   "id": "a3eb35c7",
   "metadata": {
    "execution": {
     "iopub.execute_input": "2022-10-27T01:54:36.891821Z",
     "iopub.status.busy": "2022-10-27T01:54:36.891373Z",
     "iopub.status.idle": "2022-10-27T01:54:39.176335Z",
     "shell.execute_reply": "2022-10-27T01:54:39.175053Z"
    },
    "papermill": {
     "duration": 2.317124,
     "end_time": "2022-10-27T01:54:39.179219",
     "exception": false,
     "start_time": "2022-10-27T01:54:36.862095",
     "status": "completed"
    },
    "tags": []
   },
   "outputs": [
    {
     "data": {
      "text/html": [
       "<div>\n",
       "<style scoped>\n",
       "    .dataframe tbody tr th:only-of-type {\n",
       "        vertical-align: middle;\n",
       "    }\n",
       "\n",
       "    .dataframe tbody tr th {\n",
       "        vertical-align: top;\n",
       "    }\n",
       "\n",
       "    .dataframe thead th {\n",
       "        text-align: right;\n",
       "    }\n",
       "</style>\n",
       "<table border=\"1\" class=\"dataframe\">\n",
       "  <thead>\n",
       "    <tr style=\"text-align: right;\">\n",
       "      <th></th>\n",
       "      <th>0</th>\n",
       "      <th>1</th>\n",
       "      <th>2</th>\n",
       "      <th>3</th>\n",
       "      <th>4</th>\n",
       "      <th>5</th>\n",
       "      <th>6</th>\n",
       "      <th>7</th>\n",
       "      <th>8</th>\n",
       "      <th>9</th>\n",
       "      <th>10</th>\n",
       "      <th>11</th>\n",
       "      <th>12</th>\n",
       "      <th>13</th>\n",
       "      <th>14</th>\n",
       "      <th>15</th>\n",
       "      <th>16</th>\n",
       "      <th>17</th>\n",
       "      <th>18</th>\n",
       "      <th>19</th>\n",
       "      <th>Age</th>\n",
       "      <th>RoomService</th>\n",
       "      <th>FoodCourt</th>\n",
       "      <th>ShoppingMall</th>\n",
       "      <th>Spa</th>\n",
       "      <th>VRDeck</th>\n",
       "      <th>Transported</th>\n",
       "    </tr>\n",
       "  </thead>\n",
       "  <tbody>\n",
       "    <tr>\n",
       "      <th>0</th>\n",
       "      <td>0.0</td>\n",
       "      <td>1.0</td>\n",
       "      <td>0.0</td>\n",
       "      <td>1.0</td>\n",
       "      <td>0.0</td>\n",
       "      <td>0.0</td>\n",
       "      <td>0.0</td>\n",
       "      <td>1.0</td>\n",
       "      <td>1.0</td>\n",
       "      <td>0.0</td>\n",
       "      <td>0.0</td>\n",
       "      <td>1.0</td>\n",
       "      <td>0.0</td>\n",
       "      <td>0.0</td>\n",
       "      <td>0.0</td>\n",
       "      <td>0.0</td>\n",
       "      <td>0.0</td>\n",
       "      <td>0.0</td>\n",
       "      <td>1.0</td>\n",
       "      <td>0.0</td>\n",
       "      <td>39.0</td>\n",
       "      <td>0.0</td>\n",
       "      <td>0.0</td>\n",
       "      <td>0.0</td>\n",
       "      <td>0.0</td>\n",
       "      <td>0.0</td>\n",
       "      <td>0</td>\n",
       "    </tr>\n",
       "    <tr>\n",
       "      <th>1</th>\n",
       "      <td>1.0</td>\n",
       "      <td>0.0</td>\n",
       "      <td>0.0</td>\n",
       "      <td>1.0</td>\n",
       "      <td>0.0</td>\n",
       "      <td>0.0</td>\n",
       "      <td>0.0</td>\n",
       "      <td>1.0</td>\n",
       "      <td>1.0</td>\n",
       "      <td>0.0</td>\n",
       "      <td>0.0</td>\n",
       "      <td>0.0</td>\n",
       "      <td>0.0</td>\n",
       "      <td>0.0</td>\n",
       "      <td>0.0</td>\n",
       "      <td>1.0</td>\n",
       "      <td>0.0</td>\n",
       "      <td>0.0</td>\n",
       "      <td>0.0</td>\n",
       "      <td>1.0</td>\n",
       "      <td>24.0</td>\n",
       "      <td>109.0</td>\n",
       "      <td>9.0</td>\n",
       "      <td>25.0</td>\n",
       "      <td>549.0</td>\n",
       "      <td>44.0</td>\n",
       "      <td>1</td>\n",
       "    </tr>\n",
       "    <tr>\n",
       "      <th>2</th>\n",
       "      <td>0.0</td>\n",
       "      <td>1.0</td>\n",
       "      <td>0.0</td>\n",
       "      <td>1.0</td>\n",
       "      <td>0.0</td>\n",
       "      <td>0.0</td>\n",
       "      <td>0.0</td>\n",
       "      <td>1.0</td>\n",
       "      <td>0.0</td>\n",
       "      <td>1.0</td>\n",
       "      <td>1.0</td>\n",
       "      <td>0.0</td>\n",
       "      <td>0.0</td>\n",
       "      <td>0.0</td>\n",
       "      <td>0.0</td>\n",
       "      <td>0.0</td>\n",
       "      <td>0.0</td>\n",
       "      <td>0.0</td>\n",
       "      <td>0.0</td>\n",
       "      <td>1.0</td>\n",
       "      <td>58.0</td>\n",
       "      <td>43.0</td>\n",
       "      <td>3576.0</td>\n",
       "      <td>0.0</td>\n",
       "      <td>6715.0</td>\n",
       "      <td>49.0</td>\n",
       "      <td>0</td>\n",
       "    </tr>\n",
       "    <tr>\n",
       "      <th>3</th>\n",
       "      <td>0.0</td>\n",
       "      <td>1.0</td>\n",
       "      <td>0.0</td>\n",
       "      <td>1.0</td>\n",
       "      <td>0.0</td>\n",
       "      <td>0.0</td>\n",
       "      <td>0.0</td>\n",
       "      <td>1.0</td>\n",
       "      <td>1.0</td>\n",
       "      <td>0.0</td>\n",
       "      <td>1.0</td>\n",
       "      <td>0.0</td>\n",
       "      <td>0.0</td>\n",
       "      <td>0.0</td>\n",
       "      <td>0.0</td>\n",
       "      <td>0.0</td>\n",
       "      <td>0.0</td>\n",
       "      <td>0.0</td>\n",
       "      <td>0.0</td>\n",
       "      <td>1.0</td>\n",
       "      <td>33.0</td>\n",
       "      <td>0.0</td>\n",
       "      <td>1283.0</td>\n",
       "      <td>371.0</td>\n",
       "      <td>3329.0</td>\n",
       "      <td>193.0</td>\n",
       "      <td>0</td>\n",
       "    </tr>\n",
       "    <tr>\n",
       "      <th>4</th>\n",
       "      <td>1.0</td>\n",
       "      <td>0.0</td>\n",
       "      <td>0.0</td>\n",
       "      <td>1.0</td>\n",
       "      <td>0.0</td>\n",
       "      <td>0.0</td>\n",
       "      <td>0.0</td>\n",
       "      <td>1.0</td>\n",
       "      <td>1.0</td>\n",
       "      <td>0.0</td>\n",
       "      <td>0.0</td>\n",
       "      <td>0.0</td>\n",
       "      <td>0.0</td>\n",
       "      <td>0.0</td>\n",
       "      <td>0.0</td>\n",
       "      <td>1.0</td>\n",
       "      <td>0.0</td>\n",
       "      <td>0.0</td>\n",
       "      <td>0.0</td>\n",
       "      <td>1.0</td>\n",
       "      <td>16.0</td>\n",
       "      <td>303.0</td>\n",
       "      <td>70.0</td>\n",
       "      <td>151.0</td>\n",
       "      <td>565.0</td>\n",
       "      <td>2.0</td>\n",
       "      <td>1</td>\n",
       "    </tr>\n",
       "  </tbody>\n",
       "</table>\n",
       "</div>"
      ],
      "text/plain": [
       "     0    1    2    3    4    5    6    7    8    9   10   11   12   13   14   15   16   17   18   19   Age  RoomService  FoodCourt  ShoppingMall     Spa  VRDeck  Transported\n",
       "0  0.0  1.0  0.0  1.0  0.0  0.0  0.0  1.0  1.0  0.0  0.0  1.0  0.0  0.0  0.0  0.0  0.0  0.0  1.0  0.0  39.0          0.0        0.0           0.0     0.0     0.0            0\n",
       "1  1.0  0.0  0.0  1.0  0.0  0.0  0.0  1.0  1.0  0.0  0.0  0.0  0.0  0.0  0.0  1.0  0.0  0.0  0.0  1.0  24.0        109.0        9.0          25.0   549.0    44.0            1\n",
       "2  0.0  1.0  0.0  1.0  0.0  0.0  0.0  1.0  0.0  1.0  1.0  0.0  0.0  0.0  0.0  0.0  0.0  0.0  0.0  1.0  58.0         43.0     3576.0           0.0  6715.0    49.0            0\n",
       "3  0.0  1.0  0.0  1.0  0.0  0.0  0.0  1.0  1.0  0.0  1.0  0.0  0.0  0.0  0.0  0.0  0.0  0.0  0.0  1.0  33.0          0.0     1283.0         371.0  3329.0   193.0            0\n",
       "4  1.0  0.0  0.0  1.0  0.0  0.0  0.0  1.0  1.0  0.0  0.0  0.0  0.0  0.0  0.0  1.0  0.0  0.0  0.0  1.0  16.0        303.0       70.0         151.0   565.0     2.0            1"
      ]
     },
     "execution_count": 51,
     "metadata": {},
     "output_type": "execute_result"
    }
   ],
   "source": [
    "from sklearn.neighbors import LocalOutlierFactor\n",
    "import numpy as np\n",
    "\n",
    "clf = LocalOutlierFactor(contamination = 0.02)\n",
    "# 识别异常值:\n",
    "outliers = clf.fit_predict(train_data)\n",
    "# 删除异常值，其中 1 表示正常值，-1 表示异常值:\n",
    "train_data_cleaned = train_data[np.where(outliers == 1, True, False)]\n",
    "train_data_cleaned.head()"
   ]
  },
  {
   "cell_type": "code",
   "execution_count": 52,
   "id": "3bc180cb",
   "metadata": {
    "execution": {
     "iopub.execute_input": "2022-10-27T01:54:39.237142Z",
     "iopub.status.busy": "2022-10-27T01:54:39.236489Z",
     "iopub.status.idle": "2022-10-27T01:54:39.275582Z",
     "shell.execute_reply": "2022-10-27T01:54:39.274354Z"
    },
    "papermill": {
     "duration": 0.070986,
     "end_time": "2022-10-27T01:54:39.277968",
     "exception": false,
     "start_time": "2022-10-27T01:54:39.206982",
     "status": "completed"
    },
    "tags": []
   },
   "outputs": [
    {
     "data": {
      "text/html": [
       "<div>\n",
       "<style scoped>\n",
       "    .dataframe tbody tr th:only-of-type {\n",
       "        vertical-align: middle;\n",
       "    }\n",
       "\n",
       "    .dataframe tbody tr th {\n",
       "        vertical-align: top;\n",
       "    }\n",
       "\n",
       "    .dataframe thead th {\n",
       "        text-align: right;\n",
       "    }\n",
       "</style>\n",
       "<table border=\"1\" class=\"dataframe\">\n",
       "  <thead>\n",
       "    <tr style=\"text-align: right;\">\n",
       "      <th></th>\n",
       "      <th>0</th>\n",
       "      <th>1</th>\n",
       "      <th>2</th>\n",
       "      <th>3</th>\n",
       "      <th>4</th>\n",
       "      <th>5</th>\n",
       "      <th>6</th>\n",
       "      <th>7</th>\n",
       "      <th>8</th>\n",
       "      <th>9</th>\n",
       "      <th>10</th>\n",
       "      <th>11</th>\n",
       "      <th>12</th>\n",
       "      <th>13</th>\n",
       "      <th>14</th>\n",
       "      <th>15</th>\n",
       "      <th>16</th>\n",
       "      <th>17</th>\n",
       "      <th>18</th>\n",
       "      <th>19</th>\n",
       "      <th>Age</th>\n",
       "      <th>RoomService</th>\n",
       "      <th>FoodCourt</th>\n",
       "      <th>ShoppingMall</th>\n",
       "      <th>Spa</th>\n",
       "      <th>VRDeck</th>\n",
       "    </tr>\n",
       "  </thead>\n",
       "  <tbody>\n",
       "    <tr>\n",
       "      <th>0</th>\n",
       "      <td>0.0</td>\n",
       "      <td>1.0</td>\n",
       "      <td>0.0</td>\n",
       "      <td>1.0</td>\n",
       "      <td>0.0</td>\n",
       "      <td>0.0</td>\n",
       "      <td>0.0</td>\n",
       "      <td>1.0</td>\n",
       "      <td>1.0</td>\n",
       "      <td>0.0</td>\n",
       "      <td>0.0</td>\n",
       "      <td>1.0</td>\n",
       "      <td>0.0</td>\n",
       "      <td>0.0</td>\n",
       "      <td>0.0</td>\n",
       "      <td>0.0</td>\n",
       "      <td>0.0</td>\n",
       "      <td>0.0</td>\n",
       "      <td>1.0</td>\n",
       "      <td>0.0</td>\n",
       "      <td>39.0</td>\n",
       "      <td>0.0</td>\n",
       "      <td>0.0</td>\n",
       "      <td>0.0</td>\n",
       "      <td>0.0</td>\n",
       "      <td>0.0</td>\n",
       "    </tr>\n",
       "    <tr>\n",
       "      <th>1</th>\n",
       "      <td>1.0</td>\n",
       "      <td>0.0</td>\n",
       "      <td>0.0</td>\n",
       "      <td>1.0</td>\n",
       "      <td>0.0</td>\n",
       "      <td>0.0</td>\n",
       "      <td>0.0</td>\n",
       "      <td>1.0</td>\n",
       "      <td>1.0</td>\n",
       "      <td>0.0</td>\n",
       "      <td>0.0</td>\n",
       "      <td>0.0</td>\n",
       "      <td>0.0</td>\n",
       "      <td>0.0</td>\n",
       "      <td>0.0</td>\n",
       "      <td>1.0</td>\n",
       "      <td>0.0</td>\n",
       "      <td>0.0</td>\n",
       "      <td>0.0</td>\n",
       "      <td>1.0</td>\n",
       "      <td>24.0</td>\n",
       "      <td>109.0</td>\n",
       "      <td>9.0</td>\n",
       "      <td>25.0</td>\n",
       "      <td>549.0</td>\n",
       "      <td>44.0</td>\n",
       "    </tr>\n",
       "    <tr>\n",
       "      <th>2</th>\n",
       "      <td>0.0</td>\n",
       "      <td>1.0</td>\n",
       "      <td>0.0</td>\n",
       "      <td>1.0</td>\n",
       "      <td>0.0</td>\n",
       "      <td>0.0</td>\n",
       "      <td>0.0</td>\n",
       "      <td>1.0</td>\n",
       "      <td>0.0</td>\n",
       "      <td>1.0</td>\n",
       "      <td>1.0</td>\n",
       "      <td>0.0</td>\n",
       "      <td>0.0</td>\n",
       "      <td>0.0</td>\n",
       "      <td>0.0</td>\n",
       "      <td>0.0</td>\n",
       "      <td>0.0</td>\n",
       "      <td>0.0</td>\n",
       "      <td>0.0</td>\n",
       "      <td>1.0</td>\n",
       "      <td>58.0</td>\n",
       "      <td>43.0</td>\n",
       "      <td>3576.0</td>\n",
       "      <td>0.0</td>\n",
       "      <td>6715.0</td>\n",
       "      <td>49.0</td>\n",
       "    </tr>\n",
       "    <tr>\n",
       "      <th>3</th>\n",
       "      <td>0.0</td>\n",
       "      <td>1.0</td>\n",
       "      <td>0.0</td>\n",
       "      <td>1.0</td>\n",
       "      <td>0.0</td>\n",
       "      <td>0.0</td>\n",
       "      <td>0.0</td>\n",
       "      <td>1.0</td>\n",
       "      <td>1.0</td>\n",
       "      <td>0.0</td>\n",
       "      <td>1.0</td>\n",
       "      <td>0.0</td>\n",
       "      <td>0.0</td>\n",
       "      <td>0.0</td>\n",
       "      <td>0.0</td>\n",
       "      <td>0.0</td>\n",
       "      <td>0.0</td>\n",
       "      <td>0.0</td>\n",
       "      <td>0.0</td>\n",
       "      <td>1.0</td>\n",
       "      <td>33.0</td>\n",
       "      <td>0.0</td>\n",
       "      <td>1283.0</td>\n",
       "      <td>371.0</td>\n",
       "      <td>3329.0</td>\n",
       "      <td>193.0</td>\n",
       "    </tr>\n",
       "    <tr>\n",
       "      <th>4</th>\n",
       "      <td>1.0</td>\n",
       "      <td>0.0</td>\n",
       "      <td>0.0</td>\n",
       "      <td>1.0</td>\n",
       "      <td>0.0</td>\n",
       "      <td>0.0</td>\n",
       "      <td>0.0</td>\n",
       "      <td>1.0</td>\n",
       "      <td>1.0</td>\n",
       "      <td>0.0</td>\n",
       "      <td>0.0</td>\n",
       "      <td>0.0</td>\n",
       "      <td>0.0</td>\n",
       "      <td>0.0</td>\n",
       "      <td>0.0</td>\n",
       "      <td>1.0</td>\n",
       "      <td>0.0</td>\n",
       "      <td>0.0</td>\n",
       "      <td>0.0</td>\n",
       "      <td>1.0</td>\n",
       "      <td>16.0</td>\n",
       "      <td>303.0</td>\n",
       "      <td>70.0</td>\n",
       "      <td>151.0</td>\n",
       "      <td>565.0</td>\n",
       "      <td>2.0</td>\n",
       "    </tr>\n",
       "  </tbody>\n",
       "</table>\n",
       "</div>"
      ],
      "text/plain": [
       "     0    1    2    3    4    5    6    7    8    9   10   11   12   13   14   15   16   17   18   19   Age  RoomService  FoodCourt  ShoppingMall     Spa  VRDeck\n",
       "0  0.0  1.0  0.0  1.0  0.0  0.0  0.0  1.0  1.0  0.0  0.0  1.0  0.0  0.0  0.0  0.0  0.0  0.0  1.0  0.0  39.0          0.0        0.0           0.0     0.0     0.0\n",
       "1  1.0  0.0  0.0  1.0  0.0  0.0  0.0  1.0  1.0  0.0  0.0  0.0  0.0  0.0  0.0  1.0  0.0  0.0  0.0  1.0  24.0        109.0        9.0          25.0   549.0    44.0\n",
       "2  0.0  1.0  0.0  1.0  0.0  0.0  0.0  1.0  0.0  1.0  1.0  0.0  0.0  0.0  0.0  0.0  0.0  0.0  0.0  1.0  58.0         43.0     3576.0           0.0  6715.0    49.0\n",
       "3  0.0  1.0  0.0  1.0  0.0  0.0  0.0  1.0  1.0  0.0  1.0  0.0  0.0  0.0  0.0  0.0  0.0  0.0  0.0  1.0  33.0          0.0     1283.0         371.0  3329.0   193.0\n",
       "4  1.0  0.0  0.0  1.0  0.0  0.0  0.0  1.0  1.0  0.0  0.0  0.0  0.0  0.0  0.0  1.0  0.0  0.0  0.0  1.0  16.0        303.0       70.0         151.0   565.0     2.0"
      ]
     },
     "execution_count": 52,
     "metadata": {},
     "output_type": "execute_result"
    }
   ],
   "source": [
    "x_train = train_data_cleaned.drop('Transported', axis = 1)\n",
    "x_train.head()"
   ]
  },
  {
   "cell_type": "code",
   "execution_count": 53,
   "id": "1ded6b73",
   "metadata": {
    "execution": {
     "iopub.execute_input": "2022-10-27T01:54:39.338468Z",
     "iopub.status.busy": "2022-10-27T01:54:39.337781Z",
     "iopub.status.idle": "2022-10-27T01:54:39.349132Z",
     "shell.execute_reply": "2022-10-27T01:54:39.347893Z"
    },
    "papermill": {
     "duration": 0.0448,
     "end_time": "2022-10-27T01:54:39.351548",
     "exception": false,
     "start_time": "2022-10-27T01:54:39.306748",
     "status": "completed"
    },
    "tags": []
   },
   "outputs": [
    {
     "data": {
      "text/html": [
       "<div>\n",
       "<style scoped>\n",
       "    .dataframe tbody tr th:only-of-type {\n",
       "        vertical-align: middle;\n",
       "    }\n",
       "\n",
       "    .dataframe tbody tr th {\n",
       "        vertical-align: top;\n",
       "    }\n",
       "\n",
       "    .dataframe thead th {\n",
       "        text-align: right;\n",
       "    }\n",
       "</style>\n",
       "<table border=\"1\" class=\"dataframe\">\n",
       "  <thead>\n",
       "    <tr style=\"text-align: right;\">\n",
       "      <th></th>\n",
       "      <th>Transported</th>\n",
       "    </tr>\n",
       "  </thead>\n",
       "  <tbody>\n",
       "    <tr>\n",
       "      <th>0</th>\n",
       "      <td>0</td>\n",
       "    </tr>\n",
       "    <tr>\n",
       "      <th>1</th>\n",
       "      <td>1</td>\n",
       "    </tr>\n",
       "    <tr>\n",
       "      <th>2</th>\n",
       "      <td>0</td>\n",
       "    </tr>\n",
       "    <tr>\n",
       "      <th>3</th>\n",
       "      <td>0</td>\n",
       "    </tr>\n",
       "    <tr>\n",
       "      <th>4</th>\n",
       "      <td>1</td>\n",
       "    </tr>\n",
       "  </tbody>\n",
       "</table>\n",
       "</div>"
      ],
      "text/plain": [
       "   Transported\n",
       "0            0\n",
       "1            1\n",
       "2            0\n",
       "3            0\n",
       "4            1"
      ]
     },
     "execution_count": 53,
     "metadata": {},
     "output_type": "execute_result"
    }
   ],
   "source": [
    "y_train = train_data_cleaned[['Transported']]\n",
    "y_train.head()"
   ]
  },
  {
   "cell_type": "code",
   "execution_count": 54,
   "id": "721815b9",
   "metadata": {
    "execution": {
     "iopub.execute_input": "2022-10-27T01:54:39.412376Z",
     "iopub.status.busy": "2022-10-27T01:54:39.411695Z",
     "iopub.status.idle": "2022-10-27T01:54:39.418920Z",
     "shell.execute_reply": "2022-10-27T01:54:39.418014Z"
    },
    "papermill": {
     "duration": 0.04047,
     "end_time": "2022-10-27T01:54:39.421124",
     "exception": false,
     "start_time": "2022-10-27T01:54:39.380654",
     "status": "completed"
    },
    "tags": []
   },
   "outputs": [
    {
     "data": {
      "text/plain": [
       "((8519, 26), (8519, 1))"
      ]
     },
     "execution_count": 54,
     "metadata": {},
     "output_type": "execute_result"
    }
   ],
   "source": [
    "x_train.shape, y_train.shape"
   ]
  },
  {
   "cell_type": "markdown",
   "id": "797cec52",
   "metadata": {
    "papermill": {
     "duration": 0.028392,
     "end_time": "2022-10-27T01:54:39.478511",
     "exception": false,
     "start_time": "2022-10-27T01:54:39.450119",
     "status": "completed"
    },
    "tags": []
   },
   "source": [
    "# 平衡标签和样本"
   ]
  },
  {
   "cell_type": "code",
   "execution_count": 55,
   "id": "0e86d782",
   "metadata": {
    "execution": {
     "iopub.execute_input": "2022-10-27T01:54:39.538893Z",
     "iopub.status.busy": "2022-10-27T01:54:39.538183Z",
     "iopub.status.idle": "2022-10-27T01:54:39.543137Z",
     "shell.execute_reply": "2022-10-27T01:54:39.542346Z"
    },
    "papermill": {
     "duration": 0.037627,
     "end_time": "2022-10-27T01:54:39.545485",
     "exception": false,
     "start_time": "2022-10-27T01:54:39.507858",
     "status": "completed"
    },
    "tags": []
   },
   "outputs": [],
   "source": [
    "# from imblearn.over_sampling import SMOTE\n",
    "\n",
    "# smote = SMOTE( random_state=42)\n",
    "\n",
    "# print(y_train.value_counts())\n",
    "# x_resampled, y_resampled = smote.fit_resample(x_train,y_train)\n",
    "# print(y_resampled.value_counts())\n",
    "\n",
    "# x_train = x_resampled\n",
    "# y_train = y_resampled"
   ]
  },
  {
   "cell_type": "markdown",
   "id": "87d85b45",
   "metadata": {
    "papermill": {
     "duration": 0.028057,
     "end_time": "2022-10-27T01:54:39.602063",
     "exception": false,
     "start_time": "2022-10-27T01:54:39.574006",
     "status": "completed"
    },
    "tags": []
   },
   "source": [
    "# 模型融合"
   ]
  },
  {
   "cell_type": "code",
   "execution_count": 56,
   "id": "d5e7ace2",
   "metadata": {
    "execution": {
     "iopub.execute_input": "2022-10-27T01:54:39.661527Z",
     "iopub.status.busy": "2022-10-27T01:54:39.660819Z",
     "iopub.status.idle": "2022-10-27T01:54:41.466129Z",
     "shell.execute_reply": "2022-10-27T01:54:41.464642Z"
    },
    "papermill": {
     "duration": 1.838901,
     "end_time": "2022-10-27T01:54:41.469481",
     "exception": false,
     "start_time": "2022-10-27T01:54:39.630580",
     "status": "completed"
    },
    "tags": []
   },
   "outputs": [
    {
     "data": {
      "text/html": [
       "<style type='text/css'>\n",
       ".datatable table.frame { margin-bottom: 0; }\n",
       ".datatable table.frame thead { border-bottom: none; }\n",
       ".datatable table.frame tr.coltypes td {  color: #FFFFFF;  line-height: 6px;  padding: 0 0.5em;}\n",
       ".datatable .bool    { background: #DDDD99; }\n",
       ".datatable .object  { background: #565656; }\n",
       ".datatable .int     { background: #5D9E5D; }\n",
       ".datatable .float   { background: #4040CC; }\n",
       ".datatable .str     { background: #CC4040; }\n",
       ".datatable .time    { background: #40CC40; }\n",
       ".datatable .row_index {  background: var(--jp-border-color3);  border-right: 1px solid var(--jp-border-color0);  color: var(--jp-ui-font-color3);  font-size: 9px;}\n",
       ".datatable .frame tbody td { text-align: left; }\n",
       ".datatable .frame tr.coltypes .row_index {  background: var(--jp-border-color0);}\n",
       ".datatable th:nth-child(2) { padding-left: 12px; }\n",
       ".datatable .hellipsis {  color: var(--jp-cell-editor-border-color);}\n",
       ".datatable .vellipsis {  background: var(--jp-layout-color0);  color: var(--jp-cell-editor-border-color);}\n",
       ".datatable .na {  color: var(--jp-cell-editor-border-color);  font-size: 80%;}\n",
       ".datatable .sp {  opacity: 0.25;}\n",
       ".datatable .footer { font-size: 9px; }\n",
       ".datatable .frame_dimensions {  background: var(--jp-border-color3);  border-top: 1px solid var(--jp-border-color0);  color: var(--jp-ui-font-color3);  display: inline-block;  opacity: 0.6;  padding: 1px 10px 1px 5px;}\n",
       "</style>\n"
      ],
      "text/plain": [
       "<IPython.core.display.HTML object>"
      ]
     },
     "metadata": {},
     "output_type": "display_data"
    }
   ],
   "source": [
    "# 导入模型\n",
    "from sklearn.naive_bayes import GaussianNB\n",
    "from sklearn.neighbors import KNeighborsClassifier\n",
    "from sklearn.ensemble import RandomForestClassifier\n",
    "from sklearn.tree import DecisionTreeClassifier\n",
    "from xgboost import XGBClassifier\n",
    "from lightgbm import LGBMClassifier\n",
    "from catboost import CatBoostClassifier\n",
    "from sklearn.ensemble import AdaBoostClassifier\n",
    "from sklearn.ensemble import GradientBoostingClassifier\n",
    "from sklearn.svm import LinearSVC\n",
    "from sklearn.linear_model import LogisticRegression\n",
    "from sklearn.preprocessing import StandardScaler\n",
    "from sklearn.pipeline import make_pipeline\n",
    "from sklearn.ensemble import StackingClassifier"
   ]
  },
  {
   "cell_type": "code",
   "execution_count": 57,
   "id": "01976825",
   "metadata": {
    "execution": {
     "iopub.execute_input": "2022-10-27T01:54:41.528830Z",
     "iopub.status.busy": "2022-10-27T01:54:41.528415Z",
     "iopub.status.idle": "2022-10-27T01:54:41.534413Z",
     "shell.execute_reply": "2022-10-27T01:54:41.533064Z"
    },
    "papermill": {
     "duration": 0.038499,
     "end_time": "2022-10-27T01:54:41.536729",
     "exception": false,
     "start_time": "2022-10-27T01:54:41.498230",
     "status": "completed"
    },
    "tags": []
   },
   "outputs": [],
   "source": [
    "# 网格搜索用于寻找最优参数\n",
    "from sklearn.model_selection import GridSearchCV\n",
    "\n",
    "cv_params = {'n_estimators': [400, 500, 600, 700, 800]}"
   ]
  },
  {
   "cell_type": "code",
   "execution_count": 58,
   "id": "34cfe774",
   "metadata": {
    "execution": {
     "iopub.execute_input": "2022-10-27T01:54:41.597219Z",
     "iopub.status.busy": "2022-10-27T01:54:41.596504Z",
     "iopub.status.idle": "2022-10-27T01:54:41.622005Z",
     "shell.execute_reply": "2022-10-27T01:54:41.620574Z"
    },
    "papermill": {
     "duration": 0.058442,
     "end_time": "2022-10-27T01:54:41.624815",
     "exception": false,
     "start_time": "2022-10-27T01:54:41.566373",
     "status": "completed"
    },
    "tags": []
   },
   "outputs": [],
   "source": [
    "estimators = [\n",
    "    ('rf', GridSearchCV(estimator=RandomForestClassifier(n_estimators=10, random_state=42), param_grid=cv_params, scoring='r2', cv=5, verbose=1, n_jobs=4)),\n",
    "    ('svr', make_pipeline(StandardScaler(),LinearSVC(random_state=42))),\n",
    "    ('gn', GaussianNB()),\n",
    "    ('knn', KNeighborsClassifier()),\n",
    "    ('dt', DecisionTreeClassifier()),\n",
    "    ('xgb', GridSearchCV(estimator=XGBClassifier(), param_grid=cv_params, scoring='r2', cv=5, verbose=1, n_jobs=4)),\n",
    "    ('lgbm', LGBMClassifier(objective='binary')),\n",
    "    ('catB', GridSearchCV(estimator=CatBoostClassifier(verbose = 0 ), param_grid=cv_params, scoring='r2', cv=5, verbose=1, n_jobs=4)),\n",
    "    ('adaB', GradientBoostingClassifier())\n",
    "]\n",
    "\n",
    "clf = StackingClassifier(\n",
    "    estimators=estimators, final_estimator=LogisticRegression(solver='lbfgs', max_iter=3000)\n",
    ")"
   ]
  },
  {
   "cell_type": "code",
   "execution_count": 59,
   "id": "3a522593",
   "metadata": {
    "execution": {
     "iopub.execute_input": "2022-10-27T01:54:41.687166Z",
     "iopub.status.busy": "2022-10-27T01:54:41.686683Z",
     "iopub.status.idle": "2022-10-27T02:14:27.829053Z",
     "shell.execute_reply": "2022-10-27T02:14:27.827597Z"
    },
    "papermill": {
     "duration": 1186.178472,
     "end_time": "2022-10-27T02:14:27.834038",
     "exception": false,
     "start_time": "2022-10-27T01:54:41.655566",
     "status": "completed"
    },
    "tags": []
   },
   "outputs": [
    {
     "name": "stdout",
     "output_type": "stream",
     "text": [
      "Fitting 5 folds for each of 5 candidates, totalling 25 fits\n",
      "Fitting 5 folds for each of 5 candidates, totalling 25 fits\n",
      "Fitting 5 folds for each of 5 candidates, totalling 25 fits\n",
      "Fitting 5 folds for each of 5 candidates, totalling 25 fits\n",
      "Fitting 5 folds for each of 5 candidates, totalling 25 fits\n",
      "Fitting 5 folds for each of 5 candidates, totalling 25 fits\n",
      "Fitting 5 folds for each of 5 candidates, totalling 25 fits\n",
      "Fitting 5 folds for each of 5 candidates, totalling 25 fits\n",
      "Fitting 5 folds for each of 5 candidates, totalling 25 fits\n",
      "Fitting 5 folds for each of 5 candidates, totalling 25 fits\n",
      "Fitting 5 folds for each of 5 candidates, totalling 25 fits\n",
      "Fitting 5 folds for each of 5 candidates, totalling 25 fits\n",
      "Fitting 5 folds for each of 5 candidates, totalling 25 fits\n",
      "Fitting 5 folds for each of 5 candidates, totalling 25 fits\n",
      "Fitting 5 folds for each of 5 candidates, totalling 25 fits\n",
      "Fitting 5 folds for each of 5 candidates, totalling 25 fits\n",
      "Fitting 5 folds for each of 5 candidates, totalling 25 fits\n",
      "Fitting 5 folds for each of 5 candidates, totalling 25 fits\n"
     ]
    }
   ],
   "source": [
    "clf.fit(x_train, y_train)\n",
    "predictions = clf.predict(test_data.values)"
   ]
  },
  {
   "cell_type": "markdown",
   "id": "0e02c8b7",
   "metadata": {
    "papermill": {
     "duration": 0.0477,
     "end_time": "2022-10-27T02:14:27.960654",
     "exception": false,
     "start_time": "2022-10-27T02:14:27.912954",
     "status": "completed"
    },
    "tags": []
   },
   "source": [
    "# 提交结果"
   ]
  },
  {
   "cell_type": "code",
   "execution_count": 60,
   "id": "2fda97f5",
   "metadata": {
    "execution": {
     "iopub.execute_input": "2022-10-27T02:14:28.023007Z",
     "iopub.status.busy": "2022-10-27T02:14:28.022563Z",
     "iopub.status.idle": "2022-10-27T02:14:28.055573Z",
     "shell.execute_reply": "2022-10-27T02:14:28.054127Z"
    },
    "papermill": {
     "duration": 0.067641,
     "end_time": "2022-10-27T02:14:28.058426",
     "exception": false,
     "start_time": "2022-10-27T02:14:27.990785",
     "status": "completed"
    },
    "tags": []
   },
   "outputs": [
    {
     "data": {
      "text/html": [
       "<div>\n",
       "<style scoped>\n",
       "    .dataframe tbody tr th:only-of-type {\n",
       "        vertical-align: middle;\n",
       "    }\n",
       "\n",
       "    .dataframe tbody tr th {\n",
       "        vertical-align: top;\n",
       "    }\n",
       "\n",
       "    .dataframe thead th {\n",
       "        text-align: right;\n",
       "    }\n",
       "</style>\n",
       "<table border=\"1\" class=\"dataframe\">\n",
       "  <thead>\n",
       "    <tr style=\"text-align: right;\">\n",
       "      <th></th>\n",
       "      <th>PassengerId</th>\n",
       "      <th>Transported</th>\n",
       "    </tr>\n",
       "  </thead>\n",
       "  <tbody>\n",
       "    <tr>\n",
       "      <th>0</th>\n",
       "      <td>0013_01</td>\n",
       "      <td>1</td>\n",
       "    </tr>\n",
       "    <tr>\n",
       "      <th>1</th>\n",
       "      <td>0018_01</td>\n",
       "      <td>0</td>\n",
       "    </tr>\n",
       "    <tr>\n",
       "      <th>2</th>\n",
       "      <td>0019_01</td>\n",
       "      <td>1</td>\n",
       "    </tr>\n",
       "    <tr>\n",
       "      <th>3</th>\n",
       "      <td>0021_01</td>\n",
       "      <td>1</td>\n",
       "    </tr>\n",
       "    <tr>\n",
       "      <th>4</th>\n",
       "      <td>0023_01</td>\n",
       "      <td>1</td>\n",
       "    </tr>\n",
       "  </tbody>\n",
       "</table>\n",
       "</div>"
      ],
      "text/plain": [
       "  PassengerId  Transported\n",
       "0     0013_01            1\n",
       "1     0018_01            0\n",
       "2     0019_01            1\n",
       "3     0021_01            1\n",
       "4     0023_01            1"
      ]
     },
     "execution_count": 60,
     "metadata": {},
     "output_type": "execute_result"
    }
   ],
   "source": [
    "sub = pd.DataFrame()\n",
    "sub['PassengerId'] = pd.read_csv(\"../input/spaceship-titanic/test.csv\", usecols=['PassengerId'])\n",
    "sub['Transported'] = predictions\n",
    "sub.head()"
   ]
  },
  {
   "cell_type": "code",
   "execution_count": 61,
   "id": "4a148754",
   "metadata": {
    "execution": {
     "iopub.execute_input": "2022-10-27T02:14:28.121399Z",
     "iopub.status.busy": "2022-10-27T02:14:28.120971Z",
     "iopub.status.idle": "2022-10-27T02:14:28.128658Z",
     "shell.execute_reply": "2022-10-27T02:14:28.127331Z"
    },
    "papermill": {
     "duration": 0.041591,
     "end_time": "2022-10-27T02:14:28.130951",
     "exception": false,
     "start_time": "2022-10-27T02:14:28.089360",
     "status": "completed"
    },
    "tags": []
   },
   "outputs": [
    {
     "data": {
      "text/plain": [
       "(4277, 2)"
      ]
     },
     "execution_count": 61,
     "metadata": {},
     "output_type": "execute_result"
    }
   ],
   "source": [
    "sub.shape"
   ]
  },
  {
   "cell_type": "code",
   "execution_count": 62,
   "id": "cd1188d9",
   "metadata": {
    "execution": {
     "iopub.execute_input": "2022-10-27T02:14:28.193978Z",
     "iopub.status.busy": "2022-10-27T02:14:28.193540Z",
     "iopub.status.idle": "2022-10-27T02:14:28.200748Z",
     "shell.execute_reply": "2022-10-27T02:14:28.199201Z"
    },
    "papermill": {
     "duration": 0.042013,
     "end_time": "2022-10-27T02:14:28.203296",
     "exception": false,
     "start_time": "2022-10-27T02:14:28.161283",
     "status": "completed"
    },
    "tags": []
   },
   "outputs": [],
   "source": [
    "sub['Transported'] = sub['Transported'].astype('bool')"
   ]
  },
  {
   "cell_type": "code",
   "execution_count": 63,
   "id": "2c30c1d9",
   "metadata": {
    "execution": {
     "iopub.execute_input": "2022-10-27T02:14:28.267476Z",
     "iopub.status.busy": "2022-10-27T02:14:28.267019Z",
     "iopub.status.idle": "2022-10-27T02:14:28.278501Z",
     "shell.execute_reply": "2022-10-27T02:14:28.277337Z"
    },
    "papermill": {
     "duration": 0.04547,
     "end_time": "2022-10-27T02:14:28.280785",
     "exception": false,
     "start_time": "2022-10-27T02:14:28.235315",
     "status": "completed"
    },
    "tags": []
   },
   "outputs": [
    {
     "data": {
      "text/html": [
       "<div>\n",
       "<style scoped>\n",
       "    .dataframe tbody tr th:only-of-type {\n",
       "        vertical-align: middle;\n",
       "    }\n",
       "\n",
       "    .dataframe tbody tr th {\n",
       "        vertical-align: top;\n",
       "    }\n",
       "\n",
       "    .dataframe thead th {\n",
       "        text-align: right;\n",
       "    }\n",
       "</style>\n",
       "<table border=\"1\" class=\"dataframe\">\n",
       "  <thead>\n",
       "    <tr style=\"text-align: right;\">\n",
       "      <th></th>\n",
       "      <th>PassengerId</th>\n",
       "      <th>Transported</th>\n",
       "    </tr>\n",
       "  </thead>\n",
       "  <tbody>\n",
       "    <tr>\n",
       "      <th>0</th>\n",
       "      <td>0013_01</td>\n",
       "      <td>True</td>\n",
       "    </tr>\n",
       "    <tr>\n",
       "      <th>1</th>\n",
       "      <td>0018_01</td>\n",
       "      <td>False</td>\n",
       "    </tr>\n",
       "    <tr>\n",
       "      <th>2</th>\n",
       "      <td>0019_01</td>\n",
       "      <td>True</td>\n",
       "    </tr>\n",
       "    <tr>\n",
       "      <th>3</th>\n",
       "      <td>0021_01</td>\n",
       "      <td>True</td>\n",
       "    </tr>\n",
       "    <tr>\n",
       "      <th>4</th>\n",
       "      <td>0023_01</td>\n",
       "      <td>True</td>\n",
       "    </tr>\n",
       "  </tbody>\n",
       "</table>\n",
       "</div>"
      ],
      "text/plain": [
       "  PassengerId  Transported\n",
       "0     0013_01         True\n",
       "1     0018_01        False\n",
       "2     0019_01         True\n",
       "3     0021_01         True\n",
       "4     0023_01         True"
      ]
     },
     "execution_count": 63,
     "metadata": {},
     "output_type": "execute_result"
    }
   ],
   "source": [
    "sub.head()"
   ]
  },
  {
   "cell_type": "code",
   "execution_count": 64,
   "id": "d93b8d85",
   "metadata": {
    "execution": {
     "iopub.execute_input": "2022-10-27T02:14:28.345341Z",
     "iopub.status.busy": "2022-10-27T02:14:28.344871Z",
     "iopub.status.idle": "2022-10-27T02:14:28.358664Z",
     "shell.execute_reply": "2022-10-27T02:14:28.357430Z"
    },
    "papermill": {
     "duration": 0.049637,
     "end_time": "2022-10-27T02:14:28.361372",
     "exception": false,
     "start_time": "2022-10-27T02:14:28.311735",
     "status": "completed"
    },
    "tags": []
   },
   "outputs": [],
   "source": [
    "sub.to_csv('submission.csv',index=False)"
   ]
  }
 ],
 "metadata": {
  "kernelspec": {
   "display_name": "Python 3.10.6 64-bit",
   "language": "python",
   "name": "python3"
  },
  "language_info": {
   "codemirror_mode": {
    "name": "ipython",
    "version": 3
   },
   "file_extension": ".py",
   "mimetype": "text/x-python",
   "name": "python",
   "nbconvert_exporter": "python",
   "pygments_lexer": "ipython3",
   "version": "3.10.6"
  },
  "papermill": {
   "default_parameters": {},
   "duration": 1215.829292,
   "end_time": "2022-10-27T02:14:31.018111",
   "environment_variables": {},
   "exception": null,
   "input_path": "__notebook__.ipynb",
   "output_path": "__notebook__.ipynb",
   "parameters": {},
   "start_time": "2022-10-27T01:54:15.188819",
   "version": "2.3.4"
  },
  "vscode": {
   "interpreter": {
    "hash": "916dbcbb3f70747c44a77c7bcd40155683ae19c65e1c03b4aa3499c5328201f1"
   }
  }
 },
 "nbformat": 4,
 "nbformat_minor": 5
}
